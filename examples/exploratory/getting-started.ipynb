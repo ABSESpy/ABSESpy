{
 "cells": [
  {
   "cell_type": "code",
   "execution_count": 2,
   "metadata": {},
   "outputs": [
    {
     "ename": "ValueError",
     "evalue": "must define at least one ordering operation: < > <= >=",
     "output_type": "error",
     "traceback": [
      "\u001b[1;31m---------------------------------------------------------------------------\u001b[0m",
      "\u001b[1;31mValueError\u001b[0m                                Traceback (most recent call last)",
      "\u001b[1;32mc:\\Users\\Elias\\Desktop\\work\\abses-py\\examples\\exploratory\\getting-started.ipynb Cell 1\u001b[0m line \u001b[0;36m7\n\u001b[0;32m      <a href='vscode-notebook-cell:/c%3A/Users/Elias/Desktop/work/abses-py/examples/exploratory/getting-started.ipynb#W0sZmlsZQ%3D%3D?line=3'>4</a>\u001b[0m path \u001b[39m=\u001b[39m os\u001b[39m.\u001b[39mpath\u001b[39m.\u001b[39mabspath(os\u001b[39m.\u001b[39mpath\u001b[39m.\u001b[39mjoin(\u001b[39m'\u001b[39m\u001b[39m../..\u001b[39m\u001b[39m'\u001b[39m))\n\u001b[0;32m      <a href='vscode-notebook-cell:/c%3A/Users/Elias/Desktop/work/abses-py/examples/exploratory/getting-started.ipynb#W0sZmlsZQ%3D%3D?line=4'>5</a>\u001b[0m sys\u001b[39m.\u001b[39mpath\u001b[39m.\u001b[39mappend(path) \u001b[39mif\u001b[39;00m path \u001b[39mnot\u001b[39;00m \u001b[39min\u001b[39;00m sys\u001b[39m.\u001b[39mpath \u001b[39melse\u001b[39;00m \u001b[39mNone\u001b[39;00m\n\u001b[1;32m----> <a href='vscode-notebook-cell:/c%3A/Users/Elias/Desktop/work/abses-py/examples/exploratory/getting-started.ipynb#W0sZmlsZQ%3D%3D?line=6'>7</a>\u001b[0m \u001b[39mfrom\u001b[39;00m \u001b[39mabses\u001b[39;00m \u001b[39mimport\u001b[39;00m MainModel\n",
      "File \u001b[1;32mc:\\Users\\Elias\\Desktop\\work\\abses-py\\abses\\__init__.py:31\u001b[0m\n\u001b[0;32m     17\u001b[0m __all__ \u001b[39m=\u001b[39m [\n\u001b[0;32m     18\u001b[0m     \u001b[39m\"\u001b[39m\u001b[39m__version__\u001b[39m\u001b[39m\"\u001b[39m,\n\u001b[0;32m     19\u001b[0m     \u001b[39m\"\u001b[39m\u001b[39mMainModel\u001b[39m\u001b[39m\"\u001b[39m,\n\u001b[1;32m   (...)\u001b[0m\n\u001b[0;32m     27\u001b[0m     \u001b[39m\"\u001b[39m\u001b[39mperception\u001b[39m\u001b[39m\"\u001b[39m,\n\u001b[0;32m     28\u001b[0m ]\n\u001b[0;32m     29\u001b[0m __version__ \u001b[39m=\u001b[39m \u001b[39m\"\u001b[39m\u001b[39mv0.2.0.alpha\u001b[39m\u001b[39m\"\u001b[39m\n\u001b[1;32m---> 31\u001b[0m \u001b[39mfrom\u001b[39;00m \u001b[39m.\u001b[39;00m\u001b[39mactor\u001b[39;00m \u001b[39mimport\u001b[39;00m Actor, perception\n\u001b[0;32m     32\u001b[0m \u001b[39mfrom\u001b[39;00m \u001b[39m.\u001b[39;00m\u001b[39mcontainer\u001b[39;00m \u001b[39mimport\u001b[39;00m ActorsList, AgentsContainer\n\u001b[0;32m     33\u001b[0m \u001b[39mfrom\u001b[39;00m \u001b[39m.\u001b[39;00m\u001b[39mhuman\u001b[39;00m \u001b[39mimport\u001b[39;00m BaseHuman\n",
      "File \u001b[1;32mc:\\Users\\Elias\\Desktop\\work\\abses-py\\abses\\actor.py:30\u001b[0m\n\u001b[0;32m     27\u001b[0m \u001b[39mfrom\u001b[39;00m \u001b[39mshapely\u001b[39;00m \u001b[39mimport\u001b[39;00m Point\n\u001b[0;32m     29\u001b[0m \u001b[39mfrom\u001b[39;00m \u001b[39mabses\u001b[39;00m\u001b[39m.\u001b[39;00m\u001b[39mlinks\u001b[39;00m \u001b[39mimport\u001b[39;00m LinkNode\n\u001b[1;32m---> 30\u001b[0m \u001b[39mfrom\u001b[39;00m \u001b[39mabses\u001b[39;00m\u001b[39m.\u001b[39;00m\u001b[39mobjects\u001b[39;00m \u001b[39mimport\u001b[39;00m _BaseObj\n\u001b[0;32m     31\u001b[0m \u001b[39mfrom\u001b[39;00m \u001b[39mabses\u001b[39;00m\u001b[39m.\u001b[39;00m\u001b[39msequences\u001b[39;00m \u001b[39mimport\u001b[39;00m ActorsList\n\u001b[0;32m     33\u001b[0m \u001b[39m# A class that is used to store the position of the agent.\u001b[39;00m\n",
      "File \u001b[1;32mc:\\Users\\Elias\\Desktop\\work\\abses-py\\abses\\objects.py:14\u001b[0m\n\u001b[0;32m     10\u001b[0m \u001b[39mfrom\u001b[39;00m \u001b[39mtyping\u001b[39;00m \u001b[39mimport\u001b[39;00m TYPE_CHECKING, Any, Callable, Dict, Optional\n\u001b[0;32m     12\u001b[0m \u001b[39mimport\u001b[39;00m \u001b[39mmesa\u001b[39;00m\n\u001b[1;32m---> 14\u001b[0m \u001b[39mfrom\u001b[39;00m \u001b[39mabses\u001b[39;00m\u001b[39m.\u001b[39;00m\u001b[39mtime\u001b[39;00m \u001b[39mimport\u001b[39;00m _TimeDriver\n\u001b[0;32m     16\u001b[0m \u001b[39mfrom\u001b[39;00m \u001b[39m.\u001b[39;00m\u001b[39mbases\u001b[39;00m \u001b[39mimport\u001b[39;00m _Observer\n\u001b[0;32m     17\u001b[0m \u001b[39mfrom\u001b[39;00m \u001b[39m.\u001b[39;00m\u001b[39mcomponents\u001b[39;00m \u001b[39mimport\u001b[39;00m _Component\n",
      "File \u001b[1;32mc:\\Users\\Elias\\Desktop\\work\\abses-py\\abses\\time.py:67\u001b[0m\n\u001b[0;32m     62\u001b[0m         \u001b[39mreturn\u001b[39;00m wrapper\n\u001b[0;32m     64\u001b[0m     \u001b[39mreturn\u001b[39;00m decorator\n\u001b[1;32m---> 67\u001b[0m \u001b[39m@total_ordering\u001b[39;49m\n\u001b[0;32m     68\u001b[0m \u001b[39mclass\u001b[39;49;00m \u001b[39m_TimeDriver\u001b[39;49;00m(_Component):\n\u001b[0;32m     69\u001b[0m \u001b[39m    \u001b[39;49m\u001b[39m\"\"\"TimeDriver provides the functionality to manage time.\u001b[39;49;00m\n\u001b[0;32m     70\u001b[0m \n\u001b[0;32m     71\u001b[0m \u001b[39m    This class is responsible for managing the time of a simulation model. It keeps track of the current time period,\u001b[39;49;00m\n\u001b[1;32m   (...)\u001b[0m\n\u001b[0;32m    116\u001b[0m \u001b[39m        Returns the minute of the hour component of the Period.\u001b[39;49;00m\n\u001b[0;32m    117\u001b[0m \u001b[39m    \"\"\"\u001b[39;49;00m\n\u001b[0;32m    120\u001b[0m \u001b[39mclass\u001b[39;00m \u001b[39m_TimeDriver\u001b[39;00m(_Component):\n",
      "File \u001b[1;32mC:\\Python311\\Lib\\functools.py:193\u001b[0m, in \u001b[0;36mtotal_ordering\u001b[1;34m(cls)\u001b[0m\n\u001b[0;32m    191\u001b[0m roots \u001b[39m=\u001b[39m {op \u001b[39mfor\u001b[39;00m op \u001b[39min\u001b[39;00m _convert \u001b[39mif\u001b[39;00m \u001b[39mgetattr\u001b[39m(\u001b[39mcls\u001b[39m, op, \u001b[39mNone\u001b[39;00m) \u001b[39mis\u001b[39;00m \u001b[39mnot\u001b[39;00m \u001b[39mgetattr\u001b[39m(\u001b[39mobject\u001b[39m, op, \u001b[39mNone\u001b[39;00m)}\n\u001b[0;32m    192\u001b[0m \u001b[39mif\u001b[39;00m \u001b[39mnot\u001b[39;00m roots:\n\u001b[1;32m--> 193\u001b[0m     \u001b[39mraise\u001b[39;00m \u001b[39mValueError\u001b[39;00m(\u001b[39m'\u001b[39m\u001b[39mmust define at least one ordering operation: < > <= >=\u001b[39m\u001b[39m'\u001b[39m)\n\u001b[0;32m    194\u001b[0m root \u001b[39m=\u001b[39m \u001b[39mmax\u001b[39m(roots)       \u001b[39m# prefer __lt__ to __le__ to __gt__ to __ge__\u001b[39;00m\n\u001b[0;32m    195\u001b[0m \u001b[39mfor\u001b[39;00m opname, opfunc \u001b[39min\u001b[39;00m _convert[root]:\n",
      "\u001b[1;31mValueError\u001b[0m: must define at least one ordering operation: < > <= >="
     ]
    }
   ],
   "source": [
    "import sys \n",
    "import os\n",
    "\n",
    "path = os.path.abspath(os.path.join('../..'))\n",
    "sys.path.append(path) if path not in sys.path else None\n",
    "\n",
    "from abses import MainModel"
   ]
  },
  {
   "cell_type": "code",
   "execution_count": null,
   "metadata": {},
   "outputs": [],
   "source": []
  },
  {
   "cell_type": "code",
   "execution_count": null,
   "metadata": {},
   "outputs": [],
   "source": []
  }
 ],
 "metadata": {
  "kernelspec": {
   "display_name": "abses-EXDRHGGY-py3.11",
   "language": "python",
   "name": "python3"
  },
  "language_info": {
   "codemirror_mode": {
    "name": "ipython",
    "version": 3
   },
   "file_extension": ".py",
   "mimetype": "text/x-python",
   "name": "python",
   "nbconvert_exporter": "python",
   "pygments_lexer": "ipython3",
   "version": "3.11.0"
  }
 },
 "nbformat": 4,
 "nbformat_minor": 2
}
