{
 "cells": [
  {
   "cell_type": "markdown",
   "id": "0749973f-3a77-487b-a564-d28feec36d40",
   "metadata": {},
   "source": [
    "# Variable Examples"
   ]
  },
  {
   "cell_type": "code",
   "execution_count": 1,
   "id": "a05fe581-7f54-4364-bdde-d0477687a683",
   "metadata": {
    "execution": {
     "iopub.execute_input": "2023-01-13T12:24:29.511931Z",
     "iopub.status.busy": "2023-01-13T12:24:29.511429Z",
     "iopub.status.idle": "2023-01-13T12:24:29.631284Z",
     "shell.execute_reply": "2023-01-13T12:24:29.630471Z",
     "shell.execute_reply.started": "2023-01-13T12:24:29.511902Z"
    },
    "tags": []
   },
   "outputs": [
    {
     "ename": "TypeError",
     "evalue": "argument of type '_UnionGenericAlias' is not iterable",
     "output_type": "error",
     "traceback": [
      "\u001b[0;31m---------------------------------------------------------------------------\u001b[0m",
      "\u001b[0;31mTypeError\u001b[0m                                 Traceback (most recent call last)",
      "Cell \u001b[0;32mIn[1], line 5\u001b[0m\n\u001b[1;32m      2\u001b[0m \u001b[38;5;28;01mfrom\u001b[39;00m \u001b[38;5;21;01mnumbers\u001b[39;00m \u001b[38;5;28;01mimport\u001b[39;00m Number\n\u001b[1;32m      4\u001b[0m Data: TypeAlias \u001b[38;5;241m=\u001b[39m Union[Number, \u001b[38;5;28mstr\u001b[39m]\n\u001b[0;32m----> 5\u001b[0m \u001b[38;5;28;43mstr\u001b[39;49m\u001b[43m \u001b[49m\u001b[38;5;129;43;01min\u001b[39;49;00m\u001b[43m \u001b[49m\u001b[43mData\u001b[49m\n",
      "\u001b[0;31mTypeError\u001b[0m: argument of type '_UnionGenericAlias' is not iterable"
     ]
    }
   ],
   "source": [
    "from typing import *\n",
    "from numbers import Number\n",
    "\n",
    "Data: TypeAlias = Union[Number, str]\n",
    "str in Data"
   ]
  },
  {
   "cell_type": "code",
   "execution_count": 6,
   "id": "e63baa42-4619-4c57-93bd-63d61d85c11c",
   "metadata": {
    "execution": {
     "iopub.execute_input": "2023-01-13T12:28:16.243506Z",
     "iopub.status.busy": "2023-01-13T12:28:16.243223Z",
     "iopub.status.idle": "2023-01-13T12:28:16.248011Z",
     "shell.execute_reply": "2023-01-13T12:28:16.247205Z",
     "shell.execute_reply.started": "2023-01-13T12:28:16.243485Z"
    },
    "tags": []
   },
   "outputs": [
    {
     "data": {
      "text/plain": [
       "False"
      ]
     },
     "execution_count": 6,
     "metadata": {},
     "output_type": "execute_result"
    }
   ],
   "source": [
    "\n",
    "type(None)"
   ]
  }
 ],
 "metadata": {
  "citation-manager": {
   "items": {}
  },
  "kernelspec": {
   "display_name": "Python [conda env:ABSES_311] *",
   "language": "python",
   "name": "conda-env-ABSES_311-py"
  },
  "language_info": {
   "codemirror_mode": {
    "name": "ipython",
    "version": 3
   },
   "file_extension": ".py",
   "mimetype": "text/x-python",
   "name": "python",
   "nbconvert_exporter": "python",
   "pygments_lexer": "ipython3",
   "version": "3.11.0"
  }
 },
 "nbformat": 4,
 "nbformat_minor": 5
}
