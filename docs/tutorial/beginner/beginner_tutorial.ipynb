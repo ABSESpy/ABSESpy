{
 "cells": [
  {
   "cell_type": "markdown",
   "metadata": {},
   "source": [
    "- Introduction to the ABSESpy package\n",
    "- Context and motivation (Explain Hotelling's Law)\n",
    "- Model setup\n",
    "- Model level methods\n",
    "- Agent level methods\n",
    "- Visualizations and model metrics"
   ]
  },
  {
   "cell_type": "markdown",
   "metadata": {},
   "source": [
    "# Beginner Tutorial: Introducing the ABSESpy package"
   ]
  },
  {
   "cell_type": "markdown",
   "metadata": {},
   "source": [
    "```\n",
    "%pip install --upgrade abses\"\n",
    "```"
   ]
  },
  {
   "cell_type": "code",
   "execution_count": 1,
   "metadata": {},
   "outputs": [],
   "source": [
    "import numpy as np\n",
    "\n",
    "from abses import Actor, MainModel\n",
    "\n",
    "# Instantiate a random number generator\n",
    "rng = np.random.default_rng()\n",
    "\n",
    "\n",
    "# Calculate euclidean distance between two points\n",
    "def euclidean_distance(x1, y1, x2, y2):\n",
    "    return np.sqrt((x1 - x2) ** 2 + (y1 - y2) ** 2)"
   ]
  },
  {
   "cell_type": "code",
   "execution_count": 2,
   "metadata": {},
   "outputs": [],
   "source": [
    "class Shop(Actor):\n",
    "    def __init__(self, *args, **kwargs):\n",
    "        super().__init__(*args, **kwargs)\n",
    "        self.price = 10\n",
    "        self.area_count = 0\n",
    "        self.id = rng.integers(\n",
    "            1e6, 1e7\n",
    "        )  # FIXME: no two agents should have the same id\n",
    "\n",
    "    def __repr__(self):\n",
    "        return f\"Shop {self.id}\"\n",
    "\n",
    "    def step(self):\n",
    "        self.adjust_price()\n",
    "        self.adjust_position()\n",
    "\n",
    "    def advance(self):\n",
    "        self.affect_price()\n",
    "        self.affect_position()\n",
    "\n",
    "    def adjust_price(self):\n",
    "        pass\n",
    "\n",
    "    def adjust_position(self):\n",
    "        pass\n",
    "\n",
    "    def affect_price(self):\n",
    "        pass\n",
    "\n",
    "    def affect_position(self):\n",
    "        pass\n",
    "\n",
    "\n",
    "class Hotelling(MainModel):\n",
    "    def __init__(self, N, *args, **kwargs):\n",
    "        super().__init__(*args, **kwargs)\n",
    "        self.num_agents = N\n",
    "\n",
    "    def setup(self):\n",
    "        # Initialize a grid of shape (12, 12)\n",
    "        self.nature.create_module(how=\"from_resolution\", shape=(12, 12))\n",
    "\n",
    "        # Create a list of agents\n",
    "        self.agents.create(Shop, self.num_agents)\n",
    "\n",
    "        # Placed agents on the grid randomly\n",
    "        positions = rng.integers(12, size=(self.num_agents, 2), dtype=np.int8)\n",
    "\n",
    "        for i, agent in enumerate(self.actors):\n",
    "            agent.put_on_layer(\n",
    "                layer=self.nature.major_layer, pos=tuple(positions[i])\n",
    "            )\n",
    "\n",
    "    def step(self):\n",
    "        # recalculate areas and assign them to each agent\n",
    "        areas = self.recalculate_areas()\n",
    "\n",
    "        for shop in self.actors:\n",
    "            shop.area_count = areas[shop]\n",
    "\n",
    "        # trigger all agents to step\n",
    "        self.actors.trigger(\"step\")\n",
    "        # trigger all agents to advance and, thus, update their prices and positions\n",
    "        self.actors.trigger(\"advance\")\n",
    "\n",
    "    def update(self):\n",
    "        # get all the data from agents (prices, areas, revenue)\n",
    "        self.actors\n",
    "\n",
    "    def recalculate_areas(self):\n",
    "        areas = {}\n",
    "\n",
    "        for shop in self.actors:\n",
    "            areas[shop] = 0\n",
    "\n",
    "        _width = self.nature.major_layer.width  # columns\n",
    "        _height = self.nature.major_layer.height  # rows\n",
    "\n",
    "        for i in range(_height):\n",
    "            for j in range(_width):\n",
    "                dist = {}\n",
    "                for shop in self.actors:\n",
    "                    _dist = euclidean_distance(i, j, shop.pos[0], shop.pos[1])\n",
    "                    dist[shop] = _dist\n",
    "                _choice = min(dist, key=dist.get)\n",
    "                areas[_choice] += 1\n",
    "\n",
    "        return areas"
   ]
  },
  {
   "cell_type": "code",
   "execution_count": 3,
   "metadata": {},
   "outputs": [
    {
     "name": "stderr",
     "output_type": "stream",
     "text": [
      "\u001b[32m2023-11-06 20:05:31.246\u001b[0m | \u001b[34m\u001b[1mDEBUG   \u001b[0m | \u001b[36mabses.time\u001b[0m:\u001b[36m_parse_time_settings\u001b[0m:\u001b[36m220\u001b[0m - \u001b[34m\u001b[1mstart_dt: 2023-11-06T20:05:31.246246\u001b[0m\n",
      "\u001b[32m2023-11-06 20:05:31.250\u001b[0m | \u001b[34m\u001b[1mDEBUG   \u001b[0m | \u001b[36mabses.time\u001b[0m:\u001b[36m_parse_time_settings\u001b[0m:\u001b[36m224\u001b[0m - \u001b[34m\u001b[1mend_dt: None\u001b[0m\n",
      "\u001b[32m2023-11-06 20:05:31.252\u001b[0m | \u001b[34m\u001b[1mDEBUG   \u001b[0m | \u001b[36mabses.time\u001b[0m:\u001b[36m_parse_time_settings\u001b[0m:\u001b[36m228\u001b[0m - \u001b[34m\u001b[1mduration: None\u001b[0m\n",
      "\u001b[32m2023-11-06 20:05:31.258\u001b[0m | \u001b[34m\u001b[1mDEBUG   \u001b[0m | \u001b[36mabses.time\u001b[0m:\u001b[36m_parse_time_settings\u001b[0m:\u001b[36m232\u001b[0m - \u001b[34m\u001b[1mirregular: None\u001b[0m\n",
      "\u001b[32m2023-11-06 20:05:31.260\u001b[0m | \u001b[34m\u001b[1mDEBUG   \u001b[0m | \u001b[36mabses.time\u001b[0m:\u001b[36m_parse_time_settings\u001b[0m:\u001b[36m233\u001b[0m - \u001b[34m\u001b[1mTicking mode: tick\u001b[0m\n"
     ]
    }
   ],
   "source": [
    "# INITIALIZE = True\n",
    "\n",
    "# parameters = {\n",
    "# \"time\" : {\n",
    "#     \"start\" : \"0\",\n",
    "#     \"end\" : \"100\",\n",
    "#     }\n",
    "# }\n",
    "\n",
    "# if INITIALIZE:\n",
    "#     model = Hotelling(N=2, parameters=parameters)\n",
    "\n",
    "# model.run_model()\n",
    "\n",
    "model = Hotelling(N=2)\n",
    "\n",
    "model.setup()"
   ]
  },
  {
   "cell_type": "code",
   "execution_count": 4,
   "metadata": {},
   "outputs": [
    {
     "name": "stdout",
     "output_type": "stream",
     "text": [
      "{Shop 5589255: 68, Shop 2626677: 76}\n"
     ]
    }
   ],
   "source": [
    "model.step()"
   ]
  },
  {
   "cell_type": "code",
   "execution_count": 5,
   "metadata": {},
   "outputs": [
    {
     "data": {
      "text/plain": [
       "(7, 4)"
      ]
     },
     "execution_count": 5,
     "metadata": {},
     "output_type": "execute_result"
    }
   ],
   "source": [
    "model.actors[0].pos"
   ]
  },
  {
   "cell_type": "code",
   "execution_count": 6,
   "metadata": {},
   "outputs": [
    {
     "data": {
      "text/plain": [
       "(4, 6)"
      ]
     },
     "execution_count": 6,
     "metadata": {},
     "output_type": "execute_result"
    }
   ],
   "source": [
    "model.actors[1].pos"
   ]
  },
  {
   "cell_type": "code",
   "execution_count": 7,
   "metadata": {},
   "outputs": [
    {
     "data": {
      "text/plain": [
       "Shop 5589255"
      ]
     },
     "execution_count": 7,
     "metadata": {},
     "output_type": "execute_result"
    }
   ],
   "source": [
    "model.actors[0]"
   ]
  },
  {
   "cell_type": "code",
   "execution_count": null,
   "metadata": {},
   "outputs": [],
   "source": []
  },
  {
   "cell_type": "code",
   "execution_count": 8,
   "metadata": {},
   "outputs": [],
   "source": [
    "class Shop(Actor):\n",
    "    def __init__(self, *args, **kwargs):\n",
    "        super().__init__(*args, **kwargs)\n",
    "        self.price = 10\n",
    "        self.area_count = 0\n",
    "        self.id = rng.integers(\n",
    "            1e6, 1e7\n",
    "        )  # FIXME: no two agents should have the same id\n",
    "\n",
    "    def step(self):\n",
    "        self.adjust_price()\n",
    "        self.adjust_location()\n",
    "\n",
    "    def advance(self):\n",
    "        self.affect_price()\n",
    "        self.affect_location()\n",
    "\n",
    "    def adjust_price(self):\n",
    "        pass\n",
    "\n",
    "    def adjust_location(self):\n",
    "        pass\n",
    "\n",
    "    def affect_price(self):\n",
    "        pass\n",
    "\n",
    "    def affect_location(self):\n",
    "        pass"
   ]
  },
  {
   "cell_type": "code",
   "execution_count": 9,
   "metadata": {},
   "outputs": [],
   "source": [
    "class Hotelling(MainModel):\n",
    "    def __init__(self, N, *args, **kwargs):\n",
    "        super().__init__(*args, **kwargs)\n",
    "        self.num_agents = N\n",
    "\n",
    "    def setup(self):\n",
    "        self.agents.create(Shop, num=self.num_agents)\n",
    "\n",
    "        self.nature.create_module(how=\"from_resolution\", shape=(12, 12))\n",
    "\n",
    "    def step(self):\n",
    "        areas = self.recalculate_areas()\n",
    "\n",
    "        for shop in self.agents.to_list():\n",
    "            shop.area_count = areas[shop]\n",
    "\n",
    "        self.agents.step()\n",
    "\n",
    "        print(\"Step: \", self.steps)\n",
    "\n",
    "    def update(self):\n",
    "        self.all_agents.record(\"area_count\")\n",
    "\n",
    "    # Calculate areas for which each agent is a monopoly\n",
    "    def recalculate_areas(self):\n",
    "        areas = {}\n",
    "\n",
    "        for shop in self.agents.to_list():\n",
    "            areas[shop] = 0\n",
    "\n",
    "        xs = self.nature.grid.shape[0]\n",
    "        ys = self.nature.grid.shape[1]\n",
    "\n",
    "        for i in range(xs):\n",
    "            for j in range(ys):\n",
    "                dist = {}\n",
    "                for shop in self.agents.to_list():\n",
    "                    _dist = euclid_dist(i, j, shop.pos[0], shop.pos[1])\n",
    "                    dist[shop] = _dist\n",
    "                _choice = min(dist, key=dist.get)\n",
    "                areas[_choice] += 1\n",
    "\n",
    "        return areas"
   ]
  },
  {
   "cell_type": "code",
   "execution_count": null,
   "metadata": {},
   "outputs": [
    {
     "name": "stderr",
     "output_type": "stream",
     "text": [
      "\u001b[32m2023-11-05 10:35:42.438\u001b[0m | \u001b[34m\u001b[1mDEBUG   \u001b[0m | \u001b[36mabses.time\u001b[0m:\u001b[36m_parse_time_settings\u001b[0m:\u001b[36m220\u001b[0m - \u001b[34m\u001b[1mstart_dt: 2023-11-05T10:35:42.438738\u001b[0m\n",
      "\u001b[32m2023-11-05 10:35:42.438\u001b[0m | \u001b[34m\u001b[1mDEBUG   \u001b[0m | \u001b[36mabses.time\u001b[0m:\u001b[36m_parse_time_settings\u001b[0m:\u001b[36m224\u001b[0m - \u001b[34m\u001b[1mend_dt: None\u001b[0m\n",
      "\u001b[32m2023-11-05 10:35:42.449\u001b[0m | \u001b[34m\u001b[1mDEBUG   \u001b[0m | \u001b[36mabses.time\u001b[0m:\u001b[36m_parse_time_settings\u001b[0m:\u001b[36m228\u001b[0m - \u001b[34m\u001b[1mduration: None\u001b[0m\n",
      "\u001b[32m2023-11-05 10:35:42.451\u001b[0m | \u001b[34m\u001b[1mDEBUG   \u001b[0m | \u001b[36mabses.time\u001b[0m:\u001b[36m_parse_time_settings\u001b[0m:\u001b[36m232\u001b[0m - \u001b[34m\u001b[1mirregular: None\u001b[0m\n",
      "\u001b[32m2023-11-05 10:35:42.455\u001b[0m | \u001b[34m\u001b[1mDEBUG   \u001b[0m | \u001b[36mabses.time\u001b[0m:\u001b[36m_parse_time_settings\u001b[0m:\u001b[36m233\u001b[0m - \u001b[34m\u001b[1mTicking mode: tick\u001b[0m\n"
     ]
    }
   ],
   "source": [
    "model = Hotelling(N=2)"
   ]
  },
  {
   "cell_type": "code",
   "execution_count": null,
   "metadata": {},
   "outputs": [
    {
     "ename": "AttributeError",
     "evalue": "'BaseNature' object has no attribute 'grid'",
     "output_type": "error",
     "traceback": [
      "\u001b[1;31m---------------------------------------------------------------------------\u001b[0m",
      "\u001b[1;31mAttributeError\u001b[0m                            Traceback (most recent call last)",
      "\u001b[1;32mc:\\Users\\Elias\\Desktop\\work\\abses-py\\docs\\tutorial\\beginner\\beginner_tutorial.ipynb Cell 13\u001b[0m line \u001b[0;36m1\n\u001b[1;32m----> <a href='vscode-notebook-cell:/c%3A/Users/Elias/Desktop/work/abses-py/docs/tutorial/beginner/beginner_tutorial.ipynb#X20sZmlsZQ%3D%3D?line=0'>1</a>\u001b[0m model\u001b[39m.\u001b[39;49mrun_model()\n",
      "File \u001b[1;32m~\\Desktop\\work\\abses-py\\abses\\main.py:129\u001b[0m, in \u001b[0;36mMainModel.run_model\u001b[1;34m(self)\u001b[0m\n\u001b[0;32m    127\u001b[0m \u001b[39mself\u001b[39m\u001b[39m.\u001b[39msetup()\n\u001b[0;32m    128\u001b[0m \u001b[39mwhile\u001b[39;00m \u001b[39mself\u001b[39m\u001b[39m.\u001b[39mrunning:\n\u001b[1;32m--> 129\u001b[0m     \u001b[39mself\u001b[39;49m\u001b[39m.\u001b[39;49mstep()\n\u001b[0;32m    130\u001b[0m     \u001b[39mself\u001b[39m\u001b[39m.\u001b[39mtime\u001b[39m.\u001b[39mgo()\n\u001b[0;32m    131\u001b[0m     \u001b[39mself\u001b[39m\u001b[39m.\u001b[39mtime\u001b[39m.\u001b[39mstdout()\n",
      "\u001b[1;32mc:\\Users\\Elias\\Desktop\\work\\abses-py\\docs\\tutorial\\beginner\\beginner_tutorial.ipynb Cell 13\u001b[0m line \u001b[0;36m1\n\u001b[0;32m     <a href='vscode-notebook-cell:/c%3A/Users/Elias/Desktop/work/abses-py/docs/tutorial/beginner/beginner_tutorial.ipynb#X20sZmlsZQ%3D%3D?line=14'>15</a>\u001b[0m \u001b[39mdef\u001b[39;00m \u001b[39mstep\u001b[39m(\u001b[39mself\u001b[39m):\n\u001b[1;32m---> <a href='vscode-notebook-cell:/c%3A/Users/Elias/Desktop/work/abses-py/docs/tutorial/beginner/beginner_tutorial.ipynb#X20sZmlsZQ%3D%3D?line=15'>16</a>\u001b[0m     areas \u001b[39m=\u001b[39m \u001b[39mself\u001b[39;49m\u001b[39m.\u001b[39;49mrecalculate_areas()\n\u001b[0;32m     <a href='vscode-notebook-cell:/c%3A/Users/Elias/Desktop/work/abses-py/docs/tutorial/beginner/beginner_tutorial.ipynb#X20sZmlsZQ%3D%3D?line=17'>18</a>\u001b[0m     \u001b[39mfor\u001b[39;00m shop \u001b[39min\u001b[39;00m \u001b[39mself\u001b[39m\u001b[39m.\u001b[39magents\u001b[39m.\u001b[39mto_list():\n\u001b[0;32m     <a href='vscode-notebook-cell:/c%3A/Users/Elias/Desktop/work/abses-py/docs/tutorial/beginner/beginner_tutorial.ipynb#X20sZmlsZQ%3D%3D?line=18'>19</a>\u001b[0m         shop\u001b[39m.\u001b[39marea_count \u001b[39m=\u001b[39m areas[shop]\n",
      "\u001b[1;32mc:\\Users\\Elias\\Desktop\\work\\abses-py\\docs\\tutorial\\beginner\\beginner_tutorial.ipynb Cell 13\u001b[0m line \u001b[0;36m3\n\u001b[0;32m     <a href='vscode-notebook-cell:/c%3A/Users/Elias/Desktop/work/abses-py/docs/tutorial/beginner/beginner_tutorial.ipynb#X20sZmlsZQ%3D%3D?line=31'>32</a>\u001b[0m \u001b[39mfor\u001b[39;00m shop \u001b[39min\u001b[39;00m \u001b[39mself\u001b[39m\u001b[39m.\u001b[39magents\u001b[39m.\u001b[39mto_list():\n\u001b[0;32m     <a href='vscode-notebook-cell:/c%3A/Users/Elias/Desktop/work/abses-py/docs/tutorial/beginner/beginner_tutorial.ipynb#X20sZmlsZQ%3D%3D?line=32'>33</a>\u001b[0m     areas[shop] \u001b[39m=\u001b[39m \u001b[39m0\u001b[39m\n\u001b[1;32m---> <a href='vscode-notebook-cell:/c%3A/Users/Elias/Desktop/work/abses-py/docs/tutorial/beginner/beginner_tutorial.ipynb#X20sZmlsZQ%3D%3D?line=34'>35</a>\u001b[0m xs \u001b[39m=\u001b[39m \u001b[39mself\u001b[39;49m\u001b[39m.\u001b[39;49mnature\u001b[39m.\u001b[39;49mgrid\u001b[39m.\u001b[39mshape[\u001b[39m0\u001b[39m]\n\u001b[0;32m     <a href='vscode-notebook-cell:/c%3A/Users/Elias/Desktop/work/abses-py/docs/tutorial/beginner/beginner_tutorial.ipynb#X20sZmlsZQ%3D%3D?line=35'>36</a>\u001b[0m ys \u001b[39m=\u001b[39m \u001b[39mself\u001b[39m\u001b[39m.\u001b[39mnature\u001b[39m.\u001b[39mgrid\u001b[39m.\u001b[39mshape[\u001b[39m1\u001b[39m]\n\u001b[0;32m     <a href='vscode-notebook-cell:/c%3A/Users/Elias/Desktop/work/abses-py/docs/tutorial/beginner/beginner_tutorial.ipynb#X20sZmlsZQ%3D%3D?line=37'>38</a>\u001b[0m \u001b[39mfor\u001b[39;00m i \u001b[39min\u001b[39;00m \u001b[39mrange\u001b[39m(xs):\n",
      "\u001b[1;31mAttributeError\u001b[0m: 'BaseNature' object has no attribute 'grid'"
     ]
    }
   ],
   "source": [
    "model.run_model()"
   ]
  },
  {
   "cell_type": "code",
   "execution_count": null,
   "metadata": {},
   "outputs": [
    {
     "data": {
      "text/plain": [
       "<ActorsList: (10)Shop>"
      ]
     },
     "execution_count": 7,
     "metadata": {},
     "output_type": "execute_result"
    }
   ],
   "source": []
  },
  {
   "cell_type": "code",
   "execution_count": null,
   "metadata": {},
   "outputs": [],
   "source": []
  }
 ],
 "metadata": {
  "kernelspec": {
   "display_name": "abses-EXDRHGGY-py3.11",
   "language": "python",
   "name": "python3"
  },
  "language_info": {
   "codemirror_mode": {
    "name": "ipython",
    "version": 3
   },
   "file_extension": ".py",
   "mimetype": "text/x-python",
   "name": "python",
   "nbconvert_exporter": "python",
   "pygments_lexer": "ipython3",
   "version": "3.11.0"
  }
 },
 "nbformat": 4,
 "nbformat_minor": 2
}
