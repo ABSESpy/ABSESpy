{
 "cells": [
  {
   "cell_type": "markdown",
   "metadata": {},
   "source": [
    "- Introduction to the ABSESpy package\n",
    "- Context and motivation (Explain Hotelling's Law)\n",
    "- Model setup\n",
    "- Model level methods\n",
    "- Agent level methods\n",
    "- Visualizations and model metrics"
   ]
  },
  {
   "cell_type": "markdown",
   "metadata": {},
   "source": [
    "# Introducing the ABSESpy package"
   ]
  },
  {
   "cell_type": "markdown",
   "metadata": {},
   "source": [
    "The following introduces the ABSESpy python package for individual-based simulations in the context ofsocial-ecological systems. The package is designed to loose integrate societal elements as well as environmental ones. In order to follow the tutorial, please make sure that you have it installed. "
   ]
  },
  {
   "cell_type": "markdown",
   "metadata": {},
   "source": [
    "```\n",
    "%pip install --upgrade abses\"\n",
    "```"
   ]
  },
  {
   "cell_type": "markdown",
   "metadata": {},
   "source": [
    "This introduction presents the basic structure of the package and its main components by means of building a simple model, illustrating each step of the process. The model chosen is an adaptation of the Hotelling's Law model. The counterpart written in Netlogo can be found [here](https://ccl.northwestern.edu/netlogo/models/Hotelling'sLaw). The Hotelling's Law, also referred to as the Law of minimum differentiation states that profit maximizing firms competing in a market with two substitute goods will settle close to each other and also lower their prices. Although the notion of distance related to space both in the original paper by Hotelling (1929) and its netlogo implementation, its definition can be expanded to other dimensions of interest."
   ]
  },
  {
   "cell_type": "code",
   "execution_count": 1,
   "metadata": {},
   "outputs": [],
   "source": [
    "import numpy as np\n",
    "\n",
    "from abses import Actor, MainModel\n",
    "from abses.datacollection import DataCollector\n",
    "\n",
    "# Instantiate a random number generator\n",
    "rng = np.random.default_rng()\n",
    "\n",
    "\n",
    "# Calculate euclidean distance between two points\n",
    "def euclidean_distance(x1, y1, x2, y2):\n",
    "    return np.sqrt((x1 - x2) ** 2 + (y1 - y2) ** 2)"
   ]
  },
  {
   "cell_type": "code",
   "execution_count": 2,
   "metadata": {},
   "outputs": [],
   "source": [
    "class Shop(Actor):\n",
    "    def __init__(self, *args, **kwargs):\n",
    "        super().__init__(*args, **kwargs)\n",
    "        self.price = 10\n",
    "        self.area_count = 0\n",
    "        self.unique_id = rng.integers(\n",
    "            1e6, 1e7\n",
    "        )  # FIXME: no two agents should have the same id\n",
    "        # cached results\n",
    "        self.next_position = None\n",
    "        self.next_price = None\n",
    "\n",
    "    def __repr__(self):\n",
    "        return f\"Shop {self.id}\"\n",
    "\n",
    "    def step(self):\n",
    "        self.adjust_price()\n",
    "        self.adjust_position()\n",
    "\n",
    "    def advance(self):\n",
    "        self.affect_price()\n",
    "        self.affect_position()\n",
    "\n",
    "    def adjust_price(self):\n",
    "        # Save initial price\n",
    "        initial_price = self.price\n",
    "\n",
    "        # Build a list of all possible prices\n",
    "        _possible_prices = [self.price - 1, self.price, self.price + 1]\n",
    "\n",
    "        # Pair each possible price change to its potential revenue\n",
    "        _potential_revenues = {}\n",
    "        for price in _possible_prices:\n",
    "            self.price = price\n",
    "            _potential_revenues[price] = (\n",
    "                self.model.recalculate_areas()[self] * price\n",
    "            )\n",
    "        # Check if all potential revenues are 0\n",
    "        # if so, decrease price by 1\n",
    "        if all(value == 0 for value in _potential_revenues.values()):\n",
    "            self.next_price = self.price - 1\n",
    "        # Otherwise, choose the price with the highest potential revenue\n",
    "        else:\n",
    "            self.next_price = max(\n",
    "                _potential_revenues, key=_potential_revenues.get\n",
    "            )\n",
    "\n",
    "        # Reset price to initial price\n",
    "        self.price = initial_price\n",
    "\n",
    "    def adjust_position(self):\n",
    "        # Save initial position\n",
    "        initial_pos = self.pos\n",
    "\n",
    "        # Get all possible candidates for the next position\n",
    "        _possible_moves = self.model.nature.major_layer.get_neighborhood(\n",
    "            self.pos, moore=True, include_center=False\n",
    "        )\n",
    "        # Pair each possible move to their potential areas\n",
    "        _potential_areas = {}\n",
    "        for move in _possible_moves:\n",
    "            self.move_to(move)\n",
    "            _potential_areas[move] = self.model.recalculate_areas()[self]\n",
    "\n",
    "        # Single out the store with the highest potential area and savi it\n",
    "        _choice = max(_potential_areas, key=_potential_areas.get)\n",
    "        self.next_position = _choice\n",
    "\n",
    "        # Pull back to initial position if the potential area\n",
    "        self.move_to(initial_pos)\n",
    "\n",
    "    def affect_price(self):\n",
    "        self.price = self.next_price\n",
    "\n",
    "    def affect_position(self):\n",
    "        self.move_to(self.next_position)"
   ]
  },
  {
   "cell_type": "code",
   "execution_count": 3,
   "metadata": {},
   "outputs": [],
   "source": [
    "class Hotelling(MainModel):\n",
    "    def __init__(self, N, *args, **kwargs):\n",
    "        super().__init__(*args, **kwargs)\n",
    "        self.num_agents = N\n",
    "\n",
    "    def setup(self):\n",
    "        # Initialize a grid of shape (12, 12)\n",
    "        self.nature.create_module(how=\"from_resolution\", shape=(12, 12))\n",
    "\n",
    "        # Create a list of agents\n",
    "        self.agents.create(Shop, self.num_agents)\n",
    "\n",
    "        # Placed agents on the grid randomly\n",
    "        positions = rng.integers(12, size=(self.num_agents, 2), dtype=np.int8)\n",
    "\n",
    "        for i, agent in enumerate(self.actors):\n",
    "            agent.put_on_layer(\n",
    "                layer=self.nature.major_layer, pos=tuple(positions[i])\n",
    "            )\n",
    "\n",
    "        # Initialize a DataCollector object\n",
    "        self.datacollector = DataCollector(\n",
    "            self,\n",
    "            agent_reporters={\"Price\": \"price\", \"Area\": \"area_count\"},\n",
    "            model_reporters={\n",
    "                \"avg_price\": lambda _model: np.mean(\n",
    "                    [actor.price for actor in _model.actors]\n",
    "                )\n",
    "            },\n",
    "        )\n",
    "\n",
    "    def step(self):\n",
    "        # recalculate areas and assign them to each agent\n",
    "        areas = self.recalculate_areas()\n",
    "\n",
    "        for shop in self.actors:\n",
    "            shop.area_count = areas[shop]\n",
    "\n",
    "        # trigger all agents to step\n",
    "        self.actors.trigger(\"step\")\n",
    "\n",
    "        # let price and positional changes take effect\n",
    "        self.actors.trigger(\"advance\")\n",
    "\n",
    "        # collect data\n",
    "        self.datacollector.collect()\n",
    "\n",
    "    def recalculate_areas(self):\n",
    "        areas = {}\n",
    "\n",
    "        for shop in self.actors:\n",
    "            areas[shop] = 0\n",
    "\n",
    "        _width = self.nature.major_layer.width  # columns\n",
    "        _height = self.nature.major_layer.height  # rows\n",
    "\n",
    "        for i in range(_height):\n",
    "            for j in range(_width):\n",
    "                dist = {}\n",
    "                for shop in self.actors:\n",
    "                    _dist = (\n",
    "                        euclidean_distance(i, j, shop.pos[0], shop.pos[1])\n",
    "                        + shop.price\n",
    "                    )\n",
    "                    dist[shop] = _dist\n",
    "                _choice = min(dist, key=dist.get)\n",
    "                areas[_choice] += 1\n",
    "\n",
    "        return areas"
   ]
  },
  {
   "cell_type": "code",
   "execution_count": 16,
   "metadata": {},
   "outputs": [
    {
     "name": "stdout",
     "output_type": "stream",
     "text": [
      "tick[100] 2023-11-26 15:04:02"
     ]
    }
   ],
   "source": [
    "INITIALIZE = True\n",
    "\n",
    "parameters = {\n",
    "    \"time\": {\n",
    "        \"end\": 100,\n",
    "    }\n",
    "}\n",
    "\n",
    "if INITIALIZE:\n",
    "    model = Hotelling(N=4, parameters=parameters)\n",
    "\n",
    "model.run_model()"
   ]
  },
  {
   "cell_type": "code",
   "execution_count": 14,
   "metadata": {},
   "outputs": [
    {
     "data": {
      "text/plain": [
       "<Axes: >"
      ]
     },
     "execution_count": 14,
     "metadata": {},
     "output_type": "execute_result"
    },
    {
     "data": {
      "image/png": "[encoded data removed]",
      "text/plain": [
       "<Figure size 640x480 with 1 Axes>"
      ]
     },
     "metadata": {},
     "output_type": "display_data"
    }
   ],
   "source": [
    "model.datacollector.get_model_vars_dataframe().plot()"
   ]
  },
  {
   "cell_type": "code",
   "execution_count": 17,
   "metadata": {},
   "outputs": [
    {
     "data": {
      "text/plain": [
       "<Axes: >"
      ]
     },
     "execution_count": 17,
     "metadata": {},
     "output_type": "execute_result"
    },
    {
     "data": {
      "image/png": "[encoded data removed]",
      "text/plain": [
       "<Figure size 640x480 with 1 Axes>"
      ]
     },
     "metadata": {},
     "output_type": "display_data"
    }
   ],
   "source": [
    "model.datacollector.get_model_vars_dataframe().plot()"
   ]
  },
  {
   "cell_type": "code",
   "execution_count": null,
   "metadata": {},
   "outputs": [],
   "source": []
  }
 ],
 "metadata": {
  "kernelspec": {
   "display_name": "Python 3 (ipykernel)",
   "language": "python",
   "name": "python3"
  },
  "language_info": {
   "codemirror_mode": {
    "name": "ipython",
    "version": 3
   },
   "file_extension": ".py",
   "mimetype": "text/x-python",
   "name": "python",
   "nbconvert_exporter": "python",
   "pygments_lexer": "ipython3",
   "version": "3.11.0"
  }
 },
 "nbformat": 4,
 "nbformat_minor": 4
}
