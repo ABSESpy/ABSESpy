{
 "cells": [
  {
   "cell_type": "markdown",
   "metadata": {},
   "source": [
    "# Hotelling Law Model"
   ]
  },
  {
   "cell_type": "markdown",
   "metadata": {},
   "source": [
    "<div class=\"admonition note\">\n",
    "    <p class=\"admonition-title\">In progress</p>\n",
    "    <p>This document is a work in progress if you see any errors, or exclusions or have any problems, please <a href=\"https://github.com/absespy/ABSESpy/issues\">get in touch with us</a>.</p>\n",
    "</div>"
   ]
  },
  {
   "cell_type": "markdown",
   "metadata": {},
   "source": [
    "For the first time, we are going to use the `ABSESpy` package to create a model by customizing both the `Actor` and `PatchCell` classes. We will use the Hotelling Law model as an example. The model is based on the assumption that firms will locate themselves in a way that minimizes the distance to their customers. The model is named after Harold Hotelling, who introduced it in 1929. The counterpart written in Netlogo can be found [here](https://ccl.northwestern.edu/netlogo/models/Hotelling'sLaw). \n",
    "\n",
    "The major technics introduced here are including:\n",
    "1. **link**: Linking `Actor`s and `PatchCell`s, searching and counting linkages.\n",
    "2. **schedule**: Use `step()` and `advance()` method to separate decision and action for agents."
   ]
  },
  {
   "cell_type": "markdown",
   "metadata": {},
   "source": [
    "## Link"
   ]
  },
  {
   "cell_type": "markdown",
   "metadata": {},
   "source": [
    "Let's start by sketching some new classes, for grouping the basic functions separately.\n",
    "\n",
    "- The main model class will be a subclass of `MainModel`, controlling global behaviors as usual.\n",
    "- In this case, `Actor` should be some `Shop`s, who may adjust its location and price for better revenue (attracted customers and production's price).\n",
    "- The `PatchCell` class simulates customers whose locations decide their preferences to shops."
   ]
  },
  {
   "cell_type": "code",
   "execution_count": 1,
   "metadata": {},
   "outputs": [],
   "source": [
    "from abses import Actor, MainModel, PatchCell\n",
    "\n",
    "\n",
    "class Customer(PatchCell):\n",
    "    \"\"\"\n",
    "    Each patch cell represents a customer.\n",
    "    Customer prefers to buy from the nearest & cheapest shop.\n",
    "    \"\"\"\n",
    "\n",
    "\n",
    "class Shop(Actor):\n",
    "    \"\"\"Shop class, which may adjust location and prices.\"\"\"\n",
    "\n",
    "\n",
    "class Hotelling(MainModel):\n",
    "    \"\"\"Model class for Hotelling's Law.\"\"\""
   ]
  },
  {
   "cell_type": "markdown",
   "metadata": {},
   "source": [
    "Following the netlogo implementation, each agent will begin at a random position. It will have a market area or share depending on its price and position. Each cell or patch of the grid is considered a customer with inelastic demand for the product. Each customer will make a choice as to what shop is prefered based on the price and distance to each shop. In the original paper (1929) the distance to the shop introduces transportation costs.\n",
    "\n",
    "We first may wish to work out all the setup: **create a grid layer and randomly set shop agents on the layer**."
   ]
  },
  {
   "cell_type": "code",
   "execution_count": 2,
   "metadata": {},
   "outputs": [],
   "source": [
    "class Hotelling(MainModel):\n",
    "    \"\"\"\n",
    "    Model class for the Hotelling's Law example.\n",
    "    \"\"\"\n",
    "\n",
    "    def setup(self):\n",
    "        num_agents = self.params.get(\"n_agents\", 3)  # default to 3\n",
    "        # Initialize a grid of shape (10, 10)\n",
    "        layer = self.nature.create_module(\n",
    "            cell_cls=Customer,  # notice that we use the customized class\n",
    "            how=\"from_resolution\",\n",
    "            shape=(10, 10),\n",
    "        )\n",
    "\n",
    "        # Create some agents on random cells\n",
    "        cells = layer.select().random.choice(size=num_agents)\n",
    "        cells.apply(lambda x: x.agents.new(Shop))"
   ]
  },
  {
   "cell_type": "markdown",
   "metadata": {},
   "source": [
    "Imagine that we have a 10x10 grid where each cell represents a custom. We also placed some shops (based on the `num_agents` parameter) on the world. We need to calculate the distance between each customer and each shop, and then calculate the preference of each customer to each shop.\n",
    "\n",
    "Therefore, let's add a custom method to the `Customer` class to calculate the preference of each customer to each shop."
   ]
  },
  {
   "cell_type": "code",
   "execution_count": 3,
   "metadata": {},
   "outputs": [],
   "source": [
    "import numpy as np\n",
    "from scipy.spatial.distance import cdist\n",
    "\n",
    "\n",
    "class Customer(PatchCell):\n",
    "    \"\"\"\n",
    "    Each patch cell represents a customer.\n",
    "    Customer prefers to buy from the nearest & cheapest shop.\n",
    "    \"\"\"\n",
    "\n",
    "    def find_preference(self):\n",
    "        \"\"\"Find the nearest & cheapest shop.\"\"\"\n",
    "        self.link.clean()  # clean all existing links\n",
    "        stores = self.model.actors\n",
    "        # Create a list of all shops\n",
    "        prices = stores.array(\"price\")\n",
    "        # Create a list of all distances from the customer to each shop\n",
    "        distances = cdist(\n",
    "            np.array([self.pos]),\n",
    "            np.array([shop.at.pos for shop in stores]),\n",
    "        )[0]\n",
    "        # Pair each shop to its distance & price\n",
    "        _pair = dict(zip(stores, distances + prices))\n",
    "        prefer_store = min(_pair, key=_pair.get)\n",
    "        # let this customer be linked by the nearest & cheapest shop.\n",
    "        self.link.by(prefer_store, link_name=\"prefer\")\n",
    "        return prefer_store"
   ]
  },
  {
   "cell_type": "markdown",
   "metadata": {},
   "source": [
    "Distance is calculated using the Euclidean distance formula. The preference of each customer to each shop is calculated using the formula $prefer = price + distance$:\n",
    "\n",
    "In the above implementation, we use `scipy.spatial.distance` module to calculate the distance between each customer and each shop. We also use the `numpy` module to calculate the preference of each customer to each shop.\n",
    "\n",
    "<div class=\"admonition note\">\n",
    "    <p class=\"admonition-title\">In progress</p>\n",
    "    <p>Calculating distance between cell and actors is not an internal method at the moment, but we are considering becoming the default feature of ABSESpy in the future.</p>\n",
    "</div>\n",
    "\n",
    "\n",
    "For flexibility, we also need another custom method to the `MainModel` to refresh the preferences globally:"
   ]
  },
  {
   "cell_type": "code",
   "execution_count": 4,
   "metadata": {},
   "outputs": [],
   "source": [
    "class Hotelling(MainModel):\n",
    "    \"\"\"\n",
    "    Model class for the Hotelling's Law example.\n",
    "    \"\"\"\n",
    "\n",
    "    def setup(self):\n",
    "        num_agents = self.params.get(\"n_agents\", 3)\n",
    "        # Initialize a grid\n",
    "        layer = self.nature.create_module(\n",
    "            cell_cls=Customer, how=\"from_resolution\", shape=(10, 10)\n",
    "        )\n",
    "\n",
    "        # Create some agents on random cells\n",
    "        cells = layer.select().random.choice(size=num_agents)\n",
    "        cells.apply(lambda x: x.agents.new(Shop))\n",
    "\n",
    "    def recalculate_preferences(self):\n",
    "        \"\"\"Let all customers (PatchCell) find their preferences shop.\"\"\"\n",
    "        self.nature.major_layer.select().trigger(\"find_preference\")"
   ]
  },
  {
   "cell_type": "markdown",
   "metadata": {},
   "source": [
    "Now, what we've done?\n",
    "\n",
    "We have customers located on different cells of the grid, and initialized some shops. We have calculated the distance between each customer and each shop, and then calculated the preference of each customer to each shop. Finally, we also added a custom method to the `MainModel` to refresh the preferences globally.\n",
    "\n",
    "Notice that we used `link.by()` method to link each customer to the shop it prefers. `link` is a powerful function of `ABSESpy` to link two agents, cells, or agent and cell. Users can customize the linkages' name by specifying `link_name` parameter. In this case, we use `prefer` as the linkage name. Once we've created the links, we can easily access the linked cells from the shops' side, including counting the number of customers who prefer each shop. Let's add a custom method to the `Shop` class to count the number of customers who prefer each shop to test it."
   ]
  },
  {
   "cell_type": "code",
   "execution_count": 5,
   "metadata": {},
   "outputs": [],
   "source": [
    "from abses.main import MainModel\n",
    "\n",
    "\n",
    "class Shop(Actor):\n",
    "    \"\"\"Shop class, which may adjust location and prices.\"\"\"\n",
    "\n",
    "    def __init__(self, *args, **kwargs):\n",
    "        super().__init__(*args, **kwargs)\n",
    "        # add a fixed price attribute to each shop\n",
    "        self.price = 10.0\n",
    "\n",
    "    @property\n",
    "    def area_count(self) -> int:\n",
    "        \"\"\"Return the number of customers in the shop's area.\"\"\"\n",
    "        return len(self.link.get(\"prefer\", direction=\"out\"))"
   ]
  },
  {
   "cell_type": "markdown",
   "metadata": {},
   "source": [
    "Now, each shop can count the number of customers who prefer it by access the property `area_count`. We simply add a fixed price for each shop so that customers can calculate their preferences.\n",
    "\n",
    "Let's initialize a model, setup it, and calculate the preferences of each customer to each shop. Then, we can count the number of customers who prefer each shop."
   ]
  },
  {
   "cell_type": "code",
   "execution_count": 6,
   "metadata": {},
   "outputs": [
    {
     "name": "stderr",
     "output_type": "stream",
     "text": [
      "[2024-03-20 12:03:46][human          ] | Initializing a new Human Module...\n",
      "[2024-03-20 12:03:46][nature         ] | Initializing a new Base Nature module...\n",
      "[2024-03-20 12:03:46][nature         ] | Initializing a new Model Layer...\n",
      "[2024-03-20 12:03:46][nature         ] | Using rioxarray version: 0.13.4\n",
      "[2024-03-20 12:03:46][container      ] | Created 1 actors of breed Shop\n",
      "[2024-03-20 12:03:46][container      ] | Created 1 actors of breed Shop\n",
      "[2024-03-20 12:03:46][container      ] | Created 1 actors of breed Shop\n"
     ]
    },
    {
     "data": {
      "text/plain": [
       "array([28, 44, 28])"
      ]
     },
     "execution_count": 6,
     "metadata": {},
     "output_type": "execute_result"
    }
   ],
   "source": [
    "model = Hotelling()\n",
    "model.setup()\n",
    "model.recalculate_preferences()\n",
    "\n",
    "assert sum(model.actors.array(\"area_count\")) == 100\n",
    "model.actors.array(\"area_count\")"
   ]
  },
  {
   "cell_type": "markdown",
   "metadata": {},
   "source": [
    "\n",
    "Sum of the three number should be 100, which means each cell on the grid ($10 * 10$ by default) has been linked to the shop it prefers."
   ]
  },
  {
   "cell_type": "markdown",
   "metadata": {},
   "source": [
    "## schedule"
   ]
  },
  {
   "cell_type": "markdown",
   "metadata": {},
   "source": [
    "\n",
    "We are prepared to implement the full `Shop` class now.\n",
    "\n",
    "Besides the `area_count` property, we are going to take `setup` method to give our Shop agent the following parameters:\n",
    "\n",
    "|attribute|description|\n",
    "|---|---|\n",
    "|price|Shop's current price|\n",
    "|next_position|Position to advance to at the end of this period|\n",
    "|next_price|Price to set at the end of this period|\n",
    "\n",
    "The next position and next price are the variables that will be used to store the agent's choices on position and price momentarily and that will take effect at the end of the period. By separating the decision and action in a schedule, we can simulate the shops' decision are made simultaneously."
   ]
  },
  {
   "cell_type": "markdown",
   "metadata": {},
   "source": [
    "We will want to be able to calculate respective monopoly areas for each shop. Since no single agent can really set this variable for himself, this method must be implement within the scope of the Hotelling model class scope. Essentially, it will iterate through each path or cell and it will define what would be the preferred shop for a customer that sits on that cell. The area for any given Shop is the number of customer that prefer that shop.\n",
    "\n",
    "We are going to need a function to calculate the distance between any two points in the grid. We will use the euclidean distance. We proceed to take this distance as the nominal value of the transportation costs, assuming each unit of distance equates one unit of money.\n",
    "\n",
    "This distance plus the price will define the total costs that a customer incurs when buying from a given shop.\n",
    "\n",
    "The preferred shop will be the cheapest one. That is, the one for which the customer faces less costs for both the product itself and transportation. The method will return a dictionary with the number of customers that prefer each shop."
   ]
  },
  {
   "cell_type": "code",
   "execution_count": 7,
   "metadata": {},
   "outputs": [],
   "source": [
    "class Shop(Actor):\n",
    "    \"\"\"\n",
    "    Shop agent\n",
    "    \"\"\"\n",
    "\n",
    "    def __init__(self, *args, **kwargs):\n",
    "        super().__init__(*args, **kwargs)\n",
    "        self.price = 10\n",
    "        self.next_position = None\n",
    "        self.next_price = None\n",
    "\n",
    "    @property\n",
    "    def area_count(self) -> int:\n",
    "        \"\"\"Return the number of customers in the shop's area.\"\"\"\n",
    "        return len(self.link.get(\"prefer\", direction=\"out\"))\n",
    "\n",
    "    def step(self):\n",
    "        self.adjust_price()\n",
    "        self.adjust_position()\n",
    "\n",
    "    def advance(self):\n",
    "        self.affect_price()\n",
    "        self.affect_position()\n",
    "\n",
    "    def adjust_price(self):\n",
    "        \"\"\"Evaluate the potential revenue for each possible price change.\n",
    "        Choose the one with the highest potential revenue.\"\"\"\n",
    "        # Save initial price\n",
    "        init_price = self.price\n",
    "\n",
    "        # Build a list of all possible prices\n",
    "        _possible_prices = [init_price - 1, init_price, init_price + 1]\n",
    "\n",
    "        # Pair each possible price change to its potential revenue\n",
    "        _potential_revenues = {}\n",
    "        for price in _possible_prices:\n",
    "            self.price = price\n",
    "            self.model.recalculate_preferences()\n",
    "            _potential_revenues[price] = self.area_count * price\n",
    "        # Check if all potential revenues are 0\n",
    "        # if so, decrease price by 1\n",
    "        if all(value == 0 for value in _potential_revenues.values()):\n",
    "            self.next_price = self.price - 1\n",
    "        # Otherwise, choose the price with the highest potential revenue\n",
    "        else:\n",
    "            self.next_price = max(\n",
    "                _potential_revenues, key=_potential_revenues.get\n",
    "            )\n",
    "\n",
    "        # Reset price to initial price\n",
    "        self.price = init_price\n",
    "\n",
    "    def adjust_position(self):\n",
    "        \"\"\"Evaluate the potential areas for each possible move.\n",
    "        Choose the one with the highest potential area.\"\"\"\n",
    "        cell_now = self.at\n",
    "        # Get all possible candidates for the next position\n",
    "        _possible_moves = self.at.neighboring(moore=True, include_center=False)\n",
    "\n",
    "        # Pair each possible move to their potential areas\n",
    "        _potential_areas = {}\n",
    "        for move in _possible_moves:\n",
    "            self.move.to(move)\n",
    "            self.model.recalculate_preferences()\n",
    "            _potential_areas[move] = self.area_count\n",
    "\n",
    "        # Single out the store with the highest potential area and save it\n",
    "        _choice = max(_potential_areas, key=_potential_areas.get)\n",
    "        self.next_position = _choice\n",
    "\n",
    "        # Pull back to initial position if the potential area\n",
    "        self.move.to(cell_now)\n",
    "\n",
    "    def affect_price(self) -> None:\n",
    "        \"\"\"Change the price of the shop to the next price.\"\"\"\n",
    "        self.price = self.next_price\n",
    "\n",
    "    def affect_position(self) -> None:\n",
    "        \"\"\"Change the position of the shop to the next position.\"\"\"\n",
    "        self.move.to(self.next_position)"
   ]
  },
  {
   "cell_type": "markdown",
   "metadata": {},
   "source": [
    "The above implementation is a bit complicated but don't be daunted.\n",
    "We use the `step()` method to make decisions and the `advance()` method to take actions.\n",
    "When making decision, each shop consider all the potential movements and prices, and choose the one that maximizes its revenue. Then, it sets the next position and next price. When taking action, each shop moves to the next position and sets the next price."
   ]
  },
  {
   "cell_type": "markdown",
   "metadata": {},
   "source": [
    "The price adjustme schedule are part of the `Shop` class in the Hotelling model. There are two methods that relate to this procedure, namely, `adjust_price` and `adjust_position`. Here's a detailed description of how it works:\n",
    "\n",
    "1. **adjust_price**: This method is responsible for determining the next price for the shop based on potential revenues.\n",
    "\n",
    "   - It first saves the current price of the shop in `initial_price`.\n",
    "   \n",
    "   - It then creates a list of possible prices, which are the current price minus 1, the current price, and the current price plus 1.\n",
    "   \n",
    "   - For each possible price, it temporarily sets the shop's price to that value and calculates the potential revenue if the shop were to sell at that price. The potential revenue is calculated as the product of the price and the area of the shop's monopoly, which is obtained by calling the `recalculate_areas` method of the model.\n",
    "   \n",
    "   - If all potential revenues are 0, it sets `next_price` to be the current price minus 1. This means that if the shop cannot make any revenue at any of the possible prices, it will lower its price in the next step.\n",
    "   \n",
    "   - If there is at least one possible price that can generate revenue, it sets `next_price` to be the one that generates the highest potential revenue.\n",
    "   \n",
    "   - Finally, it resets the shop's price to the initial price. This is because the actual price change does not occur in the `adjust_price` method. Instead, the new price is stored in `next_price` and the price change is applied in the `affect_price` method.\n",
    "\n",
    "2. **affect_price**: This method is responsible for applying the price change that was determined in the `adjust_price` method.\n",
    "\n",
    "   - It simply sets the shop's price to `next_price`. This is the new price that was determined in the `adjust_price` method.\n",
    "\n",
    "The `adjust_price` and `affect_price` methods are called in the `step` and `advance` methods of the `Shop` class, respectively. This allows all shops to make their decisions based on the current state of the model in the `step` method, and then all decisions are applied simultaneously in the `advance` method."
   ]
  },
  {
   "cell_type": "markdown",
   "metadata": {},
   "source": [
    "Next we write the methods relating to the position adjustment schedule. Here's a detailed description of how they work:\n",
    "\n",
    "1. **adjust_position**: This method is responsible for determining the next position for the shop based on potential areas.\n",
    "\n",
    "   - It first saves the current position of the shop in `initial_pos`.\n",
    "   \n",
    "   - It then gets a list of all possible moves the shop can make. This is done by calling the `get_neighborhood` method of the `major_layer` attribute of the model, which returns the neighboring cells of the shop's current position. The `major_layer` is a BaseNature instance that represent one grid of the model.\n",
    "   \n",
    "   - For each possible move, it temporarily moves the shop to that position and calculates the potential area of the shop's monopoly if it were to move to that position. The potential area is calculated by calling the `recalculate_areas` method of the model.\n",
    "   \n",
    "   - It then selects the move that results in the largest potential area and stores it in `next_position`.\n",
    "   \n",
    "   - Finally, it moves the shop back to its initial position. This is because the actual move does not occur in the `adjust_position` method. Instead, the new position is stored in `next_position` and the move is applied in the `affect_position` method.\n",
    "\n",
    "2. **affect_position**: This method is responsible for applying the move that was determined in the `adjust_position` method.\n",
    "\n",
    "   - It simply moves the shop to `next_position`. This is the new position that was determined in the `adjust_position` method.\n",
    "\n",
    "The `adjust_position` and `affect_position` methods are called in the `step` and `advance` methods of the `Shop` class, respectively. This allows all shops to make their decisions based on the current state of the model in the `step` method, and then all decisions are applied simultaneously in the `advance` method."
   ]
  },
  {
   "cell_type": "markdown",
   "metadata": {},
   "source": [
    "From the previous implementation of the Hotelling model class, we already have cues as to what we should aim for and tackle. We know there must be a step and an advance method. We also know that the agent must make a decision regarding price and position based on the number of customer that prefer buying from them, thus, increasing profits and staying in business. Therefore, we will design the Shop agent class in a way that reflect this. There will be the two methods already mentioned and for each there will be two routines. \n",
    "\n",
    "First, the `step` method will be called for all agents. In it, there will be two routines regarding the changes in prices and positions respectively. At each step, each agent is going to adjust its price and position, but those changes will only take effect at a later stage. The reason for this is that we want to make sure that all agents have made their decisions before any of them takes effect. This may also be referred to as a synchronous or simultaneous update. In order to do that, we want to save the changes in a variable that will be used to update the agent's attributes at the end of the step. This is the reason behing having the `next_price` and `next_position` attributes. \n",
    "\n",
    "Taken together, to make the implementation, we have to change the main model a little bit more:"
   ]
  },
  {
   "cell_type": "code",
   "execution_count": 8,
   "metadata": {},
   "outputs": [],
   "source": [
    "from mesa.time import SimultaneousActivation\n",
    "\n",
    "\n",
    "class Hotelling(MainModel):\n",
    "    \"\"\"\n",
    "    Model class for the Hotelling's Law example.\n",
    "    \"\"\"\n",
    "\n",
    "    def setup(self):\n",
    "        # change the schedule to SimultaneousActivation\n",
    "        self.schedule = SimultaneousActivation(self)\n",
    "\n",
    "        # intact the previous setup method\n",
    "        num_agents = self.params.get(\"n_agents\", 3)\n",
    "        # Initialize a grid\n",
    "        layer = self.nature.create_module(\n",
    "            cell_cls=Customer, how=\"from_resolution\", shape=(10, 10)\n",
    "        )\n",
    "\n",
    "        # Create some agents on random cells\n",
    "        cells = layer.select().random.choice(size=num_agents)\n",
    "        cells.apply(lambda x: x.agents.new(Shop))\n",
    "\n",
    "    def step(self):\n",
    "        # recalculate areas and assign them to each agent\n",
    "        self.recalculate_preferences()\n",
    "\n",
    "    def recalculate_preferences(self):\n",
    "        \"\"\"Let all customers (PatchCell) find their preferences shop.\"\"\"\n",
    "        self.nature.major_layer.select().trigger(\"find_preference\")"
   ]
  },
  {
   "cell_type": "markdown",
   "metadata": {},
   "source": [
    "Super easy, right? We only added two lines:\n",
    "\n",
    "```python\n",
    "# change the schedule to SimultaneousActivation\n",
    "self.schedule = SimultaneousActivation(self)\n",
    "```\n",
    "\n",
    "It means, we are going to use the `SimultaneousActivation` scheduler to make sure all agents make their decisions before any of them takes effect.\n",
    "\n",
    "By default, the model takes three actions in each time tick:\n",
    "\n",
    "1. Trigger each `step` in model, nature, and human in order.\n",
    "2. Trigger each `step` for agents.\n",
    "3. Collecting data.\n",
    "\n",
    "When we use `SimultaneousActivation` scheduler, the second action will be changed to:\n",
    "\n",
    "2. Trigger each `step`, and then `advance` for agents.\n",
    "\n",
    "It allows us to separate decision and action for agents. Shops make decision about their movements and prices in `step` method, and then take action in `advance` method simultaneously."
   ]
  },
  {
   "cell_type": "code",
   "execution_count": 9,
   "metadata": {},
   "outputs": [
    {
     "name": "stderr",
     "output_type": "stream",
     "text": [
      "[2024-03-20 12:03:46][human          ] | Initializing a new Human Module...\n",
      "[2024-03-20 12:03:46][nature         ] | Initializing a new Base Nature module...\n",
      "[2024-03-20 12:03:46][main           ] | Setting up Hotelling...\n",
      "[2024-03-20 12:03:46][nature         ] | Initializing a new Model Layer...\n",
      "[2024-03-20 12:03:46][nature         ] | Using rioxarray version: 0.13.4\n",
      "[2024-03-20 12:03:46][container      ] | Created 1 actors of breed Shop\n",
      "[2024-03-20 12:03:46][container      ] | Created 1 actors of breed Shop\n",
      "[2024-03-20 12:03:46][container      ] | Created 1 actors of breed Shop\n",
      "[2024-03-20 12:03:50][main           ] | Ending Hotelling\n"
     ]
    }
   ],
   "source": [
    "params = {\n",
    "    \"reports\": {\n",
    "        \"agents\": {\n",
    "            \"area\": \"area_count\",\n",
    "            \"price\": \"price\",\n",
    "        }\n",
    "    },\n",
    "    \"time\": {\"end\": 20},\n",
    "}\n",
    "\n",
    "model = Hotelling(parameters=params)\n",
    "model.run_model()"
   ]
  },
  {
   "cell_type": "markdown",
   "metadata": {},
   "source": [
    "Once we have a full working and testable version of our model, we instantiate it and run it. The following code block shows how to do this:\n",
    "\n",
    "1. **Define the Parameters**\n",
    "\n",
    "   The `parameters` dictionary is defining the parameters for the simulation. In this case, there's only one parameter: `end`. This parameter is nested under `time` and is set to `100`. This means the simulation will run for 100 time steps.\n",
    "\n",
    "2. **Instantiate the Model**\n",
    "\n",
    "   The `Hotelling` model is being instantiated with `N=2` and `parameters=parameters`. This means that the model will start with 2 agents (as specified by `N=2`) and will use the parameters defined in the `parameters` dictionary. \n",
    "\n",
    "3. **Run the Model**\n",
    "\n",
    "   The `run_model` method is called on the `model` instance. This starts the simulation and runs it until the end time specified in the parameters (in this case, 100 time steps).\n",
    "\n",
    "The `Hotelling` model is a type of agent-based model used in economics to simulate competition between two firms (or agents) in a geographical market. The `N=2` parameter suggests that there are two firms in the simulation. The firms adjust their prices and locations in each time step based on the state of the market, and the simulation tracks these adjustments over time."
   ]
  },
  {
   "cell_type": "code",
   "execution_count": 10,
   "metadata": {},
   "outputs": [
    {
     "data": {
      "text/html": [
       "<div>\n",
       "<style scoped>\n",
       "    .dataframe tbody tr th:only-of-type {\n",
       "        vertical-align: middle;\n",
       "    }\n",
       "\n",
       "    .dataframe tbody tr th {\n",
       "        vertical-align: top;\n",
       "    }\n",
       "\n",
       "    .dataframe thead th {\n",
       "        text-align: right;\n",
       "    }\n",
       "</style>\n",
       "<table border=\"1\" class=\"dataframe\">\n",
       "  <thead>\n",
       "    <tr style=\"text-align: right;\">\n",
       "      <th></th>\n",
       "      <th></th>\n",
       "      <th>area</th>\n",
       "      <th>price</th>\n",
       "    </tr>\n",
       "    <tr>\n",
       "      <th>Step</th>\n",
       "      <th>AgentID</th>\n",
       "      <th></th>\n",
       "      <th></th>\n",
       "    </tr>\n",
       "  </thead>\n",
       "  <tbody>\n",
       "    <tr>\n",
       "      <th rowspan=\"3\" valign=\"top\">1</th>\n",
       "      <th>1</th>\n",
       "      <td>25</td>\n",
       "      <td>9</td>\n",
       "    </tr>\n",
       "    <tr>\n",
       "      <th>2</th>\n",
       "      <td>30</td>\n",
       "      <td>9</td>\n",
       "    </tr>\n",
       "    <tr>\n",
       "      <th>3</th>\n",
       "      <td>45</td>\n",
       "      <td>9</td>\n",
       "    </tr>\n",
       "    <tr>\n",
       "      <th rowspan=\"2\" valign=\"top\">2</th>\n",
       "      <th>1</th>\n",
       "      <td>15</td>\n",
       "      <td>8</td>\n",
       "    </tr>\n",
       "    <tr>\n",
       "      <th>2</th>\n",
       "      <td>40</td>\n",
       "      <td>8</td>\n",
       "    </tr>\n",
       "    <tr>\n",
       "      <th>...</th>\n",
       "      <th>...</th>\n",
       "      <td>...</td>\n",
       "      <td>...</td>\n",
       "    </tr>\n",
       "    <tr>\n",
       "      <th rowspan=\"2\" valign=\"top\">99</th>\n",
       "      <th>2</th>\n",
       "      <td>30</td>\n",
       "      <td>1</td>\n",
       "    </tr>\n",
       "    <tr>\n",
       "      <th>3</th>\n",
       "      <td>53</td>\n",
       "      <td>1</td>\n",
       "    </tr>\n",
       "    <tr>\n",
       "      <th rowspan=\"3\" valign=\"top\">100</th>\n",
       "      <th>1</th>\n",
       "      <td>21</td>\n",
       "      <td>2</td>\n",
       "    </tr>\n",
       "    <tr>\n",
       "      <th>2</th>\n",
       "      <td>48</td>\n",
       "      <td>1</td>\n",
       "    </tr>\n",
       "    <tr>\n",
       "      <th>3</th>\n",
       "      <td>31</td>\n",
       "      <td>1</td>\n",
       "    </tr>\n",
       "  </tbody>\n",
       "</table>\n",
       "<p>300 rows × 2 columns</p>\n",
       "</div>"
      ],
      "text/plain": [
       "              area  price\n",
       "Step AgentID             \n",
       "1    1          25      9\n",
       "     2          30      9\n",
       "     3          45      9\n",
       "2    1          15      8\n",
       "     2          40      8\n",
       "...            ...    ...\n",
       "99   2          30      1\n",
       "     3          53      1\n",
       "100  1          21      2\n",
       "     2          48      1\n",
       "     3          31      1\n",
       "\n",
       "[300 rows x 2 columns]"
      ]
     },
     "execution_count": 10,
     "metadata": {},
     "output_type": "execute_result"
    }
   ],
   "source": [
    "model.datacollector.get_agent_vars_dataframe()"
   ]
  },
  {
   "cell_type": "markdown",
   "metadata": {},
   "source": [
    "We now have a working model. The `datacollector` attribute allows to access data collected during the execution of the model. We mainly want to observe the evolution of key variables that describe model's state. For this example, we want to observe the price of each shop at each time step. We also want to observe the number of customers that prefer each shop at each time step. The following code block shows how to do this:"
   ]
  },
  {
   "cell_type": "code",
   "execution_count": 11,
   "metadata": {},
   "outputs": [
    {
     "data": {
      "text/plain": [
       "<Axes: xlabel='Step'>"
      ]
     },
     "execution_count": 11,
     "metadata": {},
     "output_type": "execute_result"
    },
    {
     "data": {
      "image/png": "[encoded data removed]",
      "text/plain": [
       "<Figure size 640x480 with 1 Axes>"
      ]
     },
     "metadata": {},
     "output_type": "display_data"
    }
   ],
   "source": [
    "results = model.datacollector.get_agent_vars_dataframe()\n",
    "\n",
    "results.unstack(level=1).price.plot()"
   ]
  },
  {
   "cell_type": "markdown",
   "metadata": {},
   "source": [
    "As the Hotelling's Law model would predict, the two shops converge to a lower and similar price. This contributes to our understading of how competitions occurs between firms in a market for two substitute goods. The model can be further developed to include more shops, more dimensions, and more complex decision making processes.\n",
    "\n",
    "We may proceed to add three more shops to our model and evaluate the differences."
   ]
  },
  {
   "cell_type": "code",
   "execution_count": 12,
   "metadata": {},
   "outputs": [
    {
     "data": {
      "text/plain": [
       "<Axes: xlabel='Step'>"
      ]
     },
     "execution_count": 12,
     "metadata": {},
     "output_type": "execute_result"
    },
    {
     "data": {
      "image/png": "[encoded data removed]",
      "text/plain": [
       "<Figure size 640x480 with 1 Axes>"
      ]
     },
     "metadata": {},
     "output_type": "display_data"
    }
   ],
   "source": [
    "results = model.datacollector.get_agent_vars_dataframe()\n",
    "\n",
    "results.unstack(level=1).price.plot()"
   ]
  },
  {
   "cell_type": "markdown",
   "metadata": {},
   "source": [
    "After extending the model to inlcude 5 shops, we can appretiate how some shops are now able to hold higher prices for longer periods after well advanced time periods. Hotelling (1929) considered that all shops or sellers are a monopoly within the confines of a smaller jurisdiction or area. It is appearently the case that more shops allow for less localised competition and, thus, higher prices in certain areas.\n",
    "\n",
    "We can also explore those relative positions in our grid, the areas of each shop and respective revenues. This example only aims to provide a quick illustration of how to use the ABSESpy package."
   ]
  },
  {
   "cell_type": "markdown",
   "metadata": {},
   "source": [
    "## References\n",
    "Hotelling, H. (1929). Stability in competition. The Economic Journal, 39(153), 41-57."
   ]
  }
 ],
 "metadata": {
  "kernelspec": {
   "display_name": "abses-EXDRHGGY-py3.11",
   "language": "python",
   "name": "python3"
  },
  "language_info": {
   "codemirror_mode": {
    "name": "ipython",
    "version": 3
   },
   "file_extension": ".py",
   "mimetype": "text/x-python",
   "name": "python",
   "nbconvert_exporter": "python",
   "pygments_lexer": "ipython3",
   "version": "3.9.18"
  }
 },
 "nbformat": 4,
 "nbformat_minor": 4
}
