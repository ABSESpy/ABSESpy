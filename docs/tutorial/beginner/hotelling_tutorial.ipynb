{
 "cells": [
  {
   "cell_type": "markdown",
   "metadata": {},
   "source": [
    "# Introducing the ABSESpy package"
   ]
  },
  {
   "cell_type": "markdown",
   "metadata": {},
   "source": [
    "<div class=\"admonition note\">\n",
    "    <p class=\"admonition-title\">In progress</p>\n",
    "    <p>This document is a work in progress if you see any errors, or exclusions or have any problems, please <a href=\"https://github.com/absespy/ABSESpy/issues\">get in touch with us</a>.</p>\n",
    "</div>"
   ]
  },
  {
   "cell_type": "markdown",
   "metadata": {},
   "source": [
    "The following introduces the ABSESpy python package for individual-based simulations in the context of social-ecological systems. The package is designed to loosely integrate societal elements as well as environmental ones. In order to follow the tutorial, please make sure that you have it properly installed. "
   ]
  },
  {
   "cell_type": "markdown",
   "metadata": {},
   "source": [
    "```\n",
    "%pip install --upgrade abses\"\n",
    "```"
   ]
  },
  {
   "cell_type": "markdown",
   "metadata": {},
   "source": [
    "This introduction presents the basic structure of the package and its main components by means of building a simple model, illustrating each step of the process. The model chosen is an adaptation of the Hotelling's Law model. The counterpart written in Netlogo can be found [here](https://ccl.northwestern.edu/netlogo/models/Hotelling'sLaw). The Hotelling's Law, also referred to as the Law of minimum differentiation states that profit maximizing firms competing in a market with two substitute goods will settle close to each other and also lower their prices. Although the notion of distance relates to space both in the original paper by Hotelling (1929) and its netlogo implementation, its definition can be expanded to other dimensions of interest."
   ]
  },
  {
   "cell_type": "markdown",
   "metadata": {},
   "source": [
    "At the base of any ABSESpy model, there will be a Model instance and as many Actor instances as desired. For the following example we will require that there is a specific hotelling model class that will inherit from the base MainModel class. This class will contain all the specific methods and attributes that are required for the model to run. In this case, we will need to define the following:\n",
    "- Clearly defined setup method\n",
    "- Clearly defined step method\n",
    "- Other functionalities to assist the setup and step method.\n",
    "\n",
    "We will also need an class that inherits from Actor. We will call it shop to honor the original Hotelling's Law model and its netlogo implementation. For this class we will also write a setup and step method along with other functionalities that will be required for the model to run."
   ]
  },
  {
   "cell_type": "code",
   "execution_count": 1,
   "metadata": {},
   "outputs": [],
   "source": [
    "import numpy as np\n",
    "\n",
    "from abses import Actor, MainModel\n",
    "from abses.datacollection import DataCollector\n",
    "\n",
    "# Define random number generator\n",
    "rng = np.random.default_rng(seed=42)\n",
    "\n",
    "\n",
    "class Shop(Actor):\n",
    "    def __init__(self, *args, **kwargs):\n",
    "        super().__init__(*args, **kwargs)\n",
    "\n",
    "\n",
    "class Hotelling(MainModel):\n",
    "    def __init__(self, *args, **kwargs):\n",
    "        super().__init__(*args, **kwargs)"
   ]
  },
  {
   "cell_type": "markdown",
   "metadata": {},
   "source": [
    "Following the netlogo implementation, each agent will begin at a random position. It will have a market area or share depending on its price and position. Each cell or patch of the grid is considered a customer with inelastic demand for the product. Each customer will make a choice as to what shop is prefered based on the price and distance to each shop. In the original paper (1929) the distance to the shop introduces transportation costs.\n",
    "\n",
    "We first may wish to work out all the setup before writing the instructions for each step."
   ]
  },
  {
   "cell_type": "markdown",
   "metadata": {},
   "source": [
    "Drawing attention to the Shop agent class first, we will put in place some class attributes as we initialize the class. We are going to take `__init__` method as our setup step. We will give our Shop agent the following parameters:\n",
    "\n",
    "|attribute|description|\n",
    "|---|---|\n",
    "|price|Agent's price|\n",
    "|area_count|Number of customer who prefer the shop|\n",
    "|id|Shop's identifier|\n",
    "|next_position|Position to advance to at the end of this period|\n",
    "|next_price|Price to set at the end of this period|\n",
    "\n",
    "The main control variables are the price and position. Area count is a variable that will be used by the agent to decide how to adjust its price and position but it won't be able to alter it. The agent's id is a unique 7-figure identifier. The next position and next price are the variables that will be used to store the agent's choices on position and price momentarily and that will take effect at the end of the period."
   ]
  },
  {
   "cell_type": "code",
   "execution_count": 2,
   "metadata": {},
   "outputs": [],
   "source": [
    "class Shop(Actor):\n",
    "    def __init__(self, *args, **kwargs):\n",
    "        super().__init__(*args, **kwargs)\n",
    "        self.price = 10\n",
    "        self.area_count = 0\n",
    "        self.id = rng.integers(\n",
    "            1e6, 1e7, dtype=int  # FIXME: no two agent may have the same id\n",
    "        )\n",
    "        self.next_position = None\n",
    "        self.next_price = None"
   ]
  },
  {
   "cell_type": "markdown",
   "metadata": {},
   "source": [
    "In the case of the model object, the setup method has to be defined and it will be a bit more elaborate. As we initialize a model, we just want to pass one parameter to be stored as an attribute. This parameter is the number of shops that we want to have in the model.\n",
    "\n",
    "In the setup method we will want to i. initialize a grid, ii. create the list of agents and iii. place the agents in the grid randomly. To perform these actions, ABSESpy provides extensive functionality as to make it seamless and quick. It is important, nonetheless, to become familiar with involved modules. Namely, there are two that are of interest for us now:\n",
    "\n",
    "1. BaseNature\n",
    "2. ActorsList\n",
    "\n",
    "They are both used under the hood in the initialization of the model object. BaseNature provides us with the spatial component for our model. ActorsList is the container of all agents in the model. \n",
    "\n",
    "Another important element to out setup method is the initialization of the data collector class. This class will be used to store the data that we want to collect from the model. In this case, we will want to store the price and position of each shop at each step. We will also want to store the number of customers that each shop has at each step. This class inherits from the DataCollector class in mesa."
   ]
  },
  {
   "cell_type": "code",
   "execution_count": 3,
   "metadata": {},
   "outputs": [],
   "source": [
    "class Hotelling(MainModel):\n",
    "    def __init__(self, N, *args, **kwargs):\n",
    "        super().__init__(*args, **kwargs)\n",
    "        self.num_agents = N\n",
    "\n",
    "    def setup(self):\n",
    "        # Initialize a grid of shape (12, 12)\n",
    "        self.nature.create_module(how=\"from_resolution\", shape=(12, 12))\n",
    "\n",
    "        # Create a list of agents\n",
    "        self.agents.create(Shop, self.num_agents)\n",
    "\n",
    "        # Placed agents on the grid randomly\n",
    "        positions = rng.integers(12, size=(self.num_agents, 2), dtype=np.int8)\n",
    "\n",
    "        for i, agent in enumerate(self.actors):\n",
    "            agent.put_on_layer(\n",
    "                layer=self.nature.major_layer, pos=tuple(positions[i])\n",
    "            )\n",
    "\n",
    "        # Initialize a DataCollector object\n",
    "        self.datacollector = DataCollector(\n",
    "            self, agent_reporters={\"Price\": \"price\", \"Area\": \"area_count\"}\n",
    "        )"
   ]
  },
  {
   "cell_type": "markdown",
   "metadata": {},
   "source": [
    "The `step` method of the `Hotelling` model class is responsible for updating the state of the model at each time step. It will first call the a method to calculate the monopoly areas for each shop, and then assigns the area count to each shop. The reasoning being that at the end of each step all agents decisions will have affected the state of the environment, thus, we recalculate variables that are affected by changes instantiated by those decisions and update them. It then triggers all agents to step. Finally, it triggers the price and positional changes to take effect using the `advance` method each agent should have.\n",
    "\n",
    "Notice how we are already making choices that will affect how the model will be further developed. For instance, now we now that our Shop agents should have, at least, two methods: one named `step` and another named `advance`. Also, the next step should consist of implementing the monopoly area calculation method."
   ]
  },
  {
   "cell_type": "code",
   "execution_count": 4,
   "metadata": {},
   "outputs": [],
   "source": [
    "class Hotelling(MainModel):\n",
    "    def __init__(self, N, *args, **kwargs):\n",
    "        super().__init__(*args, **kwargs)\n",
    "        self.num_agents = N\n",
    "\n",
    "    def setup(self):\n",
    "        # Initialize a grid of shape (12, 12)\n",
    "        self.nature.create_module(how=\"from_resolution\", shape=(12, 12))\n",
    "\n",
    "        # Create a list of agents\n",
    "        self.agents.create(Shop, self.num_agents)\n",
    "\n",
    "        # Placed agents on the grid randomly\n",
    "        positions = rng.integers(12, size=(self.num_agents, 2), dtype=np.int8)\n",
    "\n",
    "        for i, agent in enumerate(self.actors):\n",
    "            agent.put_on_layer(\n",
    "                layer=self.nature.major_layer, pos=tuple(positions[i])\n",
    "            )\n",
    "\n",
    "        # Initialize a DataCollector object\n",
    "        self.datacollector = DataCollector(\n",
    "            self, agent_reporters={\"Price\": \"price\", \"Area\": \"area_count\"}\n",
    "        )\n",
    "\n",
    "    def step(self):\n",
    "        # recalculate areas and assign them to each agent\n",
    "        areas = self.recalculate_areas()\n",
    "\n",
    "        for shop in self.actors:\n",
    "            shop.area_count = areas[shop]\n",
    "\n",
    "        # trigger all agents to step\n",
    "        self.actors.trigger(\"step\")\n",
    "\n",
    "        # let price and positional changes take effect\n",
    "        self.actors.trigger(\"advance\")\n",
    "\n",
    "        # collect data\n",
    "        self.datacollector.collect()\n",
    "\n",
    "    def recalculate_areas(self):\n",
    "        pass"
   ]
  },
  {
   "cell_type": "markdown",
   "metadata": {},
   "source": [
    " We will want to be able to calculate respective monopoly areas for each shop. Since no single agent can really set this variable for himself, this method must be implement within the scope of the Hotelling model class scope. Essentially, it will iterate through each path or cell and it will define what would be the preferred shop for a customer that sits on that cell. The area for any given Shop is the number of customer that prefer that shop.\n",
    "\n",
    " We are going to need a function to calculate the distance between any two points in the grid. We will use the euclidean distance. We proceed to take this distance as the nominal value of the transportation costs, assuming each unit of distance equates one unit of money.\n",
    "\n",
    " This distance plus the price will define the total costs that a customer incurs when buying from a given shop.\n",
    "\n",
    " The preferred shop will be the cheapest one. That is, the one for which the customer faces less costs for both the product itself and transportation. The method will return a dictionary with the number of customers that prefer each shop.\n",
    "\n",
    " Once it is done, we already should have finished the implementation of the Model class. It is important to note that the model class requires the setup and step methods since those control the most fundamental and basic aspects of the simulation. Further functionality may be added depending on the idiosyncratic needs of the researcher. In our case, we aim to keep things as simple as possible and only add a method to calculate each shops respective control areas since that variables should be given to the agents and taken as given by them."
   ]
  },
  {
   "cell_type": "code",
   "execution_count": 5,
   "metadata": {},
   "outputs": [],
   "source": [
    "# Calculate euclidean distance between two points\n",
    "def euclidean_distance(x1, y1, x2, y2):\n",
    "    return np.sqrt((x1 - x2) ** 2 + (y1 - y2) ** 2)"
   ]
  },
  {
   "cell_type": "code",
   "execution_count": 6,
   "metadata": {},
   "outputs": [],
   "source": [
    "class Hotelling(MainModel):\n",
    "    def __init__(self, N, *args, **kwargs):\n",
    "        super().__init__(*args, **kwargs)\n",
    "        self.num_agents = N\n",
    "\n",
    "    def setup(self):\n",
    "        # Initialize a grid of shape (12, 12)\n",
    "        self.nature.create_module(how=\"from_resolution\", shape=(12, 12))\n",
    "\n",
    "        # Create a list of agents\n",
    "        self.agents.create(Shop, self.num_agents)\n",
    "\n",
    "        # Placed agents on the grid randomly\n",
    "        positions = rng.integers(12, size=(self.num_agents, 2), dtype=np.int8)\n",
    "\n",
    "        for i, agent in enumerate(self.actors):\n",
    "            agent.put_on_layer(\n",
    "                layer=self.nature.major_layer, pos=tuple(positions[i])\n",
    "            )\n",
    "\n",
    "        # Initialize a DataCollector object\n",
    "        self.datacollector = DataCollector(\n",
    "            self, agent_reporters={\"Price\": \"price\", \"Area\": \"area_count\"}\n",
    "        )\n",
    "\n",
    "    def step(self):\n",
    "        # recalculate areas and assign them to each agent\n",
    "        areas = self.recalculate_areas()\n",
    "\n",
    "        for shop in self.actors:\n",
    "            shop.area_count = areas[shop]\n",
    "\n",
    "        # trigger all agents to step\n",
    "        self.actors.trigger(\"step\")\n",
    "\n",
    "        # let price and positional changes take effect\n",
    "        self.actors.trigger(\"advance\")\n",
    "\n",
    "        # collect data\n",
    "        self.datacollector.collect()\n",
    "\n",
    "    def recalculate_areas(self):\n",
    "        areas = {}\n",
    "\n",
    "        for shop in self.actors:\n",
    "            areas[shop] = 0\n",
    "\n",
    "        _width = self.nature.major_layer.width  # columns\n",
    "        _height = self.nature.major_layer.height  # rows\n",
    "\n",
    "        for i in range(_height):\n",
    "            for j in range(_width):\n",
    "                dist = {}\n",
    "                for shop in self.actors:\n",
    "                    _dist = (\n",
    "                        euclidean_distance(i, j, shop.pos[0], shop.pos[1])\n",
    "                        + shop.price\n",
    "                    )\n",
    "                    dist[shop] = _dist\n",
    "                _choice = min(dist, key=dist.get)\n",
    "                areas[_choice] += 1\n",
    "\n",
    "        return areas"
   ]
  },
  {
   "cell_type": "markdown",
   "metadata": {},
   "source": [
    "Now we shift out attention to the Shop agent class. From the previous implementation of the Hotelling model class, we already have cues as to what we should aim for and tackle. We know there must be a step and an advance method. We also know that the agent must make a decision regarding price and position based on the number of customer that prefer buying from them, thus, increasing profits and staying in business. Therefore, we will design the Shop agent class in a way that reflect this. There will be the two methods already mentioned and for each there will be two routines. \n",
    "\n",
    "First, the `step` method will be called for all agents. In it, there will be two routines regarding the changes in prices and positions respectively. At each step, each agent is going to adjust its price and position, but those changes will only take effect at a later stage. The reason for this is that we want to make sure that all agents have made their decisions before any of them takes effect. This may also be referred to as a synchronous or simultaneous update. In order to do that, we want to save the changes in a variable that will be used to update the agent's attributes at the end of the step. This is the reason behing having the `next_price` and `next_position` attributes. "
   ]
  },
  {
   "cell_type": "code",
   "execution_count": 7,
   "metadata": {},
   "outputs": [],
   "source": [
    "class Shop(Actor):\n",
    "    def __init__(self, *args, **kwargs):\n",
    "        super().__init__(*args, **kwargs)\n",
    "        self.price = 10\n",
    "        self.area_count = 0\n",
    "        self.id = rng.integers(\n",
    "            1e6, 1e7, dtype=int  # FIXME: no two agent may have the same id\n",
    "        )\n",
    "        self.next_position = None\n",
    "        self.next_price = None\n",
    "\n",
    "    def step(self):\n",
    "        self.adjust_price()\n",
    "        self.adjust_position()\n",
    "\n",
    "    def advance(self):\n",
    "        self.affect_price()\n",
    "        self.affect_position()\n",
    "\n",
    "    def adjust_price(self):\n",
    "        pass\n",
    "\n",
    "    def adjust_position(self):\n",
    "        pass\n",
    "\n",
    "    def affect_price(self):\n",
    "        pass\n",
    "\n",
    "    def affect_position(self):\n",
    "        pass"
   ]
  },
  {
   "cell_type": "markdown",
   "metadata": {},
   "source": [
    "The price adjustme schedule are part of the `Shop` class in the Hotelling model. There are two methods that relate to this procedure, namely, `adjust_price` and `adjust_position`. Here's a detailed description of how it works:\n",
    "\n",
    "1. **adjust_price**: This method is responsible for determining the next price for the shop based on potential revenues.\n",
    "\n",
    "   - It first saves the current price of the shop in `initial_price`.\n",
    "   \n",
    "   - It then creates a list of possible prices, which are the current price minus 1, the current price, and the current price plus 1.\n",
    "   \n",
    "   - For each possible price, it temporarily sets the shop's price to that value and calculates the potential revenue if the shop were to sell at that price. The potential revenue is calculated as the product of the price and the area of the shop's monopoly, which is obtained by calling the `recalculate_areas` method of the model.\n",
    "   \n",
    "   - If all potential revenues are 0, it sets `next_price` to be the current price minus 1. This means that if the shop cannot make any revenue at any of the possible prices, it will lower its price in the next step.\n",
    "   \n",
    "   - If there is at least one possible price that can generate revenue, it sets `next_price` to be the one that generates the highest potential revenue.\n",
    "   \n",
    "   - Finally, it resets the shop's price to the initial price. This is because the actual price change does not occur in the `adjust_price` method. Instead, the new price is stored in `next_price` and the price change is applied in the `affect_price` method.\n",
    "\n",
    "2. **affect_price**: This method is responsible for applying the price change that was determined in the `adjust_price` method.\n",
    "\n",
    "   - It simply sets the shop's price to `next_price`. This is the new price that was determined in the `adjust_price` method.\n",
    "\n",
    "The `adjust_price` and `affect_price` methods are called in the `step` and `advance` methods of the `Shop` class, respectively. This allows all shops to make their decisions based on the current state of the model in the `step` method, and then all decisions are applied simultaneously in the `advance` method."
   ]
  },
  {
   "cell_type": "code",
   "execution_count": 8,
   "metadata": {},
   "outputs": [],
   "source": [
    "class Shop(Actor):\n",
    "    def __init__(self, *args, **kwargs):\n",
    "        super().__init__(*args, **kwargs)\n",
    "        self.price = 10\n",
    "        self.area_count = 0\n",
    "        self.id = rng.integers(\n",
    "            1e6, 1e7, dtype=int  # FIXME: no two agent may have the same id\n",
    "        )\n",
    "        self.next_position = None\n",
    "        self.next_price = None\n",
    "\n",
    "    def step(self):\n",
    "        self.adjust_price()\n",
    "        self.adjust_position()\n",
    "\n",
    "    def advance(self):\n",
    "        self.affect_price()\n",
    "        self.affect_position()\n",
    "\n",
    "    def adjust_price(self):\n",
    "        # Save initial price\n",
    "        initial_price = self.price\n",
    "\n",
    "        # Build a list of all possible prices\n",
    "        _possible_prices = [self.price - 1, self.price, self.price + 1]\n",
    "\n",
    "        # Pair each possible price change to its potential revenue\n",
    "        _potential_revenues = {}\n",
    "        for price in _possible_prices:\n",
    "            self.price = price\n",
    "            _potential_revenues[price] = (\n",
    "                self.model.recalculate_areas()[self] * price\n",
    "            )\n",
    "        # Check if all potential revenues are 0\n",
    "        # if so, decrease price by 1\n",
    "        if all(value == 0 for value in _potential_revenues.values()):\n",
    "            self.next_price = self.price - 1\n",
    "        # Otherwise, choose the price with the highest potential revenue\n",
    "        else:\n",
    "            self.next_price = max(\n",
    "                _potential_revenues, key=_potential_revenues.get\n",
    "            )\n",
    "\n",
    "        # Reset price to initial price\n",
    "        self.price = initial_price\n",
    "\n",
    "    def adjust_position(self):\n",
    "        pass\n",
    "\n",
    "    def affect_price(self):\n",
    "        self.price = self.next_price\n",
    "\n",
    "    def affect_position(self):\n",
    "        pass"
   ]
  },
  {
   "cell_type": "markdown",
   "metadata": {},
   "source": [
    "Next we write the methods relating to the position adjustment schedule. Here's a detailed description of how they work:\n",
    "\n",
    "1. **adjust_position**: This method is responsible for determining the next position for the shop based on potential areas.\n",
    "\n",
    "   - It first saves the current position of the shop in `initial_pos`.\n",
    "   \n",
    "   - It then gets a list of all possible moves the shop can make. This is done by calling the `get_neighborhood` method of the `major_layer` attribute of the model, which returns the neighboring cells of the shop's current position. The `major_layer` is a BaseNature instance that represent one grid of the model.\n",
    "   \n",
    "   - For each possible move, it temporarily moves the shop to that position and calculates the potential area of the shop's monopoly if it were to move to that position. The potential area is calculated by calling the `recalculate_areas` method of the model.\n",
    "   \n",
    "   - It then selects the move that results in the largest potential area and stores it in `next_position`.\n",
    "   \n",
    "   - Finally, it moves the shop back to its initial position. This is because the actual move does not occur in the `adjust_position` method. Instead, the new position is stored in `next_position` and the move is applied in the `affect_position` method.\n",
    "\n",
    "2. **affect_position**: This method is responsible for applying the move that was determined in the `adjust_position` method.\n",
    "\n",
    "   - It simply moves the shop to `next_position`. This is the new position that was determined in the `adjust_position` method.\n",
    "\n",
    "The `adjust_position` and `affect_position` methods are called in the `step` and `advance` methods of the `Shop` class, respectively. This allows all shops to make their decisions based on the current state of the model in the `step` method, and then all decisions are applied simultaneously in the `advance` method."
   ]
  },
  {
   "cell_type": "code",
   "execution_count": 9,
   "metadata": {},
   "outputs": [],
   "source": [
    "class Shop(Actor):\n",
    "    def __init__(self, *args, **kwargs):\n",
    "        super().__init__(*args, **kwargs)\n",
    "        self.price = 10\n",
    "        self.area_count = 0\n",
    "        self.id = rng.integers(\n",
    "            1e6, 1e7  # FIXME: no two agents should have the same id\n",
    "        )\n",
    "        self.next_position = None\n",
    "        self.next_price = None\n",
    "\n",
    "    def step(self):\n",
    "        self.adjust_price()\n",
    "        self.adjust_position()\n",
    "\n",
    "    def advance(self):\n",
    "        self.affect_price()\n",
    "        self.affect_position()\n",
    "\n",
    "    def adjust_price(self):\n",
    "        # Save initial price\n",
    "        initial_price = self.price\n",
    "\n",
    "        # Build a list of all possible prices\n",
    "        _possible_prices = [self.price - 1, self.price, self.price + 1]\n",
    "\n",
    "        # Pair each possible price change to its potential revenue\n",
    "        _potential_revenues = {}\n",
    "        for price in _possible_prices:\n",
    "            self.price = price\n",
    "            _potential_revenues[price] = (\n",
    "                self.model.recalculate_areas()[self] * price\n",
    "            )\n",
    "        # Check if all potential revenues are 0\n",
    "        # if so, decrease price by 1\n",
    "        if all(value == 0 for value in _potential_revenues.values()):\n",
    "            self.next_price = self.price - 1\n",
    "        # Otherwise, choose the price with the highest potential revenue\n",
    "        else:\n",
    "            self.next_price = max(\n",
    "                _potential_revenues, key=_potential_revenues.get\n",
    "            )\n",
    "\n",
    "        # Reset price to initial price\n",
    "        self.price = initial_price\n",
    "\n",
    "    def adjust_position(self):\n",
    "        # Save initial position\n",
    "        initial_pos = self.pos\n",
    "\n",
    "        # Get all possible candidates for the next position\n",
    "        _possible_moves = self.model.nature.major_layer.get_neighborhood(\n",
    "            self.pos, moore=True, include_center=False\n",
    "        )\n",
    "        # Pair each possible move to their potential areas\n",
    "        _potential_areas = {}\n",
    "        for move in _possible_moves:\n",
    "            self.move_to(move)\n",
    "            _potential_areas[move] = self.model.recalculate_areas()[self]\n",
    "\n",
    "        # Single out the store with the highest potential area and savi it\n",
    "        _choice = max(_potential_areas, key=_potential_areas.get)\n",
    "        self.next_position = _choice\n",
    "\n",
    "        # Pull back to initial position if the potential area\n",
    "        self.move_to(initial_pos)\n",
    "\n",
    "    def affect_price(self):\n",
    "        self.price = self.next_price\n",
    "\n",
    "    def affect_position(self):\n",
    "        self.move_to(self.next_position)"
   ]
  },
  {
   "cell_type": "markdown",
   "metadata": {},
   "source": [
    "Once we have a full working and testable version of our model, we instantiate it and run it. The following code block shows how to do this:\n",
    "\n",
    "1. **Define the Parameters**\n",
    "\n",
    "   The `parameters` dictionary is defining the parameters for the simulation. In this case, there's only one parameter: `end`. This parameter is nested under `time` and is set to `100`. This means the simulation will run for 100 time steps.\n",
    "\n",
    "2. **Instantiate the Model**\n",
    "\n",
    "   The `Hotelling` model is being instantiated with `N=2` and `parameters=parameters`. This means that the model will start with 2 agents (as specified by `N=2`) and will use the parameters defined in the `parameters` dictionary. \n",
    "\n",
    "3. **Run the Model**\n",
    "\n",
    "   The `run_model` method is called on the `model` instance. This starts the simulation and runs it until the end time specified in the parameters (in this case, 100 time steps).\n",
    "\n",
    "The `Hotelling` model is a type of agent-based model used in economics to simulate competition between two firms (or agents) in a geographical market. The `N=2` parameter suggests that there are two firms in the simulation. The firms adjust their prices and locations in each time step based on the state of the market, and the simulation tracks these adjustments over time."
   ]
  },
  {
   "cell_type": "code",
   "execution_count": 10,
   "metadata": {},
   "outputs": [
    {
     "name": "stdout",
     "output_type": "stream",
     "text": [
      "tick[16] 2023-12-09 08:39:28"
     ]
    },
    {
     "name": "stdout",
     "output_type": "stream",
     "text": [
      "tick[100] 2023-12-09 08:39:28"
     ]
    }
   ],
   "source": [
    "parameters = {\n",
    "    \"time\": {\n",
    "        \"end\": 100,\n",
    "    }\n",
    "}\n",
    "\n",
    "model = Hotelling(N=2, parameters=parameters)\n",
    "\n",
    "model.run_model()"
   ]
  },
  {
   "cell_type": "markdown",
   "metadata": {},
   "source": [
    "We now have a working model. The `datacollector` attribute allows to access data collected during the execution of the model. We mainly want to observe the evolution of key variables that describe model's state. For this example, we want to observe the price of each shop at each time step. We also want to observe the number of customers that prefer each shop at each time step. The following code block shows how to do this:"
   ]
  },
  {
   "cell_type": "code",
   "execution_count": 11,
   "metadata": {},
   "outputs": [
    {
     "data": {
      "text/plain": [
       "<Axes: xlabel='Step'>"
      ]
     },
     "execution_count": 11,
     "metadata": {},
     "output_type": "execute_result"
    },
    {
     "data": {
      "image/png": "[encoded data removed]",
      "text/plain": [
       "<Figure size 640x480 with 1 Axes>"
      ]
     },
     "metadata": {},
     "output_type": "display_data"
    }
   ],
   "source": [
    "results = model.datacollector.get_agent_vars_dataframe()\n",
    "\n",
    "results.unstack(level=1).Price.plot()"
   ]
  },
  {
   "cell_type": "markdown",
   "metadata": {},
   "source": [
    "As the Hotelling's Law model would predict, the two shops converge to a lower and similar price. This contributes to our understading of how competitions occurs between firms in a market for two substitute goods. The model can be further developed to include more shops, more dimensions, and more complex decision making processes.\n",
    "\n",
    "We may proceed to add three more shops to our model and evaluate the differences."
   ]
  },
  {
   "cell_type": "code",
   "execution_count": 12,
   "metadata": {},
   "outputs": [
    {
     "name": "stdout",
     "output_type": "stream",
     "text": [
      "tick[100] 2023-12-09 08:39:33"
     ]
    }
   ],
   "source": [
    "parameters = {\n",
    "    \"time\": {\n",
    "        \"end\": 100,\n",
    "    }\n",
    "}\n",
    "\n",
    "model = Hotelling(N=5, parameters=parameters)\n",
    "\n",
    "model.run_model()"
   ]
  },
  {
   "cell_type": "code",
   "execution_count": 13,
   "metadata": {},
   "outputs": [
    {
     "data": {
      "text/plain": [
       "<Axes: xlabel='Step'>"
      ]
     },
     "execution_count": 13,
     "metadata": {},
     "output_type": "execute_result"
    },
    {
     "data": {
      "image/png": "[encoded data removed]",
      "text/plain": [
       "<Figure size 640x480 with 1 Axes>"
      ]
     },
     "metadata": {},
     "output_type": "display_data"
    }
   ],
   "source": [
    "results = model.datacollector.get_agent_vars_dataframe()\n",
    "\n",
    "results.unstack(level=1).Price.plot()"
   ]
  },
  {
   "cell_type": "markdown",
   "metadata": {},
   "source": [
    "After extending the model to inlcude 5 shops, we can appretiate how some shops are now able to hold higher prices for longer periods after well advanced time periods. Hotelling (1929) considered that all shops or sellers are a monopoly within the confines of a smaller jurisdiction or area. It is appearently the case that more shops allow for less localised competition and, thus, higher prices in certain areas.\n",
    "\n",
    "We can also explore those relative positions in our grid, the areas of each shop and respective revenues. This example only aims to provide a quick illustration of how to use the ABSESpy package."
   ]
  },
  {
   "cell_type": "markdown",
   "metadata": {},
   "source": [
    "## References\n",
    "Hotelling, H. (1929). Stability in competition. The Economic Journal, 39(153), 41-57."
   ]
  }
 ],
 "metadata": {
  "kernelspec": {
   "display_name": "abses-EXDRHGGY-py3.11",
   "language": "python",
   "name": "python3"
  },
  "language_info": {
   "codemirror_mode": {
    "name": "ipython",
    "version": 3
   },
   "file_extension": ".py",
   "mimetype": "text/x-python",
   "name": "python",
   "nbconvert_exporter": "python",
   "pygments_lexer": "ipython3",
   "version": "3.11.0"
  }
 },
 "nbformat": 4,
 "nbformat_minor": 4
}
