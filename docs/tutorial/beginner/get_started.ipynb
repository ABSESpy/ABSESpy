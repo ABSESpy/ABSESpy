{
 "cells": [
  {
   "cell_type": "markdown",
   "metadata": {},
   "source": [
    "# Get started in 5 minutes"
   ]
  },
  {
   "cell_type": "markdown",
   "metadata": {},
   "source": [
    "## Get `ABSESpy` running"
   ]
  },
  {
   "cell_type": "markdown",
   "metadata": {},
   "source": [
    "<div class=\"admonition note\">\n",
    "    <p class=\"admonition-title\">In progress</p>\n",
    "    <p>This document is a work in progress if you see any errors, or exclusions or have any problems, please <a href=\"https://github.com/absespy/ABSESpy/issues\">get in touch with us</a>.</p>\n",
    "</div>"
   ]
  },
  {
   "cell_type": "markdown",
   "metadata": {},
   "source": [
    "<!-- 我们假设你已经成功安装了`ABSESpy`及其所有依赖项，并正确配置了环境，可以在你的工作环境中导入这个库了。那么运行起来第一个什么也不做的空模型将非常简单，你只需要导入、创建、运行... -->\n",
    "\n",
    "Assuming you've successfully installed `ABSESpy`, along with all its dependencies, and properly configured the environment to import the module into your workspace. Running the first blank model that performs no action is straightforward - simply import, initialize, and run..."
   ]
  },
  {
   "cell_type": "code",
   "execution_count": 1,
   "metadata": {},
   "outputs": [],
   "source": [
    "# %pip install abses\n",
    "\n",
    "from abses import MainModel"
   ]
  },
  {
   "cell_type": "code",
   "execution_count": 2,
   "metadata": {},
   "outputs": [
    {
     "name": "stdout",
     "output_type": "stream",
     "text": [
      "Using ABSESpy version: v0.5.7\n"
     ]
    },
    {
     "data": {
      "text/plain": [
       "name     MainModel\n",
       "state         init\n",
       "tick             0\n",
       "dtype: object"
      ]
     },
     "execution_count": 2,
     "metadata": {},
     "output_type": "execute_result"
    }
   ],
   "source": [
    "# Initialize a model instance\n",
    "model = MainModel()\n",
    "\n",
    "# You can check state of the model by `.summary()`.\n",
    "model.summary()"
   ]
  },
  {
   "cell_type": "code",
   "execution_count": 3,
   "metadata": {},
   "outputs": [],
   "source": [
    "# run it for 5 steps.\n",
    "model.run_model(steps=5)"
   ]
  },
  {
   "cell_type": "markdown",
   "metadata": {},
   "source": [
    "## ABSESpy two basic modules"
   ]
  },
  {
   "cell_type": "markdown",
   "metadata": {},
   "source": [
    "<!-- 正如社会-生态系统这个名字所暗示的，模型通常包括了两个基本的子系统（子模块）：人类的和自然的。在 ABSESpy 构建的基本模型中，他们被命名为 BaseNature 和 BaseHuman -->\n",
    "\n",
    "![Diagram of Socio-ecological System](https://songshgeo-picgo-1302043007.cos.ap-beijing.myqcloud.com/uPic/ses.png)\n",
    "\n",
    "As the name \"socio-ecological system\" suggests, models usually include two basic subsystems (submodules): human and natural. They can be accessed through attributes `model.human` and `model.nature`.\n",
    "\n",
    "In the default model `MainModel` built by `ABSESpy`, they are `BaseNature` and `BaseHuman`."
   ]
  },
  {
   "cell_type": "code",
   "execution_count": 4,
   "metadata": {},
   "outputs": [
    {
     "data": {
      "text/plain": [
       "abses.human.BaseHuman"
      ]
     },
     "execution_count": 4,
     "metadata": {},
     "output_type": "execute_result"
    }
   ],
   "source": [
    "type(model.human)"
   ]
  },
  {
   "cell_type": "code",
   "execution_count": 5,
   "metadata": {},
   "outputs": [
    {
     "data": {
      "text/plain": [
       "abses.nature.BaseNature"
      ]
     },
     "execution_count": 5,
     "metadata": {},
     "output_type": "execute_result"
    }
   ],
   "source": [
    "type(model.nature)"
   ]
  },
  {
   "cell_type": "markdown",
   "metadata": {},
   "source": [
    "The default BaseNature and BaseHuman classes can be used to build custom classes that better reflect the needs of a particular application. In order to use a custom module must be passed to the `MainModel` constructor as keyword arguments `human` and `nature`."
   ]
  },
  {
   "cell_type": "code",
   "execution_count": 6,
   "metadata": {},
   "outputs": [],
   "source": [
    "from abses import BaseNature, BaseHuman\n",
    "\n",
    "\n",
    "class Nature(BaseNature):\n",
    "    \"\"\"A custom Nature module.\"\"\"\n",
    "\n",
    "    def step(self):\n",
    "        print(f\"Nature in the step {self.time.tick}\")\n",
    "\n",
    "\n",
    "class Human(BaseHuman):\n",
    "    \"\"\"A custom Human module.\"\"\"\n",
    "\n",
    "    def step(self):\n",
    "        print(f\"Human in the step  {self.time.tick}\")"
   ]
  },
  {
   "cell_type": "code",
   "execution_count": 7,
   "metadata": {},
   "outputs": [
    {
     "name": "stdout",
     "output_type": "stream",
     "text": [
      "Nature in the step 0\n",
      "Human in the step  0\n",
      "Nature in the step 1\n",
      "Human in the step  1\n",
      "Nature in the step 2\n",
      "Human in the step  2\n"
     ]
    }
   ],
   "source": [
    "model = MainModel(human_class=Human, nature_class=Nature)\n",
    "\n",
    "model.run_model(steps=3)"
   ]
  },
  {
   "cell_type": "markdown",
   "metadata": {},
   "source": [
    "ABSESpy will also log certain messages to allow a better, real-time understanding of the model's progression. "
   ]
  },
  {
   "cell_type": "code",
   "execution_count": 8,
   "metadata": {},
   "outputs": [
    {
     "name": "stdout",
     "output_type": "stream",
     "text": [
      "Hello, world! I'm a new MyActor!\n",
      "ModelAgents\n"
     ]
    }
   ],
   "source": [
    "from abses import Actor, MainModel\n",
    "\n",
    "\n",
    "class MyActor(Actor):\n",
    "    \"\"\"A customized actor\"\"\"\n",
    "\n",
    "    def say_hi(self) -> str:\n",
    "        print(f\"Hello, world! I'm a new {self.breed}!\")\n",
    "\n",
    "\n",
    "model = MainModel()\n",
    "actors = model.agents.new(Actor, 5)\n",
    "my_actor = model.agents.new(MyActor, singleton=True)\n",
    "\n",
    "my_actor.say_hi()\n",
    "print(model.agents)"
   ]
  },
  {
   "cell_type": "code",
   "execution_count": 9,
   "metadata": {},
   "outputs": [
    {
     "name": "stdout",
     "output_type": "stream",
     "text": [
      "At step 2, there are 7 actors.\n"
     ]
    }
   ],
   "source": [
    "from abses import MainModel, Actor\n",
    "\n",
    "\n",
    "class MyModel(MainModel):\n",
    "    \"\"\"Customized model.\"\"\"\n",
    "\n",
    "    def setup(self):\n",
    "        n_agents = self.params.get(\"init_agents\")\n",
    "        self.agents.new(Actor, n_agents)\n",
    "\n",
    "    def step(self):\n",
    "        # `p` is a shortcut for `params`\n",
    "        n_agents = self.p.get(\"n_agents\")\n",
    "        self.agents.new(Actor, n_agents)\n",
    "\n",
    "    def end(self):\n",
    "        n_agents = len(self.agents)\n",
    "        print(f\"At step {self.time.tick}, there are {n_agents} actors.\")\n",
    "\n",
    "\n",
    "parameters = {\n",
    "    \"time\": {\n",
    "        \"start\": \"2000-01-01\",\n",
    "        \"end\": \"2003-03-21\",\n",
    "        \"months\": 8,\n",
    "        \"years\": 2,\n",
    "    },\n",
    "    \"model\": {\"init_agents\": 5, \"n_agents\": 1},\n",
    "}\n",
    "model = MyModel(parameters=parameters)\n",
    "model.run_model()"
   ]
  },
  {
   "cell_type": "code",
   "execution_count": 10,
   "metadata": {},
   "outputs": [
    {
     "name": "stdout",
     "output_type": "stream",
     "text": [
      "Using ABSESpy version: v0.5.7\n"
     ]
    },
    {
     "data": {
      "text/plain": [
       "name           MyModel\n",
       "state         complete\n",
       "tick                 2\n",
       "Actor                7\n",
       "model_vars          ()\n",
       "agent_vars          ()\n",
       "dtype: object"
      ]
     },
     "execution_count": 10,
     "metadata": {},
     "output_type": "execute_result"
    }
   ],
   "source": [
    "model.summary(verbose=True)"
   ]
  }
 ],
 "metadata": {
  "kernelspec": {
   "display_name": ".venv",
   "language": "python",
   "name": "python3"
  },
  "language_info": {
   "codemirror_mode": {
    "name": "ipython",
    "version": 3
   },
   "file_extension": ".py",
   "mimetype": "text/x-python",
   "name": "python",
   "nbconvert_exporter": "python",
   "pygments_lexer": "ipython3",
   "version": "3.11.2"
  }
 },
 "nbformat": 4,
 "nbformat_minor": 2
}
