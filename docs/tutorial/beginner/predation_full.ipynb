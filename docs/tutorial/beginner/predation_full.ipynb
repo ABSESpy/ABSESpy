{
 "cells": [
  {
   "cell_type": "code",
   "execution_count": 7,
   "metadata": {},
   "outputs": [],
   "source": [
    "import numpy as np\n",
    "\n",
    "from abses import Actor, MainModel, PatchCell\n",
    "from abses.datacollection import DataCollector\n",
    "\n",
    "# Instantiate random number generator\n",
    "rng = np.random.default_rng(42)"
   ]
  },
  {
   "cell_type": "code",
   "execution_count": 8,
   "metadata": {},
   "outputs": [],
   "source": [
    "class Grass(PatchCell):\n",
    "    \"\"\"Custom patch cell class\"\"\"\n",
    "\n",
    "    def __init__(self, *args, **kwargs):\n",
    "        super().__init__(*args, **kwargs)\n",
    "        self._empty = False\n",
    "        self._countdown = 1\n",
    "\n",
    "    @property\n",
    "    def empty(self):\n",
    "        return self._empty\n",
    "\n",
    "    @empty.setter\n",
    "    def empty(self, value):\n",
    "        self._empty = value\n",
    "\n",
    "    def grow_grass(self):\n",
    "        # countdown on brown patches: if you reach 0, grow some grass\n",
    "        if self._empty == True:\n",
    "            if self._countdown <= 0:\n",
    "                self._empty = False\n",
    "                self._countdown = 5\n",
    "            else:\n",
    "                self._countdown -= 1"
   ]
  },
  {
   "cell_type": "code",
   "execution_count": 15,
   "metadata": {},
   "outputs": [],
   "source": [
    "class Animal(Actor):\n",
    "    def __init__(self, model, rep_rate, *args, **kwargs):\n",
    "        Actor.__init__(self, model, *args, **kwargs)\n",
    "        self.energy = 5\n",
    "        self.rep_rate = rep_rate\n",
    "\n",
    "    def step(self):\n",
    "        pass\n",
    "\n",
    "    def update(self):\n",
    "        # consume energy\n",
    "        self.energy -= 1\n",
    "\n",
    "        if self.energy <= 0:\n",
    "            self.die()\n",
    "\n",
    "    def move(self):\n",
    "        neighborhood = self.layer.get_neighborhood(\n",
    "            self.pos, moore=True, include_center=False\n",
    "        )\n",
    "\n",
    "        # pick new position randomly\n",
    "        new_pos = rng.choice(neighborhood)\n",
    "        self.move_to(new_pos)\n",
    "\n",
    "    def reproduce(self):\n",
    "        if rng.uniform(0, 1) < self.rep_rate:\n",
    "            self.energy /= 2\n",
    "            offspring = self.__class__(\n",
    "                model=self.model, rep_rate=self.rep_rate\n",
    "            )\n",
    "            self.model.agents.add(offspring)\n",
    "            offspring.put_on_layer(self.layer, self.pos)\n",
    "\n",
    "\n",
    "class Wolf(Animal):\n",
    "    def step(self):\n",
    "        self.move()\n",
    "        self.eat_sheep()\n",
    "        self.reproduce()\n",
    "        self.update()\n",
    "\n",
    "    def eat_sheep(self):\n",
    "        x = self.pos[0]\n",
    "        y = self.pos[1]\n",
    "\n",
    "        sheep = self.layer.cells[x][y].agents.select(\"Sheep\")\n",
    "        if len(sheep) > 0:\n",
    "            sheep[0].die()\n",
    "            self.energy += 3\n",
    "\n",
    "\n",
    "class Sheep(Animal):\n",
    "    def step(self):\n",
    "        self.move()\n",
    "        self.eat_grass()\n",
    "        self.reproduce()\n",
    "        self.update()\n",
    "\n",
    "    def eat_grass(self):\n",
    "        x = self.pos[0]\n",
    "        y = self.pos[1]\n",
    "\n",
    "        if self.layer.cells[x][y].empty == False:\n",
    "            self.layer.cells[x][y].empty = True\n",
    "            self.energy += 3"
   ]
  },
  {
   "cell_type": "code",
   "execution_count": 16,
   "metadata": {},
   "outputs": [],
   "source": [
    "class WolfSheepModel(MainModel):\n",
    "    def __init__(\n",
    "        self, n_sheep, n_wolves, w_rep_rate, s_rep_rate, shape, *args, **kwargs\n",
    "    ):\n",
    "        super().__init__(*args, **kwargs)\n",
    "\n",
    "        # initialize a grid\n",
    "        self.nature.create_module(\n",
    "            how=\"from_resolution\",\n",
    "            shape=shape,\n",
    "            cell_cls=Grass,\n",
    "        )\n",
    "\n",
    "        self._cells = [\n",
    "            cell for row in self.nature.major_layer.cells for cell in row\n",
    "        ]\n",
    "\n",
    "        # add sheep and wolves\n",
    "        self.agents.new(Wolf, n_wolves, rep_rate=w_rep_rate)\n",
    "        self.agents.new(Sheep, n_sheep, rep_rate=s_rep_rate)\n",
    "\n",
    "        # place both sheep and wolves randomly on the grid, grass dispersed evenly\n",
    "        for actor in self.actors:\n",
    "            actor.put_on_layer(\n",
    "                layer=self.nature.major_layer,\n",
    "                pos=tuple(\n",
    "                    [rng.integers(0, shape[0]), rng.integers(0, shape[1])]\n",
    "                ),\n",
    "            )\n",
    "\n",
    "        self.datacollector = DataCollector(\n",
    "            model=self,\n",
    "            model_reporters={\n",
    "                \"pop_wolves\": lambda m: len(m.actors.select(\"Wolf\")),\n",
    "                \"pop_sheep\": lambda m: len(m.actors.select(\"Sheep\")),\n",
    "            },\n",
    "        )\n",
    "\n",
    "    def step(self):\n",
    "        self.actors.select(\"Sheep\").trigger(\"step\")\n",
    "        self.actors.select(\"Wolf\").trigger(\"step\")\n",
    "\n",
    "        # grow grass\n",
    "        for cell in self._cells:\n",
    "            cell.grow_grass()\n",
    "\n",
    "        # end model\n",
    "        if (\n",
    "            self.actors.select(\"Sheep\") == []\n",
    "            and self.actors.select(\"Wolf\") == []\n",
    "        ):\n",
    "            self.running = False\n",
    "        elif len(self.actors.select(\"Sheep\")) >= 400:\n",
    "            self.running = False\n",
    "\n",
    "        # collect data\n",
    "        self.datacollector.collect()"
   ]
  },
  {
   "cell_type": "code",
   "execution_count": 17,
   "metadata": {},
   "outputs": [
    {
     "name": "stderr",
     "output_type": "stream",
     "text": [
      "[2024-02-25 19:08:55][human          ] | Initializing a new Human Module...\n",
      "[2024-02-25 19:08:55][nature         ] | Initializing a new Base Nature module...\n",
      "[2024-02-25 19:08:55][nature         ] | Initializing a new Model Layer...\n",
      "[2024-02-25 19:08:55][nature         ] | Using rioxarray version: 0.13.4\n",
      "[2024-02-25 19:08:55][container      ] | Created 50 actors of breed Wolf\n",
      "[2024-02-25 19:08:55][container      ] | Created 200 actors of breed Sheep\n",
      "[2024-02-25 19:08:55][datacollection ] | DataCollector component initialized.\n",
      "[2024-02-25 19:08:55][main           ] | Setting up WolfSheepModel...\n"
     ]
    },
    {
     "name": "stderr",
     "output_type": "stream",
     "text": [
      "[2024-02-25 19:08:56][main           ] | Ending WolfSheepModel\n"
     ]
    }
   ],
   "source": [
    "parameters = {\n",
    "    \"time\": {\n",
    "        \"end\": 200,\n",
    "    }\n",
    "}\n",
    "\n",
    "model = WolfSheepModel(\n",
    "    n_sheep=200,\n",
    "    n_wolves=50,\n",
    "    w_rep_rate=0.1,\n",
    "    s_rep_rate=0.15,\n",
    "    shape=(10, 10),\n",
    "    parameters=parameters,\n",
    ")\n",
    "model.run_model()"
   ]
  },
  {
   "cell_type": "code",
   "execution_count": 18,
   "metadata": {},
   "outputs": [
    {
     "data": {
      "text/plain": [
       "<Axes: >"
      ]
     },
     "execution_count": 18,
     "metadata": {},
     "output_type": "execute_result"
    },
    {
     "data": {
      "image/png": "[encoded data removed]",
      "text/plain": [
       "<Figure size 640x480 with 1 Axes>"
      ]
     },
     "metadata": {},
     "output_type": "display_data"
    }
   ],
   "source": [
    "model.datacollector.get_model_vars_dataframe().plot()"
   ]
  },
  {
   "cell_type": "code",
   "execution_count": null,
   "metadata": {},
   "outputs": [],
   "source": []
  }
 ],
 "metadata": {
  "kernelspec": {
   "display_name": "abses-EXDRHGGY-py3.11",
   "language": "python",
   "name": "python3"
  },
  "language_info": {
   "codemirror_mode": {
    "name": "ipython",
    "version": 3
   },
   "file_extension": ".py",
   "mimetype": "text/x-python",
   "name": "python",
   "nbconvert_exporter": "python",
   "pygments_lexer": "ipython3",
   "version": "3.11.0"
  }
 },
 "nbformat": 4,
 "nbformat_minor": 2
}
