{
 "cells": [
  {
   "cell_type": "code",
   "execution_count": 1,
   "metadata": {},
   "outputs": [],
   "source": [
    "import numpy as np\n",
    "import matplotlib.pyplot as plt\n",
    "\n",
    "from abses import MainModel, Actor\n",
    "from abses.datacollection import DataCollector\n",
    "\n",
    "# Initialize random number generator\n",
    "rng = np.random.default_rng(42)"
   ]
  },
  {
   "cell_type": "code",
   "execution_count": 2,
   "metadata": {},
   "outputs": [],
   "source": [
    "def plot_state(state: np.ndarray):\n",
    "    cmap = plt.cm.colors.ListedColormap([\"black\", \"red\", \"orange\", \"green\"])\n",
    "    norm = plt.cm.colors.BoundaryNorm([0, 0.5, 1, 1.5, 2], cmap.N)\n",
    "\n",
    "    plt.imshow(state, cmap=cmap, norm=norm, interpolation=\"nearest\")\n",
    "\n",
    "\n",
    "class Tree(Actor):\n",
    "    def __init__(self, *args, **kwargs):\n",
    "        super().__init__(*args, **kwargs)\n",
    "        self.state = \"INTACT\"\n",
    "\n",
    "    @property\n",
    "    def is_intact(self):\n",
    "        return self.state == \"INTACT\"\n",
    "\n",
    "    @property\n",
    "    def is_burning(self):\n",
    "        return self.state == \"BURNING\"\n",
    "\n",
    "    @property\n",
    "    def is_scorched(self):\n",
    "        return self.state == \"SCORCHED\"\n",
    "\n",
    "    def step(self):\n",
    "        if self.state == \"BURNING\":\n",
    "            # nearby_trees = self.loc.neighbors(moor=False).select('has_agent')\n",
    "            # self.ask(target=nearby_trees, to='ignite', *args, **kwargs)\n",
    "            # self.ask(target=nearby_trees, broadcasts=(a, b)).ignite(*args, **kwargs)\n",
    "            # self.ask(target=nearby_tree, to='set', attr='attr', value='b').ignite(*args, **kwargs)\n",
    "            for neighbor in self.model.nature.major_layer.iter_neighbors(\n",
    "                self.pos, moore=False\n",
    "            ):\n",
    "                if neighbor.has_agent():\n",
    "                    neighbor.agents.trigger(\"ignite\")\n",
    "\n",
    "            self.state = \"SCORCHED\"\n",
    "\n",
    "    def ignite(self):\n",
    "        if self.state == \"INTACT\":\n",
    "            self.state = \"BURNING\"\n",
    "\n",
    "\n",
    "class Forest(MainModel):\n",
    "    def __init__(self, shape, density, *args, **kwargs):\n",
    "        super().__init__(*args, **kwargs)\n",
    "        self.shape = shape\n",
    "        self.density = density\n",
    "        self.num_trees = self.calc_num_trees()\n",
    "\n",
    "        # Initialize a grid\n",
    "        self.nature.create_module(how=\"from_resolution\", shape=self.shape)\n",
    "\n",
    "        # Create initial agents\n",
    "        self.agents.create(Tree, self.num_trees)\n",
    "\n",
    "        # Position the agents across the grid and \\\n",
    "        # set initial state 'burning' for leftmost trees\n",
    "        positions = self.get_trees_pos()\n",
    "\n",
    "        for i, tree in enumerate(self.actors):\n",
    "            tree.put_on_layer(layer=self.nature.major_layer, pos=positions[i])\n",
    "\n",
    "            if positions[i][1] == 0:\n",
    "                tree.state = \"BURNING\"\n",
    "\n",
    "        self.datacollector = DataCollector(\n",
    "            self, model_reporters={\"state\": lambda m: m.get_state()}\n",
    "        )\n",
    "\n",
    "    def step(self):\n",
    "        self.actors.trigger(\"step\")\n",
    "        self.datacollector.collect()\n",
    "\n",
    "    def calc_num_trees(self):\n",
    "        return int(self.shape[0] * self.shape[1] * self.density)\n",
    "\n",
    "    def get_trees_pos(self):\n",
    "        all_pos_ = [\n",
    "            c.pos for row in self.nature.major_layer.cells for c in row\n",
    "        ]\n",
    "        return rng.choice(all_pos_, size=self.num_trees, replace=False)\n",
    "\n",
    "    def get_state(self):\n",
    "        state_ = np.zeros(self.shape)\n",
    "        for tree in self.actors:\n",
    "            if tree.is_burning:\n",
    "                state_[tree.pos] = 0.5\n",
    "            if tree.is_scorched:\n",
    "                state_[tree.pos] = 1\n",
    "            if tree.is_intact:\n",
    "                state_[tree.pos] = 1.5\n",
    "\n",
    "        return state_"
   ]
  },
  {
   "cell_type": "code",
   "execution_count": 13,
   "metadata": {},
   "outputs": [
    {
     "name": "stderr",
     "output_type": "stream",
     "text": [
      "[2024-02-04 09:05:08][human          ] | Initializing a new Human Module...\n",
      "[2024-02-04 09:05:08][nature         ] | Initializing a new Base Nature module...\n",
      "[2024-02-04 09:05:08][nature         ] | Initializing a new Model Layer...\n",
      "[2024-02-04 09:05:08][nature         ] | Using rioxarray version: 0.13.4\n",
      "[2024-02-04 09:05:08][container      ] | Created 720 actors of breed Tree\n"
     ]
    },
    {
     "name": "stderr",
     "output_type": "stream",
     "text": [
      "[2024-02-04 09:05:08][datacollection ] | DataCollector component initialized.\n",
      "[2024-02-04 09:05:08][main           ] | Setting up Forest...\n",
      "[2024-02-04 09:05:08][main           ] | Ending Forest\n"
     ]
    }
   ],
   "source": [
    "parameters = {\n",
    "    \"time\": {\n",
    "        \"end\": 10,\n",
    "    }\n",
    "}\n",
    "\n",
    "model = Forest(shape=(30, 30), density=0.8, parameters=parameters)\n",
    "\n",
    "model.run_model()"
   ]
  },
  {
   "cell_type": "code",
   "execution_count": 14,
   "metadata": {},
   "outputs": [
    {
     "data": {
      "image/png": "[encoded data removed]",
      "text/plain": [
       "<Figure size 640x480 with 1 Axes>"
      ]
     },
     "metadata": {},
     "output_type": "display_data"
    }
   ],
   "source": [
    "plot_state(model.get_state())"
   ]
  },
  {
   "cell_type": "code",
   "execution_count": null,
   "metadata": {},
   "outputs": [],
   "source": []
  }
 ],
 "metadata": {
  "kernelspec": {
   "display_name": "abses-EXDRHGGY-py3.11",
   "language": "python",
   "name": "python3"
  },
  "language_info": {
   "codemirror_mode": {
    "name": "ipython",
    "version": 3
   },
   "file_extension": ".py",
   "mimetype": "text/x-python",
   "name": "python",
   "nbconvert_exporter": "python",
   "pygments_lexer": "ipython3",
   "version": "3.11.2"
  }
 },
 "nbformat": 4,
 "nbformat_minor": 2
}
