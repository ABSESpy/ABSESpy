{
 "cells": [
  {
   "cell_type": "markdown",
   "metadata": {},
   "source": [
    "# Predator-Prey Dynamics Model\n"
   ]
  },
  {
   "cell_type": "markdown",
   "metadata": {},
   "source": [
    "## Introduction\n",
    "\n",
    "The following tutorial aims to describe a more dynamic model using the `ABSESpy`. It consists of an implementation of the Lotka-Volterra model which presents a simple ecosystem with two species: predators and preys. This model was originally proposed as a system of first-order, non-linear differential equations and has found its computation, individual-based simulation counterparts.\n",
    "\n",
    "This introductory tutorial illustrates:\n",
    "\n",
    "1. Converting a property of `PatchCell` to raster attribute.\n",
    "2. Managing different breeds of `Actor` and their parameters.\n",
    "3. Implement randomly actions of `Actor`.\n",
    "\n",
    "The model aims to capture the dynamical evolution of the population of wolves and the population of sheep. It recreates a simple food chain where wolves feed on sheep and, in turn, sheep feed on grass. Both sheep and wolves have energy levels that are invariable affected by their movement. A move costs energy that can only be replenish by eating. "
   ]
  },
  {
   "cell_type": "markdown",
   "metadata": {},
   "source": [
    "## The Grass Patchcell\n"
   ]
  },
  {
   "cell_type": "code",
   "execution_count": 1,
   "metadata": {},
   "outputs": [],
   "source": [
    "from abses import Actor, MainModel, PatchCell\n",
    "from abses.cells import raster_attribute"
   ]
  },
  {
   "cell_type": "code",
   "execution_count": 35,
   "metadata": {},
   "outputs": [],
   "source": [
    "class Grass(PatchCell):\n",
    "    \"\"\"Custom patch cell class\"\"\"\n",
    "\n",
    "    def __init__(self, *args, **kwargs):\n",
    "        super().__init__(*args, **kwargs)\n",
    "        self.empty = False\n",
    "        self._countdown = 5\n",
    "\n",
    "    def grow(self):\n",
    "        \"\"\"Grow some grass on the cell every 5 ticks.\"\"\"\n",
    "        # countdown on brown patches: if you reach 0, grow some grass\n",
    "        if self.empty is True:\n",
    "            if self._countdown <= 0:\n",
    "                self.empty = False\n",
    "                self._countdown = 5\n",
    "            else:\n",
    "                self._countdown -= 1\n",
    "\n",
    "    @raster_attribute\n",
    "    def empty(self) -> bool:\n",
    "        \"\"\"Return True if the cell is empty, False otherwise.\"\"\"\n",
    "        return self._empty\n",
    "\n",
    "    @empty.setter\n",
    "    def empty(self, value: bool) -> None:\n",
    "        \"\"\"Set the empty status of the cell.\"\"\"\n",
    "        self._empty = value"
   ]
  },
  {
   "cell_type": "markdown",
   "metadata": {},
   "source": [
    "## Agents Classes\n"
   ]
  },
  {
   "cell_type": "code",
   "execution_count": 36,
   "metadata": {},
   "outputs": [],
   "source": [
    "class Animal(Actor):\n",
    "    \"\"\"Custom animal\"\"\"\n",
    "\n",
    "    def __init__(self, *args, **kwargs):\n",
    "        Actor.__init__(self, *args, **kwargs)\n",
    "        self.energy = 5\n",
    "\n",
    "    def update(self):\n",
    "        \"\"\"Update the animal's state.\"\"\"\n",
    "        # consume energy\n",
    "        self.energy -= 1\n",
    "        if self.energy <= 0:\n",
    "            self.die()\n",
    "\n",
    "    def reproduce(self):\n",
    "        \"\"\"Reproduce if there's enough energy.\"\"\"\n",
    "        if self.random.random() < self.params.rep_rate:\n",
    "            self.energy /= 2\n",
    "            self.at.agents.new(self.__class__)"
   ]
  },
  {
   "cell_type": "markdown",
   "metadata": {},
   "source": []
  },
  {
   "cell_type": "code",
   "execution_count": 37,
   "metadata": {},
   "outputs": [],
   "source": [
    "class Wolf(Animal):\n",
    "    \"\"\"Custom wolf.\"\"\"\n",
    "\n",
    "    def step(self):\n",
    "        self.move.random()\n",
    "        self.eat_sheep()\n",
    "        self.reproduce()\n",
    "        self.update()\n",
    "\n",
    "    def eat_sheep(self):\n",
    "        \"\"\"If there is a sheep in the cell, eat it and gain 2 energy.\"\"\"\n",
    "        sheep_here = self.at.agents.select(\"Sheep\")\n",
    "        if a_sheep := sheep_here.random.choice(when_empty=\"return None\"):\n",
    "            a_sheep.die()\n",
    "            self.energy += 2\n",
    "\n",
    "\n",
    "class Sheep(Animal):\n",
    "    \"\"\"Custom sheep.\"\"\"\n",
    "\n",
    "    def step(self):\n",
    "        self.move.random()\n",
    "        self.eat_grass()\n",
    "        self.reproduce()\n",
    "        self.update()\n",
    "\n",
    "    def eat_grass(self):\n",
    "        \"\"\"If there is a grass in the cell, eat it and gain 2 energy.\"\"\"\n",
    "        if self.get(\"empty\", target=\"world\") is False:\n",
    "            self.energy += 2\n",
    "            self.set(\"empty\", True, target=\"world\")"
   ]
  },
  {
   "cell_type": "markdown",
   "metadata": {},
   "source": [
    "## The Model\n"
   ]
  },
  {
   "cell_type": "code",
   "execution_count": 38,
   "metadata": {},
   "outputs": [],
   "source": [
    "class WolfSheepModel(MainModel):\n",
    "    \"\"\"Wolf-Sheep predation tutorial model.\"\"\"\n",
    "\n",
    "    def setup(self):\n",
    "        # initialize a grid\n",
    "        grassland: PatchModule = self.nature.create_module(\n",
    "            how=\"from_resolution\",\n",
    "            shape=self.params.shape,\n",
    "            name=\"grassland\",\n",
    "            cell_cls=Grass,\n",
    "        )\n",
    "        # add sheep and wolves\n",
    "        self.agents.new(Wolf, self.params.n_wolves)\n",
    "        self.agents.new(Sheep, self.params.n_sheep)\n",
    "        # without a specific position, agents will move randomly on the layer.\n",
    "        self.agents.apply(lambda x: x.move.to(pos=\"random\", layer=grassland))\n",
    "\n",
    "    def step(self):\n",
    "        self.nature.grassland.apply(lambda c: c.grow())\n",
    "        self.check_end()\n",
    "\n",
    "    def check_end(self):\n",
    "        \"\"\"Check if the model should stop.\"\"\"\n",
    "        # end model\n",
    "        if not self.agents.has(\"Sheep\"):\n",
    "            self.running = False\n",
    "        elif not self.agents.has(\"Wolf\"):\n",
    "            self.running = False\n",
    "        elif self.agents.has(\"Sheep\") >= 400:\n",
    "            self.running = False\n",
    "\n",
    "    @property\n",
    "    def n_grass(self):\n",
    "        \"\"\"Return the number of grass patches.\"\"\"\n",
    "        empty = self.nature.grassland.get_raster(\"empty\")\n",
    "        return empty.size - empty.sum()"
   ]
  },
  {
   "cell_type": "markdown",
   "metadata": {},
   "source": [
    "## Simulations\n",
    "\n",
    "We are now able to run simulations. We instantiate a model to run for 100 steps. It will have a ratio of 4 sheep for every wolf. We keep the reproduction rates low. We will then plot the resulting evolution in the populations of wolves and sheep. "
   ]
  },
  {
   "cell_type": "code",
   "execution_count": 43,
   "metadata": {},
   "outputs": [
    {
     "name": "stderr",
     "output_type": "stream",
     "text": [
      "[2024-03-20 18:42:05][human          ] | Initializing a new Human Module...\n",
      "[2024-03-20 18:42:05][nature         ] | Initializing a new Base Nature module...\n",
      "[2024-03-20 18:42:05][main           ] | Setting up WolfSheepModel...\n",
      "[2024-03-20 18:42:05][nature         ] | Initializing a new Model Layer...\n",
      "[2024-03-20 18:42:05][nature         ] | Using rioxarray version: 0.13.4\n",
      "[2024-03-20 18:42:05][container      ] | Created 20 actors of breed Wolf\n",
      "[2024-03-20 18:42:05][container      ] | Created 80 actors of breed Sheep\n",
      "[2024-03-20 18:42:05][container      ] | Created 1 actors of breed Wolf\n",
      "[2024-03-20 18:42:05][container      ] | Created 1 actors of breed Wolf\n",
      "[2024-03-20 18:42:05][container      ] | Created 1 actors of breed Sheep\n",
      "[2024-03-20 18:42:05][container      ] | Created 1 actors of breed Sheep\n",
      "[2024-03-20 18:42:05][container      ] | Created 1 actors of breed Sheep\n",
      "[2024-03-20 18:42:05][container      ] | Created 1 actors of breed Sheep\n",
      "[2024-03-20 18:42:05][container      ] | Created 1 actors of breed Sheep\n",
      "[2024-03-20 18:42:05][container      ] | Created 1 actors of breed Sheep\n",
      "[2024-03-20 18:42:05][container      ] | Created 1 actors of breed Sheep\n",
      "[2024-03-20 18:42:05][container      ] | Created 1 actors of breed Sheep\n",
      "[2024-03-20 18:42:05][container      ] | Created 1 actors of breed Wolf\n",
      "[2024-03-20 18:42:05][container      ] | Created 1 actors of breed Sheep\n",
      "[2024-03-20 18:42:05][container      ] | Created 1 actors of breed Sheep\n",
      "[2024-03-20 18:42:05][container      ] | Created 1 actors of breed Sheep\n",
      "[2024-03-20 18:42:05][container      ] | Created 1 actors of breed Sheep\n",
      "[2024-03-20 18:42:05][container      ] | Created 1 actors of breed Sheep\n",
      "[2024-03-20 18:42:05][container      ] | Created 1 actors of breed Sheep\n",
      "[2024-03-20 18:42:05][container      ] | Created 1 actors of breed Sheep\n",
      "[2024-03-20 18:42:05][container      ] | Created 1 actors of breed Sheep\n",
      "[2024-03-20 18:42:05][container      ] | Created 1 actors of breed Sheep\n",
      "[2024-03-20 18:42:05][container      ] | Created 1 actors of breed Sheep\n",
      "[2024-03-20 18:42:05][container      ] | Created 1 actors of breed Sheep\n",
      "[2024-03-20 18:42:05][container      ] | Created 1 actors of breed Sheep\n",
      "[2024-03-20 18:42:05][container      ] | Created 1 actors of breed Sheep\n",
      "[2024-03-20 18:42:05][container      ] | Created 1 actors of breed Sheep\n",
      "[2024-03-20 18:42:05][container      ] | Created 1 actors of breed Sheep\n",
      "[2024-03-20 18:42:05][container      ] | Created 1 actors of breed Sheep\n",
      "[2024-03-20 18:42:05][container      ] | Created 1 actors of breed Sheep\n",
      "[2024-03-20 18:42:05][container      ] | Created 1 actors of breed Sheep\n",
      "[2024-03-20 18:42:05][container      ] | Created 1 actors of breed Sheep\n",
      "[2024-03-20 18:42:05][container      ] | Created 1 actors of breed Sheep\n",
      "[2024-03-20 18:42:05][container      ] | Created 1 actors of breed Wolf\n",
      "[2024-03-20 18:42:05][container      ] | Created 1 actors of breed Sheep\n",
      "[2024-03-20 18:42:05][container      ] | Created 1 actors of breed Sheep\n",
      "[2024-03-20 18:42:05][container      ] | Created 1 actors of breed Sheep\n",
      "[2024-03-20 18:42:05][container      ] | Created 1 actors of breed Sheep\n",
      "[2024-03-20 18:42:05][container      ] | Created 1 actors of breed Sheep\n",
      "[2024-03-20 18:42:05][container      ] | Created 1 actors of breed Sheep\n",
      "[2024-03-20 18:42:05][container      ] | Created 1 actors of breed Sheep\n",
      "[2024-03-20 18:42:05][container      ] | Created 1 actors of breed Sheep\n",
      "[2024-03-20 18:42:05][container      ] | Created 1 actors of breed Sheep\n",
      "[2024-03-20 18:42:05][container      ] | Created 1 actors of breed Sheep\n",
      "[2024-03-20 18:42:05][container      ] | Created 1 actors of breed Sheep\n",
      "[2024-03-20 18:42:05][container      ] | Created 1 actors of breed Sheep\n",
      "[2024-03-20 18:42:05][container      ] | Created 1 actors of breed Sheep\n",
      "[2024-03-20 18:42:05][container      ] | Created 1 actors of breed Wolf\n",
      "[2024-03-20 18:42:05][container      ] | Created 1 actors of breed Sheep\n",
      "[2024-03-20 18:42:05][container      ] | Created 1 actors of breed Sheep\n",
      "[2024-03-20 18:42:05][container      ] | Created 1 actors of breed Sheep\n",
      "[2024-03-20 18:42:05][container      ] | Created 1 actors of breed Sheep\n",
      "[2024-03-20 18:42:05][container      ] | Created 1 actors of breed Sheep\n",
      "[2024-03-20 18:42:05][container      ] | Created 1 actors of breed Sheep\n",
      "[2024-03-20 18:42:05][container      ] | Created 1 actors of breed Wolf\n",
      "[2024-03-20 18:42:05][container      ] | Created 1 actors of breed Sheep\n",
      "[2024-03-20 18:42:05][container      ] | Created 1 actors of breed Sheep\n",
      "[2024-03-20 18:42:05][container      ] | Created 1 actors of breed Wolf\n",
      "[2024-03-20 18:42:05][container      ] | Created 1 actors of breed Sheep\n",
      "[2024-03-20 18:42:05][container      ] | Created 1 actors of breed Sheep\n",
      "[2024-03-20 18:42:05][container      ] | Created 1 actors of breed Sheep\n",
      "[2024-03-20 18:42:05][container      ] | Created 1 actors of breed Wolf\n",
      "[2024-03-20 18:42:05][container      ] | Created 1 actors of breed Sheep\n",
      "[2024-03-20 18:42:05][container      ] | Created 1 actors of breed Sheep\n",
      "[2024-03-20 18:42:05][container      ] | Created 1 actors of breed Sheep\n",
      "[2024-03-20 18:42:05][container      ] | Created 1 actors of breed Sheep\n",
      "[2024-03-20 18:42:05][container      ] | Created 1 actors of breed Sheep\n",
      "[2024-03-20 18:42:05][container      ] | Created 1 actors of breed Wolf\n",
      "[2024-03-20 18:42:05][container      ] | Created 1 actors of breed Wolf\n",
      "[2024-03-20 18:42:05][container      ] | Created 1 actors of breed Wolf\n",
      "[2024-03-20 18:42:05][main           ] | Ending WolfSheepModel\n"
     ]
    }
   ],
   "source": [
    "parameters = {\n",
    "    \"time\": {\"end\": 100},\n",
    "    \"reports\": {\n",
    "        \"model\": {\n",
    "            \"n_sheep\": ':lambda x: x.agents.has(\"Sheep\")',\n",
    "            \"n_wolves\": ':lambda x: x.agents.has(\"Wolf\")',\n",
    "            \"n_grass\": \":lambda x: x.n_grass\",\n",
    "        }\n",
    "    },\n",
    "    \"model\": {\n",
    "        \"shape\": (10, 10),\n",
    "        \"n_sheep\": 80,\n",
    "        \"n_wolves\": 20,\n",
    "    },\n",
    "    \"wolf\": {\"rep_rate\": 0.05},\n",
    "    \"sheep\": {\"rep_rate\": 0.10},\n",
    "}\n",
    "\n",
    "model = WolfSheepModel(parameters=parameters)\n",
    "model.run_model()"
   ]
  },
  {
   "cell_type": "code",
   "execution_count": null,
   "metadata": {},
   "outputs": [],
   "source": []
  },
  {
   "cell_type": "code",
   "execution_count": null,
   "metadata": {},
   "outputs": [],
   "source": []
  },
  {
   "cell_type": "markdown",
   "metadata": {},
   "source": [
    "In this single run, the results show diverging populations. At first, the sheep population declines and the wolf population increases. Then, the wolf population declines and the sheep population increases. All wolves disappear and the sheep population reaches the carrying capacity of the environment."
   ]
  },
  {
   "cell_type": "code",
   "execution_count": null,
   "metadata": {},
   "outputs": [
    {
     "data": {
      "text/plain": [
       "<Axes: >"
      ]
     },
     "execution_count": 7,
     "metadata": {},
     "output_type": "execute_result"
    },
    {
     "data": {
      "image/png": "[encoded data removed]",
      "text/plain": [
       "<Figure size 640x480 with 1 Axes>"
      ]
     },
     "metadata": {},
     "output_type": "display_data"
    }
   ],
   "source": [
    "model.datacollector.get_model_vars_dataframe().plot()"
   ]
  }
 ],
 "metadata": {
  "kernelspec": {
   "display_name": "abses-EXDRHGGY-py3.11",
   "language": "python",
   "name": "python3"
  },
  "language_info": {
   "codemirror_mode": {
    "name": "ipython",
    "version": 3
   },
   "file_extension": ".py",
   "mimetype": "text/x-python",
   "name": "python",
   "nbconvert_exporter": "python",
   "pygments_lexer": "ipython3",
   "version": "3.9.18"
  }
 },
 "nbformat": 4,
 "nbformat_minor": 2
}
