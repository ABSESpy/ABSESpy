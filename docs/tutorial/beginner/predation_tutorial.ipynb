{
 "cells": [
  {
   "cell_type": "markdown",
   "metadata": {},
   "source": [
    "# Predator-Prey Dynamics Model\n",
    "\n",
    "## Introduction\n",
    "The following tutorial aims to describe a more dynamic model using the ABSESpy API. It consists of an implementation of the Lotka-Volterra model which presents a simple ecosystem with two species: predators and preys. This model was originally proposed as a system of first-order, non-linear differential equations and has found its computation, individual-based simulation counterparts.\n",
    "\n",
    "This introductory tutorial illustrates how the ABSESpy API handles the creation of new agents as well as the death or annihilation of agents. The model is a good first example to show the interlinkages and micro-interactions between agents using the API.\n",
    "\n",
    "The model aims to capture the dynamical evolution of the population of wolves and the population of sheep. It recreates a simple food chain where wolves feed on sheep and, in turn, sheep feed on grass. Both sheep and wolves have energy levels that are invariable affected by their movement. A move costs energy that can only be replenish by eating. "
   ]
  },
  {
   "cell_type": "markdown",
   "metadata": {},
   "source": [
    "## The Grass Patchcell\n",
    "\n",
    "As is it usual with a heuristic model, we want to place our agents in an virtual environment. ABSESpy offers the posibility to create a grid by means of the `create_module` method of the `BaseNature` class. It is often not necessary to import this class, nor other classes that support it, as the main class, `MainModel`, will create an instance of it at the moment of its creation. However, here we will import the `PatchCell` class to creating a subclass that will suit the needs of the model. Namely, we want our patch cells to contain grass for the sheep to eat.\n",
    "\n",
    "We will pass this new class to the `create_module` method as a parameter. That will make it the default patch cell for the model.\n",
    "\n",
    "The class `Grass` will be fundamentally the same as its parent class, `PatchCell`, except for the added property *empty* that will be used to determine whether there is grass on the cell currently or not. We will also need to method to regrow the grass after it has been consumed. "
   ]
  },
  {
   "cell_type": "code",
   "execution_count": 20,
   "metadata": {},
   "outputs": [],
   "source": [
    "import numpy as np\n",
    "\n",
    "from abses import Actor, MainModel, PatchCell\n",
    "from abses.datacollection import DataCollector\n",
    "\n",
    "# Instantiate random number generator\n",
    "rng = np.random.default_rng(42)"
   ]
  },
  {
   "cell_type": "code",
   "execution_count": 21,
   "metadata": {},
   "outputs": [],
   "source": [
    "class Grass(PatchCell):\n",
    "    \"\"\"Custom patch cell class\"\"\"\n",
    "\n",
    "    def __init__(self, *args, **kwargs):\n",
    "        super().__init__(*args, **kwargs)\n",
    "        self._empty = False\n",
    "        self._countdown = 5\n",
    "\n",
    "    @property\n",
    "    def empty(self):\n",
    "        return self._empty\n",
    "\n",
    "    @empty.setter\n",
    "    def empty(self, value):\n",
    "        self._empty = value\n",
    "\n",
    "    def grow_grass(self):\n",
    "        # countdown on brown patches: if you reach 0, grow some grass\n",
    "        if self._empty == True:\n",
    "            if self._countdown <= 0:\n",
    "                self._empty = False\n",
    "                self._countdown = 5\n",
    "            else:\n",
    "                self._countdown -= 1"
   ]
  },
  {
   "cell_type": "markdown",
   "metadata": {},
   "source": [
    "## Agents Classes\n",
    "\n",
    "We need at least two custom classes. One to represent wolves and another to represent sheep. Across these two classes there is common functionality that can be abstracted into a parent class. In particular, we may want to define a shared method for movement, reproduction and energy consumption. From there, a class `Wolf` can be define to handle how the wolves will feed on sheep and a class `Sheep` to handle how the sheep will feed on grass.\n",
    "\n",
    "The parent class `Animal` will have the following properties:\n",
    "\n",
    "- *energy*: the amount of energy the animal has. It will be used to determine whether the animal can move or reproduce.\n",
    "- *rep_rate*: the rate at which the animal reproduces. It will be used to determine whether the animal can reproduce.\n",
    "\n",
    "There will be methods defined for this class to handle agents' movement, reproduction and death."
   ]
  },
  {
   "cell_type": "code",
   "execution_count": 22,
   "metadata": {},
   "outputs": [],
   "source": [
    "class Animal(Actor):\n",
    "    def __init__(self, model, rep_rate, *args, **kwargs):\n",
    "        Actor.__init__(self, model, *args, **kwargs)\n",
    "        self.energy = 5\n",
    "        self.rep_rate = rep_rate\n",
    "\n",
    "    def step(self):\n",
    "        pass\n",
    "\n",
    "    def update(self):\n",
    "        # consume energy\n",
    "        self.energy -= 1\n",
    "\n",
    "        if self.energy <= 0:\n",
    "            self.die()\n",
    "\n",
    "    def move(self):\n",
    "        neighborhood = self.layer.get_neighborhood(\n",
    "            self.pos, moore=True, include_center=False\n",
    "        )\n",
    "\n",
    "        # pick new position randomly\n",
    "        new_pos = rng.choice(neighborhood)\n",
    "        self.move_to(new_pos)\n",
    "\n",
    "    def reproduce(self):\n",
    "        if rng.uniform(0, 1) < self.rep_rate:\n",
    "            self.energy /= 2\n",
    "            offspring = self.__class__(\n",
    "                model=self.model, rep_rate=self.rep_rate\n",
    "            )\n",
    "            self.model.agents.add(offspring)\n",
    "            offspring.put_on_layer(self.layer, self.pos)"
   ]
  },
  {
   "cell_type": "markdown",
   "metadata": {},
   "source": [
    "At each step, both sheep and wolves will move randomly to a new neighboring cell. Then, they will eat if there is food avaiable to them. Given a certain probability, they will reproduce. That probability is determined by the *rep_rate* property. Finally, they will be lose some energy."
   ]
  },
  {
   "cell_type": "code",
   "execution_count": 23,
   "metadata": {},
   "outputs": [],
   "source": [
    "class Wolf(Animal):\n",
    "    def step(self):\n",
    "        self.move()\n",
    "        self.eat_sheep()\n",
    "        self.reproduce()\n",
    "        self.update()\n",
    "\n",
    "    def eat_sheep(self):\n",
    "        x = self.pos[0]\n",
    "        y = self.pos[1]\n",
    "\n",
    "        # eat sheep if present\n",
    "        sheep = self.layer.cells[x][y].agents.select(\"Sheep\")\n",
    "        if len(sheep) > 0:\n",
    "            sheep[0].die()\n",
    "            self.energy += 2\n",
    "\n",
    "\n",
    "class Sheep(Animal):\n",
    "    def step(self):\n",
    "        self.move()\n",
    "        self.eat_grass()\n",
    "        self.reproduce()\n",
    "        self.update()\n",
    "\n",
    "    def eat_grass(self):\n",
    "        x = self.pos[0]\n",
    "        y = self.pos[1]\n",
    "\n",
    "        # make cell empty\n",
    "        if self.layer.cells[x][y].empty == False:\n",
    "            self.layer.cells[x][y].empty = True\n",
    "            self.energy += 2"
   ]
  },
  {
   "cell_type": "markdown",
   "metadata": {},
   "source": [
    "## The Model\n",
    "Our model consists of two components. One initialization method and a step method. Most of the complexity of the model lies in interaction between agents and the added feature of the grass patch cells. \n",
    "\n",
    "The WolfSheepModel class is a subclass of MainModel and represents a simulation model for a predator-prey system involving wolves and sheep. In the constructor (__init__), the model initializes a grid with cells represented by the Grass class. It then creates a list of all cells in the grid. The model creates a specified number of Wolf and Sheep agents with given reproduction rates. These agents are then placed randomly on the grid. A DataCollector instance is also initialized to track the populations of wolves and sheep in the model.\n",
    "\n",
    "The step method represents a single time step in the simulation. In each time step, the step method of all Sheep and Wolf agents is triggered, allowing them to perform their actions. Then, the grow_grass method is called for each cell in the grid, simulating the growth of grass. The model checks if the populations of sheep and wolves are empty or if the population of sheep has reached 400, in which case it stops the simulation by setting self.running to False. Finally, the collect method of the DataCollector is called to collect data for the current time step."
   ]
  },
  {
   "cell_type": "code",
   "execution_count": 24,
   "metadata": {},
   "outputs": [],
   "source": [
    "class WolfSheepModel(MainModel):\n",
    "    def __init__(\n",
    "        self, n_sheep, n_wolves, w_rep_rate, s_rep_rate, shape, *args, **kwargs\n",
    "    ):\n",
    "        super().__init__(*args, **kwargs)\n",
    "\n",
    "        # initialize a grid\n",
    "        self.nature.create_module(\n",
    "            how=\"from_resolution\",\n",
    "            shape=shape,\n",
    "            cell_cls=Grass,\n",
    "        )\n",
    "\n",
    "        self._cells = [\n",
    "            cell for row in self.nature.major_layer.cells for cell in row\n",
    "        ]\n",
    "\n",
    "        # add sheep and wolves\n",
    "        self.agents.create(Wolf, n_wolves, rep_rate=w_rep_rate)\n",
    "        self.agents.create(Sheep, n_sheep, rep_rate=s_rep_rate)\n",
    "\n",
    "        # place both sheep and wolves randomly on the grid, grass dispersed evenly\n",
    "        for actor in self.actors:\n",
    "            actor.put_on_layer(\n",
    "                layer=self.nature.major_layer,\n",
    "                pos=tuple(\n",
    "                    [rng.integers(0, shape[0]), rng.integers(0, shape[1])]\n",
    "                ),\n",
    "            )\n",
    "\n",
    "        self.datacollector = DataCollector(\n",
    "            model=self,\n",
    "            model_reporters={\n",
    "                \"pop_wolves\": lambda m: len(m.actors.select(\"Wolf\")),\n",
    "                \"pop_sheep\": lambda m: len(m.actors.select(\"Sheep\")),\n",
    "            },\n",
    "        )\n",
    "\n",
    "    def step(self):\n",
    "        self.actors.select(\"Sheep\").trigger(\"step\")\n",
    "        self.actors.select(\"Wolf\").trigger(\"step\")\n",
    "\n",
    "        # grow grass\n",
    "        for cell in self._cells:\n",
    "            cell.grow_grass()\n",
    "\n",
    "        # end model\n",
    "        if (\n",
    "            self.actors.select(\"Sheep\") == []\n",
    "            and self.actors.select(\"Wolf\") == []\n",
    "        ):\n",
    "            self.running = False\n",
    "        elif len(self.actors.select(\"Sheep\")) >= 400:\n",
    "            self.running = False\n",
    "\n",
    "        # collect data\n",
    "        self.datacollector.collect()"
   ]
  },
  {
   "cell_type": "markdown",
   "metadata": {},
   "source": [
    "## Simulations and Discussion\n",
    "We are now able to run simulations. We instantiate a model to run for 100 steps. It will have a ratio of 4 sheep for every wolf. We keep the reproduction rates low. We will then plot the resulting evolution in the populations of wolves and sheep. "
   ]
  },
  {
   "cell_type": "code",
   "execution_count": 25,
   "metadata": {},
   "outputs": [
    {
     "name": "stderr",
     "output_type": "stream",
     "text": [
      "[2024-02-25 19:30:37][human          ] | Initializing a new Human Module...\n",
      "[2024-02-25 19:30:37][nature         ] | Initializing a new Base Nature module...\n",
      "[2024-02-25 19:30:37][nature         ] | Initializing a new Model Layer...\n",
      "[2024-02-25 19:30:37][nature         ] | Using rioxarray version: 0.13.4\n",
      "[2024-02-25 19:30:37][container      ] | Created 20 actors of breed Wolf\n",
      "[2024-02-25 19:30:37][container      ] | Created 80 actors of breed Sheep\n",
      "[2024-02-25 19:30:37][datacollection ] | DataCollector component initialized.\n",
      "[2024-02-25 19:30:37][main           ] | Setting up WolfSheepModel...\n"
     ]
    },
    {
     "name": "stderr",
     "output_type": "stream",
     "text": [
      "[2024-02-25 19:30:37][main           ] | Ending WolfSheepModel\n"
     ]
    }
   ],
   "source": [
    "parameters = {\n",
    "    \"time\": {\n",
    "        \"end\": 100,\n",
    "    }\n",
    "}\n",
    "\n",
    "model = WolfSheepModel(\n",
    "    n_sheep=80,\n",
    "    n_wolves=20,\n",
    "    w_rep_rate=0.2,\n",
    "    s_rep_rate=0.1,\n",
    "    shape=(12, 12),\n",
    "    parameters=parameters,\n",
    ")\n",
    "model.run_model()"
   ]
  },
  {
   "cell_type": "markdown",
   "metadata": {},
   "source": [
    "In this single run, the results show diverging populations. At first, the sheep population declines and the wolf population increases. Then, the wolf population declines and the sheep population increases. All wolves disappear and the sheep population reaches the carrying capacity of the environment."
   ]
  },
  {
   "cell_type": "code",
   "execution_count": 26,
   "metadata": {},
   "outputs": [
    {
     "data": {
      "text/plain": [
       "<Axes: >"
      ]
     },
     "execution_count": 26,
     "metadata": {},
     "output_type": "execute_result"
    },
    {
     "data": {
      "image/png": "[encoded data removed]",
      "text/plain": [
       "<Figure size 640x480 with 1 Axes>"
      ]
     },
     "metadata": {},
     "output_type": "display_data"
    }
   ],
   "source": [
    "model.datacollector.get_model_vars_dataframe().plot()"
   ]
  }
 ],
 "metadata": {
  "kernelspec": {
   "display_name": "abses-EXDRHGGY-py3.11",
   "language": "python",
   "name": "python3"
  },
  "language_info": {
   "codemirror_mode": {
    "name": "ipython",
    "version": 3
   },
   "file_extension": ".py",
   "mimetype": "text/x-python",
   "name": "python",
   "nbconvert_exporter": "python",
   "pygments_lexer": "ipython3",
   "version": "3.11.0"
  }
 },
 "nbformat": 4,
 "nbformat_minor": 2
}
