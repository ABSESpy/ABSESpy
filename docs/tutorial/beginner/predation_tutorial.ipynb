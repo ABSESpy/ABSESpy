{
 "cells": [
  {
   "cell_type": "markdown",
   "metadata": {},
   "source": [
    "# Predator-Prey Dynamics Model\n"
   ]
  },
  {
   "cell_type": "markdown",
   "metadata": {},
   "source": [
    "## Introduction\n",
    "\n",
    "The following tutorial aims to describe a more dynamic model using the `ABSESpy`. It consists of an implementation of the Lotka-Volterra model which presents a simple ecosystem with two species: predators and preys. This model was originally proposed as a system of first-order, non-linear differential equations and has found its computation, individual-based simulation counterparts.\n",
    "\n",
    "This introductory tutorial illustrates:\n",
    "\n",
    "1. Converting a property of `PatchCell` to raster attribute.\n",
    "2. Managing different breeds of `Actor` and their parameters.\n",
    "3. Implement randomly actions of `Actor`.\n",
    "\n",
    "The model aims to capture the dynamical evolution of the population of wolves and the population of sheep. It recreates a simple food chain where wolves feed on sheep and, in turn, sheep feed on grass. Both sheep and wolves have energy levels that are invariable affected by their movement. A move costs energy that can only be replenish by eating. "
   ]
  },
  {
   "cell_type": "markdown",
   "metadata": {},
   "source": [
    "## The Grass Patchcell\n"
   ]
  },
  {
   "cell_type": "code",
   "execution_count": 1,
   "metadata": {},
   "outputs": [],
   "source": [
    "import random\n",
    "\n",
    "from loguru import logger\n",
    "\n",
    "from abses import Actor, MainModel, PatchCell\n",
    "from abses.cells import raster_attribute"
   ]
  },
  {
   "cell_type": "markdown",
   "metadata": {},
   "source": [
    "As is it usual with a heuristic model, we want to place our agents in an virtual environment. ABSESpy offers the posibility to create a grid by means of the create_module method of the BaseNature class. It is often not necessary to import this class, nor other classes that support it, as the main class, MainModel, will create an instance of it at the moment of its creation. However, here we will import the PatchCell class to creating a subclass that will suit the needs of the model. Namely, we want our patch cells to contain grass for the sheep to eat.\n",
    "\n",
    "We will pass this new class to the create_module method as a parameter. That will make it the default patch cell for the model.\n",
    "\n",
    "The class Grass will be fundamentally the same as its parent class, PatchCell, except for the added property empty that will be used to determine whether there is grass on the cell currently or not. We will also need to method to regrow the grass after it has been consumed."
   ]
  },
  {
   "cell_type": "code",
   "execution_count": 2,
   "metadata": {},
   "outputs": [],
   "source": [
    "class Grass(PatchCell):\n",
    "    \"\"\"Custom patch cell class\"\"\"\n",
    "\n",
    "    def __init__(self, *args, **kwargs):\n",
    "        super().__init__(*args, **kwargs)\n",
    "        self.empty = False\n",
    "        self._countdown = 1\n",
    "\n",
    "    def grow(self):\n",
    "        \"\"\"Grow some grass on the cell every 5 ticks.\"\"\"\n",
    "        # countdown on brown patches: if you reach 0, grow some grass\n",
    "        if self.empty is True:\n",
    "            if self._countdown <= 0:\n",
    "                self.empty = False\n",
    "                self._countdown = 1\n",
    "            else:\n",
    "                self._countdown -= 1\n",
    "\n",
    "    @raster_attribute\n",
    "    def empty(self) -> bool:\n",
    "        \"\"\"Return True if the cell is empty, False otherwise.\"\"\"\n",
    "        return self._empty\n",
    "\n",
    "    @empty.setter\n",
    "    def empty(self, value: bool) -> None:\n",
    "        \"\"\"Set the empty status of the cell.\"\"\"\n",
    "        self._empty = value"
   ]
  },
  {
   "cell_type": "markdown",
   "metadata": {},
   "source": [
    "## Agents Classes\n",
    "\n",
    "We need at least two custom classes. One to represent wolves and another to represent sheep. Across these two classes there is common functionality that can be abstracted into a parent class. In particular, we may want to define a shared method for movement, reproduction and energy consumption. From there, a class Wolf can be define to handle how the wolves will feed on sheep and a class Sheep to handle how the sheep will feed on grass.\n",
    "\n",
    "The parent class Animal will have the following properties:\n",
    "\n",
    "- energy: the amount of energy the animal has. It will be used to determine whether the animal can move or reproduce.\n",
    "- rep_rate: the rate at which the animal reproduces. It will be used to determine whether the animal can reproduce.\n",
    "There will be methods defined for this class to handle agents' movement, reproduction and death."
   ]
  },
  {
   "cell_type": "code",
   "execution_count": 3,
   "metadata": {},
   "outputs": [],
   "source": [
    "class Animal(Actor):\n",
    "    \"\"\"Custom animal\"\"\"\n",
    "\n",
    "    def __init__(self, *args, **kwargs):\n",
    "        Actor.__init__(self, *args, **kwargs)\n",
    "        self.energy = 5\n",
    "\n",
    "    def update(self):\n",
    "        \"\"\"Update the animal's state.\"\"\"\n",
    "        # consume energy\n",
    "        self.energy -= 1\n",
    "        if self.energy <= 0:\n",
    "            self.die()\n",
    "\n",
    "    def move_randomly(self):\n",
    "        \"\"\"Move randomly.\"\"\"\n",
    "        prob = [\n",
    "            random.choice(range(4)) for i in range(len(self.at.neighboring()))\n",
    "        ]\n",
    "        self.move.random(prob=prob)\n",
    "\n",
    "    def reproduce(self):\n",
    "        \"\"\"Reproduce if there's enough energy.\"\"\"\n",
    "        if self.random.random() < self.params.rep_rate:\n",
    "            self.energy /= 2\n",
    "            self.at.agents.new(self.__class__)"
   ]
  },
  {
   "cell_type": "markdown",
   "metadata": {},
   "source": [
    "At each step, both sheep and wolves will move randomly to a new neighboring cell. Then, they will eat if there is food avaiable to them. Given a certain probability, they will reproduce. That probability is determined by the rep_rate property. Finally, they will be lose some energy."
   ]
  },
  {
   "cell_type": "code",
   "execution_count": 4,
   "metadata": {},
   "outputs": [],
   "source": [
    "class Wolf(Animal):\n",
    "    \"\"\"Custom wolf.\"\"\"\n",
    "\n",
    "    def step(self):\n",
    "        self.move_randomly()\n",
    "        self.eat_sheep()\n",
    "        self.reproduce()\n",
    "        self.update()\n",
    "\n",
    "    def eat_sheep(self):\n",
    "        \"\"\"If there is a sheep in the cell, eat it and gain energy.\"\"\"\n",
    "        sheep_here = self.at.agents.select(\"Sheep\")\n",
    "        if a_sheep := sheep_here.random.choice(when_empty=\"return None\"):\n",
    "            a_sheep.die()\n",
    "            self.energy += 5\n",
    "\n",
    "\n",
    "class Sheep(Animal):\n",
    "    \"\"\"Custom sheep.\"\"\"\n",
    "\n",
    "    def step(self):\n",
    "        self.move_randomly()\n",
    "        self.eat_grass()\n",
    "        self.reproduce()\n",
    "        self.update()\n",
    "\n",
    "    def eat_grass(self):\n",
    "        \"\"\"If there is grass in the cell, eat it and gain energy.\"\"\"\n",
    "        if self.get(\"empty\", target=\"world\") is False:\n",
    "            self.energy += 5\n",
    "            self.set(\"empty\", True, target=\"world\")"
   ]
  },
  {
   "cell_type": "markdown",
   "metadata": {},
   "source": [
    "## The Model\n",
    "\n",
    "Our model consists of two components. One initialization method and a step method. Most of the complexity of the model lies in interaction between agents and the added feature of the grass patch cells.\n",
    "\n",
    "The WolfSheepModel class is a subclass of MainModel and represents a simulation model for a predator-prey system involving wolves and sheep. In the constructor (init), the model initializes a grid with cells represented by the Grass class. It then creates a list of all cells in the grid. The model creates a specified number of Wolf and Sheep agents with given reproduction rates. These agents are then placed randomly on the grid. A DataCollector instance is also initialized to track the populations of wolves and sheep in the model.\n",
    "\n",
    "The step method represents a single time step in the simulation. In each time step, the step method of all Sheep and Wolf agents is triggered, allowing them to perform their actions. Then, the grow_grass method is called for each cell in the grid, simulating the growth of grass. The model checks if the populations of sheep and wolves are empty or if the population of sheep has reached 400, in which case it stops the simulation by setting self.running to False. Finally, the collect method of the DataCollector is called to collect data for the current time step."
   ]
  },
  {
   "cell_type": "code",
   "execution_count": 5,
   "metadata": {},
   "outputs": [],
   "source": [
    "class WolfSheepModel(MainModel):\n",
    "    \"\"\"Wolf-Sheep predation tutorial model.\"\"\"\n",
    "\n",
    "    def setup(self):\n",
    "        # initialize a grid\n",
    "        grassland: PatchModule = self.nature.create_module(\n",
    "            how=\"from_resolution\",\n",
    "            shape=self.params.shape,\n",
    "            name=\"grassland\",\n",
    "            cell_cls=Grass,\n",
    "        )\n",
    "        # add sheep and wolves\n",
    "        self.agents.new(Wolf, self.params.n_wolves)\n",
    "        self.agents.new(Sheep, self.params.n_sheep)\n",
    "        # without a specific position, agents will move randomly on the layer.\n",
    "        self.agents.apply(lambda a: a.move.to(\"random\", layer=grassland))\n",
    "\n",
    "    def step(self):\n",
    "        self.agents.select(\"Sheep\").trigger(\"step\")\n",
    "        self.agents.select(\"Wolf\").trigger(\"step\")\n",
    "        self.nature.grassland.apply(lambda c: c.grow())\n",
    "        self.check_end()\n",
    "\n",
    "    def check_end(self):\n",
    "        \"\"\"Check if the model should stop.\"\"\"\n",
    "        # end model\n",
    "        if not self.agents.has(\"Sheep\"):\n",
    "            self.running = False\n",
    "        elif not self.agents.has(\"Wolf\"):\n",
    "            self.running = False\n",
    "        elif self.agents.has(\"Sheep\") >= 1200:\n",
    "            self.running = False\n",
    "\n",
    "    @property\n",
    "    def n_grass(self):\n",
    "        \"\"\"Return the number of grass patches.\"\"\"\n",
    "        empty = self.nature.grassland.get_raster(\"empty\")\n",
    "        return empty.size - empty.sum()"
   ]
  },
  {
   "cell_type": "markdown",
   "metadata": {},
   "source": [
    "## Simulations\n",
    "\n",
    "We are now able to run simulations. We instantiate a model to run for 100 steps. It will have a ratio of 4 sheep for every wolf. We keep the reproduction rates low. We will then plot the resulting evolution in the populations of wolves and sheep. "
   ]
  },
  {
   "cell_type": "code",
   "execution_count": 6,
   "metadata": {},
   "outputs": [],
   "source": [
    "parameters = {\n",
    "    \"time\": {\"end\": 100},\n",
    "    \"reports\": {\n",
    "        \"model\": {\n",
    "            \"n_sheep\": ':lambda x: x.agents.has(\"Sheep\")',\n",
    "            \"n_wolves\": ':lambda x: x.agents.has(\"Wolf\")',\n",
    "            \"n_grass\": \":lambda x: x.n_grass\",\n",
    "        }\n",
    "    },\n",
    "    \"model\": {\n",
    "        \"shape\": (12, 12),\n",
    "        \"n_sheep\": 100,\n",
    "        \"n_wolves\": 5,\n",
    "    },\n",
    "    \"wolf\": {\"rep_rate\": 0.05, \"min_energy\": 10},\n",
    "    \"sheep\": {\"rep_rate\": 0.10, \"min_energy\": 6},\n",
    "}\n",
    "\n",
    "model = WolfSheepModel(parameters=parameters)\n",
    "model.run_model()"
   ]
  },
  {
   "cell_type": "markdown",
   "metadata": {},
   "source": [
    "In this single run, the results show diverging populations. At first, the sheep population declines and the wolf population increases. Then, the wolf population declines and the sheep population increases. All wolves disappear and the sheep population reaches the carrying capacity of the environment."
   ]
  },
  {
   "cell_type": "code",
   "execution_count": 7,
   "metadata": {},
   "outputs": [
    {
     "data": {
      "text/plain": [
       "<Axes: >"
      ]
     },
     "execution_count": 7,
     "metadata": {},
     "output_type": "execute_result"
    },
    {
     "data": {
      "image/png": "[encoded data removed]",
      "text/plain": [
       "<Figure size 640x480 with 1 Axes>"
      ]
     },
     "metadata": {},
     "output_type": "display_data"
    }
   ],
   "source": [
    "model.datacollector.get_model_vars_dataframe()[[\"n_sheep\", \"n_wolves\"]].plot()"
   ]
  }
 ],
 "metadata": {
  "kernelspec": {
   "display_name": "abses-EXDRHGGY-py3.11",
   "language": "python",
   "name": "python3"
  },
  "language_info": {
   "codemirror_mode": {
    "name": "ipython",
    "version": 3
   },
   "file_extension": ".py",
   "mimetype": "text/x-python",
   "name": "python",
   "nbconvert_exporter": "python",
   "pygments_lexer": "ipython3",
   "version": "3.11.2"
  }
 },
 "nbformat": 4,
 "nbformat_minor": 2
}
