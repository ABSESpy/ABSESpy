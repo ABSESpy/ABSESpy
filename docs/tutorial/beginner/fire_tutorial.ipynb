{
 "cells": [
  {
   "cell_type": "markdown",
   "metadata": {},
   "source": [
    "# Fire Spread Simulation\n",
    "## Introduction\n",
    "This notebook is based on the `fire` model implementation with Netlogo. You can find the original implementation at https://ccl.northwestern.edu/netlogo/models/Fire. This model aims to showcase basic methods that allow interactions between agents. \n",
    "\n",
    "The model simulates the spread of a fire in a forest. The fire spreads from tree to nearby trees. The model consist of a grid of any given size, where each cell may contain either one or no tree. The fire spreads to nearby trees only. The state of each tree is then represented graphically by the color of the cell. Untouched trees appear on green patches, burning trees appear on red patches, and burnt trees appear on orange patches. Whenever there is no tree on a patch, the patch is colored black."
   ]
  },
  {
   "cell_type": "markdown",
   "metadata": {},
   "source": [
    "As usual, the basis of any ABSESpy model are the MainModel and the Actor classes. We import these along the DataCollector class, numpy and matplotlib. We aim to create a simple model and add the visual components such that we are able to inspect it more easily."
   ]
  },
  {
   "cell_type": "code",
   "execution_count": 33,
   "metadata": {},
   "outputs": [],
   "source": [
    "import numpy as np\n",
    "import matplotlib.pyplot as plt\n",
    "\n",
    "from abses import MainModel, Actor\n",
    "from abses.datacollection import DataCollector\n",
    "\n",
    "# Initialize random number generator\n",
    "rng = np.random.default_rng(42)"
   ]
  },
  {
   "cell_type": "markdown",
   "metadata": {},
   "source": [
    "The model needs a grid of cells and trees that will be set on that space. Those are the two basic elements to this model. Tree will inherit from the Actor class and Forest will inherit from the MainModel class. The scaffold of the model would look as follows: \n",
    "\n",
    "```python\n",
    "class Tree(Actor):\n",
    "    (...)\n",
    "\n",
    "class Forest(MainModel):\n",
    "    (...)\n",
    "```"
   ]
  },
  {
   "cell_type": "markdown",
   "metadata": {},
   "source": [
    "## The `Tree` Actor Class\n",
    "At each step, a tree will spread the fire if it has been set on fire. It won't move nor will its behavior deviate from the simple heuristic we will define. \n",
    "\n",
    "A tree can only take either of three states. It can be yet untouched and healthy from the fire, it can be on fire or it can be scorched. If the tree is on fire it will spread the fire to its immediate neighbors. Its neighborhood is comprised of the 4 cells that are adjacent to it.\n",
    "\n",
    "The implementation requires from us a step method that follows our simple heuristic.\n",
    "\n",
    "Please, note that ABSESpy includes a `PatchCell` object that represents the cells in the grid. It may contain more than one agent or tree. We must impose that it only contains a single tree for the purpose of this model. A `PatchCell` offers the possibility to access an `ActorsList` object, listing all agents at that particular cell, that provides a way to trigger functionality at the tree level.\n"
   ]
  },
  {
   "cell_type": "code",
   "execution_count": 34,
   "metadata": {},
   "outputs": [],
   "source": [
    "class Tree(Actor):\n",
    "    def __init__(self, *args, **kwargs):\n",
    "        super().__init__(*args, **kwargs)\n",
    "        self.state = \"INTACT\"\n",
    "\n",
    "    @property\n",
    "    def is_intact(self):\n",
    "        return self.state == \"INTACT\"\n",
    "\n",
    "    @property\n",
    "    def is_burning(self):\n",
    "        return self.state == \"BURNING\"\n",
    "\n",
    "    @property\n",
    "    def is_scorched(self):\n",
    "        return self.state == \"SCORCHED\"\n",
    "\n",
    "    def step(self):\n",
    "        if self.state == \"BURNING\":\n",
    "            for neighbor in self.model.nature.major_layer.iter_neighbors(\n",
    "                self.pos, moore=False\n",
    "            ):\n",
    "                if neighbor.has_agent():\n",
    "                    neighbor.agents.trigger(\"ignite\")\n",
    "\n",
    "            self.state = \"SCORCHED\"\n",
    "\n",
    "    def ignite(self):\n",
    "        if self.state == \"INTACT\":\n",
    "            self.state = \"BURNING\""
   ]
  },
  {
   "cell_type": "markdown",
   "metadata": {},
   "source": [
    "## The `Forest` MainModel Class\n",
    "At the model level, we want to instantiate the grid where the trees will live; we want to place the trees randomly on the grid but never two trees on a same patch; we want to set a number of trees on fire to start off the model; we want to have a way to represent the general state of the model. Given those requierements, we can write the Forest class that will inherit from the MainModel class.\n",
    "\n",
    "We initialize this class by passing some custom parameters and other default parameters. As custom parameters, we want to be able to change the size of the grid and the tree population density. At initialization, we want these things to happen:\n",
    "1. Add a layer\n",
    "2. Add agents of the class `Tree`\n",
    "3. Place them on the grid. No two trees on the same cell.\n",
    "4. Instantiate a DataCollector object and pass a method to collect revelant data.\n",
    "\n",
    "Given the simplicity of the interactions between trees, we only need to trigger each tree to spread the fire on each step, if the tree is currently on fire. This implies a simple `step` method that does precisely that. \n",
    "\n",
    "A bit more involved, we need a method to extract data that will allow us to peek into the model's evolution. To remain faithful to the original implementation, we want to visualize the whole grid with each cell colored according to the state of the tree that lives on it. A first step to achieve that consist of generating a list of lists (a 2d numpy array in this case) that will mirror the grid. We will then assign numerical values to each of the three possible states of a tree. Finally, we will write those values to the array, thus, creating a representation of the space we can visualize."
   ]
  },
  {
   "cell_type": "code",
   "execution_count": 35,
   "metadata": {},
   "outputs": [],
   "source": [
    "class Forest(MainModel):\n",
    "    def __init__(self, shape, density, *args, **kwargs):\n",
    "        super().__init__(*args, **kwargs)\n",
    "        self.shape = shape\n",
    "        self.density = density\n",
    "        self.num_trees = self.calc_num_trees()\n",
    "\n",
    "        # Initialize a grid\n",
    "        self.nature.create_module(how=\"from_resolution\", shape=self.shape)\n",
    "\n",
    "        # Create initial agents\n",
    "        self.agents.create(Tree, self.num_trees)\n",
    "\n",
    "        # Position the agents across the grid and \\\n",
    "        # set initial state 'burning' for leftmost trees\n",
    "        positions = self.get_trees_pos()\n",
    "\n",
    "        for i, tree in enumerate(self.actors):\n",
    "            tree.put_on_layer(layer=self.nature.major_layer, pos=positions[i])\n",
    "\n",
    "            if positions[i][1] == 0:\n",
    "                tree.state = \"BURNING\"\n",
    "\n",
    "        self.datacollector = DataCollector(\n",
    "            self, model_reporters={\"state\": lambda m: m.get_state()}\n",
    "        )\n",
    "\n",
    "    def step(self):\n",
    "        self.actors.trigger(\"step\")\n",
    "        self.datacollector.collect()\n",
    "\n",
    "    def calc_num_trees(self):\n",
    "        return int(self.shape[0] * self.shape[1] * self.density)\n",
    "\n",
    "    def get_trees_pos(self):\n",
    "        all_pos_ = [\n",
    "            c.pos for row in self.nature.major_layer.cells for c in row\n",
    "        ]\n",
    "        return rng.choice(all_pos_, size=self.num_trees, replace=False)\n",
    "\n",
    "    def get_state(self):\n",
    "        state_ = np.zeros(self.shape)\n",
    "        for tree in self.actors:\n",
    "            if tree.is_burning:\n",
    "                state_[tree.pos] = 0.5\n",
    "            if tree.is_scorched:\n",
    "                state_[tree.pos] = 1\n",
    "            if tree.is_intact:\n",
    "                state_[tree.pos] = 1.5\n",
    "\n",
    "        return state_"
   ]
  },
  {
   "cell_type": "markdown",
   "metadata": {},
   "source": [
    "## Running Simulations\n",
    "We want to run the model altering just one parameter and comparing models outputs. Holding the `shape` parameter constant, we can evaluate the effect of changes in the tree population density. That is, the number of trees in the grid.\n",
    "\n",
    "We need a method to visualize the data we collect. We will use matplotlib to plot the model state."
   ]
  },
  {
   "cell_type": "code",
   "execution_count": 57,
   "metadata": {},
   "outputs": [],
   "source": [
    "def plot_state(state: np.ndarray, ax=None):\n",
    "    \"\"\"Get static grid image\"\"\"\n",
    "    cmap = plt.cm.colors.ListedColormap([\"black\", \"red\", \"orange\", \"green\"])\n",
    "    norm = plt.cm.colors.BoundaryNorm([0, 0.5, 1, 1.5, 2], cmap.N)\n",
    "\n",
    "    if ax is None:\n",
    "        fig, ax = plt.subplots()\n",
    "        ax.imshow(state, cmap=cmap, norm=norm, interpolation=\"nearest\")\n",
    "    else:\n",
    "        ax.imshow(state, cmap=cmap, norm=norm, interpolation=\"nearest\")\n",
    "\n",
    "    # Remove ticks\n",
    "    ax.set_xticks([])\n",
    "    ax.set_yticks([])\n",
    "\n",
    "    # Remove spines\n",
    "    for side in \"top,right,bottom,left\".split(\",\"):\n",
    "        ax.spines[side].set_visible(False)"
   ]
  },
  {
   "cell_type": "code",
   "execution_count": 37,
   "metadata": {},
   "outputs": [
    {
     "name": "stderr",
     "output_type": "stream",
     "text": [
      "[2024-02-04 12:34:15][human          ] | Initializing a new Human Module...\n",
      "[2024-02-04 12:34:15][nature         ] | Initializing a new Base Nature module...\n",
      "[2024-02-04 12:34:15][nature         ] | Initializing a new Model Layer...\n",
      "[2024-02-04 12:34:15][nature         ] | Using rioxarray version: 0.13.4\n",
      "[2024-02-04 12:34:15][container      ] | Created 3500 actors of breed Tree\n",
      "[2024-02-04 12:34:15][datacollection ] | DataCollector component initialized.\n",
      "[2024-02-04 12:34:15][human          ] | Initializing a new Human Module...\n",
      "[2024-02-04 12:34:15][nature         ] | Initializing a new Base Nature module...\n",
      "[2024-02-04 12:34:15][nature         ] | Initializing a new Model Layer...\n",
      "[2024-02-04 12:34:15][nature         ] | Using rioxarray version: 0.13.4\n",
      "[2024-02-04 12:34:16][container      ] | Created 5000 actors of breed Tree\n",
      "[2024-02-04 12:34:16][datacollection ] | DataCollector component initialized.\n",
      "[2024-02-04 12:34:16][human          ] | Initializing a new Human Module...\n",
      "[2024-02-04 12:34:16][nature         ] | Initializing a new Base Nature module...\n",
      "[2024-02-04 12:34:16][nature         ] | Initializing a new Model Layer...\n",
      "[2024-02-04 12:34:16][nature         ] | Using rioxarray version: 0.13.4\n",
      "[2024-02-04 12:34:16][container      ] | Created 6500 actors of breed Tree\n",
      "[2024-02-04 12:34:17][datacollection ] | DataCollector component initialized.\n",
      "[2024-02-04 12:34:17][main           ] | Setting up Forest...\n",
      "[2024-02-04 12:34:17][main           ] | Ending Forest\n",
      "[2024-02-04 12:34:17][main           ] | Setting up Forest...\n",
      "[2024-02-04 12:34:18][main           ] | Ending Forest\n",
      "[2024-02-04 12:34:18][main           ] | Setting up Forest...\n",
      "[2024-02-04 12:34:19][main           ] | Ending Forest\n"
     ]
    }
   ],
   "source": [
    "SHAPE = (100, 100)\n",
    "\n",
    "parameters = {\"seed\": 42, \"time\": {\"end\": 50}}\n",
    "\n",
    "# Create a battery of models\n",
    "model35 = Forest(shape=SHAPE, density=0.35, parameters=parameters)\n",
    "model50 = Forest(shape=SHAPE, density=0.50, parameters=parameters)\n",
    "model65 = Forest(shape=SHAPE, density=0.65, parameters=parameters)\n",
    "\n",
    "# Run the simulations\n",
    "for model in [model35, model50, model65]:\n",
    "    model.run_model()"
   ]
  },
  {
   "cell_type": "markdown",
   "metadata": {},
   "source": [
    "We want to visually inspect the model at different stages. We will pick a step close to the beginning of the simulation, another towards the middle and another towards the end. We will plot the grid at each of those steps for all three models.\n",
    "\n",
    "After a quick visual inspection we are able to draw some conclusions about the emergent patterns in our model. There appears to be a threshold somewhere around 0.6 where the fire spreads to the whole grid. It would be interesting to explore the overall coverage of the fire for more values of the tree population density. This is left as an exercise for the reader."
   ]
  },
  {
   "cell_type": "code",
   "execution_count": 63,
   "metadata": {},
   "outputs": [
    {
     "data": {
      "image/png": "[encoded data removed]",
      "text/plain": [
       "<Figure size 640x480 with 3 Axes>"
      ]
     },
     "metadata": {},
     "output_type": "display_data"
    }
   ],
   "source": [
    "fig, axes = plt.subplots(1, 3)\n",
    "\n",
    "# Plot the states for a Forest model with 35% tree density\n",
    "titles = [\"Step No. 5\", \"Step No. 25\", \"Step No. 45\"]\n",
    "\n",
    "for i, (idx, data) in enumerate(\n",
    "    model35.datacollector.get_model_vars_dataframe()\n",
    "    .iloc[[5, 25, -5]]\n",
    "    .iterrows()\n",
    "):\n",
    "    plot_state(data[\"state\"], ax=axes[i])\n",
    "    axes[i].set_title(titles[i])"
   ]
  },
  {
   "cell_type": "code",
   "execution_count": 65,
   "metadata": {},
   "outputs": [
    {
     "data": {
      "image/png": "[encoded data removed]",
      "text/plain": [
       "<Figure size 640x480 with 3 Axes>"
      ]
     },
     "metadata": {},
     "output_type": "display_data"
    }
   ],
   "source": [
    "fig, axes = plt.subplots(1, 3)\n",
    "\n",
    "# Plot the states for a Forest model with 50% tree density\n",
    "for i, (idx, data) in enumerate(\n",
    "    model50.datacollector.get_model_vars_dataframe()\n",
    "    .iloc[[5, 25, -5]]\n",
    "    .iterrows()\n",
    "):\n",
    "    plot_state(data[\"state\"], ax=axes[i])\n",
    "    axes[i].set_title(titles[i])"
   ]
  },
  {
   "cell_type": "code",
   "execution_count": 64,
   "metadata": {},
   "outputs": [
    {
     "data": {
      "image/png": "[encoded data removed]",
      "text/plain": [
       "<Figure size 640x480 with 3 Axes>"
      ]
     },
     "metadata": {},
     "output_type": "display_data"
    }
   ],
   "source": [
    "fig, axes = plt.subplots(1, 3)\n",
    "\n",
    "# Plot the states for a Forest model with 65% tree density\n",
    "for i, (idx, data) in enumerate(\n",
    "    model65.datacollector.get_model_vars_dataframe()\n",
    "    .iloc[[5, 25, -5]]\n",
    "    .iterrows()\n",
    "):\n",
    "    plot_state(data[\"state\"], ax=axes[i])\n",
    "    axes[i].set_title(titles[i])"
   ]
  }
 ],
 "metadata": {
  "kernelspec": {
   "display_name": "abses-EXDRHGGY-py3.11",
   "language": "python",
   "name": "python3"
  },
  "language_info": {
   "codemirror_mode": {
    "name": "ipython",
    "version": 3
   },
   "file_extension": ".py",
   "mimetype": "text/x-python",
   "name": "python",
   "nbconvert_exporter": "python",
   "pygments_lexer": "ipython3",
   "version": "3.11.0"
  }
 },
 "nbformat": 4,
 "nbformat_minor": 2
}
