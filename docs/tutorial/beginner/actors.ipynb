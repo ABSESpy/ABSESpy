{
 "cells": [
  {
   "attachments": {},
   "cell_type": "markdown",
   "metadata": {},
   "source": [
    "# Actors' operation"
   ]
  },
  {
   "cell_type": "markdown",
   "metadata": {},
   "source": [
    "<div class=\"admonition note\">\n",
    "    <p class=\"admonition-title\">In progress</p>\n",
    "    <p>This document is a work in progress if you see any errors, or exclusions or have any problems, please <a href=\"https://github.com/absespy/ABSESpy/issues\">get in touch with us</a>.</p>\n",
    "</div>"
   ]
  },
  {
   "cell_type": "code",
   "execution_count": 1,
   "metadata": {},
   "outputs": [],
   "source": [
    "%load_ext autoreload\n",
    "%autoreload 2\n",
    "\n",
    "import os\n",
    "\n",
    "os.chdir(\"../..\")"
   ]
  },
  {
   "attachments": {},
   "cell_type": "markdown",
   "metadata": {},
   "source": [
    "## Manipulate an individual `Actor`"
   ]
  },
  {
   "cell_type": "code",
   "execution_count": 2,
   "metadata": {},
   "outputs": [
    {
     "name": "stderr",
     "output_type": "stream",
     "text": [
      "[2024-01-14 18:03:46][human          ] | Initializing a new Human Module...\n",
      "[2024-01-14 18:03:46][nature         ] | Initializing a new Base Nature module...\n"
     ]
    },
    {
     "data": {
      "text/plain": [
       "'Actor'"
      ]
     },
     "execution_count": 2,
     "metadata": {},
     "output_type": "execute_result"
    }
   ],
   "source": [
    "from abses import Actor, MainModel\n",
    "\n",
    "# create a testing model\n",
    "model = MainModel(name=\"actor_example\", base=\"tests\")\n",
    "\n",
    "# actor creation should be bounded with a model.\n",
    "actor = Actor(model)\n",
    "\n",
    "# actor has a class-property, -its breed, class's name.\n",
    "actor.breed  # same as `actor.__class__.__name__`"
   ]
  },
  {
   "cell_type": "code",
   "execution_count": 3,
   "metadata": {},
   "outputs": [
    {
     "data": {
      "text/plain": [
       "False"
      ]
     },
     "execution_count": 3,
     "metadata": {},
     "output_type": "execute_result"
    }
   ],
   "source": [
    "# In an initial condition, this actor is not on the earth...\n",
    "actor.on_earth"
   ]
  },
  {
   "cell_type": "code",
   "execution_count": 4,
   "metadata": {},
   "outputs": [
    {
     "ename": "ValueError",
     "evalue": "Layer is not set.",
     "output_type": "error",
     "traceback": [
      "\u001b[1;31m---------------------------------------------------------------------------\u001b[0m",
      "\u001b[1;31mValueError\u001b[0m                                Traceback (most recent call last)",
      "Cell \u001b[1;32mIn[4], line 3\u001b[0m\n\u001b[0;32m      1\u001b[0m \u001b[38;5;66;03m# however, we can let it settle down on a specific position of the earth.\u001b[39;00m\n\u001b[0;32m      2\u001b[0m pos \u001b[38;5;241m=\u001b[39m (\u001b[38;5;241m4\u001b[39m, \u001b[38;5;241m4\u001b[39m)\n\u001b[1;32m----> 3\u001b[0m settled \u001b[38;5;241m=\u001b[39m \u001b[43mactor\u001b[49m\u001b[38;5;241;43m.\u001b[39;49m\u001b[43mmove_to\u001b[49m\u001b[43m(\u001b[49m\u001b[43mposition\u001b[49m\u001b[38;5;241;43m=\u001b[39;49m\u001b[43mpos\u001b[49m\u001b[43m)\u001b[49m\n\u001b[0;32m      5\u001b[0m actor\u001b[38;5;241m.\u001b[39mpos  \u001b[38;5;66;03m# position of the actor now: (4, 4)\u001b[39;00m\n\u001b[0;32m      6\u001b[0m actor\u001b[38;5;241m.\u001b[39mon_earth  \u001b[38;5;66;03m# True\u001b[39;00m\n",
      "File \u001b[1;32m~\\Desktop\\work\\abses-py\\abses\\actor.py:291\u001b[0m, in \u001b[0;36mActor.move_to\u001b[1;34m(self, position)\u001b[0m\n\u001b[0;32m    280\u001b[0m \u001b[38;5;250m\u001b[39m\u001b[38;5;124;03m\"\"\"Move agent to a new position.\u001b[39;00m\n\u001b[0;32m    281\u001b[0m \n\u001b[0;32m    282\u001b[0m \u001b[38;5;124;03mParameters:\u001b[39;00m\n\u001b[1;32m   (...)\u001b[0m\n\u001b[0;32m    288\u001b[0m \u001b[38;5;124;03m        The main body is not on the same layer, please use the put_on method first.\u001b[39;00m\n\u001b[0;32m    289\u001b[0m \u001b[38;5;124;03m\"\"\"\u001b[39;00m\n\u001b[0;32m    290\u001b[0m \u001b[38;5;28;01mif\u001b[39;00m \u001b[38;5;129;01mnot\u001b[39;00m \u001b[38;5;28mself\u001b[39m\u001b[38;5;241m.\u001b[39mlayer:\n\u001b[1;32m--> 291\u001b[0m     \u001b[38;5;28;01mraise\u001b[39;00m \u001b[38;5;167;01mValueError\u001b[39;00m(\u001b[38;5;124m\"\u001b[39m\u001b[38;5;124mLayer is not set.\u001b[39m\u001b[38;5;124m\"\u001b[39m)\n\u001b[0;32m    292\u001b[0m \u001b[38;5;28mself\u001b[39m\u001b[38;5;241m.\u001b[39mlayer\u001b[38;5;241m.\u001b[39mmove_agent(\u001b[38;5;28mself\u001b[39m, position)\n",
      "\u001b[1;31mValueError\u001b[0m: Layer is not set."
     ]
    }
   ],
   "source": [
    "# however, we can let it settle down on a specific position of the earth.\n",
    "pos = (4, 4)\n",
    "settled = actor.move_to(position=pos)\n",
    "\n",
    "actor.pos  # position of the actor now: (4, 4)\n",
    "actor.on_earth  # True"
   ]
  },
  {
   "attachments": {},
   "cell_type": "markdown",
   "metadata": {},
   "source": [
    "*Note that `Actor`s created in this way is not accessible from the model, unless we add it into the model.*"
   ]
  },
  {
   "cell_type": "code",
   "execution_count": null,
   "metadata": {},
   "outputs": [],
   "source": [
    "actor in model.agents  # False\n",
    "\n",
    "# `register` must be assigned with True, because it's a new breed for this model.\n",
    "model.agents.add(actor, register=True)\n",
    "\n",
    "actor in model.agents  # True"
   ]
  },
  {
   "attachments": {},
   "cell_type": "markdown",
   "metadata": {},
   "source": [
    "Actor is an `BaseObj` of the model, so it inherits [all of its properties](#TODO).\n"
   ]
  },
  {
   "cell_type": "code",
   "execution_count": null,
   "metadata": {},
   "outputs": [],
   "source": [
    "# default, it's name is as same as its breed in lower case\n",
    "actor.name  # 'Actor'\n",
    "\n",
    "# if assigned name when creating, they will be different.\n",
    "actor2 = Actor(model, name=\"actor2\")\n",
    "actor2.breed\n",
    "actor2.name"
   ]
  },
  {
   "attachments": {},
   "cell_type": "markdown",
   "metadata": {},
   "source": [
    "## Manipulate a group of `Actors`\n",
    "`ABSESpy` provides two different container of actors:\n",
    "- `AgentsContainer`: A unique `dictionary`-like class where all agents of the model are saving.\n",
    "- `ActorsList`: A `list`-like class where referring some actors temporally."
   ]
  },
  {
   "attachments": {},
   "cell_type": "markdown",
   "metadata": {},
   "source": [
    "### AgentsContainer\n",
    "\n"
   ]
  },
  {
   "attachments": {},
   "cell_type": "markdown",
   "metadata": {},
   "source": [
    "When the model is created, there is a unique `AgentsContainer` obj bounding. It saves agents by their breeds."
   ]
  },
  {
   "cell_type": "code",
   "execution_count": null,
   "metadata": {},
   "outputs": [],
   "source": [
    "type(model.agents)\n",
    "model.agents  # only one actor is added now.\n",
    "\n",
    "model.agents.breeds  # breeds"
   ]
  },
  {
   "attachments": {},
   "cell_type": "markdown",
   "metadata": {},
   "source": [
    "Container makes creating actors much easier:"
   ]
  },
  {
   "cell_type": "code",
   "execution_count": null,
   "metadata": {},
   "outputs": [],
   "source": [
    "# define a new breed of actor\n",
    "class Seller(Actor):\n",
    "    pass\n",
    "\n",
    "\n",
    "class User(Actor):\n",
    "    pass\n",
    "\n",
    "\n",
    "another_actor = model.agents.create(Actor)\n",
    "seller = model.agents.create(Seller)  # default creating one actor.\n",
    "users = model.agents.create(User, 5)  # creating 5 actors\n",
    "\n",
    "model.agents"
   ]
  },
  {
   "attachments": {},
   "cell_type": "markdown",
   "metadata": {},
   "source": [
    "While `AgentsContainer` mainly provides a way to store, most of manipulations for actors are implemented in another data type: `ActorsList`. `AgentsContainer` also has many ways to convert existing agents to this data type:"
   ]
  },
  {
   "cell_type": "code",
   "execution_count": null,
   "metadata": {},
   "outputs": [],
   "source": [
    "# generate all existing agents to an `ActorsList`.\n",
    "model.agents.to_list()"
   ]
  },
  {
   "cell_type": "code",
   "execution_count": null,
   "metadata": {},
   "outputs": [],
   "source": [
    "# select specific breeds.\n",
    "model.agents.to_list(breeds=\"Seller\")\n",
    "model.agents.to_list(breeds=[\"Seller\", \"User\"])"
   ]
  },
  {
   "cell_type": "code",
   "execution_count": null,
   "metadata": {},
   "outputs": [],
   "source": [
    "# also accessible through attributes.\n",
    "model.agents.User"
   ]
  },
  {
   "attachments": {},
   "cell_type": "markdown",
   "metadata": {},
   "source": [
    "### `ActorsList`\n",
    "\n",
    "`ActorsList` is a collection of `Actors`, facilitate to manipulate them at a batch."
   ]
  },
  {
   "cell_type": "code",
   "execution_count": null,
   "metadata": {},
   "outputs": [],
   "source": [
    "lst = model.agents.to_list()\n",
    "actor = lst[0]  # indexing -> an `Actor`\n",
    "five_actors = lst[:5]  # slice -> another `ActorsList` object\n",
    "\n",
    "five_actors  # (2)Actor; (1)Seller; (2)User\n",
    "# five_actors contains this actor\n",
    "actor in five_actors"
   ]
  },
  {
   "attachments": {},
   "cell_type": "markdown",
   "metadata": {},
   "source": [
    "Convert the list to a dictionary: `{breed: ActorsList}`"
   ]
  },
  {
   "cell_type": "code",
   "execution_count": null,
   "metadata": {},
   "outputs": [],
   "source": [
    "# sort up mixed actors.\n",
    "five_actors.to_dict()"
   ]
  },
  {
   "attachments": {},
   "cell_type": "markdown",
   "metadata": {},
   "source": [
    "Select by conditions."
   ]
  },
  {
   "cell_type": "code",
   "execution_count": null,
   "metadata": {},
   "outputs": [],
   "source": [
    "five_actors.select(selection=\"User\")  # same as .to_dict()['User']\n",
    "\n",
    "# select the first and the fourth actors\n",
    "five_actors.select(selection=[True, False, False, True, False])"
   ]
  },
  {
   "attachments": {},
   "cell_type": "markdown",
   "metadata": {},
   "source": [
    "Actors' attributes are accessible as `np.ndarray`."
   ]
  },
  {
   "cell_type": "code",
   "execution_count": null,
   "metadata": {},
   "outputs": [],
   "source": [
    "# get each Actor(object)'s id.\n",
    "five_actors.array(\"id\")\n",
    "\n",
    "# alternative way to get this attribute.\n",
    "five_actors.id"
   ]
  },
  {
   "attachments": {},
   "cell_type": "markdown",
   "metadata": {},
   "source": [
    "You can access all actors in this list with `id >= 7` by:"
   ]
  },
  {
   "cell_type": "code",
   "execution_count": null,
   "metadata": {},
   "outputs": [],
   "source": [
    "better_guys = five_actors.better(metric=\"id\", than=7)\n",
    "better_guys.id"
   ]
  },
  {
   "cell_type": "markdown",
   "metadata": {},
   "source": [
    "Split the list in the second, third places: `[1, 2, | 3, | 4, 5]`"
   ]
  },
  {
   "cell_type": "code",
   "execution_count": null,
   "metadata": {},
   "outputs": [],
   "source": [
    "five_actors.split([2, 3])"
   ]
  }
 ],
 "metadata": {
  "kernelspec": {
   "display_name": "ABSES_311",
   "language": "python",
   "name": "python3"
  },
  "language_info": {
   "codemirror_mode": {
    "name": "ipython",
    "version": 3
   },
   "file_extension": ".py",
   "mimetype": "text/x-python",
   "name": "python",
   "nbconvert_exporter": "python",
   "pygments_lexer": "ipython3",
   "version": "3.11.0"
  },
  "vscode": {
   "interpreter": {
    "hash": "34e7ff707ff286a3b130ff498e19cfe7511773b98306dec22b686ceb645d0b65"
   }
  }
 },
 "nbformat": 4,
 "nbformat_minor": 2
}
