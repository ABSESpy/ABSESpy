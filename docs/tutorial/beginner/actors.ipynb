{
 "cells": [
  {
   "attachments": {},
   "cell_type": "markdown",
   "metadata": {},
   "source": [
    "# Actors' operation"
   ]
  },
  {
   "cell_type": "markdown",
   "metadata": {},
   "source": [
    "<div class=\"admonition note\">\n",
    "    <p class=\"admonition-title\">In progress</p>\n",
    "    <p>This document is a work in progress if you see any errors, or exclusions or have any problems, please <a href=\"https://github.com/absespy/ABSESpy/issues\">get in touch with us</a>.</p>\n",
    "</div>"
   ]
  },
  {
   "attachments": {},
   "cell_type": "markdown",
   "metadata": {},
   "source": [
    "## Manipulate an individual `Actor`"
   ]
  },
  {
   "cell_type": "code",
   "execution_count": 1,
   "metadata": {},
   "outputs": [
    {
     "name": "stderr",
     "output_type": "stream",
     "text": [
      "[2024-03-20 18:35:51][human          ] | Initializing a new Human Module...\n",
      "[2024-03-20 18:35:51][nature         ] | Initializing a new Base Nature module...\n",
      "[2024-03-20 18:35:51][nature         ] | Initializing a new Model Layer...\n",
      "[2024-03-20 18:35:51][nature         ] | Using rioxarray version: 0.13.4\n",
      "[2024-03-20 18:35:51][container      ] | Created 1 actors of breed Actor\n"
     ]
    },
    {
     "data": {
      "text/plain": [
       "'Actor'"
      ]
     },
     "execution_count": 1,
     "metadata": {},
     "output_type": "execute_result"
    }
   ],
   "source": [
    "from abses import Actor, MainModel\n",
    "\n",
    "# create a testing model\n",
    "model = MainModel(name=\"actor_example\", base=\"tests\")\n",
    "layer = model.nature.create_module(how=\"from_resolution\", shape=(3, 3))\n",
    "\n",
    "# actor creation should be bounded with a model.\n",
    "actor = model.agents.new(Actor, singleton=True)\n",
    "\n",
    "# actor has a class-property, -its breed, class's name.\n",
    "actor.breed  # same as `actor.__class__.__name__`"
   ]
  },
  {
   "cell_type": "code",
   "execution_count": 2,
   "metadata": {},
   "outputs": [
    {
     "data": {
      "text/plain": [
       "False"
      ]
     },
     "execution_count": 2,
     "metadata": {},
     "output_type": "execute_result"
    }
   ],
   "source": [
    "# In an initial condition, this actor is not on the earth...\n",
    "actor.on_earth"
   ]
  },
  {
   "attachments": {},
   "cell_type": "markdown",
   "metadata": {},
   "source": [
    "## Manipulate a group of `Actors`\n",
    "`ABSESpy` provides two different container of actors:\n",
    "- `AgentsContainer`: A unique `dictionary`-like class where all agents of the model are saving.\n",
    "- `ActorsList`: A `list`-like class where referring some actors temporally."
   ]
  },
  {
   "attachments": {},
   "cell_type": "markdown",
   "metadata": {},
   "source": [
    "### AgentsContainer\n",
    "\n"
   ]
  },
  {
   "attachments": {},
   "cell_type": "markdown",
   "metadata": {},
   "source": [
    "When the model is created, there is a unique `AgentsContainer` obj bounding. It saves agents by their breeds. In the tutorial above, only one actor is added now."
   ]
  },
  {
   "cell_type": "code",
   "execution_count": 3,
   "metadata": {},
   "outputs": [
    {
     "data": {
      "text/plain": [
       "'<ModelAgents: (1)Actor>'"
      ]
     },
     "execution_count": 3,
     "metadata": {},
     "output_type": "execute_result"
    }
   ],
   "source": [
    "repr(model.agents)"
   ]
  },
  {
   "attachments": {},
   "cell_type": "markdown",
   "metadata": {},
   "source": [
    "Container makes creating actors much easier:"
   ]
  },
  {
   "cell_type": "code",
   "execution_count": 4,
   "metadata": {},
   "outputs": [
    {
     "name": "stderr",
     "output_type": "stream",
     "text": [
      "[2024-03-20 18:35:51][container      ] | Created 1 actors of breed Actor\n",
      "[2024-03-20 18:35:51][container      ] | Created 1 actors of breed Seller\n",
      "[2024-03-20 18:35:51][container      ] | Created 5 actors of breed User\n"
     ]
    },
    {
     "data": {
      "text/plain": [
       "<ModelAgents: (2)Actor; (1)Seller; (5)User>"
      ]
     },
     "execution_count": 4,
     "metadata": {},
     "output_type": "execute_result"
    }
   ],
   "source": [
    "# define a new breed of actor\n",
    "class Seller(Actor):\n",
    "    name = \"seller\"\n",
    "\n",
    "\n",
    "class User(Actor):\n",
    "    name = \"user\"\n",
    "\n",
    "\n",
    "# You'd better to assign the `singleton=True` when only creating one actor.\n",
    "# Otherwise you would get a list of actors (length = 1).\n",
    "another_actor = model.agents.new(Actor, singleton=True)\n",
    "seller = model.agents.new(Seller)  # default creating one actor.\n",
    "users = model.agents.new(User, 5)  # creating 5 actors\n",
    "\n",
    "model.agents"
   ]
  },
  {
   "attachments": {},
   "cell_type": "markdown",
   "metadata": {},
   "source": [
    "While `AgentsContainer` mainly provides a way to store, most of manipulations for actors are implemented in another data type: `ActorsList`. `AgentsContainer` also has many ways to convert existing agents to this data type:"
   ]
  },
  {
   "cell_type": "code",
   "execution_count": 5,
   "metadata": {},
   "outputs": [
    {
     "data": {
      "text/plain": [
       "<ActorsList: (1)Seller>"
      ]
     },
     "execution_count": 5,
     "metadata": {},
     "output_type": "execute_result"
    }
   ],
   "source": [
    "# select specific breeds.\n",
    "model.agents.get(breeds=\"Seller\")"
   ]
  },
  {
   "cell_type": "code",
   "execution_count": 6,
   "metadata": {},
   "outputs": [
    {
     "data": {
      "text/plain": [
       "<ActorsList: (1)Seller; (5)User>"
      ]
     },
     "execution_count": 6,
     "metadata": {},
     "output_type": "execute_result"
    }
   ],
   "source": [
    "model.agents.get(breeds=[\"Seller\", \"User\"])"
   ]
  },
  {
   "cell_type": "code",
   "execution_count": 7,
   "metadata": {},
   "outputs": [
    {
     "data": {
      "text/plain": [
       "<ActorsList: >"
      ]
     },
     "execution_count": 7,
     "metadata": {},
     "output_type": "execute_result"
    }
   ],
   "source": [
    "# also accessible through selecting query syntax.\n",
    "model.agents.select(\"name == user\")"
   ]
  },
  {
   "cell_type": "markdown",
   "metadata": {},
   "source": [
    "For more info about the query syntax, please refer [API docs](../../api/agents.md)."
   ]
  },
  {
   "attachments": {},
   "cell_type": "markdown",
   "metadata": {},
   "source": [
    "### `ActorsList`\n",
    "\n",
    "`ActorsList` is a collection of `Actors`, facilitate to manipulate them at a batch."
   ]
  },
  {
   "cell_type": "code",
   "execution_count": 8,
   "metadata": {},
   "outputs": [
    {
     "data": {
      "text/plain": [
       "True"
      ]
     },
     "execution_count": 8,
     "metadata": {},
     "output_type": "execute_result"
    }
   ],
   "source": [
    "lst = model.agents.get()\n",
    "actor = lst[0]  # indexing -> an `Actor`\n",
    "five_actors = lst[:5]  # slice -> another `ActorsList` object\n",
    "\n",
    "five_actors  # (2)Actor; (1)Seller; (2)User\n",
    "# five_actors contains this actor\n",
    "actor in five_actors"
   ]
  },
  {
   "attachments": {},
   "cell_type": "markdown",
   "metadata": {},
   "source": [
    "Convert the list to a dictionary: `{breed: ActorsList}`"
   ]
  },
  {
   "cell_type": "code",
   "execution_count": 9,
   "metadata": {},
   "outputs": [
    {
     "data": {
      "text/plain": [
       "{'Actor': <ActorsList: (2)Actor>,\n",
       " 'Seller': <ActorsList: (1)Seller>,\n",
       " 'User': <ActorsList: (2)User>}"
      ]
     },
     "execution_count": 9,
     "metadata": {},
     "output_type": "execute_result"
    }
   ],
   "source": [
    "# sort up mixed actors.\n",
    "five_actors.to_dict()"
   ]
  },
  {
   "attachments": {},
   "cell_type": "markdown",
   "metadata": {},
   "source": [
    "Select by conditions."
   ]
  },
  {
   "cell_type": "code",
   "execution_count": 10,
   "metadata": {},
   "outputs": [
    {
     "data": {
      "text/plain": [
       "<ActorsList: (1)Actor; (1)User>"
      ]
     },
     "execution_count": 10,
     "metadata": {},
     "output_type": "execute_result"
    }
   ],
   "source": [
    "five_actors.select(selection=\"User\")  # same as .to_dict()['User']\n",
    "\n",
    "# select the first and the fourth actors\n",
    "five_actors.select(selection=[True, False, False, True, False])"
   ]
  },
  {
   "attachments": {},
   "cell_type": "markdown",
   "metadata": {},
   "source": [
    "Actors' attributes are accessible as `np.ndarray`."
   ]
  },
  {
   "cell_type": "code",
   "execution_count": 11,
   "metadata": {},
   "outputs": [
    {
     "data": {
      "text/plain": [
       "array([2, 1, 3, 7, 6])"
      ]
     },
     "execution_count": 11,
     "metadata": {},
     "output_type": "execute_result"
    }
   ],
   "source": [
    "# get each Actor(object)'s unique id.\n",
    "five_actors.array(\"unique_id\")"
   ]
  },
  {
   "attachments": {},
   "cell_type": "markdown",
   "metadata": {},
   "source": [
    "You can access all actors in this list with `id >= 7` by:"
   ]
  },
  {
   "cell_type": "code",
   "execution_count": 12,
   "metadata": {},
   "outputs": [
    {
     "data": {
      "text/plain": [
       "<ActorsList: (2)User>"
      ]
     },
     "execution_count": 12,
     "metadata": {},
     "output_type": "execute_result"
    }
   ],
   "source": [
    "better_guys = five_actors.better(metric=\"unique_id\", than=3)\n",
    "better_guys"
   ]
  },
  {
   "cell_type": "markdown",
   "metadata": {},
   "source": [
    "Split the list in the second, third places: `[1, 2, | 3, | 4, 5]`"
   ]
  },
  {
   "cell_type": "code",
   "execution_count": 13,
   "metadata": {},
   "outputs": [
    {
     "data": {
      "text/plain": [
       "[array([<Actor [2]>, <Actor [1]>], dtype=object),\n",
       " array([<Seller [3]>], dtype=object),\n",
       " array([<User [7]>, <User [6]>], dtype=object)]"
      ]
     },
     "execution_count": 13,
     "metadata": {},
     "output_type": "execute_result"
    }
   ],
   "source": [
    "five_actors.split([2, 3])"
   ]
  }
 ],
 "metadata": {
  "kernelspec": {
   "display_name": "ABSES_311",
   "language": "python",
   "name": "python3"
  },
  "language_info": {
   "codemirror_mode": {
    "name": "ipython",
    "version": 3
   },
   "file_extension": ".py",
   "mimetype": "text/x-python",
   "name": "python",
   "nbconvert_exporter": "python",
   "pygments_lexer": "ipython3",
   "version": "3.11.0"
  },
  "vscode": {
   "interpreter": {
    "hash": "34e7ff707ff286a3b130ff498e19cfe7511773b98306dec22b686ceb645d0b65"
   }
  }
 },
 "nbformat": 4,
 "nbformat_minor": 2
}
