{
 "cells": [
  {
   "cell_type": "markdown",
   "metadata": {},
   "source": [
    "# Manage parameters"
   ]
  },
  {
   "cell_type": "markdown",
   "metadata": {},
   "source": [
    "<div class=\"admonition note\">\n",
    "    <p class=\"admonition-title\">In progress</p>\n",
    "    <p>This document is a work in progress if you see any errors, or exclusions or have any problems, please <a href=\"https://github.com/absespy/ABSESpy/issues\">get in touch with us</a>.</p>\n",
    "</div>"
   ]
  },
  {
   "cell_type": "markdown",
   "metadata": {},
   "source": [
    "`ABSESpy` uses [`hydra-core`](https://hydra.cc/docs/intro/) to manage parameters. `hydra-core` is a framework for elegantly configuring complex applications. It is installed if you have installed `ABSESpy` using `pip`.\n",
    "\n",
    "For the best practice, start with a `.yaml`, like this:\n",
    "\n",
    "```yaml\n",
    "time:\n",
    "    end: 3\n",
    "reports:\n",
    "    model:\n",
    "        var1: 'test'\n",
    "        var2: var2\n",
    "    agents:\n",
    "        Actor:\n",
    "            var1: 'test'\n",
    "\n",
    "        Farmer:\n",
    "            var2: 'test'\n",
    "    final:\n",
    "        var1: 'test'\n",
    "```"
   ]
  },
  {
   "cell_type": "markdown",
   "metadata": {},
   "source": [
    "We will dive into the `.yaml` configurations step by step. First of all, we need to load and parse the configs into a Python object, -specifically, a `OmegaConf` object.\n",
    "\n",
    "In an interactive environment like Jupyter Notebook, you can use the following code to load the `.yaml` file:"
   ]
  },
  {
   "cell_type": "code",
   "execution_count": 1,
   "metadata": {},
   "outputs": [
    {
     "data": {
      "text/plain": [
       "omegaconf.dictconfig.DictConfig"
      ]
     },
     "execution_count": 1,
     "metadata": {},
     "output_type": "execute_result"
    }
   ],
   "source": [
    "from hydra import compose, initialize\n",
    "\n",
    "# 加载项目层面的配置\n",
    "with initialize(\n",
    "    version_base=None, config_path=\"../../../tests/config\"\n",
    "):  # replace with your config path\n",
    "    cfg = compose(config_name=\"test_config\")\n",
    "\n",
    "type(cfg)"
   ]
  },
  {
   "cell_type": "markdown",
   "metadata": {},
   "source": [
    "In a Python script, this snippet from [`hydra-core`'s documentation](https://hydra.cc/docs/intro/) would be useful:\n",
    "\n",
    "```python\n",
    "import hydra\n",
    "from omegaconf import DictConfig, OmegaConf\n",
    "\n",
    "@hydra.main(version_base=None, config_path=\"conf\", config_name=\"config\")\n",
    "def my_app(cfg : DictConfig) -> None:\n",
    "    print(OmegaConf.to_yaml(cfg))\n",
    "\n",
    "if __name__ == \"__main__\":\n",
    "    my_app()\n",
    "```"
   ]
  },
  {
   "cell_type": "markdown",
   "metadata": {},
   "source": [
    "Let's print the configurations out."
   ]
  },
  {
   "cell_type": "code",
   "execution_count": 2,
   "metadata": {},
   "outputs": [
    {
     "name": "stdout",
     "output_type": "stream",
     "text": [
      "{'time': {'end': 3}, 'reports': {'model': {'var1': 'test', 'var2': 'var2'}, 'agents': {'Actor': {'var1': 'test'}, 'Farmer': {'var2': 'test'}}, 'final': {'var1': 'test'}}}\n"
     ]
    },
    {
     "data": {
      "text/plain": [
       "{'end': 3}"
      ]
     },
     "execution_count": 2,
     "metadata": {},
     "output_type": "execute_result"
    }
   ],
   "source": [
    "from pprint import pprint\n",
    "\n",
    "pprint(cfg)\n",
    "cfg.time"
   ]
  },
  {
   "cell_type": "markdown",
   "metadata": {},
   "source": [
    "Basically, it's just like a nested dictionary, but you can access the configuration attributes simply by `.xxx`. Such configurations can be passed to a model build by `ABSESpy` directly:"
   ]
  },
  {
   "cell_type": "code",
   "execution_count": 3,
   "metadata": {},
   "outputs": [
    {
     "data": {
      "text/plain": [
       "{'time': {'end': 3}, 'reports': {'model': {'var1': 'test', 'var2': 'var2'}, 'agents': {'Actor': {'var1': 'test'}, 'Farmer': {'var2': 'test'}}, 'final': {'var1': 'test'}}}"
      ]
     },
     "execution_count": 3,
     "metadata": {},
     "output_type": "execute_result"
    }
   ],
   "source": [
    "from abses import MainModel\n",
    "\n",
    "model = MainModel(parameters=cfg)\n",
    "model.test = 3\n",
    "\n",
    "# then, the configuration is available in model.settings\n",
    "model.settings"
   ]
  },
  {
   "cell_type": "markdown",
   "metadata": {},
   "source": [
    "Now, what's the meaning of `time` and `reports`?\n",
    "\n",
    "'time' module configures the time settings. When assigned `end = 3` in time module, it means the simulation will end at the 3rd time step.\n",
    "\n",
    "By default, a running model won't stop unless some configuration tells it. Let's try it out:"
   ]
  },
  {
   "cell_type": "code",
   "execution_count": 4,
   "metadata": {},
   "outputs": [
    {
     "data": {
      "text/plain": [
       "<TimeDriver: tick[3]>"
      ]
     },
     "execution_count": 4,
     "metadata": {},
     "output_type": "execute_result"
    }
   ],
   "source": [
    "model.run_model()\n",
    "model.time"
   ]
  },
  {
   "cell_type": "markdown",
   "metadata": {},
   "source": [
    "Ok! It works. That's the basic settings of the `time` module.\n",
    "\n",
    "However, the `reports` module is a bit more complicated. It has two submodules, `model` and `agents`.\n",
    "\n",
    "Remember we assigned an attribute `model.test = 3` after initialize it. Why?\n",
    "\n",
    "The `reports` config module is used to configure the model's [data collector](https://mesa.readthedocs.io/en/stable/tutorials/intro_tutorial.html#collecting-data), which is inherited from the [mesa framework](https://mesa.readthedocs.io/en/stable/overview.html). This module is used to collect data from the model at each time step. The `model` submodule is used to collect data from the model, and the `agents` submodule is used to collect data from the agents.\n",
    "\n",
    "Talk is cheap, let's see what happened:"
   ]
  },
  {
   "cell_type": "code",
   "execution_count": 5,
   "metadata": {},
   "outputs": [
    {
     "data": {
      "text/html": [
       "<div>\n",
       "<style scoped>\n",
       "    .dataframe tbody tr th:only-of-type {\n",
       "        vertical-align: middle;\n",
       "    }\n",
       "\n",
       "    .dataframe tbody tr th {\n",
       "        vertical-align: top;\n",
       "    }\n",
       "\n",
       "    .dataframe thead th {\n",
       "        text-align: right;\n",
       "    }\n",
       "</style>\n",
       "<table border=\"1\" class=\"dataframe\">\n",
       "  <thead>\n",
       "    <tr style=\"text-align: right;\">\n",
       "      <th></th>\n",
       "      <th>var1</th>\n",
       "      <th>var2</th>\n",
       "    </tr>\n",
       "  </thead>\n",
       "  <tbody>\n",
       "    <tr>\n",
       "      <th>0</th>\n",
       "      <td>3</td>\n",
       "      <td>None</td>\n",
       "    </tr>\n",
       "    <tr>\n",
       "      <th>1</th>\n",
       "      <td>3</td>\n",
       "      <td>None</td>\n",
       "    </tr>\n",
       "    <tr>\n",
       "      <th>2</th>\n",
       "      <td>3</td>\n",
       "      <td>None</td>\n",
       "    </tr>\n",
       "  </tbody>\n",
       "</table>\n",
       "</div>"
      ],
      "text/plain": [
       "   var1  var2\n",
       "0     3  None\n",
       "1     3  None\n",
       "2     3  None"
      ]
     },
     "execution_count": 5,
     "metadata": {},
     "output_type": "execute_result"
    }
   ],
   "source": [
    "model.datacollector.get_model_vars_dataframe()"
   ]
  },
  {
   "cell_type": "markdown",
   "metadata": {},
   "source": [
    "It's a bit tricky. The `var1` and `var2` are the names of the reports. They were converted into columns' name. Why they are 6 and 3?\n",
    "\n",
    "Notice that the `var2` was just referring to the `test` attribute of the model, and the `var1` was a lambda function. The lambda function takes the model as the input and returns the value of the report. The `ABSESpy` will evaluate the lambda function at the end of each time step.\n",
    "\n",
    "That means:\n",
    "\n",
    "var2 -> attribute 'test' -> 3\n",
    "\n",
    "var1 -> \":lambda m: m.test * 2\" -> parsed as a function, and the result is 6\n",
    "\n",
    "<div class=\"admonition tip\">\n",
    "    <p class=\"admonition-title\">Tips</p>\n",
    "    <p>\":\" before the keyword `lambda` denotes this is an lambda function rather than attribute string.</a>.</p>\n",
    "</div>\n",
    "\n",
    "Super useful! You can collect any data from the model and agents by configuring the `reports` module. You know, complex configurations of an agent-based model is a piece of cake with `ABSESpy`! Guess what result we would get from the `agents` submodule?"
   ]
  },
  {
   "cell_type": "markdown",
   "metadata": {},
   "source": [
    "Correct! There wasn't any actor before run. Thus, no values were collected. Let's create a new model with adding some agents and see what happens:"
   ]
  },
  {
   "cell_type": "code",
   "execution_count": 6,
   "metadata": {},
   "outputs": [],
   "source": [
    "from abses import Actor\n",
    "\n",
    "model = MainModel(parameters=cfg)\n",
    "model.test = \"Final result\"\n",
    "\n",
    "actors = model.agents.new(Actor, num=2)\n",
    "actors[0].test = \"testing\"\n",
    "actors[1].test = \"Hello World\""
   ]
  },
  {
   "cell_type": "code",
   "execution_count": 7,
   "metadata": {},
   "outputs": [],
   "source": [
    "model.run_model()"
   ]
  },
  {
   "cell_type": "code",
   "execution_count": 8,
   "metadata": {},
   "outputs": [
    {
     "data": {
      "text/html": [
       "<div>\n",
       "<style scoped>\n",
       "    .dataframe tbody tr th:only-of-type {\n",
       "        vertical-align: middle;\n",
       "    }\n",
       "\n",
       "    .dataframe tbody tr th {\n",
       "        vertical-align: top;\n",
       "    }\n",
       "\n",
       "    .dataframe thead th {\n",
       "        text-align: right;\n",
       "    }\n",
       "</style>\n",
       "<table border=\"1\" class=\"dataframe\">\n",
       "  <thead>\n",
       "    <tr style=\"text-align: right;\">\n",
       "      <th></th>\n",
       "      <th>AgentID</th>\n",
       "      <th>Step</th>\n",
       "      <th>Time</th>\n",
       "      <th>var1</th>\n",
       "    </tr>\n",
       "  </thead>\n",
       "  <tbody>\n",
       "    <tr>\n",
       "      <th>0</th>\n",
       "      <td>Actor[0]</td>\n",
       "      <td>1</td>\n",
       "      <td>2024-06-04 13:29:43.786840</td>\n",
       "      <td>testing</td>\n",
       "    </tr>\n",
       "    <tr>\n",
       "      <th>1</th>\n",
       "      <td>Actor[1]</td>\n",
       "      <td>1</td>\n",
       "      <td>2024-06-04 13:29:43.786840</td>\n",
       "      <td>Hello World</td>\n",
       "    </tr>\n",
       "    <tr>\n",
       "      <th>0</th>\n",
       "      <td>Actor[0]</td>\n",
       "      <td>2</td>\n",
       "      <td>2024-06-04 13:29:43.786840</td>\n",
       "      <td>testing</td>\n",
       "    </tr>\n",
       "    <tr>\n",
       "      <th>1</th>\n",
       "      <td>Actor[1]</td>\n",
       "      <td>2</td>\n",
       "      <td>2024-06-04 13:29:43.786840</td>\n",
       "      <td>Hello World</td>\n",
       "    </tr>\n",
       "    <tr>\n",
       "      <th>0</th>\n",
       "      <td>Actor[0]</td>\n",
       "      <td>3</td>\n",
       "      <td>2024-06-04 13:29:43.786840</td>\n",
       "      <td>testing</td>\n",
       "    </tr>\n",
       "    <tr>\n",
       "      <th>1</th>\n",
       "      <td>Actor[1]</td>\n",
       "      <td>3</td>\n",
       "      <td>2024-06-04 13:29:43.786840</td>\n",
       "      <td>Hello World</td>\n",
       "    </tr>\n",
       "  </tbody>\n",
       "</table>\n",
       "</div>"
      ],
      "text/plain": [
       "    AgentID  Step                       Time         var1\n",
       "0  Actor[0]     1 2024-06-04 13:29:43.786840      testing\n",
       "1  Actor[1]     1 2024-06-04 13:29:43.786840  Hello World\n",
       "0  Actor[0]     2 2024-06-04 13:29:43.786840      testing\n",
       "1  Actor[1]     2 2024-06-04 13:29:43.786840  Hello World\n",
       "0  Actor[0]     3 2024-06-04 13:29:43.786840      testing\n",
       "1  Actor[1]     3 2024-06-04 13:29:43.786840  Hello World"
      ]
     },
     "execution_count": 8,
     "metadata": {},
     "output_type": "execute_result"
    }
   ],
   "source": [
    "model.datacollector.get_agent_vars_dataframe(\"Actor\")"
   ]
  },
  {
   "cell_type": "markdown",
   "metadata": {},
   "source": [
    "Final result."
   ]
  },
  {
   "cell_type": "code",
   "execution_count": 9,
   "metadata": {},
   "outputs": [
    {
     "data": {
      "text/plain": [
       "{'var1': 'Final result'}"
      ]
     },
     "execution_count": 9,
     "metadata": {},
     "output_type": "execute_result"
    }
   ],
   "source": [
    "model.datacollector.get_final_vars_report(model)"
   ]
  },
  {
   "cell_type": "markdown",
   "metadata": {},
   "source": [
    "Super handy, aha. Enjoy coding!"
   ]
  }
 ],
 "metadata": {
  "kernelspec": {
   "display_name": ".venv",
   "language": "python",
   "name": "python3"
  },
  "language_info": {
   "codemirror_mode": {
    "name": "ipython",
    "version": 3
   },
   "file_extension": ".py",
   "mimetype": "text/x-python",
   "name": "python",
   "nbconvert_exporter": "python",
   "pygments_lexer": "ipython3",
   "version": "3.11.2"
  }
 },
 "nbformat": 4,
 "nbformat_minor": 2
}
