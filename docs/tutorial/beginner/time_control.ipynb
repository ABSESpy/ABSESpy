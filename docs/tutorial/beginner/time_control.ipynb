{
 "cells": [
  {
   "cell_type": "markdown",
   "id": "f7413922-95c6-4335-b55b-b1278bbb8bea",
   "metadata": {},
   "source": [
    "# Real-world SES modeling enhancements"
   ]
  },
  {
   "cell_type": "markdown",
   "id": "cc4d5f78-1938-4254-b046-69ed87eba85f",
   "metadata": {},
   "source": [
    "## Real-world time configurations"
   ]
  },
  {
   "cell_type": "markdown",
   "id": "c93ef2d3-71d3-4c25-a3de-9e51b3aa5693",
   "metadata": {},
   "source": [
    "In Socio-Ecological Systems (SES) modeling, a real-world event's natural or human-induced duration can range from seconds to centuries. Recognizing the importance of time in modeling real-world problems, ABSESpy introduces a superior time control mechanism that stands out from traditional agent-based modeling frameworks."
   ]
  },
  {
   "cell_type": "markdown",
   "id": "a15e2770-2f7e-475f-b389-02c18a86e6a5",
   "metadata": {},
   "source": [
    "<div align=\"center\">\n",
    "\t<img src=\"https://songshgeo-picgo-1302043007.cos.ap-beijing.myqcloud.com/uPic/schedule.png\" alt=\"Drawing\" style=\"width: 400px;\"/>\n",
    "</div>"
   ]
  },
  {
   "cell_type": "markdown",
   "id": "fcd56320-89d3-4b2c-be79-bcfbd0950a06",
   "metadata": {},
   "source": [
    "### 'Tick' mode"
   ]
  },
  {
   "cell_type": "markdown",
   "id": "3ffda3a1-0048-4d70-8705-70f566f03340",
   "metadata": {},
   "source": [
    "The same as traditional agent-based modeling framework and, by default, `ABSESpy` records each simulating step as an increment of counting ticker. "
   ]
  },
  {
   "cell_type": "code",
   "execution_count": 1,
   "id": "c455f8b3-0679-4849-b7df-6e47e48739d6",
   "metadata": {
    "execution": {
     "iopub.execute_input": "2023-11-21T04:10:30.708551Z",
     "iopub.status.busy": "2023-11-21T04:10:30.708204Z",
     "iopub.status.idle": "2023-11-21T04:10:31.843598Z",
     "shell.execute_reply": "2023-11-21T04:10:31.843259Z",
     "shell.execute_reply.started": "2023-11-21T04:10:30.708525Z"
    }
   },
   "outputs": [
    {
     "data": {
      "text/plain": [
       "'tick'"
      ]
     },
     "execution_count": 1,
     "metadata": {},
     "output_type": "execute_result"
    }
   ],
   "source": [
    "from IPython.core.interactiveshell import InteractiveShell\n",
    "\n",
    "InteractiveShell.ast_node_interactivity = \"all\"\n",
    "\n",
    "from abses import MainModel\n",
    "\n",
    "# create a tick mode model.\n",
    "model = MainModel()\n",
    "\n",
    "model.time.ticking_mode"
   ]
  },
  {
   "cell_type": "markdown",
   "id": "ef6d272f-0425-4f31-ba83-3f682d6cba6b",
   "metadata": {},
   "source": [
    "[`TimeDriver`](#TODO) is the major class where most time-related functions are implementationed. For detailed usage, please check out the [API documentation](#TODO).\n",
    "\n",
    "Under this simplest and most-popular mode, let's try to go 5 steps. Notice that `tick` of time went from `0` to `5`."
   ]
  },
  {
   "cell_type": "code",
   "execution_count": 2,
   "id": "4673e46a-4264-48e1-8706-1683d62139d0",
   "metadata": {
    "execution": {
     "iopub.execute_input": "2023-11-21T04:10:31.844188Z",
     "iopub.status.busy": "2023-11-21T04:10:31.843999Z",
     "iopub.status.idle": "2023-11-21T04:10:31.846835Z",
     "shell.execute_reply": "2023-11-21T04:10:31.846616Z",
     "shell.execute_reply.started": "2023-11-21T04:10:31.844178Z"
    }
   },
   "outputs": [
    {
     "data": {
      "text/plain": [
       "<TimeDriver: tick[0]>"
      ]
     },
     "execution_count": 2,
     "metadata": {},
     "output_type": "execute_result"
    },
    {
     "data": {
      "text/plain": [
       "<TimeDriver: tick[5]>"
      ]
     },
     "execution_count": 2,
     "metadata": {},
     "output_type": "execute_result"
    }
   ],
   "source": [
    "model.time\n",
    "\n",
    "model.time.go(5)\n",
    "\n",
    "# Counter\n",
    "model.time"
   ]
  },
  {
   "cell_type": "markdown",
   "id": "197efd1c-991c-4ba7-8fe2-d9f4cdd687fd",
   "metadata": {},
   "source": [
    "Another important property of `TimeDriver`, the `start_dt` stores when the `TimeDriver` was run firstly under the 'tick' mode."
   ]
  },
  {
   "cell_type": "code",
   "execution_count": 3,
   "id": "d66f6aa1-4ef6-49ca-a258-d4a8a7de9baf",
   "metadata": {
    "execution": {
     "iopub.execute_input": "2023-11-21T04:10:31.847217Z",
     "iopub.status.busy": "2023-11-21T04:10:31.847159Z",
     "iopub.status.idle": "2023-11-21T04:10:31.849178Z",
     "shell.execute_reply": "2023-11-21T04:10:31.848979Z",
     "shell.execute_reply.started": "2023-11-21T04:10:31.847210Z"
    }
   },
   "outputs": [
    {
     "data": {
      "text/plain": [
       "DateTime(2023, 11, 21, 12, 10, 31, 840232)"
      ]
     },
     "execution_count": 3,
     "metadata": {},
     "output_type": "execute_result"
    }
   ],
   "source": [
    "model.time.start_dt"
   ]
  },
  {
   "cell_type": "markdown",
   "id": "09333b99-1567-4b02-8c72-7067711c5793",
   "metadata": {},
   "source": [
    "### 'duration' mode"
   ]
  },
  {
   "cell_type": "markdown",
   "id": "1b3488ea-3794-45f1-84bd-222538cfe0b9",
   "metadata": {},
   "source": [
    "However, by introducing a feature what we named as a [**Duration Mode**](#TODO), `ABSESpy` makes much easier to simulate the actual progression of time. Bellow is a simple implementation of yearly-step model:"
   ]
  },
  {
   "cell_type": "code",
   "execution_count": 4,
   "id": "c8ba0b5a-c692-4657-aab3-4e457d060d84",
   "metadata": {
    "execution": {
     "iopub.execute_input": "2023-11-21T04:10:31.850459Z",
     "iopub.status.busy": "2023-11-21T04:10:31.850362Z",
     "iopub.status.idle": "2023-11-21T04:10:31.855905Z",
     "shell.execute_reply": "2023-11-21T04:10:31.855572Z",
     "shell.execute_reply.started": "2023-11-21T04:10:31.850450Z"
    }
   },
   "outputs": [
    {
     "data": {
      "text/plain": [
       "'duration'"
      ]
     },
     "execution_count": 4,
     "metadata": {},
     "output_type": "execute_result"
    }
   ],
   "source": [
    "parameters = {\n",
    "    \"time\": {\n",
    "        \"years\": 1,\n",
    "    }\n",
    "}\n",
    "\n",
    "model = MainModel(parameters=parameters)\n",
    "\n",
    "# Another ticking model.\n",
    "model.time.ticking_mode"
   ]
  },
  {
   "cell_type": "markdown",
   "id": "55f2b574-eb0e-4504-aded-f4c44d25ab81",
   "metadata": {},
   "source": [
    "By introducing a param of `years = 1` under the 'time' session, our model ticking-mode changed to 'duration'. Which means whenever the model goes a step, the simulation is like one year of real-world time."
   ]
  },
  {
   "cell_type": "code",
   "execution_count": 5,
   "id": "e34b3cc5-5ea6-4855-9caa-9653224fe4e2",
   "metadata": {
    "execution": {
     "iopub.execute_input": "2023-11-21T04:10:31.856479Z",
     "iopub.status.busy": "2023-11-21T04:10:31.856401Z",
     "iopub.status.idle": "2023-11-21T04:10:31.859192Z",
     "shell.execute_reply": "2023-11-21T04:10:31.859002Z",
     "shell.execute_reply.started": "2023-11-21T04:10:31.856471Z"
    }
   },
   "outputs": [
    {
     "data": {
      "text/plain": [
       "<TimeDriver: 2023-11-21 12:10:31>"
      ]
     },
     "execution_count": 5,
     "metadata": {},
     "output_type": "execute_result"
    },
    {
     "data": {
      "text/plain": [
       "<TimeDriver: 2029-11-21 12:10:31>"
      ]
     },
     "execution_count": 5,
     "metadata": {},
     "output_type": "execute_result"
    }
   ],
   "source": [
    "model.time\n",
    "\n",
    "# go six years... ...\n",
    "model.time.go(6)\n",
    "\n",
    "model.time"
   ]
  },
  {
   "cell_type": "markdown",
   "id": "4b346737-fc63-4d98-8470-890b8c9e3951",
   "metadata": {},
   "source": [
    "As you could see, the real-time counted from a start of the current time, we can change the behaviors by inputing different parameters of 'time' session. See this parameters management tutorial to learn how to make full use of this feature. Bellow is the possible parameters table:"
   ]
  },
  {
   "cell_type": "markdown",
   "id": "f565ca6b-3275-4654-b801-c84f9d6ee63e",
   "metadata": {},
   "source": [
    "`TimeDriver` accepts below parameters:\n",
    "\n",
    "\n",
    "| Parameter Name | Expected Data Type | Default Value | Description |\n",
    "|----------------|--------------------|---------------|-------------|\n",
    "| start          | str, None                | None          | If None: use the current time, else: should be a string which can be parsed by `pendulum.parse()`. |\n",
    "| end            | str, int, None         | None          | If it's a string that can be parsed into datetime the model should end until achieving this time; if int: the model should end in that tick; if None no auto-end. |\n",
    "| irregular         | bool               | False         | If False: not dive into an irregular mode (tick-mode); if True, the model will solve as an irregular mode. |\n",
    "| years          | int                | 0             | Time duration in years for the duration mode. |\n",
    "| months         | int                | 0             | Time duration in months for the duration mode. |\n",
    "| weeks          | int                | 0             | Time duration in weeks for the duration mode. |\n",
    "| days           | int                | 0             | Time duration in days for the duration mode. |\n",
    "| hours          | int                | 0             | Time duration in hours for the duration mode. |\n",
    "| minutes        | int                | 0             | Time duration in minutes for the duration mode. |\n",
    "| seconds        | int                | 0             | Time duration in seconds for the duration mode. |"
   ]
  },
  {
   "cell_type": "markdown",
   "id": "57bb63d3-6daf-45b8-8c81-98ed91b12fb8",
   "metadata": {},
   "source": [
    "### 'Irregular' mode"
   ]
  },
  {
   "cell_type": "markdown",
   "id": "26129b66-22e7-4b4c-a671-a5800e822bbc",
   "metadata": {},
   "source": [
    "This is a highly customisable mode, but accordingly, it is not commonly used and requires more code to be written by the user, so it is only briefly described here. To enable this mode, make sure that the `record` parameter of the time module is turned on, and that there can't be any parameters that trigger the `duration` mode (e.g. `years`, `months`, `days`, `hours`, `minutes` and `seconds`)\n"
   ]
  },
  {
   "cell_type": "code",
   "execution_count": 6,
   "id": "0cb9b8c9-6cea-476d-8209-d43b5457e8af",
   "metadata": {
    "execution": {
     "iopub.execute_input": "2023-11-21T04:10:31.859641Z",
     "iopub.status.busy": "2023-11-21T04:10:31.859542Z",
     "iopub.status.idle": "2023-11-21T04:10:31.864379Z",
     "shell.execute_reply": "2023-11-21T04:10:31.864135Z",
     "shell.execute_reply.started": "2023-11-21T04:10:31.859634Z"
    }
   },
   "outputs": [],
   "source": [
    "parameters = {\n",
    "    \"time\": {\"irregular\": True, \"start\": \"2020-01-01\", \"end\": \"2022-01-01\"}\n",
    "}\n",
    "\n",
    "model = MainModel(parameters=parameters)\n",
    "model.time.go(years=1)\n",
    "model.time.go(ticks=0, months=5)\n",
    "model.time.go(ticks=3, days=100)"
   ]
  },
  {
   "cell_type": "code",
   "execution_count": 7,
   "id": "fabbae51-5281-4da8-be7f-b24607945724",
   "metadata": {
    "execution": {
     "iopub.execute_input": "2023-11-21T04:10:31.865009Z",
     "iopub.status.busy": "2023-11-21T04:10:31.864897Z",
     "iopub.status.idle": "2023-11-21T04:10:31.868428Z",
     "shell.execute_reply": "2023-11-21T04:10:31.868100Z",
     "shell.execute_reply.started": "2023-11-21T04:10:31.864999Z"
    }
   },
   "outputs": [
    {
     "data": {
      "text/plain": [
       "<TimeDriver: irregular[4] 2022-03-28 00:00:00>"
      ]
     },
     "execution_count": 7,
     "metadata": {},
     "output_type": "execute_result"
    },
    {
     "data": {
      "text/plain": [
       "DateTime(2022, 1, 1, 0, 0, 0)"
      ]
     },
     "execution_count": 7,
     "metadata": {},
     "output_type": "execute_result"
    },
    {
     "data": {
      "text/plain": [
       "True"
      ]
     },
     "execution_count": 7,
     "metadata": {},
     "output_type": "execute_result"
    }
   ],
   "source": [
    "model.time\n",
    "model.time.end_dt\n",
    "\n",
    "model.time.should_end"
   ]
  },
  {
   "cell_type": "markdown",
   "id": "5961421b-c428-4c93-9024-b7c6243db673",
   "metadata": {},
   "source": [
    "## Auto-update Dynamic Variables"
   ]
  },
  {
   "cell_type": "markdown",
   "id": "98ce82ff-0944-4eb2-9e7a-c9d65b2ca191",
   "metadata": {},
   "source": [
    "Of the most important reasons to use real-world data and time is dynamically loading and updating time-series datasets.\n",
    "\n",
    "For testing this feature, let's create a time-series data by pandas."
   ]
  },
  {
   "cell_type": "code",
   "execution_count": 8,
   "id": "e6fdb612-e07c-41fe-97ef-2298e2936d4a",
   "metadata": {
    "execution": {
     "iopub.execute_input": "2023-11-21T04:10:31.869207Z",
     "iopub.status.busy": "2023-11-21T04:10:31.869137Z",
     "iopub.status.idle": "2023-11-21T04:10:31.880644Z",
     "shell.execute_reply": "2023-11-21T04:10:31.880155Z",
     "shell.execute_reply.started": "2023-11-21T04:10:31.869200Z"
    }
   },
   "outputs": [
    {
     "data": {
      "text/plain": [
       "2000     0\n",
       "2001     1\n",
       "2002     2\n",
       "2003     3\n",
       "2004     4\n",
       "2005     5\n",
       "2006     6\n",
       "2007     7\n",
       "2008     8\n",
       "2009     9\n",
       "2010    10\n",
       "2011    11\n",
       "2012    12\n",
       "2013    13\n",
       "2014    14\n",
       "2015    15\n",
       "2016    16\n",
       "2017    17\n",
       "2018    18\n",
       "2019    19\n",
       "dtype: int64"
      ]
     },
     "execution_count": 8,
     "metadata": {},
     "output_type": "execute_result"
    }
   ],
   "source": [
    "import pandas as pd\n",
    "\n",
    "dt_index = pd.date_range(\"2000-01-01\", \"2020-01-01\", freq=\"Y\")\n",
    "data_1 = pd.Series(data=range(len(dt_index)), index=dt_index.year)\n",
    "\n",
    "data_1"
   ]
  },
  {
   "cell_type": "markdown",
   "id": "6a1edd20-e177-4315-b818-9ed4436392f7",
   "metadata": {},
   "source": [
    "For selecting the data from a corresponding year dynamically, we need to define a [`_DynamicVariable`](#TODO). In the belowing testing model"
   ]
  },
  {
   "cell_type": "code",
   "execution_count": 9,
   "id": "66fd821d-157e-440f-9b79-12c18c245ac4",
   "metadata": {
    "execution": {
     "iopub.execute_input": "2023-11-21T04:10:31.881745Z",
     "iopub.status.busy": "2023-11-21T04:10:31.881640Z",
     "iopub.status.idle": "2023-11-21T04:10:31.888002Z",
     "shell.execute_reply": "2023-11-21T04:10:31.887364Z",
     "shell.execute_reply.started": "2023-11-21T04:10:31.881735Z"
    }
   },
   "outputs": [],
   "source": [
    "parameters = {\n",
    "    \"time\": {\n",
    "        \"start\": \"2000-12-31\",\n",
    "        \"years\": 5,  # Notice this, each step corresponds to 5 real-world years.\n",
    "    }\n",
    "}\n",
    "\n",
    "# setup a testing model.\n",
    "model = MainModel(parameters=parameters)\n",
    "\n",
    "\n",
    "# define a function to solve the data_1.\n",
    "def withdraw_data(data, time):\n",
    "    \"\"\"Function for dynamic data withdraw\"\"\"\n",
    "    return data.loc[time.year]\n",
    "\n",
    "\n",
    "# define the dyanamic data, storing `withdrawing function` and the `data source`.\n",
    "model.human.add_dynamic_variable(\n",
    "    name=\"data_1\", data=data_1, function=withdraw_data\n",
    ")"
   ]
  },
  {
   "cell_type": "markdown",
   "id": "5fd77461-d73c-46ad-a993-e355cf8f2798",
   "metadata": {},
   "source": [
    "Since we store a time-series data withdrawing rule, we can access the data dyanamically in the future whenever the time goes by."
   ]
  },
  {
   "cell_type": "code",
   "execution_count": 10,
   "id": "e582af76-35de-44cc-a7bd-68c6dcdea825",
   "metadata": {
    "execution": {
     "iopub.execute_input": "2023-11-21T04:10:31.889146Z",
     "iopub.status.busy": "2023-11-21T04:10:31.888861Z",
     "iopub.status.idle": "2023-11-21T04:10:31.895013Z",
     "shell.execute_reply": "2023-11-21T04:10:31.894277Z",
     "shell.execute_reply.started": "2023-11-21T04:10:31.889134Z"
    }
   },
   "outputs": [
    {
     "data": {
      "text/plain": [
       "0"
      ]
     },
     "execution_count": 10,
     "metadata": {},
     "output_type": "execute_result"
    }
   ],
   "source": [
    "model.human.dynamic_var(\"data_1\")"
   ]
  },
  {
   "cell_type": "markdown",
   "id": "bc593cc9-49cb-4ee4-8802-368c4f557d75",
   "metadata": {},
   "source": [
    "Next selection should be 5 (*because the real-world time goes 5 years per step*)."
   ]
  },
  {
   "cell_type": "code",
   "execution_count": 11,
   "id": "6f332032-5c9d-47fa-91ba-0bfc35772a35",
   "metadata": {
    "execution": {
     "iopub.execute_input": "2023-11-21T04:10:31.896086Z",
     "iopub.status.busy": "2023-11-21T04:10:31.895966Z",
     "iopub.status.idle": "2023-11-21T04:10:31.898887Z",
     "shell.execute_reply": "2023-11-21T04:10:31.898672Z",
     "shell.execute_reply.started": "2023-11-21T04:10:31.896077Z"
    }
   },
   "outputs": [
    {
     "data": {
      "text/plain": [
       "5"
      ]
     },
     "execution_count": 11,
     "metadata": {},
     "output_type": "execute_result"
    }
   ],
   "source": [
    "model.time.go()\n",
    "model.human.dynamic_var(\"data_1\")"
   ]
  },
  {
   "cell_type": "markdown",
   "id": "ea238776-0be7-48c8-95d3-8243cff7af45",
   "metadata": {},
   "source": [
    "Then, 10... and so on"
   ]
  },
  {
   "cell_type": "code",
   "execution_count": 12,
   "id": "8618038e-27c9-4566-b19a-726d73e51b05",
   "metadata": {
    "execution": {
     "iopub.execute_input": "2023-11-21T04:10:31.899503Z",
     "iopub.status.busy": "2023-11-21T04:10:31.899332Z",
     "iopub.status.idle": "2023-11-21T04:10:31.902637Z",
     "shell.execute_reply": "2023-11-21T04:10:31.902416Z",
     "shell.execute_reply.started": "2023-11-21T04:10:31.899486Z"
    }
   },
   "outputs": [
    {
     "data": {
      "text/plain": [
       "10"
      ]
     },
     "execution_count": 12,
     "metadata": {},
     "output_type": "execute_result"
    },
    {
     "data": {
      "text/plain": [
       "15"
      ]
     },
     "execution_count": 12,
     "metadata": {},
     "output_type": "execute_result"
    }
   ],
   "source": [
    "# should be 10\n",
    "model.time.go()\n",
    "model.human.dynamic_var(\"data_1\")\n",
    "\n",
    "# should be 15\n",
    "model.time.go()\n",
    "model.human.dynamic_var(\"data_1\")"
   ]
  },
  {
   "cell_type": "markdown",
   "id": "bad65403-1754-4a04-a270-741d482d7f83",
   "metadata": {},
   "source": [
    "Dynamic data may be beneficial because modeling the real-world SES problem often requires various datasets as inputs. You won't want to re-calculate the data in each step... So! Just define them as dynamic variables when initializing or setting up a module by uploading a `withdraw data function` and a `data source`. It should also be applied to spatial datasets! Like selecting a raster data through some withdrawing function like `xarray.DataArray.sel(time=...)`."
   ]
  },
  {
   "cell_type": "markdown",
   "id": "c45e260c-8887-4a9a-9279-24290bf761b2",
   "metadata": {},
   "source": [
    "## Conditional Time-based Triggering"
   ]
  },
  {
   "cell_type": "markdown",
   "id": "c5965100-590a-4c55-b213-f15babf8ea00",
   "metadata": {},
   "source": [
    "Triggering some function based on a specific condition is another advanced application and highlight advantage of using real-world time. In `ABSESpy` we provide a decorator named [`time_condition`](#TODO) to do so. The below use case is intuitive: our custom `Actor` class `TestActor` has a function but we only want to use it on the day of the beginning of a year. Therefore, we define a condition dictionary `{'month': 1, 'day': 1}`. Therefore, in the 10 times run, the function is called only once. "
   ]
  },
  {
   "cell_type": "code",
   "execution_count": 13,
   "id": "69b2af7e-4a90-4846-800b-5452f3260820",
   "metadata": {
    "execution": {
     "iopub.execute_input": "2023-11-21T04:10:31.904881Z",
     "iopub.status.busy": "2023-11-21T04:10:31.904790Z",
     "iopub.status.idle": "2023-11-21T04:10:31.910838Z",
     "shell.execute_reply": "2023-11-21T04:10:31.910623Z",
     "shell.execute_reply.started": "2023-11-21T04:10:31.904873Z"
    }
   },
   "outputs": [
    {
     "name": "stdout",
     "output_type": "stream",
     "text": [
      "Time now is <TimeDriver: 1996-12-24 00:00:00>\n",
      "Time now is <TimeDriver: 1996-12-25 00:00:00>\n",
      "Time now is <TimeDriver: 1996-12-26 00:00:00>\n",
      "Time now is <TimeDriver: 1996-12-27 00:00:00>\n",
      "Time now is <TimeDriver: 1996-12-28 00:00:00>\n",
      "Time now is <TimeDriver: 1996-12-29 00:00:00>\n",
      "Time now is <TimeDriver: 1996-12-30 00:00:00>\n",
      "Time now is <TimeDriver: 1996-12-31 00:00:00>\n",
      "Today is 1th, January, Happy new year!\n",
      "Time now is <TimeDriver: 1997-01-01 00:00:00>\n",
      "Time now is <TimeDriver: 1997-01-02 00:00:00>\n"
     ]
    }
   ],
   "source": [
    "from abses.time import time_condition\n",
    "from abses import Actor\n",
    "\n",
    "\n",
    "class TestActor(Actor):\n",
    "    @time_condition(condition={\"month\": 1, \"day\": 1}, when_run=True)\n",
    "    def happy_new_year(self):\n",
    "        print(\"Today is 1th, January, Happy new year!\")\n",
    "\n",
    "\n",
    "parameters = {\"time\": {\"start\": \"1996-12-24\", \"days\": 1}}\n",
    "\n",
    "\n",
    "model = MainModel(parameters=parameters)\n",
    "agent = model.agents.create(TestActor, 1, singleton=True)\n",
    "\n",
    "for _ in range(10):\n",
    "    print(f\"Time now is {model.time}\")\n",
    "    model.time.go()\n",
    "    agent.happy_new_year()"
   ]
  },
  {
   "cell_type": "markdown",
   "id": "41a577af-9de6-4a8e-a1fd-cc2669e9315a",
   "metadata": {},
   "source": [
    "It should be called again in the next year beginning (i.e., `1998-01-01`) if we run this model longer... It means, the function will be called when the condition is fully satisfied. However, we can setup an opposite case by setting parameter `when_run = False`:"
   ]
  },
  {
   "cell_type": "code",
   "execution_count": 14,
   "id": "cba28dc1-1a14-4e02-8d1b-5f6f848fa10c",
   "metadata": {
    "execution": {
     "iopub.execute_input": "2023-11-21T04:10:31.911354Z",
     "iopub.status.busy": "2023-11-21T04:10:31.911242Z",
     "iopub.status.idle": "2023-11-21T04:10:31.913777Z",
     "shell.execute_reply": "2023-11-21T04:10:31.913558Z",
     "shell.execute_reply.started": "2023-11-21T04:10:31.911346Z"
    }
   },
   "outputs": [
    {
     "name": "stdout",
     "output_type": "stream",
     "text": [
      "Time now is <TimeDriver: 1997-01-03 00:00:00>\n",
      "I have to work today 😭!\n",
      "Time now is <TimeDriver: 1997-01-04 00:00:00>\n",
      "I have to work today 😭!\n",
      "Time now is <TimeDriver: 1997-01-05 00:00:00>\n",
      "Time now is <TimeDriver: 1997-01-06 00:00:00>\n",
      "I have to work today 😭!\n",
      "Time now is <TimeDriver: 1997-01-07 00:00:00>\n",
      "I have to work today 😭!\n"
     ]
    }
   ],
   "source": [
    "class TestActor_2(Actor):\n",
    "    @time_condition(condition={\"month\": 1, \"day\": 6}, when_run=False)\n",
    "    def working(self):\n",
    "        print(\"I have to work today 😭!\")\n",
    "\n",
    "\n",
    "agent_2 = model.agents.create(TestActor_2, 1, singleton=True)\n",
    "for _ in range(5):\n",
    "    print(f\"Time now is {model.time}\")\n",
    "    model.time.go()\n",
    "    agent_2.working()"
   ]
  },
  {
   "cell_type": "markdown",
   "id": "32b8e53c-e048-4a8c-b1b2-39209f20512a",
   "metadata": {},
   "source": [
    "In the above case, the `agent_2` didn't have to work on 6th, January (as we set in the condition dictionary) 😄!\n",
    "\n",
    "This ensures that certain actions or events only occur at the right moments in your simulation, mirroring real-world occurrences with higher fidelity."
   ]
  }
 ],
 "metadata": {
  "kernelspec": {
   "display_name": "Python 3 (ipykernel)",
   "language": "python",
   "name": "python3"
  },
  "language_info": {
   "codemirror_mode": {
    "name": "ipython",
    "version": 3
   },
   "file_extension": ".py",
   "mimetype": "text/x-python",
   "name": "python",
   "nbconvert_exporter": "python",
   "pygments_lexer": "ipython3",
   "version": "3.11.0"
  }
 },
 "nbformat": 4,
 "nbformat_minor": 5
}
