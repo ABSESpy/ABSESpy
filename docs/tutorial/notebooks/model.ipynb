{
 "cells": [
  {
   "cell_type": "markdown",
   "metadata": {},
   "source": [
    "# A demo Model"
   ]
  },
  {
   "cell_type": "markdown",
   "metadata": {},
   "source": [
    "After initializing a model, its state is `init`"
   ]
  },
  {
   "cell_type": "code",
   "execution_count": 1,
   "metadata": {
    "execution": {
     "iopub.execute_input": "2023-01-29T14:42:20.420706Z",
     "iopub.status.busy": "2023-01-29T14:42:20.420386Z",
     "iopub.status.idle": "2023-01-29T14:42:37.462317Z",
     "shell.execute_reply": "2023-01-29T14:42:37.460853Z",
     "shell.execute_reply.started": "2023-01-29T14:42:20.420676Z"
    }
   },
   "outputs": [
    {
     "data": {
      "text/plain": [
       "<MainModel-v0.1.0(demo): init>"
      ]
     },
     "execution_count": 1,
     "metadata": {},
     "output_type": "execute_result"
    }
   ],
   "source": [
    "from abses import MainModel\n",
    "\n",
    "model = MainModel(name='demo', base='tests')\n",
    "model"
   ]
  },
  {
   "cell_type": "markdown",
   "metadata": {},
   "source": [
    "## Initialization"
   ]
  },
  {
   "cell_type": "markdown",
   "metadata": {},
   "source": [
    "For intuition, the model has a default start date and spatial extent. Those contexts can be modified by the user via the parameter profile, see the [parameter settings tutorial](parameters.ipynb) for details."
   ]
  },
  {
   "cell_type": "code",
   "execution_count": 2,
   "metadata": {
    "execution": {
     "iopub.status.busy": "2023-01-29T14:42:37.463132Z",
     "iopub.status.idle": "2023-01-29T14:42:37.463636Z",
     "shell.execute_reply": "2023-01-29T14:42:37.463505Z",
     "shell.execute_reply.started": "2023-01-29T14:42:37.463491Z"
    }
   },
   "outputs": [
    {
     "data": {
      "text/plain": [
       "2000"
      ]
     },
     "execution_count": 2,
     "metadata": {},
     "output_type": "execute_result"
    },
    {
     "data": {
      "text/plain": [
       "<matplotlib.collections.QuadMesh at 0x1c5d64550>"
      ]
     },
     "execution_count": 2,
     "metadata": {},
     "output_type": "execute_result"
    },
    {
     "data": {
      "image/png": "[encoded data removed]",
      "text/plain": [
       "<Figure size 640x480 with 2 Axes>"
      ]
     },
     "metadata": {},
     "output_type": "display_data"
    }
   ],
   "source": [
    "# default time series\n",
    "model.time\n",
    "\n",
    "# default natural space\n",
    "model.nature.accessible.plot()"
   ]
  },
  {
   "cell_type": "markdown",
   "metadata": {},
   "source": [
    "## Human module"
   ]
  },
  {
   "cell_type": "markdown",
   "metadata": {},
   "source": [
    "Now you can try to create your own sub-modules under the [model, nature, human structure of ABSESpy](../user_guide.md#structures)."
   ]
  },
  {
   "cell_type": "code",
   "execution_count": 3,
   "metadata": {
    "execution": {
     "iopub.status.busy": "2023-01-29T14:42:37.464642Z",
     "iopub.status.idle": "2023-01-29T14:42:37.465163Z",
     "shell.execute_reply": "2023-01-29T14:42:37.465033Z",
     "shell.execute_reply.started": "2023-01-29T14:42:37.465018Z"
    }
   },
   "outputs": [
    {
     "data": {
      "text/plain": [
       "<human: open>"
      ]
     },
     "execution_count": 3,
     "metadata": {},
     "output_type": "execute_result"
    }
   ],
   "source": [
    "from abses import HumanModule\n",
    "\n",
    "\n",
    "# define my human sub-module\n",
    "class MyModule(HumanModule):\n",
    "\n",
    "    def say_hello(self):\n",
    "        self.define('actors', \"MyActor\")\n",
    "        for actor in self.actors:\n",
    "            print(f\"{actor} is saying hello to you!\")\n",
    "\n",
    "\n",
    "module = model.human.create_module(MyModule)\n",
    "module.creator"
   ]
  },
  {
   "cell_type": "markdown",
   "metadata": {},
   "source": [
    "Now, add some `actors` to the model. For more information on how to select and operate Actors, please refer to the [human section of the tutorial](human/actors.ipynb)."
   ]
  },
  {
   "cell_type": "code",
   "execution_count": 4,
   "metadata": {
    "execution": {
     "iopub.status.busy": "2023-01-29T14:42:37.466148Z",
     "iopub.status.idle": "2023-01-29T14:42:37.466802Z",
     "shell.execute_reply": "2023-01-29T14:42:37.466671Z",
     "shell.execute_reply.started": "2023-01-29T14:42:37.466656Z"
    }
   },
   "outputs": [
    {
     "name": "stdout",
     "output_type": "stream",
     "text": [
      "MyActor (Obj 8) is saying hello to you!\n",
      "MyActor (Obj 7) is saying hello to you!\n",
      "MyActor (Obj 6) is saying hello to you!\n"
     ]
    }
   ],
   "source": [
    "from abses import Actor\n",
    "\n",
    "# define my 'Actors' (agent)\n",
    "class MyActor(Actor):\n",
    "    pass\n",
    "\n",
    "# creating 3 actors\n",
    "actors = model.agents.create(MyActor, 3)\n",
    "\n",
    "# They are accessible by your customized module's methods, too.\n",
    "module.say_hello()"
   ]
  },
  {
   "cell_type": "markdown",
   "metadata": {},
   "source": [
    "## Nature Module"
   ]
  },
  {
   "cell_type": "markdown",
   "metadata": {},
   "source": [
    "As of now, the actors created above have not been added to the world. Add them using the Nature module method, where you can choose to randomise them or specify a location."
   ]
  },
  {
   "cell_type": "code",
   "execution_count": 5,
   "metadata": {
    "execution": {
     "iopub.status.busy": "2023-01-29T14:42:37.467605Z",
     "iopub.status.idle": "2023-01-29T14:42:37.467875Z",
     "shell.execute_reply": "2023-01-29T14:42:37.467760Z",
     "shell.execute_reply.started": "2023-01-29T14:42:37.467747Z"
    }
   },
   "outputs": [
    {
     "data": {
      "text/plain": [
       "Patch([[0, 0, 0, 0, 0, 0, 0, 0, 0],\n",
       "       [0, 0, 0, 0, 0, 0, 0, 0, 0],\n",
       "       [0, 0, 0, 0, 0, 0, 0, 0, 0],\n",
       "       [0, 0, 0, 0, 0, 0, 0, 0, 0],\n",
       "       [0, 0, 0, 0, 0, 0, 0, 0, 0],\n",
       "       [0, 0, 0, 0, 0, 0, 0, 0, 0],\n",
       "       [0, 0, 0, 0, 0, 0, 0, 0, 0],\n",
       "       [0, 0, 0, 0, 0, 0, 0, 0, 0],\n",
       "       [0, 0, 0, 0, 0, 0, 0, 0, 0]])"
      ]
     },
     "execution_count": 5,
     "metadata": {},
     "output_type": "execute_result"
    }
   ],
   "source": [
    "# now, there is no actor in the world\n",
    "model.nature.has_agent()"
   ]
  },
  {
   "cell_type": "markdown",
   "metadata": {},
   "source": [
    "The `has_agent()` method that counts how many eligible actors are in each cell returns the data type `Patch`, which is an inherited data type from `numpy.ndarray` and whose properties can be seen in this guide. It will be visualised below using the `Patch.xda.plot()` interface."
   ]
  },
  {
   "cell_type": "code",
   "execution_count": 6,
   "metadata": {
    "execution": {
     "iopub.status.busy": "2023-01-29T14:42:37.468444Z",
     "iopub.status.idle": "2023-01-29T14:42:37.468692Z",
     "shell.execute_reply": "2023-01-29T14:42:37.468550Z",
     "shell.execute_reply.started": "2023-01-29T14:42:37.468538Z"
    }
   },
   "outputs": [
    {
     "data": {
      "text/plain": [
       "<matplotlib.collections.QuadMesh at 0x1c653cdd0>"
      ]
     },
     "execution_count": 6,
     "metadata": {},
     "output_type": "execute_result"
    },
    {
     "data": {
      "image/png": "[encoded data removed]",
      "text/plain": [
       "<Figure size 640x480 with 2 Axes>"
      ]
     },
     "metadata": {},
     "output_type": "display_data"
    }
   ],
   "source": [
    "import numpy as np\n",
    "np.random.seed(1)  # seed random number generator\n",
    "\n",
    "assigned_actors = actors[:2]\n",
    "random_actors = actors[2:]\n",
    "\n",
    "model.nature.add_agents(assigned_actors, [(4, 4), (4, 4)])\n",
    "model.nature.add_agents(random_actors)\n",
    "\n",
    "actors_num = model.nature.has_agent()\n",
    "actors_num.xda.plot()  # number of actors in each cell."
   ]
  },
  {
   "cell_type": "markdown",
   "metadata": {},
   "source": [
    "Now, create your own space sub-module, users will find that this module shares the geographic coordinate system with the `Nature` module.\n",
    " <!-- which will simply store how many subjects are on it. -->"
   ]
  },
  {
   "cell_type": "code",
   "execution_count": 7,
   "metadata": {
    "execution": {
     "iopub.status.busy": "2023-01-29T14:42:37.469828Z",
     "iopub.status.idle": "2023-01-29T14:42:37.470439Z",
     "shell.execute_reply": "2023-01-29T14:42:37.470297Z",
     "shell.execute_reply.started": "2023-01-29T14:42:37.470283Z"
    }
   },
   "outputs": [
    {
     "data": {
      "text/plain": [
       "<home: open>"
      ]
     },
     "execution_count": 7,
     "metadata": {},
     "output_type": "execute_result"
    },
    {
     "data": {
      "text/plain": [
       "True"
      ]
     },
     "execution_count": 7,
     "metadata": {},
     "output_type": "execute_result"
    },
    {
     "data": {
      "text/plain": [
       "(9, 9)"
      ]
     },
     "execution_count": 7,
     "metadata": {},
     "output_type": "execute_result"
    }
   ],
   "source": [
    "from abses import PatchModule\n",
    "\n",
    "home = model.nature.create_module(PatchModule, name='home')\n",
    "\n",
    "home  # <home: open>\n",
    "home.geo is model.nature.geo  # True\n",
    "home.geo.shape  # (9, 9)"
   ]
  },
  {
   "cell_type": "code",
   "execution_count": 8,
   "metadata": {
    "execution": {
     "iopub.status.busy": "2023-01-29T14:42:37.471457Z",
     "iopub.status.idle": "2023-01-29T14:42:37.471741Z",
     "shell.execute_reply": "2023-01-29T14:42:37.471612Z",
     "shell.execute_reply.started": "2023-01-29T14:42:37.471597Z"
    }
   },
   "outputs": [
    {
     "data": {
      "text/plain": [
       "<matplotlib.collections.QuadMesh at 0x1c78fcd10>"
      ]
     },
     "execution_count": 8,
     "metadata": {},
     "output_type": "execute_result"
    },
    {
     "data": {
      "image/png": "[encoded data removed]",
      "text/plain": [
       "<Figure size 640x480 with 2 Axes>"
      ]
     },
     "metadata": {},
     "output_type": "display_data"
    }
   ],
   "source": [
    "# random \n",
    "array = np.random.random(size=(9, 9))\n",
    "patch = home.create_patch(array, name='demo patch', add=True)\n",
    "\n",
    "patch.xda.plot()"
   ]
  },
  {
   "cell_type": "markdown",
   "metadata": {},
   "source": [
    "Actors can access values of any `Patch` by their position."
   ]
  },
  {
   "cell_type": "code",
   "execution_count": 9,
   "metadata": {
    "execution": {
     "iopub.status.busy": "2023-01-29T14:42:37.472677Z",
     "iopub.status.idle": "2023-01-29T14:42:37.472930Z",
     "shell.execute_reply": "2023-01-29T14:42:37.472811Z",
     "shell.execute_reply.started": "2023-01-29T14:42:37.472799Z"
    }
   },
   "outputs": [
    {
     "data": {
      "text/plain": [
       "[0.3553103624164283, 0.3553103624164283, 0.508247537567289]"
      ]
     },
     "execution_count": 9,
     "metadata": {},
     "output_type": "execute_result"
    }
   ],
   "source": [
    "actors.loc('demo patch')"
   ]
  },
  {
   "cell_type": "markdown",
   "metadata": {},
   "source": [
    "## Experiment"
   ]
  },
  {
   "cell_type": "markdown",
   "metadata": {},
   "source": [
    "This document shows just the simplest model structure of the ABSESpy framework and the research paradigm it creates. First you build the `MainModel`, then you have the `human` module that manipulates the body and the `nature` module that manipulates the spatial data. You can customise more `sub-modules` under each of the two part, and they will have similar operational logic."
   ]
  }
 ],
 "metadata": {
  "citation-manager": {
   "items": {}
  },
  "kernelspec": {
   "display_name": "ABSES_311",
   "language": "python",
   "name": "python3"
  },
  "language_info": {
   "codemirror_mode": {
    "name": "ipython",
    "version": 3
   },
   "file_extension": ".py",
   "mimetype": "text/x-python",
   "name": "python",
   "nbconvert_exporter": "python",
   "pygments_lexer": "ipython3",
   "version": "3.11.0"
  },
  "vscode": {
   "interpreter": {
    "hash": "34e7ff707ff286a3b130ff498e19cfe7511773b98306dec22b686ceb645d0b65"
   }
  }
 },
 "nbformat": 4,
 "nbformat_minor": 4
}
