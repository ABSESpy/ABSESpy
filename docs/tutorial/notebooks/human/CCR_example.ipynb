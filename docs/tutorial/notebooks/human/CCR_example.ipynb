{
 "cells": [
  {
   "cell_type": "markdown",
   "id": "2171a091-4829-4943-9178-aa5c721283ce",
   "metadata": {},
   "source": [
    "# Apply CCR framework"
   ]
  },
  {
   "cell_type": "markdown",
   "id": "37470041-d38d-4c3e-a23c-5419344045d4",
   "metadata": {},
   "source": [
    "This is an example for applying the [Cognition, Contagion and behavioral Response (CCR Framework)](../../docs/background.md#human-behaviour-framework) with `ABSESpy`. This framework consisted by three parts:\n",
    "\n",
    "- **Cognition** represents the human processing of information around the ecological system.\n",
    "- **Contagion** represents spreading information, beliefs and behaviour through social networks.\n",
    "- **Response** is the resultant behaviour or action.\n",
    "\n",
    "\n",
    "To apply this cognition-contagion-response (CCR) human behaviour modelling framework, `ABSESpy`'s users can:\n",
    "\n",
    "1. define cognition functions for actors (agents); \n",
    "2. generate a network in human modules;\n",
    "3. in a human model, define [action arena](#TODO) functions of actors' interactions or responses. "
   ]
  },
  {
   "cell_type": "markdown",
   "id": "15095dae",
   "metadata": {},
   "source": [
    "## Example model"
   ]
  },
  {
   "cell_type": "markdown",
   "id": "5ec226fc",
   "metadata": {},
   "source": [
    "As an example, we demonstrate an adapted simple but classic Agent-based model of `Wealth Transferring`. Other popular Agent-based modelling software (e.g., `NetLogo`) or packages (`AgentPy` and `MESA`) both include this model in their model libraries. \n",
    "\n",
    "The model explores the distribution of wealth under a trading population of agents. Each agent starts with one unit of wealth. During each time-step, each agents with positive wealth randomly selects a trading partner and gives them one unit of their wealth. We will see that this random interaction will create an inequality of wealth that follows a [Boltzmann distribution](http://www.phys.ufl.edu/~meisel/Boltzmann.pdf). "
   ]
  },
  {
   "cell_type": "markdown",
   "id": "b6f8ca7d",
   "metadata": {},
   "source": [
    "Here we will rewrite the model in the framework of CCR and add geographical distance as a parameter to the classical model. It is shown how actors perceive other actors, how behaviors \"spreads\" between actors and how \"transaction scenarios\" are automatically formed between actors."
   ]
  },
  {
   "cell_type": "markdown",
   "id": "e44d240d",
   "metadata": {},
   "source": [
    "### Original Model Framework\n",
    "\n",
    "Referring codes from the [`AgentPy` package](https://agentpy.readthedocs.io/en/latest/agentpy_wealth_transfer.htmlhttps://agentpy.readthedocs.io/en/latest/agentpy_wealth_transfer.html)\n",
    "\n",
    "Frist of all, define the actors' behaviour. "
   ]
  },
  {
   "cell_type": "code",
   "execution_count": 1,
   "id": "785da61a",
   "metadata": {
    "execution": {
     "iopub.execute_input": "2023-01-24T01:04:08.935231Z",
     "iopub.status.busy": "2023-01-24T01:04:08.934902Z",
     "iopub.status.idle": "2023-01-24T01:04:11.969220Z",
     "shell.execute_reply": "2023-01-24T01:04:11.968689Z",
     "shell.execute_reply.started": "2023-01-24T01:04:08.935212Z"
    },
    "tags": []
   },
   "outputs": [],
   "source": [
    "from abses import Actor\n",
    "from typing import Optional, Self\n",
    "\n",
    "\n",
    "class WealthyActor(Actor):\n",
    "\n",
    "    \"\"\" Demo model of wealth transferring. \"\"\"\n",
    "\n",
    "    def setup(self):\n",
    "        self.wealth = 1\n",
    "\n",
    "    def wealth_transfer(self, partner: Optional[Self] = None):\n",
    "        if partner is None:\n",
    "            partner = self.model.all_agents.random_choose()\n",
    "        if self.wealth > 0:\n",
    "            partner.wealth += 1\n",
    "            self.wealth -= 1\n"
   ]
  },
  {
   "cell_type": "markdown",
   "id": "9cbbaad7-2ca1-4484-933a-5ff21803f9d4",
   "metadata": {},
   "source": [
    "Then, define the metrics (Gini coefficient) and model workflow."
   ]
  },
  {
   "cell_type": "code",
   "execution_count": 2,
   "id": "784622c1",
   "metadata": {
    "execution": {
     "iopub.execute_input": "2023-01-24T01:04:11.970725Z",
     "iopub.status.busy": "2023-01-24T01:04:11.970382Z",
     "iopub.status.idle": "2023-01-24T01:04:12.035228Z",
     "shell.execute_reply": "2023-01-24T01:04:12.034703Z",
     "shell.execute_reply.started": "2023-01-24T01:04:11.970708Z"
    },
    "tags": []
   },
   "outputs": [],
   "source": [
    "from abses import MainModel\n",
    "import numpy as np\n",
    "\n",
    "\n",
    "def gini(x):\n",
    "\n",
    "    \"\"\" Calculate Gini Coefficient \"\"\"\n",
    "    # By Warren Weckesser https://stackoverflow.com/a/39513799\n",
    "\n",
    "    x = np.array(x)\n",
    "    mad = np.abs(np.subtract.outer(x, x)).mean()  # Mean absolute difference\n",
    "    rmad = mad / np.mean(x)  # Relative mean absolute difference\n",
    "    return 0.5 * rmad\n",
    "\n",
    "\n",
    "class WealthModel(MainModel):\n",
    "\n",
    "    \"\"\" A simple model of random wealth transfers \"\"\"\n",
    "\n",
    "    def setup(self):\n",
    "        actors = self.agents.create(WealthyActor, 100)\n",
    "\n",
    "    def step(self):\n",
    "        self.all_agents.wealth_transfer()\n",
    "\n",
    "    def update(self):\n",
    "        self.record('Gini Coefficient', gini(self.all_agents.wealth))\n",
    "\n",
    "    def end(self):\n",
    "        self.all_agents.record('wealth')"
   ]
  },
  {
   "cell_type": "markdown",
   "id": "5ccc37de-2d6c-4a09-a2ca-f3ba2f96eb48",
   "metadata": {},
   "source": [
    "Input parameters to the model, and show Gini coefficient results."
   ]
  },
  {
   "cell_type": "code",
   "execution_count": 3,
   "id": "8d5517ae",
   "metadata": {
    "execution": {
     "iopub.execute_input": "2023-01-24T01:04:47.883949Z",
     "iopub.status.busy": "2023-01-24T01:04:47.883752Z",
     "iopub.status.idle": "2023-01-24T01:04:52.130562Z",
     "shell.execute_reply": "2023-01-24T01:04:52.129986Z",
     "shell.execute_reply.started": "2023-01-24T01:04:47.883931Z"
    },
    "tags": []
   },
   "outputs": [
    {
     "name": "stdout",
     "output_type": "stream",
     "text": [
      "Completed: 100 steps\n",
      "Run time: 0:00:04.038193\n",
      "Simulation finished\n"
     ]
    }
   ],
   "source": [
    "parameters = {\n",
    "    'wealth demo': {\n",
    "        'agents': 100,\n",
    "        'steps': 100,\n",
    "        'seed': 42,\n",
    "    }\n",
    "}\n",
    "\n",
    "model = WealthModel(name='wealth demo', base='tests', parameters=parameters)\n",
    "results = model.run()"
   ]
  },
  {
   "cell_type": "code",
   "execution_count": 4,
   "id": "0c7eb4e8-2edf-49dd-ac00-a4fb866d926a",
   "metadata": {
    "execution": {
     "iopub.execute_input": "2023-01-24T01:07:16.365519Z",
     "iopub.status.busy": "2023-01-24T01:07:16.365314Z",
     "iopub.status.idle": "2023-01-24T01:07:16.604072Z",
     "shell.execute_reply": "2023-01-24T01:07:16.603415Z",
     "shell.execute_reply.started": "2023-01-24T01:07:16.365499Z"
    },
    "tags": []
   },
   "outputs": [
    {
     "data": {
      "image/png": "[encoded data removed]",
      "text/plain": [
       "<Figure size 640x480 with 1 Axes>"
      ]
     },
     "metadata": {},
     "output_type": "display_data"
    }
   ],
   "source": [
    "import seaborn as sns\n",
    "\n",
    "sns.histplot(data=results.variables.WealthyActor, binwidth=1);"
   ]
  },
  {
   "cell_type": "markdown",
   "id": "db4dd923-c173-4939-ac69-8479197deb79",
   "metadata": {},
   "source": [
    "### Adapted wealth transferring problem"
   ]
  },
  {
   "cell_type": "markdown",
   "id": "62ac1fbe-fcdb-4eab-b69b-5d7258c34e6f",
   "metadata": {},
   "source": [
    "1. An actor can only trade with nearby actors (with a parameter of distance 'd').\n",
    "2. If actor feel his community is not aproprate for his economic class, he will move randomly.\n",
    "3. If actors have the similar properties within the community, he likes to trade with neighbors."
   ]
  },
  {
   "cell_type": "markdown",
   "id": "71af5131-fdd0-46f7-80ad-60b9aa5d4d8a",
   "metadata": {},
   "source": [
    "<img src=\"https://songshgeo-picgo-1302043007.cos.ap-beijing.myqcloud.com/uPic/2jFmIS.jpg\" alt=\"Drawing\" style=\"width: 400px;\"/>"
   ]
  },
  {
   "cell_type": "code",
   "execution_count": 5,
   "id": "c783f67e-5c90-446d-8625-5cbd17348c2d",
   "metadata": {},
   "outputs": [],
   "source": [
    "from abses.actor import perception, link_to, check_rule\n",
    "\n",
    "\n",
    "class WealthyActor(Actor):\n",
    "\n",
    "    \"\"\"Demo model of wealth transferring.\"\"\"\n",
    "\n",
    "    def setup(self):\n",
    "        self.wealth: int = 1\n",
    "        # define a rule: when this actor is not fit-in, then move randomly.\n",
    "        self.rule(when=\"fit_in == False\", then=\"move\", check_now=False, frequency='now')\n",
    "\n",
    "    # setup property 'potential partner',\n",
    "    # which auto links to these potential partners.\n",
    "    @link_to\n",
    "    def potential_partners(self):\n",
    "        return self.neighbors(distance=5)\n",
    "\n",
    "    # perception makes this method as property\n",
    "    @perception\n",
    "    def fit_in(self) -> bool:\n",
    "        if len(self.potential_partners) == 0:\n",
    "            return False\n",
    "        else:\n",
    "            return True\n",
    "\n",
    "    # decorator `check_rule` means check all rules before running this function.\n",
    "    # parameter `loop = True` means, unless no rule is triggered, the method not be executed\n",
    "    @check_rule(loop=True)\n",
    "    def wealth_transfer(self):\n",
    "        partner = self.potential_partners.random_choose()\n",
    "        if self.wealth > 0:\n",
    "            partner.wealth += 1\n",
    "            self.wealth -= 1\n",
    "\n",
    "\n",
    "class WealthModel(MainModel):\n",
    "\n",
    "    \"\"\"A simple model of random wealth transfers\"\"\"\n",
    "\n",
    "    def setup(self):\n",
    "        actors = self.agents.create(WealthyActor, 100)\n",
    "        self.nature.add_agents(actors, replace=True)\n",
    "\n",
    "    def step(self):\n",
    "        self.all_agents.wealth_transfer()\n",
    "\n",
    "    def update(self):\n",
    "        self.record(\"Gini Coefficient\", gini(self.all_agents.wealth))\n",
    "\n",
    "    def end(self):\n",
    "        self.all_agents.record(\"wealth\")"
   ]
  },
  {
   "attachments": {},
   "cell_type": "markdown",
   "id": "cf577722",
   "metadata": {},
   "source": [
    "In the above adaptation:\n",
    "1. Each actor defines a **cognition** according to the surrounding situation (`@perception`) -- `fit-in`. \n",
    "2. Each actor has an attribute of some potential partners, because of `@link_to` decorator. If social influences exist (**contagion**), user can define their interaction between `Actor` and `Actor.potential_partners`.\n",
    "3. Wealth transfer between actors are the actions of **Response**. Here we applied a much more complex rule: only some situation of an actor are satisfied (by adding `@check_rule` decorator), the response then triggered... Using this in modeling will be closer to real human decision-making behavior."
   ]
  },
  {
   "cell_type": "code",
   "execution_count": 6,
   "id": "30b92142",
   "metadata": {},
   "outputs": [
    {
     "name": "stdout",
     "output_type": "stream",
     "text": [
      "Completed: 100 steps\n",
      "Run time: 0:07:35.646654\n",
      "Simulation finished\n"
     ]
    }
   ],
   "source": [
    "parameters = {\n",
    "    'wealth demo': {\n",
    "        'agents': 100,\n",
    "        'steps': 100,\n",
    "        'seed': 42,\n",
    "    }\n",
    "}\n",
    "\n",
    "model = WealthModel(name='wealth demo', base='tests', parameters=parameters)\n",
    "results = model.run()"
   ]
  },
  {
   "cell_type": "code",
   "execution_count": 7,
   "id": "99e5d218",
   "metadata": {},
   "outputs": [
    {
     "data": {
      "image/png": "[encoded data removed]",
      "text/plain": [
       "<Figure size 640x480 with 1 Axes>"
      ]
     },
     "metadata": {},
     "output_type": "display_data"
    }
   ],
   "source": [
    "sns.histplot(data=results.variables.WealthyActor, binwidth=1);"
   ]
  }
 ],
 "metadata": {
  "citation-manager": {
   "items": {}
  },
  "kernelspec": {
   "display_name": "Python 3 (ipykernel)",
   "language": "python",
   "name": "python3"
  },
  "language_info": {
   "codemirror_mode": {
    "name": "ipython",
    "version": 3
   },
   "file_extension": ".py",
   "mimetype": "text/x-python",
   "name": "python",
   "nbconvert_exporter": "python",
   "pygments_lexer": "ipython3",
   "version": "3.11.0"
  },
  "vscode": {
   "interpreter": {
    "hash": "34e7ff707ff286a3b130ff498e19cfe7511773b98306dec22b686ceb645d0b65"
   }
  }
 },
 "nbformat": 4,
 "nbformat_minor": 5
}
