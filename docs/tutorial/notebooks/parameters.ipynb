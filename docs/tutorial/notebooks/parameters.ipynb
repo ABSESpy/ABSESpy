{
 "cells": [
  {
   "attachments": {},
   "cell_type": "markdown",
   "metadata": {},
   "source": [
    "# Parameters parsing"
   ]
  },
  {
   "attachments": {},
   "cell_type": "markdown",
   "metadata": {},
   "source": [
    "By priority, parameters of the model can be parsed from three ways when initializing a model:\n",
    "\n",
    "- Input as keyword arguments (`**kwargs`).\n",
    "- Input in the `parameters` argument as dictionary.\n",
    "- Save in a `.yaml` file, and point at its path as the `settings_file` argument."
   ]
  },
  {
   "attachments": {},
   "cell_type": "markdown",
   "metadata": {},
   "source": [
    "## Basic parameters"
   ]
  },
  {
   "attachments": {},
   "cell_type": "markdown",
   "metadata": {},
   "source": [
    "Here is an basic example of `example.yaml`:\n",
    "\n",
    "```yaml\n",
    "demo:\n",
    "    testing: 'from file'\n",
    "\n",
    "nature:\n",
    "    param1: 0.1\n",
    "\n",
    "human:\n",
    "    arg1: 5\n",
    "```"
   ]
  },
  {
   "cell_type": "code",
   "execution_count": 1,
   "metadata": {},
   "outputs": [
    {
     "data": {
      "text/plain": [
       "{'testing': 'from argument'}"
      ]
     },
     "execution_count": 1,
     "metadata": {},
     "output_type": "execute_result"
    }
   ],
   "source": [
    "from abses import MainModel\n",
    "\n",
    "path = \"example.yaml\"\n",
    "parameters = {'testing': 'from dictionary',}\n",
    "\n",
    "model = MainModel(\n",
    "    name='demo',  # should be same as the name in `.yaml`\n",
    "    base='tests',\n",
    "    parameters=parameters,\n",
    "    testing='from argument',\n",
    "    settings_file=path\n",
    ")\n",
    "\n",
    "# show parameters\n",
    "model.params"
   ]
  },
  {
   "attachments": {},
   "cell_type": "markdown",
   "metadata": {},
   "source": [
    "We passed both 'testing' parameter in three ways, but the one \"from argument\" has priority.\n",
    "\n",
    "Note that when setting a parameter you need to specify at first level which module it belongs to (model, nature, human)... Only parameter names that can be found in the configuration file can be passed in by the other two methods without specifying a module."
   ]
  },
  {
   "cell_type": "code",
   "execution_count": 2,
   "metadata": {},
   "outputs": [
    {
     "name": "stderr",
     "output_type": "stream",
     "text": [
      "Unsolved parameters: ['arg2'].\n"
     ]
    },
    {
     "data": {
      "text/plain": [
       "{'param1': 0.1}"
      ]
     },
     "execution_count": 2,
     "metadata": {},
     "output_type": "execute_result"
    }
   ],
   "source": [
    "# only `arg1` will be parsed because it exists in the config file.\n",
    "model = MainModel(name='demo', base='tests', parameters={'arg1': 1, 'arg2': 2}, settings_file=path)\n",
    "\n",
    "model.nature.params"
   ]
  },
  {
   "attachments": {},
   "cell_type": "markdown",
   "metadata": {},
   "source": [
    "`arg2` cannot be parsed because it's not sure which module should use this parameter."
   ]
  },
  {
   "attachments": {},
   "cell_type": "markdown",
   "metadata": {},
   "source": [
    "## Special keywords"
   ]
  },
  {
   "attachments": {},
   "cell_type": "markdown",
   "metadata": {},
   "source": [
    "Some keywords of parameters are associated with behavior of the model.\n",
    "\n",
    "- `record`: The variables to be recorded in each step.\n",
    "- `report`: The variables to be reported after.\n",
    "- `model: steps`: how many steps to simulate.\n",
    "- `model: seed`: random seed for all random simulations."
   ]
  },
  {
   "attachments": {},
   "cell_type": "markdown",
   "metadata": {},
   "source": [
    "Now, let's set a variable \"random_value\" in the human module that will automatically record changes, to show how these special parameters work."
   ]
  },
  {
   "cell_type": "code",
   "execution_count": 3,
   "metadata": {},
   "outputs": [
    {
     "name": "stdout",
     "output_type": "stream",
     "text": [
      "Completed: 5 steps\n",
      "Run time: 0:00:00.003634\n",
      "Simulation finished\n"
     ]
    },
    {
     "data": {
      "text/plain": [
       "DataDict {\n",
       "'info': Dictionary with 9 keys\n",
       "'parameters': \n",
       "    'constants': Dictionary with 2 keys\n",
       "'variables': \n",
       "    'Human': DataFrame with 1 variable and 5 rows\n",
       "    'BaseNature': DataFrame with 0 variables and 1 row\n",
       "'reporters': DataFrame with 1 variable and 1 row\n",
       "}"
      ]
     },
     "execution_count": 3,
     "metadata": {},
     "output_type": "execute_result"
    }
   ],
   "source": [
    "from abses import BaseHuman\n",
    "from abses.actor import perception\n",
    "\n",
    "\n",
    "class Human(BaseHuman):\n",
    "    args = ['arg1']\n",
    "\n",
    "    @perception\n",
    "    def random_value(self):\n",
    "        return self.model.random.random()\n",
    "\n",
    "\n",
    "parameters = {\n",
    "    'demo': {'steps': 5, 'seed': 1},\n",
    "    'human': {'arg1': 2, 'record': 'random_value'}\n",
    "}\n",
    "\n",
    "\n",
    "model = MainModel(\n",
    "    human_class=Human,\n",
    "    name='demo',\n",
    "    base='bases',\n",
    "    settings_file=path,\n",
    "    parameters=parameters\n",
    ")\n",
    "model.run()"
   ]
  },
  {
   "attachments": {},
   "cell_type": "markdown",
   "metadata": {},
   "source": [
    "You can see that the model runs five simulations after the run, thanks to the keyword parameter `steps`.\n",
    "\n",
    "Since the \"`record`\" parameter specifies \"`random_value`\" as the record variable, its dynamic will be recorded. \n",
    "\n",
    "_`random_value` is a method of Human, but uses the decorator `@perception` to treat it as a variable, here._"
   ]
  },
  {
   "cell_type": "code",
   "execution_count": 4,
   "metadata": {},
   "outputs": [
    {
     "data": {
      "text/plain": [
       "{'random_value'}"
      ]
     },
     "execution_count": 4,
     "metadata": {},
     "output_type": "execute_result"
    },
    {
     "data": {
      "text/html": [
       "<div>\n",
       "<style scoped>\n",
       "    .dataframe tbody tr th:only-of-type {\n",
       "        vertical-align: middle;\n",
       "    }\n",
       "\n",
       "    .dataframe tbody tr th {\n",
       "        vertical-align: top;\n",
       "    }\n",
       "\n",
       "    .dataframe thead th {\n",
       "        text-align: right;\n",
       "    }\n",
       "</style>\n",
       "<table border=\"1\" class=\"dataframe\">\n",
       "  <thead>\n",
       "    <tr style=\"text-align: right;\">\n",
       "      <th></th>\n",
       "      <th>t</th>\n",
       "      <th>random_value</th>\n",
       "      <th>obj_id</th>\n",
       "    </tr>\n",
       "  </thead>\n",
       "  <tbody>\n",
       "    <tr>\n",
       "      <th>2000</th>\n",
       "      <td>0</td>\n",
       "      <td>0.763775</td>\n",
       "      <td>2</td>\n",
       "    </tr>\n",
       "    <tr>\n",
       "      <th>2001</th>\n",
       "      <td>1</td>\n",
       "      <td>0.255069</td>\n",
       "      <td>2</td>\n",
       "    </tr>\n",
       "    <tr>\n",
       "      <th>2002</th>\n",
       "      <td>2</td>\n",
       "      <td>0.495435</td>\n",
       "      <td>2</td>\n",
       "    </tr>\n",
       "    <tr>\n",
       "      <th>2003</th>\n",
       "      <td>3</td>\n",
       "      <td>0.449491</td>\n",
       "      <td>2</td>\n",
       "    </tr>\n",
       "    <tr>\n",
       "      <th>2004</th>\n",
       "      <td>4</td>\n",
       "      <td>0.651593</td>\n",
       "      <td>2</td>\n",
       "    </tr>\n",
       "  </tbody>\n",
       "</table>\n",
       "</div>"
      ],
      "text/plain": [
       "      t  random_value  obj_id\n",
       "2000  0      0.763775       2\n",
       "2001  1      0.255069       2\n",
       "2002  2      0.495435       2\n",
       "2003  3      0.449491       2\n",
       "2004  4      0.651593       2"
      ]
     },
     "execution_count": 4,
     "metadata": {},
     "output_type": "execute_result"
    },
    {
     "data": {
      "text/html": [
       "<div>\n",
       "<style scoped>\n",
       "    .dataframe tbody tr th:only-of-type {\n",
       "        vertical-align: middle;\n",
       "    }\n",
       "\n",
       "    .dataframe tbody tr th {\n",
       "        vertical-align: top;\n",
       "    }\n",
       "\n",
       "    .dataframe thead th {\n",
       "        text-align: right;\n",
       "    }\n",
       "</style>\n",
       "<table border=\"1\" class=\"dataframe\">\n",
       "  <thead>\n",
       "    <tr style=\"text-align: right;\">\n",
       "      <th></th>\n",
       "      <th>seed</th>\n",
       "    </tr>\n",
       "  </thead>\n",
       "  <tbody>\n",
       "    <tr>\n",
       "      <th>0</th>\n",
       "      <td>1</td>\n",
       "    </tr>\n",
       "  </tbody>\n",
       "</table>\n",
       "</div>"
      ],
      "text/plain": [
       "   seed\n",
       "0     1"
      ]
     },
     "execution_count": 4,
     "metadata": {},
     "output_type": "execute_result"
    }
   ],
   "source": [
    "# This property stores all recording variables.\n",
    "model.human.recording\n",
    "\n",
    "# The random value recorded, applied the random seed.\n",
    "model.human.output\n",
    "\n",
    "# random seed = 1\n",
    "model.output.reporters"
   ]
  },
  {
   "attachments": {},
   "cell_type": "markdown",
   "metadata": {},
   "source": [
    "**Note** that we have added a class attribute `arg1` to our custom model class, which indicates that the module must require an argument input named '`arg1`'. We have overwritten the '`arg1`' in the congif settings file with parameters when creating the model, (you can see that it has a value of $2$, not $1$ as in the `yaml` file)\n",
    "\n",
    "**Model would have reported an error if it had not been entered.**"
   ]
  },
  {
   "cell_type": "code",
   "execution_count": 5,
   "metadata": {},
   "outputs": [
    {
     "data": {
      "text/plain": [
       "2"
      ]
     },
     "execution_count": 5,
     "metadata": {},
     "output_type": "execute_result"
    }
   ],
   "source": [
    "# Required parameters `arg1` of human.\n",
    "model.human.arg1"
   ]
  },
  {
   "attachments": {},
   "cell_type": "markdown",
   "metadata": {},
   "source": [
    "## Spatial settings"
   ]
  },
  {
   "attachments": {},
   "cell_type": "markdown",
   "metadata": {},
   "source": [
    " The keyword `world` under '`Nature`' module defines the spatial environmental behavior. There are two ways to generate an artificial world:\n",
    "\n",
    " 1. [Use real geographic data (`.shp`, `.tif`, ...)](/nature/geodata.ipynb).\n",
    " 2. Create a simple rectangular world by specific parameters.\n",
    "\n",
    "- The first approach simply requires the world parameter to be **the data path**.\n",
    "- Here, we give another simple demonstration of the second approach."
   ]
  },
  {
   "cell_type": "markdown",
   "metadata": {},
   "source": [
    "![7jzXmY](https://songshgeo-picgo-1302043007.cos.ap-beijing.myqcloud.com/uPic/7jzXmY.jpg)"
   ]
  },
  {
   "attachments": {},
   "cell_type": "markdown",
   "metadata": {},
   "source": [
    "As shown above, by default, the nature module is created as a 9*9 world, setting the parameters of such a world as:\n",
    "\n",
    "```yaml\n",
    "## world.yaml\n",
    "width: 9\n",
    "height: 9\n",
    "outside: 1\n",
    "border: 1\n",
    "resolution: 10\n",
    "```"
   ]
  },
  {
   "attachments": {},
   "cell_type": "markdown",
   "metadata": {},
   "source": [
    "## Time settings"
   ]
  },
  {
   "attachments": {},
   "cell_type": "markdown",
   "metadata": {},
   "source": [
    "The keyword `time` under `model` module defines the time simulating behavior.\n",
    "\n",
    "By default these parameters are used:\n",
    "\n",
    "```yaml\n",
    "start: \"2000-01-01 00:00:00\"\n",
    "end: None\n",
    "freq: \"Y\"\n",
    "```\n",
    "\n",
    "These parameters mean that:\n",
    "1. The simulation starts at 1th, Jan., 2000.\n",
    "2. Simulation has no default termination time.\n",
    "3. Each step of the simulation represents a year."
   ]
  },
  {
   "attachments": {},
   "cell_type": "markdown",
   "metadata": {},
   "source": [
    "`ABSESpy` uses [`pandas.Period`](https://pandas.pydata.org/docs/reference/api/pandas.Period.html#pandas.Period) to manage time, where for more information on how to create a time you can refer.\n",
    "\n",
    "It means, if you want to simulate at `Y` frequency level, `start = '2000'` is overall as same as `'2000-01-01'` ..."
   ]
  }
 ],
 "metadata": {
  "kernelspec": {
   "display_name": "ABSES_311",
   "language": "python",
   "name": "python3"
  },
  "language_info": {
   "codemirror_mode": {
    "name": "ipython",
    "version": 3
   },
   "file_extension": ".py",
   "mimetype": "text/x-python",
   "name": "python",
   "nbconvert_exporter": "python",
   "pygments_lexer": "ipython3",
   "version": "3.11.0"
  },
  "orig_nbformat": 4,
  "vscode": {
   "interpreter": {
    "hash": "34e7ff707ff286a3b130ff498e19cfe7511773b98306dec22b686ceb645d0b65"
   }
  }
 },
 "nbformat": 4,
 "nbformat_minor": 2
}
