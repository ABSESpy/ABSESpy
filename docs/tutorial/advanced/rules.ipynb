{
 "cells": [
  {
   "attachments": {},
   "cell_type": "markdown",
   "metadata": {},
   "source": [
    "# Actors manipulation"
   ]
  },
  {
   "cell_type": "markdown",
   "metadata": {},
   "source": [
    "<div class=\"admonition note\">\n",
    "    <p class=\"admonition-title\">In progress</p>\n",
    "    <p>This document is a work in progress if you see any errors, or exclusions or have any problems, please <a href=\"https://github.com/absespy/ABSESpy/issues\">get in touch with us</a>.</p>\n",
    "</div>"
   ]
  },
  {
   "attachments": {},
   "cell_type": "markdown",
   "metadata": {},
   "source": [
    "The core of **ABM** is the definition of individual behaviour of actors. However, when implementing a program, it is necessary to operate on individuals that satisfy certain conditions. The resulting diversity of actor behaviour is one of the biggest challenges in implementing SES modelling. To this end, `ABSESpy` provides a number of practical methods to manipulate actors."
   ]
  },
  {
   "attachments": {},
   "cell_type": "markdown",
   "metadata": {},
   "source": [
    "## Selecting actors"
   ]
  },
  {
   "attachments": {},
   "cell_type": "markdown",
   "metadata": {},
   "source": [
    "First create some subjects for testing."
   ]
  },
  {
   "cell_type": "code",
   "execution_count": 1,
   "metadata": {},
   "outputs": [],
   "source": [
    "from abses import Actor, MainModel\n",
    "\n",
    "\n",
    "class Farmer(Actor):\n",
    "    pass\n",
    "\n",
    "\n",
    "class Worker(Actor):\n",
    "    pass\n",
    "\n",
    "\n",
    "model = MainModel(name=\"test\", base=\"tests\")\n",
    "\n",
    "# create 15 actors in sum.\n",
    "farmers = model.agents.new(Farmer, 5)\n",
    "workers = model.agents.new(Worker, 5)\n",
    "\n",
    "# Randomly add them to the world.\n",
    "model.nature.add_agents(model.agents.get())"
   ]
  },
  {
   "attachments": {},
   "cell_type": "markdown",
   "metadata": {},
   "source": [
    "There are three ways to create expression for selecting all farmers in the model. (Search by breed.)"
   ]
  },
  {
   "cell_type": "code",
   "execution_count": 2,
   "metadata": {},
   "outputs": [
    {
     "data": {
      "text/plain": [
       "<ActorsList: (5)Farmer>"
      ]
     },
     "execution_count": 2,
     "metadata": {},
     "output_type": "execute_result"
    },
    {
     "data": {
      "text/plain": [
       "<ActorsList: (5)Farmer>"
      ]
     },
     "execution_count": 2,
     "metadata": {},
     "output_type": "execute_result"
    }
   ],
   "source": [
    "selecting_farmers1 = \"breed == Farmer\"\n",
    "selecting_farmers2 = \"Farmer\"\n",
    "selecting_farmers3 = {\"breed\": \"Farmer\"}\n",
    "\n",
    "model.agents.select(selecting_farmers1)\n",
    "model.agents.select(selecting_farmers2)"
   ]
  },
  {
   "cell_type": "markdown",
   "metadata": {},
   "source": [
    "For more complex cases, consider use the third way in selection."
   ]
  },
  {
   "cell_type": "code",
   "execution_count": 3,
   "metadata": {},
   "outputs": [
    {
     "data": {
      "text/plain": [
       "<ActorsList: (1)Worker>"
      ]
     },
     "execution_count": 3,
     "metadata": {},
     "output_type": "execute_result"
    }
   ],
   "source": [
    "# Label each actor for selecting\n",
    "for i in range(5):\n",
    "    farmers[i].label = i\n",
    "    workers[i].label = i\n",
    "\n",
    "# selecting the worker label = 3\n",
    "model.agents.select({\"breed\": \"Worker\", \"label\": 3})"
   ]
  },
  {
   "attachments": {},
   "cell_type": "markdown",
   "metadata": {},
   "source": [
    "`ActorsList.better()` method can select a subset of the actors whose `metric` is larger than a number..."
   ]
  },
  {
   "cell_type": "code",
   "execution_count": 4,
   "metadata": {},
   "outputs": [
    {
     "data": {
      "text/plain": [
       "<ActorsList: (1)Farmer>"
      ]
     },
     "execution_count": 4,
     "metadata": {},
     "output_type": "execute_result"
    }
   ],
   "source": [
    "farmers.better(\"label\", 3)"
   ]
  },
  {
   "attachments": {},
   "cell_type": "markdown",
   "metadata": {},
   "source": [
    "## Define collections"
   ]
  },
  {
   "attachments": {},
   "cell_type": "markdown",
   "metadata": {},
   "source": [
    "The `Human` module can store the selection expression, a variable that is inert and will automatically return the actor that satisfies the condition any time it is needed in the future."
   ]
  },
  {
   "cell_type": "code",
   "execution_count": 5,
   "metadata": {},
   "outputs": [
    {
     "data": {
      "text/plain": [
       "True"
      ]
     },
     "execution_count": 5,
     "metadata": {},
     "output_type": "execute_result"
    },
    {
     "data": {
      "text/plain": [
       "<ActorsList: (1)Farmer>"
      ]
     },
     "execution_count": 5,
     "metadata": {},
     "output_type": "execute_result"
    }
   ],
   "source": [
    "selected = model.human.define(\"farmer\", {\"breed\": \"Farmer\", \"label\": 3})\n",
    "\n",
    "model.human.farmer == selected\n",
    "model.human.farmer"
   ]
  },
  {
   "attachments": {},
   "cell_type": "markdown",
   "metadata": {},
   "source": [
    "Only 1 eligible farmer was selected, but when the attribute was modified, the defined \"Farmer\" attribute returned the current number of eligible farmers (5)."
   ]
  },
  {
   "cell_type": "code",
   "execution_count": 6,
   "metadata": {},
   "outputs": [
    {
     "data": {
      "text/plain": [
       "False"
      ]
     },
     "execution_count": 6,
     "metadata": {},
     "output_type": "execute_result"
    },
    {
     "data": {
      "text/plain": [
       "<ActorsList: (5)Farmer>"
      ]
     },
     "execution_count": 6,
     "metadata": {},
     "output_type": "execute_result"
    }
   ],
   "source": [
    "farmers.label = 3\n",
    "\n",
    "model.human.farmer == selected\n",
    "model.human.farmer"
   ]
  },
  {
   "attachments": {},
   "cell_type": "markdown",
   "metadata": {},
   "source": [
    "## Actors' rules"
   ]
  },
  {
   "attachments": {},
   "cell_type": "markdown",
   "metadata": {},
   "source": [
    "Rules are conditional statements that persisted work for actors by default. \n",
    "User can define some rules to a group of actors.\n",
    "Every time when those actors' attribute are changed, they will check all the rules that apply to themselves.\n",
    "Once the conditions are met, run the next rules as triggered by the rules."
   ]
  },
  {
   "cell_type": "code",
   "execution_count": 7,
   "metadata": {},
   "outputs": [
    {
     "data": {
      "text/plain": [
       "array([5, 6, 7, 8, 9])"
      ]
     },
     "execution_count": 7,
     "metadata": {},
     "output_type": "execute_result"
    }
   ],
   "source": [
    "from abses.main import MainModel\n",
    "from abses.actor import Actor\n",
    "\n",
    "# create atesting actors\n",
    "model = MainModel(name=\"testing rules\", base=\"tests\")\n",
    "\n",
    "\n",
    "class TestActor(Actor):\n",
    "    def report_breach(self):\n",
    "        print(f\"{self} broke regulation!\")\n",
    "\n",
    "\n",
    "# creating five testing actors, id from 5 to 10.\n",
    "actors = model.agents.new(TestActor, 5)\n",
    "actors.id"
   ]
  },
  {
   "cell_type": "code",
   "execution_count": 8,
   "metadata": {},
   "outputs": [
    {
     "data": {
      "text/plain": [
       "[None, None, None, None, None]"
      ]
     },
     "execution_count": 8,
     "metadata": {},
     "output_type": "execute_result"
    },
    {
     "name": "stdout",
     "output_type": "stream",
     "text": [
      "In looping step 0:\n",
      "In looping step 1:\n",
      "TestActor (Obj 6) broke regulation!\n",
      "In looping step 2:\n",
      "In looping step 3:\n",
      "In looping step 4:\n"
     ]
    }
   ],
   "source": [
    "import numpy as np\n",
    "\n",
    "# define a rule for all actors.\n",
    "actors.rule(when=\"test == 1\", then=\"report_breach\", disposable=True)\n",
    "\n",
    "# Updating attributes\n",
    "for index, actor in enumerate(actors):\n",
    "    print(f\"In looping step {index}:\")\n",
    "    actor.test = index"
   ]
  }
 ],
 "metadata": {
  "kernelspec": {
   "display_name": "ABSES_311",
   "language": "python",
   "name": "python3"
  },
  "language_info": {
   "codemirror_mode": {
    "name": "ipython",
    "version": 3
   },
   "file_extension": ".py",
   "mimetype": "text/x-python",
   "name": "python",
   "nbconvert_exporter": "python",
   "pygments_lexer": "ipython3",
   "version": "3.11.0"
  },
  "orig_nbformat": 4,
  "vscode": {
   "interpreter": {
    "hash": "34e7ff707ff286a3b130ff498e19cfe7511773b98306dec22b686ceb645d0b65"
   }
  }
 },
 "nbformat": 4,
 "nbformat_minor": 2
}
