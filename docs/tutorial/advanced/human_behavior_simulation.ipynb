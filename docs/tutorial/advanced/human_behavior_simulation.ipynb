{
 "cells": [
  {
   "cell_type": "markdown",
   "id": "aad05ac0-9e1f-441d-9d73-8923c62e7285",
   "metadata": {},
   "source": [
    "# Advanced Human Behavior Simulation Framework"
   ]
  },
  {
   "cell_type": "markdown",
   "id": "48da4fcf-8b64-4bd1-a556-cd4664c326f3",
   "metadata": {},
   "source": [
    "In the dynamic realm of Socio-Ecological Systems (SES) modeling, simulating human behavior is paramount. Humans, as key actors, play a pivotal role in shaping the interactions and outcomes within SES. Recognizing the complexity and nuances of human actions, ABSESpy introduces an advanced framework to model intricate human behaviors effectively."
   ]
  },
  {
   "cell_type": "markdown",
   "id": "3a4bf23c-2c05-453f-a1fe-b694e9b08481",
   "metadata": {},
   "source": [
    "<div align=\"center\">\n",
    "\t<img src=\"https://songshgeo-picgo-1302043007.cos.ap-beijing.myqcloud.com/uPic/MoHuB.png\" alt=\"Drawing\" style=\"width: 400px;\"/>\n",
    "</div>"
   ]
  },
  {
   "cell_type": "markdown",
   "id": "c79c64e6-85eb-4fc4-8f4d-cfeafcb41f34",
   "metadata": {},
   "source": [
    "The beauty of ABSESpy lies in its framework that seamlessly integrates these user-defined functions, creating a smooth workflow that mirrors the intricacies of human behavior in the real world. When implementing this human behavior framework with ABSESpy, users are allowed to define key elements of decision-making step by step with the following concepts:\n",
    "\n",
    "- **Decision**: First, define the types of decisions that an actor can make. A particular type of decision can be made by various types of actors. However, pre-defining what the decision types are helps users to better understand and organize their models.\n",
    "- **Perception**: Actors make decisions based on their perception of the surrounding world, including both the natural and social environments.\n",
    "- **Evaluate**: As the process of evaluating perceptions can vary, different actors may have different methods of evaluating decisions. Users can choose different evaluation methods for the same decision across various actors.\n",
    "- **Response**: Finally, based on the decision-making process, actors respond and their actions impact the surrounding environment.\n",
    "\n",
    "Let's dive into them."
   ]
  },
  {
   "cell_type": "markdown",
   "id": "da75c168-d51d-4aa0-bbec-bf4d156ea971",
   "metadata": {},
   "source": [
    "## Decisions"
   ]
  },
  {
   "cell_type": "code",
   "execution_count": 1,
   "id": "dd3031a5-af56-46e6-be47-60e7c2ef8eb6",
   "metadata": {
    "execution": {
     "iopub.execute_input": "2023-11-21T04:10:04.330098Z",
     "iopub.status.busy": "2023-11-21T04:10:04.329697Z",
     "iopub.status.idle": "2023-11-21T04:10:06.458794Z",
     "shell.execute_reply": "2023-11-21T04:10:06.458511Z",
     "shell.execute_reply.started": "2023-11-21T04:10:04.330074Z"
    }
   },
   "outputs": [],
   "source": [
    "from abses import Actor\n",
    "from abses.actor import perception\n",
    "from abses.decision import Decision\n",
    "from abses.main import MainModel\n",
    "import numpy as np\n",
    "\n",
    "\n",
    "class OverWorking(Decision):\n",
    "    \"\"\"内卷策略\"\"\"\n",
    "\n",
    "    __strategies__ = {\n",
    "        True: \"Decide to work longer.\",\n",
    "        False: \"No longer work more...\",\n",
    "    }\n",
    "\n",
    "    def setup(self):\n",
    "        \"\"\"Initial strategy of a new actor.\"\"\"\n",
    "        return np.random.choice([True, False], p=[0.1, 0.9])"
   ]
  },
  {
   "cell_type": "markdown",
   "id": "a1c2ec95-de32-4c25-b66a-bcda3c64b45b",
   "metadata": {},
   "source": [
    "A custom decision needs to inherit the `Decision` class, and users can customize the class attribute  `__strategies__` to set the choice of strategies and explanations for each strategy. The strategy does not need to be actively instantiated because a decision always requires a decision-making subject, which we will define next:"
   ]
  },
  {
   "cell_type": "code",
   "execution_count": 2,
   "id": "70643877-4abd-46a8-b882-559402da8c7b",
   "metadata": {
    "execution": {
     "iopub.execute_input": "2023-11-21T04:10:06.459453Z",
     "iopub.status.busy": "2023-11-21T04:10:06.459307Z",
     "iopub.status.idle": "2023-11-21T04:10:06.473219Z",
     "shell.execute_reply": "2023-11-21T04:10:06.472951Z",
     "shell.execute_reply.started": "2023-11-21T04:10:06.459443Z"
    }
   },
   "outputs": [],
   "source": [
    "class InvolutingActor(Actor):\n",
    "    \"\"\"A poor guy who has to work harder...\"\"\"\n",
    "\n",
    "    __decisions__ = OverWorking\n",
    "\n",
    "\n",
    "model = MainModel()\n",
    "actor = InvolutingActor(model=model)"
   ]
  },
  {
   "cell_type": "markdown",
   "id": "037b7b34-fcce-4596-95e9-6e27810c027b",
   "metadata": {},
   "source": [
    "As you can see, it's very simple. When customizing the main class, all you need to do is set `__decisions__` in the class attributes. This type of main actors will automatically have this decision when initialized. You can access it using `decisions` or a shortcut `d`:"
   ]
  },
  {
   "cell_type": "code",
   "execution_count": 3,
   "id": "850936f7-ce1f-473c-b46a-6624d2f30f25",
   "metadata": {
    "execution": {
     "iopub.execute_input": "2023-11-21T04:10:06.473700Z",
     "iopub.status.busy": "2023-11-21T04:10:06.473631Z",
     "iopub.status.idle": "2023-11-21T04:10:06.477106Z",
     "shell.execute_reply": "2023-11-21T04:10:06.476871Z",
     "shell.execute_reply.started": "2023-11-21T04:10:06.473693Z"
    }
   },
   "outputs": [
    {
     "data": {
      "text/plain": [
       "<over_working: False>"
      ]
     },
     "execution_count": 3,
     "metadata": {},
     "output_type": "execute_result"
    }
   ],
   "source": [
    "actor.decisions.over_working"
   ]
  },
  {
   "cell_type": "code",
   "execution_count": 4,
   "id": "b5cc90f6-789e-4fdf-b6ff-06ff6a90d7e8",
   "metadata": {
    "execution": {
     "iopub.execute_input": "2023-11-21T04:10:06.478234Z",
     "iopub.status.busy": "2023-11-21T04:10:06.478146Z",
     "iopub.status.idle": "2023-11-21T04:10:06.480134Z",
     "shell.execute_reply": "2023-11-21T04:10:06.479916Z",
     "shell.execute_reply.started": "2023-11-21T04:10:06.478225Z"
    }
   },
   "outputs": [
    {
     "data": {
      "text/plain": [
       "<over_working: False>"
      ]
     },
     "execution_count": 4,
     "metadata": {},
     "output_type": "execute_result"
    }
   ],
   "source": [
    "actor.d.over_working"
   ]
  },
  {
   "cell_type": "markdown",
   "id": "7a912dd1-f93d-447d-b70f-70895dd51cc9",
   "metadata": {},
   "source": [
    "## Preception"
   ]
  },
  {
   "cell_type": "markdown",
   "id": "54c054e7-a761-4c3a-bd7c-e1e745fd19c2",
   "metadata": {},
   "source": [
    "<!-- 通常来说，社会-生态系统中的行动者（即主体）在做出决策时，需要基于其对世界的感知 -->\n",
    "\n",
    "Generally speaking, actors (i.e., agents) in socio-ecological systems (SES) need to base their decisions on their perception of the world.\n",
    "\n",
    "<!-- 让我们来创建一个疲于工作的主体，它最初只会每天工作7小时。他会感知周围同事的工作强度。 -->\n",
    "Let's create a agent who is tired from work, initially only working 7 hours a day. He will perceive the intensity of his colleagues' work around him."
   ]
  },
  {
   "cell_type": "code",
   "execution_count": 5,
   "id": "256e0172-3a78-4a90-a9f7-a619b4ee0bc1",
   "metadata": {
    "execution": {
     "iopub.execute_input": "2023-11-21T04:10:06.480610Z",
     "iopub.status.busy": "2023-11-21T04:10:06.480520Z",
     "iopub.status.idle": "2023-11-21T04:10:06.482879Z",
     "shell.execute_reply": "2023-11-21T04:10:06.482640Z",
     "shell.execute_reply.started": "2023-11-21T04:10:06.480601Z"
    }
   },
   "outputs": [],
   "source": [
    "class InvolutingActor(Actor):\n",
    "    \"\"\"A poor guy who has to work harder...\"\"\"\n",
    "\n",
    "    __decisions__ = OverWorking\n",
    "\n",
    "    def __init__(self, *args, working_hrs: float = 7.0, **kwargs) -> None:\n",
    "        super().__init__(*args, **kwargs)\n",
    "        self.working_hrs = working_hrs\n",
    "        self.overwork = False\n",
    "\n",
    "    @perception\n",
    "    def avg_working_hrs(self) -> float:\n",
    "        \"\"\"The average wealth of acquaintances.\"\"\"\n",
    "        colleagues = self.linked(\"colleague\")\n",
    "        return colleagues.array(\"working_hrs\").mean()"
   ]
  },
  {
   "cell_type": "markdown",
   "id": "2437b1f7-a951-4d64-9388-9d2581db71ec",
   "metadata": {},
   "source": [
    "Now, let's create some agents and make them be colluague of our poor guy.\n",
    "\n",
    "We use `link_to` method to do so. The tutorial of this method can be found [here](links.ipynb)."
   ]
  },
  {
   "cell_type": "code",
   "execution_count": 6,
   "id": "6b4b14db-3c94-47ce-9660-b4a9ff04f1ee",
   "metadata": {
    "execution": {
     "iopub.execute_input": "2023-11-21T04:10:06.483370Z",
     "iopub.status.busy": "2023-11-21T04:10:06.483295Z",
     "iopub.status.idle": "2023-11-21T04:10:06.485979Z",
     "shell.execute_reply": "2023-11-21T04:10:06.485756Z",
     "shell.execute_reply.started": "2023-11-21T04:10:06.483362Z"
    }
   },
   "outputs": [
    {
     "data": {
      "text/plain": [
       "<ActorsList: (2)InvolutingActor>"
      ]
     },
     "execution_count": 6,
     "metadata": {},
     "output_type": "execute_result"
    }
   ],
   "source": [
    "agents = model.agents.create(InvolutingActor, 3)\n",
    "poor_guy, colleague_1, colleague_2 = agents\n",
    "\n",
    "poor_guy.working_hrs = 7\n",
    "colleague_1.working_hrs = 8\n",
    "colleague_2.working_hrs = 8\n",
    "\n",
    "# link_to() method can build links between agents and/or cells\n",
    "poor_guy.link_to(colleague_1, \"colleague\")\n",
    "poor_guy.link_to(colleague_2, \"colleague\")\n",
    "\n",
    "poor_guy.linked(\"colleague\")"
   ]
  },
  {
   "cell_type": "code",
   "execution_count": 7,
   "id": "c7885849-5bdf-423f-ac50-903ce02718e1",
   "metadata": {
    "execution": {
     "iopub.execute_input": "2023-11-21T04:10:06.486446Z",
     "iopub.status.busy": "2023-11-21T04:10:06.486338Z",
     "iopub.status.idle": "2023-11-21T04:10:06.488263Z",
     "shell.execute_reply": "2023-11-21T04:10:06.488046Z",
     "shell.execute_reply.started": "2023-11-21T04:10:06.486438Z"
    }
   },
   "outputs": [
    {
     "data": {
      "text/plain": [
       "8.0"
      ]
     },
     "execution_count": 7,
     "metadata": {},
     "output_type": "execute_result"
    }
   ],
   "source": [
    "# report the average working hours of its colleagues.\n",
    "poor_guy.avg_working_hrs()"
   ]
  },
  {
   "cell_type": "markdown",
   "id": "1d372765-6bf1-41dc-8051-445b9ca3d4d9",
   "metadata": {},
   "source": [
    "<!-- 这个主体感受到感知到同事们的平均工作时长之后，他就会进行评估。我们可以使用先前创建的决策 `OverWork` 中提供的装饰器类方法 `making` 来装饰评估函数。这样以来，这个函数的输出就会作为该决策的当前策略。 -->\n",
    "\n",
    "After this entity perceives the average working hours of colleagues, it will conduct an evaluation. We can use the decorator class method `making` provided in the previously created decision `OverWork` to decorate the evaluation function. In this way, the output of this function will serve as the current strategy for that decision.\n",
    "\n",
    "```python\n",
    "class InvolutingActor(Actor):\n",
    "    \"\"\"A poor guy who has to work harder...\"\"\"\n",
    "\n",
    "    # ... other methods ...\n",
    "\n",
    "    @OverWorking.making\n",
    "    def feel_peer_pressure(self):\n",
    "        \"\"\"Feel stressful when others work harder than self.\"\"\"\n",
    "        return self.working_hrs <= self.avg_working_hrs()\n",
    "```"
   ]
  },
  {
   "cell_type": "markdown",
   "id": "9a89430e-1973-4125-8d16-91301e434600",
   "metadata": {},
   "source": [
    "## Decision making (Responses)"
   ]
  },
  {
   "cell_type": "markdown",
   "id": "1cb571fa-eb2d-43ff-bc6e-39651629091d",
   "metadata": {},
   "source": [
    "<!-- 当主体产生了一个决策后，就会作出响应（即实际意义上的“行为”）。我们提供了另一个装饰器，用户使用该装饰器，可以更有逻辑地指定哪个决策在哪个策略下产生什么样的行为。-->\n",
    "\n",
    "Once a decision is made by the subject, a response (i.e., \"action\" in practical terms) will be generated. We have provided another decorator `response`, and users can use this decorator to logically specify what kind of action is produced under which strategy for which decision. It determines how agents respond to their decisions. This can involve moving to a new location, altering their state, or interacting with other entities. Here, let our class add a simple response when it \"feels peer pressure\" -i.e., work one hour more...:\n",
    "\n",
    "```python\n",
    "class InvolutingActor(Actor):\n",
    "    \"\"\"A poor guy who has to work harder...\"\"\"\n",
    "\n",
    "    # ... other methods ...\n",
    "\n",
    "    @response(decision=\"over_working\", strategy=True)\n",
    "    def work_harder(self):\n",
    "        \"\"\"Work harder.\"\"\"\n",
    "        self.working_hrs += 1\n",
    "```\n"
   ]
  },
  {
   "cell_type": "markdown",
   "id": "124882c5-48a0-41f7-b9ae-a944912e9296",
   "metadata": {},
   "source": [
    "<!-- 将上述主体的方法整合起来，我们会得到这样一个自定义的主体 `InvolutingActor` (用中文来说是\"内卷的人\"，即因为竞争压力不得不消耗自己精力，但没有实质进步的人。)：-->\n",
    "\n",
    "Integrating the methods of the above-mentioned methods, we will get such a custom actor (agent) class `InvolutingActor` (in Chinese it is called \"内卷的人\", that is, a person who has to consume his own energy due to competitive pressure but does not make substantial progress.)"
   ]
  },
  {
   "cell_type": "code",
   "execution_count": 8,
   "id": "704fffe4-2ca4-4bc4-abc7-8dfb8d2169b8",
   "metadata": {
    "execution": {
     "iopub.execute_input": "2023-11-21T04:10:06.488670Z",
     "iopub.status.busy": "2023-11-21T04:10:06.488600Z",
     "iopub.status.idle": "2023-11-21T04:10:06.491256Z",
     "shell.execute_reply": "2023-11-21T04:10:06.490993Z",
     "shell.execute_reply.started": "2023-11-21T04:10:06.488662Z"
    }
   },
   "outputs": [],
   "source": [
    "class InvolutingActor(Actor):\n",
    "    \"\"\"A poor guy who has to work harder...\"\"\"\n",
    "\n",
    "    __decisions__ = OverWorking\n",
    "\n",
    "    def __init__(self, *args, working_hrs: float = 7.0, **kwargs) -> None:\n",
    "        super().__init__(*args, **kwargs)\n",
    "        self.working_hrs = working_hrs\n",
    "        self.overwork = False\n",
    "\n",
    "    @perception\n",
    "    def avg_working_hrs(self) -> float:\n",
    "        \"\"\"The average wealth of acquaintances.\"\"\"\n",
    "        acquaintance = self.linked(\"colleague\")\n",
    "        return acquaintance.array(\"working_hrs\").mean()\n",
    "\n",
    "    @OverWorking.response(strategy=True)\n",
    "    def work_harder(self):\n",
    "        \"\"\"Work harder.\"\"\"\n",
    "        self.working_hrs += 1\n",
    "\n",
    "    @OverWorking.making\n",
    "    def feel_peer_pressure(self):\n",
    "        \"\"\"Feel stressful when others work harder than self.\"\"\"\n",
    "        return self.working_hrs <= self.avg_working_hrs()"
   ]
  },
  {
   "cell_type": "markdown",
   "id": "6736e82c-15ec-4bfc-afe5-619dfbdcc7b2",
   "metadata": {},
   "source": [
    "<!-- 让我们看看现在发生了什么？我们可以使用 actor 的 `decision.making()` 方法，这样主体会自动完成「感知->评估->决策」的框架。即这个内卷的人自动增加了工作小时数。 -->\n",
    "Let's see what's happening now? We can use the `decision.making()` method of the actor, so that the subject will automatically complete the \"perception->evaluation->response\" framework. That is, this person involved in intense competition has automatically increased his working hours (from 7 to 8)."
   ]
  },
  {
   "cell_type": "code",
   "execution_count": 9,
   "id": "ef8804d2-2f50-4e16-a045-9997733ebc6f",
   "metadata": {
    "execution": {
     "iopub.execute_input": "2023-11-21T04:10:06.491767Z",
     "iopub.status.busy": "2023-11-21T04:10:06.491668Z",
     "iopub.status.idle": "2023-11-21T04:10:06.494049Z",
     "shell.execute_reply": "2023-11-21T04:10:06.493850Z",
     "shell.execute_reply.started": "2023-11-21T04:10:06.491759Z"
    }
   },
   "outputs": [],
   "source": [
    "agents = model.agents.create(InvolutingActor, 3)\n",
    "poor_guy, colleague_1, colleague_2 = agents\n",
    "\n",
    "poor_guy.working_hrs = 7\n",
    "colleague_1.working_hrs = 8\n",
    "colleague_2.working_hrs = 7\n",
    "\n",
    "# link_to() method can build links between agents and/or cells\n",
    "poor_guy.link_to(colleague_1, \"colleague\")\n",
    "poor_guy.link_to(colleague_2, \"colleague\")\n",
    "\n",
    "# decision making...\n",
    "poor_guy.decisions.making()"
   ]
  },
  {
   "cell_type": "code",
   "execution_count": 10,
   "id": "80b2709d-88b6-4275-a3d0-8935fadd7bb3",
   "metadata": {
    "execution": {
     "iopub.execute_input": "2023-11-21T04:10:06.494564Z",
     "iopub.status.busy": "2023-11-21T04:10:06.494420Z",
     "iopub.status.idle": "2023-11-21T04:10:06.496283Z",
     "shell.execute_reply": "2023-11-21T04:10:06.496079Z",
     "shell.execute_reply.started": "2023-11-21T04:10:06.494557Z"
    }
   },
   "outputs": [
    {
     "data": {
      "text/plain": [
       "8"
      ]
     },
     "execution_count": 10,
     "metadata": {},
     "output_type": "execute_result"
    }
   ],
   "source": [
    "poor_guy.working_hrs"
   ]
  },
  {
   "cell_type": "markdown",
   "id": "6d3d9cbe-8887-4b76-99f8-5b484cc098c0",
   "metadata": {},
   "source": [
    "<!-- 使用 `decisions.making` 会自动检查主体所有被设置的决策，并实践“感知->评估->响应” (\"perception->evaluation->response\") 框架。当这个决策结果不符合产生反应的条件时，则不会响应。看，当这个可怜的人工作时长不再比周围人的平均值低的时候，他不再主动增加自己的工作时长： -->\n",
    "\n",
    "Using `decisions.making` will automatically check all the decisions set by the subject and implement the \"perception->evaluation->response\" framework. If the decision result does not meet the conditions for generating a response, it will not respond. Look, when this poor person's working hours are no longer lower than the average of those around him, he no longer actively increases his own working hours from 8 to 9:"
   ]
  },
  {
   "cell_type": "code",
   "execution_count": 11,
   "id": "36beb9db-19b9-4fd5-bb0a-54938a6f0263",
   "metadata": {
    "execution": {
     "iopub.execute_input": "2023-11-21T04:10:06.496781Z",
     "iopub.status.busy": "2023-11-21T04:10:06.496674Z",
     "iopub.status.idle": "2023-11-21T04:10:06.498931Z",
     "shell.execute_reply": "2023-11-21T04:10:06.498699Z",
     "shell.execute_reply.started": "2023-11-21T04:10:06.496774Z"
    }
   },
   "outputs": [
    {
     "data": {
      "text/plain": [
       "8"
      ]
     },
     "execution_count": 11,
     "metadata": {},
     "output_type": "execute_result"
    }
   ],
   "source": [
    "poor_guy.decisions.making()\n",
    "poor_guy.working_hrs"
   ]
  }
 ],
 "metadata": {
  "kernelspec": {
   "display_name": "Python 3 (ipykernel)",
   "language": "python",
   "name": "python3"
  },
  "language_info": {
   "codemirror_mode": {
    "name": "ipython",
    "version": 3
   },
   "file_extension": ".py",
   "mimetype": "text/x-python",
   "name": "python",
   "nbconvert_exporter": "python",
   "pygments_lexer": "ipython3",
   "version": "3.11.2"
  }
 },
 "nbformat": 4,
 "nbformat_minor": 5
}
