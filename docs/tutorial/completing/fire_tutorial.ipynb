{
 "cells": [
  {
   "cell_type": "markdown",
   "metadata": {},
   "source": [
    "# Fire Spread Simulation\n",
    "## Introduction\n",
    "This notebook is based on the `fire` model implementation with NetLogo. You can find the original implementation at https://ccl.northwestern.edu/netlogo/models/Fire. This model aims to showcase basic methods that allow interactions between agents. \n",
    "\n",
    "The model simulates the spread of a fire in a forest. The fire spreads from tree to nearby trees. The model consist of a grid of any given size, where each cell may contain either one or no tree. The fire spreads to nearby trees only. The state of each tree is then represented graphically by the color of the cell. Untouched trees appear on green patches, burning trees appear on red patches, and burnt trees appear on orange patches. Whenever there is no tree on a patch, the patch is colored black."
   ]
  },
  {
   "cell_type": "code",
   "execution_count": 1,
   "metadata": {},
   "outputs": [],
   "source": [
    "from matplotlib import pyplot as plt\n",
    "\n",
    "from abses.cells import PatchCell, raster_attribute\n",
    "from abses.main import MainModel\n",
    "from abses.nature import PatchModule\n",
    "from abses.sequences import ActorsList"
   ]
  },
  {
   "cell_type": "markdown",
   "metadata": {},
   "source": [
    "As usual, the basis of any ABSESpy model are the MainModel. For these specific model we won't use the `Actor` class. Instead, we will rely heavily on the capabilities of the `PatchCell` class, part of the ABSESpy library. "
   ]
  },
  {
   "cell_type": "markdown",
   "metadata": {},
   "source": [
    "We must implement a class that will control, contain and manage global level variables and objects such as the grid of the cells. That is the task the `Forest` class which will inherit from the `MainModel` class. Then, we also need the implementation of our agents. That is the task of the `Tree` class, which will inherit from the `PatchCell` class.\n",
    "\n",
    "```python\n",
    "class Tree(PatchCell):\n",
    "    (...)\n",
    "\n",
    "class Forest(MainModel):\n",
    "    (...)\n",
    "```"
   ]
  },
  {
   "cell_type": "markdown",
   "metadata": {},
   "source": [
    "## The `Tree` class\n",
    "\n",
    "The `Tree` class, which inherits from the `PatchCell` class, will contain the logic for all trees. A tree will consist of a full cell and, thus, it will not have agency but will rather be affected by its immediate environment. The indicator for how a tree is being affected consist of the state the tree is in. The state of a tree can be one of the following:\n",
    "- 0: Empty patch cell\n",
    "- 1: Healthy tree\n",
    "- 2: Burning tree\n",
    "- 3: Scorched tree\n",
    "\n",
    "The `Tree` class will contain the logic for the spread of the fire. The spread of the fire will be determined by the state of the tree and the state of the neighboring trees. This process will follow simple, heuristic rules. Any tree that is burning will spread the fire to any neighboring tree that is healthy. A neighbor is defined as those tree standing on the cells at most 1 unit distance away."
   ]
  },
  {
   "cell_type": "code",
   "execution_count": 2,
   "metadata": {},
   "outputs": [],
   "source": [
    "class Tree(PatchCell):\n",
    "    \"\"\"\n",
    "    Breed `Tree` is a subclass of `PatchCell`.\n",
    "    It has four different states:\n",
    "    0: empty, i.e., no tree is located on the patch.\n",
    "    1: has an intact tree.\n",
    "    2: the tree here is burning now.\n",
    "    3: the three here is burned and now scorched -cannot be burned again.\n",
    "    \"\"\"\n",
    "\n",
    "    def __init__(self, *args, **kwargs):\n",
    "        super().__init__(*args, **kwargs)\n",
    "        self._state = 0\n",
    "\n",
    "    def burning(self):\n",
    "        \"\"\"If the tree is burning, it ignites the neighboring trees.\"\"\"\n",
    "        if self._state == 2:\n",
    "            neighbors = self.neighboring(moore=False, radius=1)\n",
    "            # apply to all neighboring patches: trigger ignite method\n",
    "            neighbors.select({\"state\": 1}).trigger(\"ignite\")\n",
    "            # after then, it becomes scorched and cannot be burned again.\n",
    "            self._state = 3\n",
    "\n",
    "    def grow(self) -> None:\n",
    "        \"\"\"Grows the tree here.\"\"\"\n",
    "        self._state = 1\n",
    "\n",
    "    def ignite(self) -> None:\n",
    "        \"\"\"Ignite this tree.\"\"\"\n",
    "        if self._state == 1:\n",
    "            self._state = 2\n",
    "\n",
    "    @raster_attribute\n",
    "    def state(self) -> int:\n",
    "        \"\"\"Return the state code.\"\"\"\n",
    "        return self._state"
   ]
  },
  {
   "cell_type": "markdown",
   "metadata": {},
   "source": [
    "## The `Forest` MainModel Class\n",
    "The forest class will contain the grid of tree cells. The forest class is also responsible for setting up the initial configuration of the model as well as activate the rules for the spread of the fire. As usual, the `Forest` class will inherit from the `MainModel` class and we need to specify what the setup and step methods will be. \n",
    "\n",
    "The setup method in the Forest class is responsible for creating the initial state of the forest. It's like the stage director setting the scene before the play begins. This method sets up the grid that represents the forest and populates it with trees. The placement and characteristics of these trees are determined by the initial configuration parameters of the model. Once the setup method has run, the forest is ready for the simulation to begin.\n",
    "\n",
    "The step method in the Forest class is like the director calling \"Action!\" on a movie set. It's responsible for advancing the state of the forest by one time step.\n",
    "\n",
    "In the context of a forest fire simulation, the step method would typically iterate over all the trees in the forest and update their state based on the rules of the simulation. For example, if a tree is on fire, it might spread the fire to its neighboring trees. If a tree has been burning for a certain amount of time, it might turn into ash.\n",
    "\n",
    "The step method is called repeatedly to simulate the passage of time and the spread of the fire through the forest. Each call to the step method represents a new moment in time in the life of the forest.\n",
    "\n",
    "Besides those two methods, we want another one that will allow us to visualize the current state of the forest. It will serve the purpose of letting us have a glimpse of the macro state emerging from the simple, micro interactions of the trees."
   ]
  },
  {
   "cell_type": "code",
   "execution_count": 3,
   "metadata": {},
   "outputs": [],
   "source": [
    "COLORS = {\n",
    "    0: \"#54473F\",\n",
    "    1: \"#859F3D\",\n",
    "    2: \"#FD8B51\",\n",
    "    3: \"#FF4545\",\n",
    "}\n",
    "import numpy as np\n",
    "\n",
    "\n",
    "class Forest(MainModel):\n",
    "    \"\"\"\n",
    "    Forest model where fire\n",
    "    \"\"\"\n",
    "\n",
    "    def __init__(self, *args, **kwargs):\n",
    "        super().__init__(*args, **kwargs)\n",
    "        # setup a grid space.\n",
    "        grid: PatchModule = self.nature.create_module(\n",
    "            how=\"from_resolution\",\n",
    "            name=\"forest\",\n",
    "            shape=self.p.shape,\n",
    "            cell_cls=Tree,\n",
    "            major_layer=True,\n",
    "        )\n",
    "        # random choose some patches to setup trees\n",
    "        chosen_patches = grid.random.choice(self.num_trees, replace=False)\n",
    "        # create trees on the selected patches.\n",
    "        chosen_patches.trigger(\"grow\")\n",
    "        # ignite the trees in the leftmost column.\n",
    "        ActorsList(self, grid.array_cells[:, 0]).trigger(\"ignite\")\n",
    "\n",
    "    def step(self):\n",
    "        for tree in self.nature.forest:\n",
    "            tree.burning()\n",
    "\n",
    "    @property\n",
    "    def burned_rate(self) -> float:\n",
    "        \"\"\"The burned trees in ratio.\"\"\"\n",
    "        state = self.nature.get_raster(\"state\")\n",
    "        return np.squeeze(state == 3).sum() / self.num_trees\n",
    "\n",
    "    @property\n",
    "    def num_trees(self) -> int:\n",
    "        \"\"\"Number of trees\"\"\"\n",
    "        shape = self.params.shape\n",
    "        return int(shape[0] * shape[1] * self.params.density)\n",
    "\n",
    "    def plot_state(self):\n",
    "        \"\"\"Plot the state of trees.\"\"\"\n",
    "        cmap = plt.cm.colors.ListedColormap(\n",
    "            [COLORS[i] for i in sorted(COLORS)]\n",
    "        )\n",
    "        data = self.nature.get_xarray(\"state\")\n",
    "        data.plot(cmap=cmap)\n",
    "        plt.show()"
   ]
  },
  {
   "cell_type": "markdown",
   "metadata": {},
   "source": [
    "## Simulations and Discussion\n",
    "\n",
    "In this section, we will be using the Forest and Tree classes to simulate forest fires and study their behavior under different conditions. Our primary focus will be on understanding the relationship between the density of the forest and the speed at which the fire spreads.\n",
    "\n",
    "The Forest class represents a forest in which a fire can spread. Each tree in the forest is represented by an instance of the Tree class, which can be in one of four states: empty, intact, burning, or scorched.\n",
    "\n",
    "Our hypothesis is that the density of the forest will have a significant impact on the speed of fire spread. Specifically, we expect that a less dense forest will slow down the fire spread due to the larger gaps between trees. Conversely, in a denser forest, we expect the fire to spread more quickly due to the closer proximity of trees.\n",
    "\n",
    "To test this hypothesis, we will run simulations with different forest densities and observe the speed of fire spread in each case. We will use the Forest class to set up the forest and the Tree class to simulate the behavior of individual trees. The density of the forest will be controlled by the density parameter of the Forest class.."
   ]
  },
  {
   "cell_type": "markdown",
   "metadata": {},
   "source": [
    "#### 60% Tree Population Density\n",
    "\n",
    "For this level of the density parameter, we expect the forest to be relatively dense, with trees close to each other. We expect the fire to spread quickly due to the close proximity of trees.\n",
    "\n",
    "Our suspicion is confirmed in that, by the final step of the simulation, the fire has spread to cover most of the populated area of the forest. More over, the fire has not stopped spreading."
   ]
  },
  {
   "cell_type": "code",
   "execution_count": 7,
   "metadata": {},
   "outputs": [
    {
     "data": {
      "image/png": "[encoded data removed]",
      "text/plain": [
       "<Figure size 640x480 with 2 Axes>"
      ]
     },
     "metadata": {},
     "output_type": "display_data"
    }
   ],
   "source": [
    "cfg = {\"model\": {\"density\": 0.6, \"shape\": (100, 100)}, \"time\": {\"end\": 25}}\n",
    "\n",
    "# Instantiate the model and set it up.\n",
    "model = Forest(parameters=cfg, seed=42)\n",
    "# Run and plot final state\n",
    "model.run_model()\n",
    "model.plot_state()"
   ]
  },
  {
   "cell_type": "markdown",
   "metadata": {},
   "source": [
    "#### 40% Tree Population Density\n",
    "\n",
    "This level of the density parameter represents a less dense forest, with more space between trees. We expect the fire to spread more slowly than in the previous case, due to the larger gaps between trees. Nonetheless, it is not considerable low. \n",
    "\n",
    "Not a quarter of the forest is covered by the fire. The fire has stopped spreading by the final step of the simulation."
   ]
  },
  {
   "cell_type": "code",
   "execution_count": 15,
   "metadata": {},
   "outputs": [
    {
     "data": {
      "image/png": "[encoded data removed]",
      "text/plain": [
       "<Figure size 640x480 with 2 Axes>"
      ]
     },
     "metadata": {},
     "output_type": "display_data"
    }
   ],
   "source": [
    "cfg = {\n",
    "    \"model\": {\"density\": 0.4, \"shape\": (100, 100)},\n",
    "    \"time\": {\"end\": 25},\n",
    "    \"reports\": {\"final\": {\"burned\": \"burned_rate\"}},\n",
    "}\n",
    "\n",
    "# Instantiate the model and set it up.\n",
    "model = Forest(parameters=cfg, seed=42)\n",
    "# Run and plot final state\n",
    "model.run_model()\n",
    "model.plot_state()"
   ]
  },
  {
   "cell_type": "markdown",
   "metadata": {},
   "source": [
    "## Experiment for different parameters"
   ]
  },
  {
   "cell_type": "markdown",
   "metadata": {},
   "source": [
    "In this session, we are going explore how the key parameter \"density\" of trees in the forest affects the spread of the fire. We will run simulations with different values of the density parameter and observe the speed of fire spread in each case. "
   ]
  },
  {
   "cell_type": "code",
   "execution_count": 16,
   "metadata": {},
   "outputs": [],
   "source": [
    "from abses import Experiment\n",
    "\n",
    "exp = Experiment(Forest, cfg=cfg)"
   ]
  },
  {
   "cell_type": "markdown",
   "metadata": {},
   "source": [
    "First of all, we import the `Experiment` object from the `ABSESpy` library for batch run.\n",
    "\n",
    "Since the `Forest` model is defined in this notebook, we cannot use multiple processing to run the simulations. We will use the `Experiment` object to run the simulations sequentially."
   ]
  },
  {
   "cell_type": "code",
   "execution_count": 7,
   "metadata": {},
   "outputs": [
    {
     "data": {
      "application/vnd.jupyter.widget-view+json": {
       "model_id": "3828e36891d745a28f6758f8b35bdf48",
       "version_major": 2,
       "version_minor": 0
      },
      "text/plain": [
       "Job 0 repeats 10 times.:   0%|          | 0/10 [00:00<?, ?it/s]"
      ]
     },
     "metadata": {},
     "output_type": "display_data"
    }
   ],
   "source": [
    "exp.batch_run(repeats=10, parallels=1)"
   ]
  },
  {
   "cell_type": "markdown",
   "metadata": {},
   "source": [
    "Next, we would try to use different parameters of `model.density`."
   ]
  },
  {
   "cell_type": "code",
   "execution_count": 8,
   "metadata": {},
   "outputs": [
    {
     "data": {
      "application/vnd.jupyter.widget-view+json": {
       "model_id": "11cbdfefcf534486aede6e9bbba29168",
       "version_major": 2,
       "version_minor": 0
      },
      "text/plain": [
       "10 jobs (repeats 10 times each).:   0%|          | 0/10 [00:00<?, ?it/s]"
      ]
     },
     "metadata": {},
     "output_type": "display_data"
    },
    {
     "name": "stderr",
     "output_type": "stream",
     "text": [
      "[16:06:11][WARNING][nature] the nature's CRS has been changed to epsg:4326.\n",
      "[16:06:11][WARNING][nature] the nature's CRS has been changed to epsg:4326.\n",
      "[16:06:11][WARNING][nature] the nature's CRS has been changed to epsg:4326.\n",
      "[16:06:11][WARNING][nature] the nature's CRS has been changed to epsg:4326.\n",
      "[16:06:11][WARNING][nature] the nature's CRS has been changed to epsg:4326.\n",
      "/Users/songshgeo/Documents/VSCode/ABSESpy/.venv/lib/python3.11/site-packages/joblib/externals/loky/process_executor.py:752: UserWarning: A worker stopped while some jobs were given to the executor. This can be caused by a too short worker timeout or by a memory leak.\n",
      "  warnings.warn(\n"
     ]
    }
   ],
   "source": [
    "exp.batch_run(\n",
    "    repeats=10,\n",
    "    parallels=5,\n",
    "    overrides={\"model.density\": np.arange(0.1, 1.01, 0.1)},\n",
    ")"
   ]
  },
  {
   "cell_type": "code",
   "execution_count": 9,
   "metadata": {},
   "outputs": [
    {
     "data": {
      "image/png": "[encoded data removed]",
      "text/plain": [
       "<Figure size 640x480 with 1 Axes>"
      ]
     },
     "metadata": {},
     "output_type": "display_data"
    }
   ],
   "source": [
    "import seaborn as sns\n",
    "\n",
    "\n",
    "def plot_exp_result(df):\n",
    "    grouped = df.groupby(\"model.density\")[\"burned\"].agg([\"mean\", \"std\"])\n",
    "    sns.lineplot(grouped, x=grouped.index, y=\"mean\", err_style=\"band\")\n",
    "    plt.fill_between(\n",
    "        grouped.index,\n",
    "        grouped[\"mean\"] - grouped[\"std\"],\n",
    "        grouped[\"mean\"] + grouped[\"std\"],\n",
    "        color=\"blue\",\n",
    "        alpha=0.2,\n",
    "    )\n",
    "    plt.show()\n",
    "\n",
    "\n",
    "plot_exp_result(exp.summary())"
   ]
  },
  {
   "cell_type": "markdown",
   "metadata": {},
   "source": [
    "## Call experiment in CLI"
   ]
  },
  {
   "cell_type": "markdown",
   "metadata": {},
   "source": [
    "As we can see, since the model was imported from an outside script, we are now able to use multiple processes for faster batch run."
   ]
  },
  {
   "cell_type": "code",
   "execution_count": 10,
   "metadata": {},
   "outputs": [],
   "source": [
    "from abses import Experiment\n",
    "\n",
    "exp = Experiment.new(Forest, cfg=cfg)"
   ]
  },
  {
   "cell_type": "code",
   "execution_count": 11,
   "metadata": {},
   "outputs": [
    {
     "data": {
      "application/vnd.jupyter.widget-view+json": {
       "model_id": "2f586a84b7254f6f9d0ba6d0d85e50b7",
       "version_major": 2,
       "version_minor": 0
      },
      "text/plain": [
       "Job 0 repeats 100 times, with 3 processes.:   0%|          | 0/100 [00:00<?, ?it/s]"
      ]
     },
     "metadata": {},
     "output_type": "display_data"
    },
    {
     "name": "stderr",
     "output_type": "stream",
     "text": [
      "[16:06:25][WARNING][nature] the nature's CRS has been changed to epsg:4326.\n",
      "[16:06:25][WARNING][nature] the nature's CRS has been changed to epsg:4326.\n",
      "[16:06:25][WARNING][nature] the nature's CRS has been changed to epsg:4326.\n",
      "/Users/songshgeo/Documents/VSCode/ABSESpy/.venv/lib/python3.11/site-packages/joblib/externals/loky/process_executor.py:752: UserWarning: A worker stopped while some jobs were given to the executor. This can be caused by a too short worker timeout or by a memory leak.\n",
      "  warnings.warn(\n",
      "[16:06:31][WARNING][nature] the nature's CRS has been changed to epsg:4326.\n",
      "[16:06:32][WARNING][nature] the nature's CRS has been changed to epsg:4326.\n",
      "[16:06:32][WARNING][nature] the nature's CRS has been changed to epsg:4326.\n"
     ]
    },
    {
     "data": {
      "text/html": [
       "<div>\n",
       "<style scoped>\n",
       "    .dataframe tbody tr th:only-of-type {\n",
       "        vertical-align: middle;\n",
       "    }\n",
       "\n",
       "    .dataframe tbody tr th {\n",
       "        vertical-align: top;\n",
       "    }\n",
       "\n",
       "    .dataframe thead th {\n",
       "        text-align: right;\n",
       "    }\n",
       "</style>\n",
       "<table border=\"1\" class=\"dataframe\">\n",
       "  <thead>\n",
       "    <tr style=\"text-align: right;\">\n",
       "      <th></th>\n",
       "      <th>job_id</th>\n",
       "      <th>repeat_id</th>\n",
       "      <th>burned</th>\n",
       "    </tr>\n",
       "  </thead>\n",
       "  <tbody>\n",
       "    <tr>\n",
       "      <th>0</th>\n",
       "      <td>0</td>\n",
       "      <td>1</td>\n",
       "      <td>0.03375</td>\n",
       "    </tr>\n",
       "    <tr>\n",
       "      <th>1</th>\n",
       "      <td>0</td>\n",
       "      <td>2</td>\n",
       "      <td>0.02550</td>\n",
       "    </tr>\n",
       "    <tr>\n",
       "      <th>2</th>\n",
       "      <td>0</td>\n",
       "      <td>3</td>\n",
       "      <td>0.03050</td>\n",
       "    </tr>\n",
       "    <tr>\n",
       "      <th>3</th>\n",
       "      <td>0</td>\n",
       "      <td>4</td>\n",
       "      <td>0.01775</td>\n",
       "    </tr>\n",
       "    <tr>\n",
       "      <th>4</th>\n",
       "      <td>0</td>\n",
       "      <td>5</td>\n",
       "      <td>0.02775</td>\n",
       "    </tr>\n",
       "    <tr>\n",
       "      <th>...</th>\n",
       "      <td>...</td>\n",
       "      <td>...</td>\n",
       "      <td>...</td>\n",
       "    </tr>\n",
       "    <tr>\n",
       "      <th>95</th>\n",
       "      <td>0</td>\n",
       "      <td>96</td>\n",
       "      <td>0.02300</td>\n",
       "    </tr>\n",
       "    <tr>\n",
       "      <th>96</th>\n",
       "      <td>0</td>\n",
       "      <td>97</td>\n",
       "      <td>0.02325</td>\n",
       "    </tr>\n",
       "    <tr>\n",
       "      <th>97</th>\n",
       "      <td>0</td>\n",
       "      <td>98</td>\n",
       "      <td>0.03325</td>\n",
       "    </tr>\n",
       "    <tr>\n",
       "      <th>98</th>\n",
       "      <td>0</td>\n",
       "      <td>99</td>\n",
       "      <td>0.02275</td>\n",
       "    </tr>\n",
       "    <tr>\n",
       "      <th>99</th>\n",
       "      <td>0</td>\n",
       "      <td>100</td>\n",
       "      <td>0.02700</td>\n",
       "    </tr>\n",
       "  </tbody>\n",
       "</table>\n",
       "<p>100 rows × 3 columns</p>\n",
       "</div>"
      ],
      "text/plain": [
       "    job_id  repeat_id   burned\n",
       "0        0          1  0.03375\n",
       "1        0          2  0.02550\n",
       "2        0          3  0.03050\n",
       "3        0          4  0.01775\n",
       "4        0          5  0.02775\n",
       "..     ...        ...      ...\n",
       "95       0         96  0.02300\n",
       "96       0         97  0.02325\n",
       "97       0         98  0.03325\n",
       "98       0         99  0.02275\n",
       "99       0        100  0.02700\n",
       "\n",
       "[100 rows x 3 columns]"
      ]
     },
     "execution_count": 11,
     "metadata": {},
     "output_type": "execute_result"
    }
   ],
   "source": [
    "exp.batch_run(parallels=3, repeats=100)\n",
    "exp.summary()"
   ]
  },
  {
   "cell_type": "markdown",
   "metadata": {},
   "source": [
    "Despite we used a dictionary of parameters to run the previous simulation, `ABSESpy` always encourage users to save the configurations in a `YAML` file for better organization and reusability. We will use the `YAML` file to store the parameters for the later simulations.\n",
    "\n",
    "```yaml\n",
    "exp:\n",
    "  name: fire_spread\n",
    "  repeats: 100\n",
    "\n",
    "reports:\n",
    "  final:\n",
    "    burned: \"burned_rate\"\n",
    "\n",
    "\n",
    "model:\n",
    "  density: 0.45\n",
    "  shape:\n",
    "    - 100\n",
    "    - 100\n",
    "\n",
    "time:\n",
    "  end: 25\n",
    "```\n",
    "\n",
    "Furthermore, for multiple-processes run, it's also good to save the model `Forest` in a `.py` script and import it in `Notebook` or `CLI`.\n",
    "\n",
    "This is our working tree:\n"
   ]
  },
  {
   "cell_type": "code",
   "execution_count": 12,
   "metadata": {},
   "outputs": [
    {
     "data": {
      "application/vnd.jupyter.widget-view+json": {
       "model_id": "c2fd55a0c75e4db1913489fd2b0aabfc",
       "version_major": 2,
       "version_minor": 0
      },
      "text/plain": [
       "Job 0 repeats 1 times, with 1 processes.:   0%|          | 0/1 [00:00<?, ?it/s]"
      ]
     },
     "metadata": {},
     "output_type": "display_data"
    },
    {
     "data": {
      "text/html": [
       "<div>\n",
       "<style scoped>\n",
       "    .dataframe tbody tr th:only-of-type {\n",
       "        vertical-align: middle;\n",
       "    }\n",
       "\n",
       "    .dataframe tbody tr th {\n",
       "        vertical-align: top;\n",
       "    }\n",
       "\n",
       "    .dataframe thead th {\n",
       "        text-align: right;\n",
       "    }\n",
       "</style>\n",
       "<table border=\"1\" class=\"dataframe\">\n",
       "  <thead>\n",
       "    <tr style=\"text-align: right;\">\n",
       "      <th></th>\n",
       "      <th>job_id</th>\n",
       "      <th>repeat_id</th>\n",
       "      <th>burned</th>\n",
       "    </tr>\n",
       "  </thead>\n",
       "  <tbody>\n",
       "    <tr>\n",
       "      <th>0</th>\n",
       "      <td>0</td>\n",
       "      <td>1</td>\n",
       "      <td>0.0255</td>\n",
       "    </tr>\n",
       "  </tbody>\n",
       "</table>\n",
       "</div>"
      ],
      "text/plain": [
       "   job_id  repeat_id  burned\n",
       "0       0          1  0.0255"
      ]
     },
     "execution_count": 12,
     "metadata": {},
     "output_type": "execute_result"
    }
   ],
   "source": [
    "# Now, we use the configurations from the `yaml` settings file.\n",
    "CONFIG_PATH = r\"../../../examples/fire_spread/config.yaml\"\n",
    "\n",
    "Experiment.new(Forest, cfg=CONFIG_PATH)\n",
    "\n",
    "# Just simply pass it as the cfg.\n",
    "exp.batch_run()\n",
    "exp.summary()"
   ]
  },
  {
   "cell_type": "code",
   "execution_count": 13,
   "metadata": {},
   "outputs": [
    {
     "data": {
      "application/vnd.jupyter.widget-view+json": {
       "model_id": "b7700a5345844ede9c90325c309fbe69",
       "version_major": 2,
       "version_minor": 0
      },
      "text/plain": [
       "10 jobs (repeats 1 times each).:   0%|          | 0/10 [00:00<?, ?it/s]"
      ]
     },
     "metadata": {},
     "output_type": "display_data"
    },
    {
     "name": "stderr",
     "output_type": "stream",
     "text": [
      "[16:06:37][WARNING][nature] the nature's CRS has been changed to epsg:4326.\n",
      "[16:06:38][WARNING][nature] the nature's CRS has been changed to epsg:4326.\n",
      "[16:06:40][WARNING][nature] the nature's CRS has been changed to epsg:4326.\n",
      "[16:06:42][WARNING][nature] the nature's CRS has been changed to epsg:4326.\n",
      "[16:06:43][WARNING][nature] the nature's CRS has been changed to epsg:4326.\n"
     ]
    },
    {
     "data": {
      "text/html": [
       "<div>\n",
       "<style scoped>\n",
       "    .dataframe tbody tr th:only-of-type {\n",
       "        vertical-align: middle;\n",
       "    }\n",
       "\n",
       "    .dataframe tbody tr th {\n",
       "        vertical-align: top;\n",
       "    }\n",
       "\n",
       "    .dataframe thead th {\n",
       "        text-align: right;\n",
       "    }\n",
       "</style>\n",
       "<table border=\"1\" class=\"dataframe\">\n",
       "  <thead>\n",
       "    <tr style=\"text-align: right;\">\n",
       "      <th></th>\n",
       "      <th>job_id</th>\n",
       "      <th>repeat_id</th>\n",
       "      <th>model.density</th>\n",
       "      <th>burned</th>\n",
       "    </tr>\n",
       "  </thead>\n",
       "  <tbody>\n",
       "    <tr>\n",
       "      <th>0</th>\n",
       "      <td>0</td>\n",
       "      <td>1</td>\n",
       "      <td>0.1</td>\n",
       "      <td>0.011000</td>\n",
       "    </tr>\n",
       "    <tr>\n",
       "      <th>1</th>\n",
       "      <td>1</td>\n",
       "      <td>1</td>\n",
       "      <td>0.2</td>\n",
       "      <td>0.017500</td>\n",
       "    </tr>\n",
       "    <tr>\n",
       "      <th>2</th>\n",
       "      <td>2</td>\n",
       "      <td>1</td>\n",
       "      <td>0.3</td>\n",
       "      <td>0.009667</td>\n",
       "    </tr>\n",
       "    <tr>\n",
       "      <th>3</th>\n",
       "      <td>3</td>\n",
       "      <td>1</td>\n",
       "      <td>0.4</td>\n",
       "      <td>0.031750</td>\n",
       "    </tr>\n",
       "    <tr>\n",
       "      <th>4</th>\n",
       "      <td>4</td>\n",
       "      <td>1</td>\n",
       "      <td>0.5</td>\n",
       "      <td>0.053800</td>\n",
       "    </tr>\n",
       "    <tr>\n",
       "      <th>5</th>\n",
       "      <td>5</td>\n",
       "      <td>1</td>\n",
       "      <td>0.6</td>\n",
       "      <td>0.643500</td>\n",
       "    </tr>\n",
       "    <tr>\n",
       "      <th>6</th>\n",
       "      <td>6</td>\n",
       "      <td>1</td>\n",
       "      <td>0.7</td>\n",
       "      <td>0.978286</td>\n",
       "    </tr>\n",
       "    <tr>\n",
       "      <th>7</th>\n",
       "      <td>7</td>\n",
       "      <td>1</td>\n",
       "      <td>0.8</td>\n",
       "      <td>0.998375</td>\n",
       "    </tr>\n",
       "    <tr>\n",
       "      <th>8</th>\n",
       "      <td>8</td>\n",
       "      <td>1</td>\n",
       "      <td>0.9</td>\n",
       "      <td>1.000000</td>\n",
       "    </tr>\n",
       "    <tr>\n",
       "      <th>9</th>\n",
       "      <td>9</td>\n",
       "      <td>1</td>\n",
       "      <td>1.0</td>\n",
       "      <td>1.000000</td>\n",
       "    </tr>\n",
       "  </tbody>\n",
       "</table>\n",
       "</div>"
      ],
      "text/plain": [
       "   job_id  repeat_id  model.density    burned\n",
       "0       0          1            0.1  0.011000\n",
       "1       1          1            0.2  0.017500\n",
       "2       2          1            0.3  0.009667\n",
       "3       3          1            0.4  0.031750\n",
       "4       4          1            0.5  0.053800\n",
       "5       5          1            0.6  0.643500\n",
       "6       6          1            0.7  0.978286\n",
       "7       7          1            0.8  0.998375\n",
       "8       8          1            0.9  1.000000\n",
       "9       9          1            1.0  1.000000"
      ]
     },
     "execution_count": 13,
     "metadata": {},
     "output_type": "execute_result"
    }
   ],
   "source": [
    "exp = Experiment.new(Forest, cfg=CONFIG_PATH)\n",
    "\n",
    "\n",
    "def test_hook(m: MainModel, repeat_id: int, job_id: int):\n",
    "    if repeat_id == 5:\n",
    "        print(f\"Repeat {repeat_id} of job {job_id}, {m.name} is running.\")\n",
    "\n",
    "\n",
    "exp.add_hooks(test_hook)\n",
    "exp.batch_run(\n",
    "    parallels=5,\n",
    "    overrides={\"model.density\": np.arange(0.1, 1.01, 0.1)},\n",
    ")\n",
    "exp.summary()"
   ]
  },
  {
   "cell_type": "code",
   "execution_count": 14,
   "metadata": {},
   "outputs": [
    {
     "data": {
      "image/png": "[encoded data removed]",
      "text/plain": [
       "<Figure size 640x480 with 1 Axes>"
      ]
     },
     "metadata": {},
     "output_type": "display_data"
    }
   ],
   "source": [
    "plot_exp_result(exp.summary())"
   ]
  }
 ],
 "metadata": {
  "kernelspec": {
   "display_name": "abses-EXDRHGGY-py3.11",
   "language": "python",
   "name": "python3"
  },
  "language_info": {
   "codemirror_mode": {
    "name": "ipython",
    "version": 3
   },
   "file_extension": ".py",
   "mimetype": "text/x-python",
   "name": "python",
   "nbconvert_exporter": "python",
   "pygments_lexer": "ipython3",
   "version": "3.11.2"
  }
 },
 "nbformat": 4,
 "nbformat_minor": 2
}
