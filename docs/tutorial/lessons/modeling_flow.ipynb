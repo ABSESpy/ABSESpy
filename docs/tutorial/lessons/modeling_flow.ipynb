{
 "cells": [
  {
   "cell_type": "markdown",
   "id": "d86aa1c9-d6e9-4a51-bbf6-d977b5a1082b",
   "metadata": {},
   "source": [
    "# Modeling flow"
   ]
  },
  {
   "cell_type": "markdown",
   "id": "bfb85a05-03f6-4be6-9401-229305aa3387",
   "metadata": {},
   "source": [
    "For user, there are three common states in order, denoting different modelling stages:\n",
    "\n",
    "\n",
    "- \"init\",\n",
    "- \"ready\",\n",
    "- \"complete\","
   ]
  }
 ],
 "metadata": {
  "kernelspec": {
   "display_name": "Python 3 (ipykernel)",
   "language": "python",
   "name": "python3"
  },
  "language_info": {
   "codemirror_mode": {
    "name": "ipython",
    "version": 3
   },
   "file_extension": ".py",
   "mimetype": "text/x-python",
   "name": "python",
   "nbconvert_exporter": "python",
   "pygments_lexer": "ipython3",
   "version": "3.11.2"
  }
 },
 "nbformat": 4,
 "nbformat_minor": 5
}
