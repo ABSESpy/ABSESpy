{
 "cells": [
  {
   "cell_type": "markdown",
   "id": "17ffb013-e711-4054-a1eb-cdb7a66ccb32",
   "metadata": {},
   "source": [
    "# Organize your model structure"
   ]
  },
  {
   "cell_type": "markdown",
   "id": "c400ee2f-014f-4fd3-a942-8f1103534ad2",
   "metadata": {},
   "source": [
    "This tutorial aims at showing the basic logic for organizing models, for maximizing `ABSESpy`'s ability to allow [loose coupling of multiple modules](../../features/Package_Structure.md)."
   ]
  },
  {
   "cell_type": "markdown",
   "id": "6acb53da-ecea-4c88-8295-63fd1806c86d",
   "metadata": {},
   "source": [
    "<div align=\"center\">\n",
    "\t<img src=\"https://songshgeo-picgo-1302043007.cos.ap-beijing.myqcloud.com/uPic/structure.png\" alt=\"Drawing\" style=\"width: 400px;\"/>\n",
    "</div>"
   ]
  },
  {
   "cell_type": "markdown",
   "id": "3f7eda28-4266-4e00-bf8e-5f73f26da500",
   "metadata": {},
   "source": [
    "## Main components"
   ]
  },
  {
   "cell_type": "markdown",
   "id": "6c599cee-acee-4587-b1cd-64427be28f29",
   "metadata": {},
   "source": [
    "For building your own model, three main components are necessary to be included:\n",
    "\n",
    "- `MainModel`: stores several parameters and global variables.\n",
    "- `BaseHuman`: This module focuses on the human aspect of SES, offering insights and simulations related to human behavior, decisions, and interactions.\n",
    "- `BaseNature`: As the name suggests, this module is all about the natural environments, allowing for simulations and analyses of different ecological components."
   ]
  },
  {
   "cell_type": "code",
   "execution_count": 1,
   "id": "05237609-4907-44b4-ab9f-e4ad6018c6ec",
   "metadata": {
    "execution": {
     "iopub.execute_input": "2023-11-21T04:10:16.494177Z",
     "iopub.status.busy": "2023-11-21T04:10:16.494060Z",
     "iopub.status.idle": "2023-11-21T04:10:17.357771Z",
     "shell.execute_reply": "2023-11-21T04:10:17.357445Z",
     "shell.execute_reply.started": "2023-11-21T04:10:16.494164Z"
    }
   },
   "outputs": [],
   "source": [
    "from abses import MainModel, BaseNature, BaseHuman\n",
    "\n",
    "# without including any parameters, you can init a MainModel\n",
    "test1 = MainModel()"
   ]
  },
  {
   "cell_type": "markdown",
   "id": "aa380b35-24be-466b-a1b3-60c9f3e33b9c",
   "metadata": {},
   "source": [
    "By default, create a `MainModel` instance without parameters is possible. However, in a practical case, it requires three optional parameters:\n",
    "\n",
    "- `parameters`: All parameters that should be used in the simulation of model.\n",
    "- `nature_class`: The base module of the nature subsystem.\n",
    "- `human_class`: The base module of the human subsystem.\n",
    "\n",
    "When create an instance of `MainModel`, you also create two instances: `BaseNature` and `BaseHuman` and store them as `nature` and `human` properties of model."
   ]
  },
  {
   "cell_type": "code",
   "execution_count": 2,
   "id": "5363207b-15ef-428b-9d28-dd520bc6afef",
   "metadata": {
    "execution": {
     "iopub.execute_input": "2023-11-21T04:10:17.358348Z",
     "iopub.status.busy": "2023-11-21T04:10:17.358199Z",
     "iopub.status.idle": "2023-11-21T04:10:17.362745Z",
     "shell.execute_reply": "2023-11-21T04:10:17.362528Z",
     "shell.execute_reply.started": "2023-11-21T04:10:17.358338Z"
    }
   },
   "outputs": [
    {
     "name": "stdout",
     "output_type": "stream",
     "text": [
      "init\n",
      "init\n",
      "init\n"
     ]
    }
   ],
   "source": [
    "from omegaconf import dictconfig\n",
    "\n",
    "# We can pass some parameters.\n",
    "parameters = {\"time\": {\"start\": \"2000\", \"freq\": \"Y\"}}\n",
    "\n",
    "# instance `MainModel`\n",
    "model = MainModel(parameters=parameters)\n",
    "\n",
    "# All the primary components have a same property `state`.\n",
    "print(model.state)\n",
    "print(model.human.state)\n",
    "print(model.nature.state)"
   ]
  },
  {
   "cell_type": "markdown",
   "id": "facbbb82-59d7-4bfa-9112-09dc6d5905e6",
   "metadata": {},
   "source": [
    "The property `state` is accessible in `model`, `human`, and `nature` for showing the current state of simulation. In the above code, all of the states are \"init\", which means just being instanced without any other operation. More information about modeling flow can be accessible in [tutorial of modeling flow](modeling_flow.ipynb). \n",
    "\n",
    "When `state = 'init'`, it means a default function `.initialize()` of `BaseHuman` and `BaseNature` have been called. When designing a custom model, it's a great way to setup some prerequisites, like loading data..."
   ]
  },
  {
   "cell_type": "code",
   "execution_count": 3,
   "id": "5c2d3c59-2a49-49d7-b33b-abf73703ce34",
   "metadata": {
    "execution": {
     "iopub.execute_input": "2023-11-21T04:10:17.363235Z",
     "iopub.status.busy": "2023-11-21T04:10:17.363171Z",
     "iopub.status.idle": "2023-11-21T04:10:17.367954Z",
     "shell.execute_reply": "2023-11-21T04:10:17.367689Z",
     "shell.execute_reply.started": "2023-11-21T04:10:17.363227Z"
    }
   },
   "outputs": [
    {
     "name": "stdout",
     "output_type": "stream",
     "text": [
      "Init natural module.\n",
      "Init human module.\n"
     ]
    }
   ],
   "source": [
    "# Including more parameters.\n",
    "parameters_2 = parameters | {\n",
    "    \"human\": {\"test_human\": 1},\n",
    "    \"nature\": {\"test_nature\": \"I'm a parameter!\"},\n",
    "}\n",
    "\n",
    "\n",
    "# subclass of `BaseNature`\n",
    "class Nature(BaseNature):\n",
    "    def initialize(self):\n",
    "        print(\"Init natural module.\")\n",
    "\n",
    "\n",
    "# subclass of `BaseHuman`\n",
    "class Human(BaseHuman):\n",
    "    def initialize(self):\n",
    "        print(\"Init human module.\")\n",
    "\n",
    "\n",
    "# creating an instance\n",
    "model = MainModel(\n",
    "    parameters=parameters_2, nature_class=Nature, human_class=Human\n",
    ")"
   ]
  },
  {
   "cell_type": "markdown",
   "id": "8cddc323-8d99-4396-b417-7de1a9c18795",
   "metadata": {},
   "source": [
    "In the above codes, by subclassing from `BaseHuman` and `BaseNature`, we initialize the model by inputing a custom `Human` module and `Nature` module. As inputs of initializing a `MainModel` instance, their custom function `.initialize()` were called once, seperately. It means, obviously, the custom classes replaced default `BaseNature` and `BaseHuman`. We can also find this fact through accessing the corresponding parameters of them:"
   ]
  },
  {
   "cell_type": "code",
   "execution_count": 4,
   "id": "5f716193-97ed-4fb7-9cdd-74fd74c42b8f",
   "metadata": {
    "execution": {
     "iopub.execute_input": "2023-11-21T04:10:17.369314Z",
     "iopub.status.busy": "2023-11-21T04:10:17.369232Z",
     "iopub.status.idle": "2023-11-21T04:10:17.372211Z",
     "shell.execute_reply": "2023-11-21T04:10:17.371993Z",
     "shell.execute_reply.started": "2023-11-21T04:10:17.369307Z"
    }
   },
   "outputs": [
    {
     "data": {
      "text/plain": [
       "1"
      ]
     },
     "execution_count": 4,
     "metadata": {},
     "output_type": "execute_result"
    }
   ],
   "source": [
    "# withdraw the parameter from the human module.\n",
    "model.human.params.test_human"
   ]
  },
  {
   "cell_type": "code",
   "execution_count": 5,
   "id": "b2026165-3c40-4939-8921-9c2a1e2c3c49",
   "metadata": {
    "execution": {
     "iopub.execute_input": "2023-11-21T04:10:17.372560Z",
     "iopub.status.busy": "2023-11-21T04:10:17.372497Z",
     "iopub.status.idle": "2023-11-21T04:10:17.374663Z",
     "shell.execute_reply": "2023-11-21T04:10:17.374427Z",
     "shell.execute_reply.started": "2023-11-21T04:10:17.372552Z"
    }
   },
   "outputs": [
    {
     "data": {
      "text/plain": [
       "\"I'm a parameter!\""
      ]
     },
     "execution_count": 5,
     "metadata": {},
     "output_type": "execute_result"
    }
   ],
   "source": [
    "# withdraw the parameter from the nature module.\n",
    "model.nature.params.test_nature"
   ]
  },
  {
   "cell_type": "markdown",
   "id": "032177f6-127e-4c6c-9a85-30523bdf4e0e",
   "metadata": {},
   "source": [
    "For better parameters managment, we have another [tutorial of control parameters](control_parameters.ipynb) to demonstrate in detail. So far, what you have to know is that the custom `Nature` and `Human` modules can access the parameters input into the model because they mock a structure of parameters like this:\n",
    "\n",
    "```yaml\n",
    "time:\n",
    "    start: '2000'  # start simulation since 2000.\n",
    "    end: '2005'  # The simulation won't be end until 2005.\n",
    "    freq: 'M'  # Each counting tick means 1 month in the real world.\n",
    "\n",
    "human:\n",
    "    test_human: 1\n",
    "\n",
    "nature:\n",
    "    test_nature: \"I'm a parameter!\"\n",
    "```\n",
    "\n",
    "Each class of the model components has a specific name, i.e., here they are `human` and `nature`. The corresponding modules would search the parameters structure of model, then withdraw a specific parameter when necessary. In the next sections, you will find this rule will still be applied for sub-modules and actors (agents)."
   ]
  },
  {
   "cell_type": "markdown",
   "id": "b18c4edc-5c4e-4173-9951-c229e5247733",
   "metadata": {},
   "source": [
    "## Create extensible sub-modules"
   ]
  },
  {
   "cell_type": "markdown",
   "id": "9501ff27-0793-48a3-9eb0-1e78fb2b5b2f",
   "metadata": {},
   "source": [
    "Since [a social-ecological system is a typical complex system](#TODO), our users may find their model will growth super big when simulating a real-world case. Therefore, it would be super useful to split the whole model into several logical functional chunks. Different from the two base modules `BaseNature` and `BaseHuman`, submodules should be a subclass of `HumanModule` or `PatchModule`. "
   ]
  },
  {
   "cell_type": "code",
   "execution_count": 6,
   "id": "b8d0daab-8638-41b4-ba6e-80db34fad1fd",
   "metadata": {
    "execution": {
     "iopub.execute_input": "2023-11-21T04:10:17.375177Z",
     "iopub.status.busy": "2023-11-21T04:10:17.375092Z",
     "iopub.status.idle": "2023-11-21T04:10:17.377996Z",
     "shell.execute_reply": "2023-11-21T04:10:17.377743Z",
     "shell.execute_reply.started": "2023-11-21T04:10:17.375169Z"
    }
   },
   "outputs": [
    {
     "data": {
      "text/plain": [
       "[<society: open>, <economy: open>]"
      ]
     },
     "execution_count": 6,
     "metadata": {},
     "output_type": "execute_result"
    }
   ],
   "source": [
    "from abses.human import HumanModule\n",
    "\n",
    "\n",
    "class Society(HumanModule):\n",
    "    \"\"\"How agent behaves in a society.\"\"\"\n",
    "\n",
    "\n",
    "class Economy(HumanModule):\n",
    "    \"\"\"Some logics in a economic sub-system.\"\"\"\n",
    "\n",
    "\n",
    "# create the submodule by `create_module` function.\n",
    "society = model.human.create_module(Society)\n",
    "economy = model.human.create_module(Economy, name=\"economy\")\n",
    "\n",
    "# added two submodules to the human module.\n",
    "model.human.modules"
   ]
  },
  {
   "cell_type": "code",
   "execution_count": 7,
   "id": "8224e180-c57e-4f10-8ade-44c2e18d2e81",
   "metadata": {
    "execution": {
     "iopub.execute_input": "2023-11-21T04:10:17.378502Z",
     "iopub.status.busy": "2023-11-21T04:10:17.378424Z",
     "iopub.status.idle": "2023-11-21T04:10:17.380603Z",
     "shell.execute_reply": "2023-11-21T04:10:17.380328Z",
     "shell.execute_reply.started": "2023-11-21T04:10:17.378494Z"
    }
   },
   "outputs": [
    {
     "data": {
      "text/plain": [
       "'economy'"
      ]
     },
     "execution_count": 7,
     "metadata": {},
     "output_type": "execute_result"
    }
   ],
   "source": [
    "economy.name"
   ]
  },
  {
   "cell_type": "markdown",
   "id": "831d25d2-132f-415d-a2ff-6e1073918df3",
   "metadata": {},
   "source": [
    "Since we assigned the name of sub-module `Economy`, of cause its name is \"economy\". At the same time, if we don't assign the name of submodule, it's name will be lowercase `__class__.__name__`. Therefore, module name of `Society` should be 'society'. The module names are very important for searching the corresponding parameters."
   ]
  },
  {
   "cell_type": "code",
   "execution_count": 8,
   "id": "cd596466-de97-45bd-b210-cea5c7bccc47",
   "metadata": {
    "execution": {
     "iopub.execute_input": "2023-11-21T04:10:17.381031Z",
     "iopub.status.busy": "2023-11-21T04:10:17.380960Z",
     "iopub.status.idle": "2023-11-21T04:10:17.383307Z",
     "shell.execute_reply": "2023-11-21T04:10:17.383088Z",
     "shell.execute_reply.started": "2023-11-21T04:10:17.381022Z"
    }
   },
   "outputs": [
    {
     "data": {
      "text/plain": [
       "'society'"
      ]
     },
     "execution_count": 8,
     "metadata": {},
     "output_type": "execute_result"
    }
   ],
   "source": [
    "society.name"
   ]
  },
  {
   "cell_type": "markdown",
   "id": "18f1f7a5-35e5-4bda-8af3-321aaebe32c2",
   "metadata": {},
   "source": [
    "Submodules don't have property of 'state'. In stead, they can be turned off or turned on. By default, a new module will be opened, we can turn it off in some cases."
   ]
  },
  {
   "cell_type": "code",
   "execution_count": 9,
   "id": "dd3f08b9-ced9-4f51-a7fd-5f8e4559de0e",
   "metadata": {
    "execution": {
     "iopub.execute_input": "2023-11-21T04:10:17.383804Z",
     "iopub.status.busy": "2023-11-21T04:10:17.383698Z",
     "iopub.status.idle": "2023-11-21T04:10:17.385671Z",
     "shell.execute_reply": "2023-11-21T04:10:17.385473Z",
     "shell.execute_reply.started": "2023-11-21T04:10:17.383795Z"
    }
   },
   "outputs": [
    {
     "name": "stderr",
     "output_type": "stream",
     "text": [
      "\u001b[32m2023-11-21 12:10:17.384\u001b[0m | \u001b[1mINFO    \u001b[0m | \u001b[36mabses.modules\u001b[0m:\u001b[36mswitch_open_to\u001b[0m:\u001b[36m47\u001b[0m - \u001b[1m%s switch 'open' to %s.\u001b[0m\n"
     ]
    },
    {
     "name": "stdout",
     "output_type": "stream",
     "text": [
      "True\n",
      "False\n"
     ]
    }
   ],
   "source": [
    "print(society.opening)\n",
    "\n",
    "# turn it off\n",
    "society.switch_open_to(False)\n",
    "print(society.opening)"
   ]
  },
  {
   "cell_type": "markdown",
   "id": "df8f15a6-7e3b-46b9-a5d5-f26abc1ff771",
   "metadata": {},
   "source": [
    "## Global variable and its observers"
   ]
  },
  {
   "cell_type": "markdown",
   "id": "3f77513f-a5d6-4d37-b6ca-91019d408894",
   "metadata": {},
   "source": [
    "There are two properties in a model:\n",
    "\n",
    "- `agents`: A container of all agents in the model.\n",
    "- `glob_vars`: A list of all global parameters, which can be accesiible by all components and actors (agents).\n",
    "\n",
    "`agents` is a unique signleton instance of [`AgentsContainer`](#TODO) for a specific model where all agents are stored. You can operate the agents here by refering this [agents operation tutorial](#TODO). Now, let us try to create some agents for showing how the global variables work."
   ]
  },
  {
   "cell_type": "code",
   "execution_count": 10,
   "id": "032f37ee-c652-42f1-8094-90323c7f5c24",
   "metadata": {
    "execution": {
     "iopub.execute_input": "2023-11-21T04:10:17.386071Z",
     "iopub.status.busy": "2023-11-21T04:10:17.386008Z",
     "iopub.status.idle": "2023-11-21T04:10:17.387916Z",
     "shell.execute_reply": "2023-11-21T04:10:17.387720Z",
     "shell.execute_reply.started": "2023-11-21T04:10:17.386064Z"
    }
   },
   "outputs": [
    {
     "data": {
      "text/plain": [
       "[]"
      ]
     },
     "execution_count": 10,
     "metadata": {},
     "output_type": "execute_result"
    }
   ],
   "source": [
    "model.glob_vars"
   ]
  },
  {
   "cell_type": "code",
   "execution_count": 11,
   "id": "51203895-e08a-4da4-a3fc-295c4ca2291c",
   "metadata": {
    "execution": {
     "iopub.execute_input": "2023-11-21T04:10:17.388330Z",
     "iopub.status.busy": "2023-11-21T04:10:17.388251Z",
     "iopub.status.idle": "2023-11-21T04:10:17.439630Z",
     "shell.execute_reply": "2023-11-21T04:10:17.439339Z",
     "shell.execute_reply.started": "2023-11-21T04:10:17.388323Z"
    }
   },
   "outputs": [
    {
     "data": {
      "text/plain": [
       "<AgentsContainer: >"
      ]
     },
     "execution_count": 11,
     "metadata": {},
     "output_type": "execute_result"
    }
   ],
   "source": [
    "model.agents"
   ]
  },
  {
   "cell_type": "code",
   "execution_count": 12,
   "id": "6b19bd60-06b2-480f-a60d-5c2f4ebbbbcf",
   "metadata": {
    "execution": {
     "iopub.execute_input": "2023-11-21T04:10:17.440207Z",
     "iopub.status.busy": "2023-11-21T04:10:17.440136Z",
     "iopub.status.idle": "2023-11-21T04:10:17.458412Z",
     "shell.execute_reply": "2023-11-21T04:10:17.458087Z",
     "shell.execute_reply.started": "2023-11-21T04:10:17.440199Z"
    }
   },
   "outputs": [
    {
     "data": {
      "text/plain": [
       "<AgentsContainer: (3)Actor>"
      ]
     },
     "execution_count": 12,
     "metadata": {},
     "output_type": "execute_result"
    }
   ],
   "source": [
    "from abses import Actor\n",
    "\n",
    "actors = model.agents.create(Actor, 3)\n",
    "\n",
    "# Now the container has three actors.\n",
    "model.agents"
   ]
  },
  {
   "cell_type": "code",
   "execution_count": 13,
   "id": "74a3d766-5fd1-45c9-89cb-b79ca7c5260c",
   "metadata": {
    "execution": {
     "iopub.execute_input": "2023-11-21T04:10:17.460232Z",
     "iopub.status.busy": "2023-11-21T04:10:17.460142Z",
     "iopub.status.idle": "2023-11-21T04:10:17.463522Z",
     "shell.execute_reply": "2023-11-21T04:10:17.463242Z",
     "shell.execute_reply.started": "2023-11-21T04:10:17.460224Z"
    }
   },
   "outputs": [
    {
     "data": {
      "text/plain": [
       "\"I'm a global variable!\""
      ]
     },
     "execution_count": 13,
     "metadata": {},
     "output_type": "execute_result"
    }
   ],
   "source": [
    "model.test_glob = \"I'm a global variable!\"\n",
    "\n",
    "model.add_glob_vars(\"test_glob\")\n",
    "\n",
    "# let us choose an agent randomly.\n",
    "agent = model.agents.to_list().random_choose()\n",
    "\n",
    "agent.test_glob"
   ]
  },
  {
   "cell_type": "markdown",
   "id": "1fd6aca9-cbf7-4c92-af5b-11e291fe8ba4",
   "metadata": {},
   "source": [
    "Since they are variable, they may be changed sometimes and you need notify any change to the observers."
   ]
  },
  {
   "cell_type": "code",
   "execution_count": 14,
   "id": "1262e379-40fb-4a26-9a21-e32f6b5cd166",
   "metadata": {
    "execution": {
     "iopub.execute_input": "2023-11-21T04:10:17.464141Z",
     "iopub.status.busy": "2023-11-21T04:10:17.464064Z",
     "iopub.status.idle": "2023-11-21T04:10:17.466126Z",
     "shell.execute_reply": "2023-11-21T04:10:17.465908Z",
     "shell.execute_reply.started": "2023-11-21T04:10:17.464133Z"
    }
   },
   "outputs": [
    {
     "data": {
      "text/plain": [
       "'variable is ... variable, change it if you want.'"
      ]
     },
     "execution_count": 14,
     "metadata": {},
     "output_type": "execute_result"
    }
   ],
   "source": [
    "# change a variable and notify all the observers.\n",
    "model.test_glob = \"variable is ... variable, change it if you want.\"\n",
    "\n",
    "# notify any change to the observers.\n",
    "model.notify()\n",
    "\n",
    "agent.test_glob"
   ]
  },
  {
   "cell_type": "markdown",
   "id": "8f6debbd-c9fd-49f4-8927-4170e2db86a4",
   "metadata": {},
   "source": [
    "And since it's called a global variable, it's not just the actors can access them, but also the components (modules and sub-modules)."
   ]
  },
  {
   "cell_type": "code",
   "execution_count": 15,
   "id": "564769a4-6b6d-4a80-9432-684ff1166d10",
   "metadata": {
    "execution": {
     "iopub.execute_input": "2023-11-21T04:10:17.466663Z",
     "iopub.status.busy": "2023-11-21T04:10:17.466544Z",
     "iopub.status.idle": "2023-11-21T04:10:17.468499Z",
     "shell.execute_reply": "2023-11-21T04:10:17.468226Z",
     "shell.execute_reply.started": "2023-11-21T04:10:17.466653Z"
    }
   },
   "outputs": [
    {
     "data": {
      "text/plain": [
       "'variable is ... variable, change it if you want.'"
      ]
     },
     "execution_count": 15,
     "metadata": {},
     "output_type": "execute_result"
    }
   ],
   "source": [
    "# Module can access the global variable\n",
    "model.nature.test_glob"
   ]
  },
  {
   "cell_type": "code",
   "execution_count": 16,
   "id": "384ceddc-b03b-4ffd-9650-f3192975f326",
   "metadata": {
    "execution": {
     "iopub.execute_input": "2023-11-21T04:10:17.469011Z",
     "iopub.status.busy": "2023-11-21T04:10:17.468925Z",
     "iopub.status.idle": "2023-11-21T04:10:17.470896Z",
     "shell.execute_reply": "2023-11-21T04:10:17.470688Z",
     "shell.execute_reply.started": "2023-11-21T04:10:17.469001Z"
    }
   },
   "outputs": [
    {
     "data": {
      "text/plain": [
       "'variable is ... variable, change it if you want.'"
      ]
     },
     "execution_count": 16,
     "metadata": {},
     "output_type": "execute_result"
    }
   ],
   "source": [
    "# sub module can also access the global variables.\n",
    "model.human.society.test_glob"
   ]
  }
 ],
 "metadata": {
  "kernelspec": {
   "display_name": "Python 3 (ipykernel)",
   "language": "python",
   "name": "python3"
  },
  "language_info": {
   "codemirror_mode": {
    "name": "ipython",
    "version": 3
   },
   "file_extension": ".py",
   "mimetype": "text/x-python",
   "name": "python",
   "nbconvert_exporter": "python",
   "pygments_lexer": "ipython3",
   "version": "3.11.2"
  }
 },
 "nbformat": 4,
 "nbformat_minor": 5
}
