{
 "cells": [
  {
   "cell_type": "markdown",
   "id": "f7413922-95c6-4335-b55b-b1278bbb8bea",
   "metadata": {},
   "source": [
    "# Time Control"
   ]
  },
  {
   "cell_type": "markdown",
   "id": "f565ca6b-3275-4654-b801-c84f9d6ee63e",
   "metadata": {},
   "source": [
    "`TimeDriver` requires parameters:\n",
    "\n",
    "- start:\n",
    "- end:\n",
    "- record: False\n",
    "- years\n",
    "- months\n",
    "- weeks:\n",
    "- days:\n",
    "- hours:\n",
    "- minutes:\n",
    "- seconds:"
   ]
  },
  {
   "cell_type": "code",
   "execution_count": null,
   "id": "24bcbaee-244a-4cb0-8713-43e9d9512fc6",
   "metadata": {},
   "outputs": [],
   "source": [
    "import pendulum\n",
    "\n",
    "duration1 = pendulum.duration(days=1, hours=2, minutes=3)\n",
    "duration2 = pendulum.duration(days=1, hours=2, minutes=3)\n",
    "duration1 == duration2"
   ]
  }
 ],
 "metadata": {
  "kernelspec": {
   "display_name": "Python 3 (ipykernel)",
   "language": "python",
   "name": "python3"
  },
  "language_info": {
   "codemirror_mode": {
    "name": "ipython",
    "version": 3
   },
   "file_extension": ".py",
   "mimetype": "text/x-python",
   "name": "python",
   "nbconvert_exporter": "python",
   "pygments_lexer": "ipython3",
   "version": "3.11.2"
  }
 },
 "nbformat": 4,
 "nbformat_minor": 5
}
