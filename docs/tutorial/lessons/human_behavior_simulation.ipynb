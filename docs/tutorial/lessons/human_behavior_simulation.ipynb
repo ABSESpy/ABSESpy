{
 "cells": [
  {
   "cell_type": "markdown",
   "id": "aad05ac0-9e1f-441d-9d73-8923c62e7285",
   "metadata": {},
   "source": [
    "# Advanced Human Behavior Simulation Framework"
   ]
  },
  {
   "cell_type": "markdown",
   "id": "48da4fcf-8b64-4bd1-a556-cd4664c326f3",
   "metadata": {},
   "source": [
    "In the dynamic realm of Socio-Ecological Systems (SES) modeling, simulating human behavior is paramount. Humans, as key actors, play a pivotal role in shaping the interactions and outcomes within SES. Recognizing the complexity and nuances of human actions, ABSESpy introduces an advanced framework to model intricate human behaviors effectively."
   ]
  },
  {
   "cell_type": "markdown",
   "id": "3a4bf23c-2c05-453f-a1fe-b694e9b08481",
   "metadata": {},
   "source": [
    "<div align=\"center\">\n",
    "\t<img src=\"https://songshgeo-picgo-1302043007.cos.ap-beijing.myqcloud.com/uPic/MoHuB.png\" alt=\"Drawing\" style=\"width: 400px;\"/>\n",
    "</div>"
   ]
  },
  {
   "cell_type": "markdown",
   "id": "c79c64e6-85eb-4fc4-8f4d-cfeafcb41f34",
   "metadata": {},
   "source": [
    "When implementing this behavior loop with ABSESpy, users find unparalleled ease and flexibility:\n",
    "\n",
    "- Defining Interactions: Specify how agents interact with natural and social systems. This sets the stage for agents to perceive and respond to their environment.\n",
    "- Perception Modes: Define how agents perceive the world around them. Whether through direct observation, communication with other agents, or accessing stored data, `ABSESpy` supports myriad perception strategies.\n",
    "- Decision Evaluation Methods: Craft the logic behind how agents evaluate and make decisions. This can be based on predefined algorithms, heuristic methods, or machine learning models.\n",
    "- Response Mechanisms: Determine how agents respond to their decisions. This can involve moving to a new location, altering their state, or interacting with other entities.\n",
    "\n",
    "\n",
    "The beauty of ABSESpy lies in its framework that seamlessly integrates these user-defined functions, creating a smooth workflow that mirrors the intricacies of human behavior in the real world."
   ]
  },
  {
   "cell_type": "markdown",
   "id": "7a912dd1-f93d-447d-b70f-70895dd51cc9",
   "metadata": {},
   "source": [
    "## Preception"
   ]
  },
  {
   "cell_type": "markdown",
   "id": "2707fec0-f9b3-4b97-b379-3dbf77378877",
   "metadata": {},
   "source": [
    "**Preception**: Every agent, or human actor, begins by perceiving its surroundings. This perception encompasses both natural and social environments, allowing the agent to gather information and understand its current context.\n",
    "\n",
    "To use perception module, the belowing prerequisites should be satisfied:\n",
    "\n",
    "1. Existed links with other agents or cells.\n",
    "2. A defined perception function."
   ]
  },
  {
   "cell_type": "code",
   "execution_count": null,
   "id": "dd3031a5-af56-46e6-be47-60e7c2ef8eb6",
   "metadata": {},
   "outputs": [],
   "source": [
    "from abses import MainModel, Actor\n",
    "\n",
    "# model\n",
    "model = MainModel()\n",
    "\n",
    "\n",
    "class LinkedActor(Actor):\n",
    "    def __init__(self, wealth: float = 1.0):\n",
    "        self.wealth = wealth\n",
    "\n",
    "    @perception(nodata=0.0)\n",
    "    def avg_wealth(self) -> float:\n",
    "        \"\"\"The average wealth of acquaintances.\"\"\"\n",
    "        acquaintance = self.linked(\"friends\")\n",
    "        return acquaintance.agg(\"wealth\").mean()\n",
    "\n",
    "\n",
    "actor = model.agents.create(LinkedActor, 1, singleton=True, wealth=3.0)\n",
    "actor.wealth\n",
    "actor.preception.avg_wealth  # property avg_wealth = 0.0 because of no friend."
   ]
  },
  {
   "cell_type": "markdown",
   "id": "af1f4b6a-a328-4622-b2b5-7ca0a2965b4d",
   "metadata": {},
   "source": [
    "## Decisions making"
   ]
  },
  {
   "cell_type": "markdown",
   "id": "205534d0-2b84-4a8e-bd2e-384dd19012cf",
   "metadata": {},
   "source": [
    "Craft the logic behind how agents evaluate and make decisions. "
   ]
  },
  {
   "cell_type": "code",
   "execution_count": null,
   "id": "42d4f8f8-676b-4721-be63-f18e4d88a074",
   "metadata": {},
   "outputs": [],
   "source": [
    "from abses import MainModel, Decision\n",
    "\n",
    "decision = Decision(\n",
    "    actor,\n",
    "    behave=\"change_loc\",\n",
    "    initial_decision=None,\n",
    "    discrete=True,\n",
    "    min_=None,\n",
    "    max_=None,\n",
    ")\n",
    "\n",
    "decision.evaluate()  # evaluate possibility of each decision.\n",
    "decision.hehave()  # make a decision."
   ]
  },
  {
   "cell_type": "markdown",
   "id": "9a89430e-1973-4125-8d16-91301e434600",
   "metadata": {},
   "source": [
    "## Response"
   ]
  },
  {
   "cell_type": "markdown",
   "id": "85862c11-b884-4bf5-ab82-05ad602f0f51",
   "metadata": {},
   "source": [
    "Determine how agents respond to their decisions. This can involve moving to a new location, altering their state, or interacting with other entities."
   ]
  },
  {
   "cell_type": "code",
   "execution_count": null,
   "id": "a6f99059-5924-4882-9a65-b684e0d4893f",
   "metadata": {},
   "outputs": [],
   "source": [
    "class LinkedActor(Actor):\n",
    "    def __init__(self, wealth: float = 1.0):\n",
    "        self.wealth = wealth\n",
    "\n",
    "    @perception(nodata=0.0)\n",
    "    def avg_wealth(self) -> float:\n",
    "        \"\"\"The average wealth of acquaintances.\"\"\"\n",
    "        acquaintance = self.linked(\"friends\")\n",
    "        return acquaintance.agg(\"wealth\").mean()\n",
    "\n",
    "    @response\n",
    "    def change_loc(self):\n",
    "        self.move.random(1)"
   ]
  }
 ],
 "metadata": {
  "kernelspec": {
   "display_name": "Python 3 (ipykernel)",
   "language": "python",
   "name": "python3"
  },
  "language_info": {
   "codemirror_mode": {
    "name": "ipython",
    "version": 3
   },
   "file_extension": ".py",
   "mimetype": "text/x-python",
   "name": "python",
   "nbconvert_exporter": "python",
   "pygments_lexer": "ipython3",
   "version": "3.11.2"
  }
 },
 "nbformat": 4,
 "nbformat_minor": 5
}
