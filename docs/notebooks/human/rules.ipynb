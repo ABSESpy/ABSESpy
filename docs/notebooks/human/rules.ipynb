{
 "cells": [
  {
   "attachments": {},
   "cell_type": "markdown",
   "metadata": {},
   "source": [
    "# Rules"
   ]
  },
  {
   "cell_type": "code",
   "execution_count": 1,
   "metadata": {},
   "outputs": [],
   "source": [
    "%load_ext autoreload\n",
    "%autoreload 2\n",
    "\n",
    "import os\n",
    "os.chdir(\"../../..\")"
   ]
  },
  {
   "attachments": {},
   "cell_type": "markdown",
   "metadata": {},
   "source": [
    "Rules are conditional statements that persisted work for actors by default. \n",
    "User can define some rules to a group of actors.\n",
    "Every time when those actors' attribute are changed, they will check all the rules that apply to themselves.\n",
    "Once the conditions are met, run the next rules as triggered by the rules."
   ]
  },
  {
   "attachments": {},
   "cell_type": "markdown",
   "metadata": {},
   "source": [
    "## Simple rule demo"
   ]
  },
  {
   "cell_type": "code",
   "execution_count": 2,
   "metadata": {},
   "outputs": [
    {
     "data": {
      "text/plain": [
       "array([5, 6, 7, 8, 9])"
      ]
     },
     "execution_count": 2,
     "metadata": {},
     "output_type": "execute_result"
    }
   ],
   "source": [
    "\n",
    "from abses.main import MainModel\n",
    "from abses.actor import Actor\n",
    "\n",
    "# create atesting actors\n",
    "model = MainModel(name='testing rules', base='tests')\n",
    "\n",
    "\n",
    "class TestActor(Actor):\n",
    "\n",
    "    def report_breach(self):\n",
    "        print(f\"{self} broke regulation!\")\n",
    "\n",
    "# creating five testing actors, id from 5 to 10.\n",
    "actors = model.agents.create(TestActor, 5)\n",
    "actors.id"
   ]
  },
  {
   "cell_type": "code",
   "execution_count": 3,
   "metadata": {},
   "outputs": [
    {
     "data": {
      "text/plain": [
       "[None, None, None, None, None]"
      ]
     },
     "execution_count": 3,
     "metadata": {},
     "output_type": "execute_result"
    },
    {
     "name": "stdout",
     "output_type": "stream",
     "text": [
      "In looping step 0:\n",
      "In looping step 1:\n",
      "TestActor (Obj 6) broke regulation!\n",
      "In looping step 2:\n",
      "In looping step 3:\n",
      "In looping step 4:\n"
     ]
    }
   ],
   "source": [
    "import numpy as np\n",
    "\n",
    "# define a rule for all actors.\n",
    "actors.rule(when=\"test == 1\", then=\"report_breach\")\n",
    "\n",
    "# Updating attributes\n",
    "for index, actor in enumerate(actors):\n",
    "    print(f\"In looping step {index}:\")\n",
    "    actor.test = index\n"
   ]
  }
 ],
 "metadata": {
  "kernelspec": {
   "display_name": "ABSES_311",
   "language": "python",
   "name": "python3"
  },
  "language_info": {
   "codemirror_mode": {
    "name": "ipython",
    "version": 3
   },
   "file_extension": ".py",
   "mimetype": "text/x-python",
   "name": "python",
   "nbconvert_exporter": "python",
   "pygments_lexer": "ipython3",
   "version": "3.11.0"
  },
  "orig_nbformat": 4,
  "vscode": {
   "interpreter": {
    "hash": "34e7ff707ff286a3b130ff498e19cfe7511773b98306dec22b686ceb645d0b65"
   }
  }
 },
 "nbformat": 4,
 "nbformat_minor": 2
}
