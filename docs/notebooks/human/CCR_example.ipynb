{
 "cells": [
  {
   "cell_type": "markdown",
   "id": "2171a091-4829-4943-9178-aa5c721283ce",
   "metadata": {},
   "source": [
    "# Apply CCR framework"
   ]
  },
  {
   "cell_type": "markdown",
   "id": "37470041-d38d-4c3e-a23c-5419344045d4",
   "metadata": {},
   "source": [
    "This is an example for applying the [Cognition, Contagion and behavioral Response (CCR Framework)](../../docs/background.md#human-behaviour-framework) with `ABSESpy`. This framework consisted by three parts:\n",
    "\n",
    "- **Cognition** represents the human processing of information around the ecological system.\n",
    "- **Contagion** represents spreading information, beliefs and behaviour through social networks.\n",
    "- **Response** is the resultant behaviour or action.\n",
    "\n",
    "\n",
    "To apply this cognition-contagion-response (CCR) human behaviour modelling framework, `ABSESpy`'s users can:\n",
    "\n",
    "1. define cognition functions for actors (agents); \n",
    "2. generate a network in human modules;\n",
    "3. in a human model, define [action arena](#TODO) functions of actors' interactions or responses. "
   ]
  },
  {
   "cell_type": "code",
   "execution_count": 1,
   "id": "3fd1942b-3574-4f81-b37a-578ba66692ce",
   "metadata": {
    "execution": {
     "iopub.execute_input": "2023-01-24T01:04:05.845135Z",
     "iopub.status.busy": "2023-01-24T01:04:05.844821Z",
     "iopub.status.idle": "2023-01-24T01:04:07.197244Z",
     "shell.execute_reply": "2023-01-24T01:04:07.196477Z",
     "shell.execute_reply.started": "2023-01-24T01:04:05.845105Z"
    },
    "tags": []
   },
   "outputs": [],
   "source": [
    "%load_ext autoreload\n",
    "%autoreload 2\n",
    "import pandas as pd\n",
    "import numpy as np\n",
    "import seaborn as sns\n",
    "from matplotlib import pyplot as plt\n",
    "\n",
    "import sys\n",
    "import os\n",
    "\n",
    "os.chdir(\"../../..\")\n",
    "%matplotlib inline\n",
    "%config InlineBackend.figure_format = 'retina'\n",
    "plt.rcParams['axes.facecolor'] = 'white'\n"
   ]
  },
  {
   "cell_type": "markdown",
   "id": "15095dae",
   "metadata": {},
   "source": [
    "## Example model"
   ]
  },
  {
   "cell_type": "markdown",
   "id": "5ec226fc",
   "metadata": {},
   "source": [
    "As an example, we demonstrate an adapted simple but classic Agent-based model of `Wealth Transferring`. Other popular Agent-based modelling software (e.g., `NetLogo`) or packages (`AgentPy` and `MESA`) both include this model in their model libraries. \n",
    "\n",
    "The model explores the distribution of wealth under a trading population of agents. Each agent starts with one unit of wealth. During each time-step, each agents with positive wealth randomly selects a trading partner and gives them one unit of their wealth. We will see that this random interaction will create an inequality of wealth that follows a [Boltzmann distribution](http://www.phys.ufl.edu/~meisel/Boltzmann.pdf). "
   ]
  },
  {
   "cell_type": "markdown",
   "id": "b6f8ca7d",
   "metadata": {},
   "source": [
    "Here we will rewrite the model in the framework of CCR and add geographical distance as a parameter to the classical model. It is shown how actors perceive other actors, how behaviors \"spreads\" between actors and how \"transaction scenarios\" are automatically formed between actors."
   ]
  },
  {
   "cell_type": "markdown",
   "id": "e44d240d",
   "metadata": {},
   "source": [
    "### Original Model Framework\n",
    "\n",
    "Referring codes from the [`AgentPy` package](https://agentpy.readthedocs.io/en/latest/agentpy_wealth_transfer.htmlhttps://agentpy.readthedocs.io/en/latest/agentpy_wealth_transfer.html)\n",
    "\n",
    "Frist of all, define the actors' behaviour. "
   ]
  },
  {
   "cell_type": "code",
   "execution_count": 2,
   "id": "785da61a",
   "metadata": {
    "execution": {
     "iopub.execute_input": "2023-01-24T01:04:08.935231Z",
     "iopub.status.busy": "2023-01-24T01:04:08.934902Z",
     "iopub.status.idle": "2023-01-24T01:04:11.969220Z",
     "shell.execute_reply": "2023-01-24T01:04:11.968689Z",
     "shell.execute_reply.started": "2023-01-24T01:04:08.935212Z"
    },
    "tags": []
   },
   "outputs": [],
   "source": [
    "from abses import Actor\n",
    "from typing import Optional, Self\n",
    "\n",
    "\n",
    "class WealthyActor(Actor):\n",
    "\n",
    "    \"\"\" Demo model of wealth transferring. \"\"\"\n",
    "\n",
    "    def setup(self):\n",
    "        self.wealth = 1\n",
    "\n",
    "    def wealth_transfer(self, partner: Optional[Self] = None):\n",
    "        if partner is None:\n",
    "            partner = self.model.all_agents.random_choose()\n",
    "        if self.wealth > 0:\n",
    "            partner.wealth += 1\n",
    "            self.wealth -= 1\n"
   ]
  },
  {
   "cell_type": "markdown",
   "id": "9cbbaad7-2ca1-4484-933a-5ff21803f9d4",
   "metadata": {},
   "source": [
    "Then, define the metrics (Gini coefficient) and model workflow."
   ]
  },
  {
   "cell_type": "code",
   "execution_count": 3,
   "id": "784622c1",
   "metadata": {
    "execution": {
     "iopub.execute_input": "2023-01-24T01:04:11.970725Z",
     "iopub.status.busy": "2023-01-24T01:04:11.970382Z",
     "iopub.status.idle": "2023-01-24T01:04:12.035228Z",
     "shell.execute_reply": "2023-01-24T01:04:12.034703Z",
     "shell.execute_reply.started": "2023-01-24T01:04:11.970708Z"
    },
    "tags": []
   },
   "outputs": [],
   "source": [
    "from abses import MainModel\n",
    "\n",
    "\n",
    "def gini(x):\n",
    "\n",
    "    \"\"\" Calculate Gini Coefficient \"\"\"\n",
    "    # By Warren Weckesser https://stackoverflow.com/a/39513799\n",
    "\n",
    "    x = np.array(x)\n",
    "    mad = np.abs(np.subtract.outer(x, x)).mean()  # Mean absolute difference\n",
    "    rmad = mad / np.mean(x)  # Relative mean absolute difference\n",
    "    return 0.5 * rmad\n",
    "\n",
    "\n",
    "class WealthModel(MainModel):\n",
    "\n",
    "    \"\"\" A simple model of random wealth transfers \"\"\"\n",
    "\n",
    "    def setup(self):\n",
    "        actors = self.agents.create(WealthyActor, 100)\n",
    "\n",
    "    def step(self):\n",
    "        self.all_agents.wealth_transfer()\n",
    "\n",
    "    def update(self):\n",
    "        self.record('Gini Coefficient', gini(self.all_agents.wealth))\n",
    "\n",
    "    def end(self):\n",
    "        self.all_agents.record('wealth')"
   ]
  },
  {
   "cell_type": "markdown",
   "id": "5ccc37de-2d6c-4a09-a2ca-f3ba2f96eb48",
   "metadata": {},
   "source": [
    "Input parameters to the model, and show Gini coefficient results."
   ]
  },
  {
   "cell_type": "code",
   "execution_count": 4,
   "id": "8d5517ae",
   "metadata": {
    "execution": {
     "iopub.execute_input": "2023-01-24T01:04:47.883949Z",
     "iopub.status.busy": "2023-01-24T01:04:47.883752Z",
     "iopub.status.idle": "2023-01-24T01:04:52.130562Z",
     "shell.execute_reply": "2023-01-24T01:04:52.129986Z",
     "shell.execute_reply.started": "2023-01-24T01:04:47.883931Z"
    },
    "tags": []
   },
   "outputs": [
    {
     "name": "stdout",
     "output_type": "stream",
     "text": [
      "Completed: 100 steps\n",
      "Run time: 0:00:04.004522\n",
      "Simulation finished\n"
     ]
    }
   ],
   "source": [
    "parameters = {\n",
    "    'wealth demo': {\n",
    "        'agents': 100,\n",
    "        'steps': 100,\n",
    "        'seed': 42,\n",
    "    }\n",
    "}\n",
    "\n",
    "model = WealthModel(name='wealth demo', base='tests', parameters=parameters)\n",
    "results = model.run()"
   ]
  },
  {
   "cell_type": "code",
   "execution_count": 5,
   "id": "0c7eb4e8-2edf-49dd-ac00-a4fb866d926a",
   "metadata": {
    "execution": {
     "iopub.execute_input": "2023-01-24T01:07:16.365519Z",
     "iopub.status.busy": "2023-01-24T01:07:16.365314Z",
     "iopub.status.idle": "2023-01-24T01:07:16.604072Z",
     "shell.execute_reply": "2023-01-24T01:07:16.603415Z",
     "shell.execute_reply.started": "2023-01-24T01:07:16.365499Z"
    },
    "tags": []
   },
   "outputs": [
    {
     "data": {
      "image/png": "[encoded data removed]",
      "text/plain": [
       "<Figure size 640x480 with 1 Axes>"
      ]
     },
     "metadata": {
      "image/png": {
       "height": 413,
       "width": 562
      }
     },
     "output_type": "display_data"
    }
   ],
   "source": [
    "sns.histplot(data=results.variables.WealthyActor, binwidth=1);"
   ]
  },
  {
   "cell_type": "markdown",
   "id": "db4dd923-c173-4939-ac69-8479197deb79",
   "metadata": {},
   "source": [
    "### Adapted wealth transferring problem"
   ]
  },
  {
   "cell_type": "markdown",
   "id": "62ac1fbe-fcdb-4eab-b69b-5d7258c34e6f",
   "metadata": {},
   "source": [
    "1. An actor can only trade with nearby actors (with a parameter of distance 'd').\n",
    "2. If actor feel his community is not aproprate for his economic class, he will move randomly.\n",
    "3. If actors have the similar properties within the community, he likes to trade with neighbors."
   ]
  },
  {
   "cell_type": "markdown",
   "id": "71af5131-fdd0-46f7-80ad-60b9aa5d4d8a",
   "metadata": {},
   "source": [
    "<img src=\"https://songshgeo-picgo-1302043007.cos.ap-beijing.myqcloud.com/uPic/2jFmIS.jpg\" alt=\"Drawing\" style=\"width: 400px;\"/>"
   ]
  },
  {
   "cell_type": "code",
   "execution_count": 7,
   "id": "c783f67e-5c90-446d-8625-5cbd17348c2d",
   "metadata": {},
   "outputs": [],
   "source": [
    "from abses.actor import perception, link_to\n",
    "\n",
    "class WealthyActor(Actor):\n",
    "\n",
    "    \"\"\" Demo model of wealth transferring. \"\"\"\n",
    "\n",
    "    def setup(self):\n",
    "        self.wealth: int = 1\n",
    "        self.rule(when='fit_in == False', then='move')\n",
    "\n",
    "    # setup property 'potential partner', \n",
    "    # which auto links to these potential partners.\n",
    "    @link_to\n",
    "    def potential_partners(self):\n",
    "        return self.neighbors()\n",
    "\n",
    "    @perception\n",
    "    def fit_in(self) -> bool:\n",
    "        others_wealth = self.potential_partners.wealth\n",
    "        lower = self.wealth < others_wealth.mean() - others_wealth.std()\n",
    "        higher = self.wealth > others_wealth.mean() + others_wealth.std()\n",
    "        if lower or higher:\n",
    "            return False\n",
    "        else:\n",
    "            return True\n",
    "\n",
    "    def wealth_transfer(self):\n",
    "        partner = self.potential_partners.random_choose()\n",
    "        if self.wealth > 0:\n",
    "            partner.wealth += 1\n",
    "            self.wealth -= 1\n",
    "\n",
    "\n",
    "class WealthModel(MainModel):\n",
    "\n",
    "    \"\"\" A simple model of random wealth transfers \"\"\"\n",
    "\n",
    "    def setup(self):\n",
    "        actors = self.agents.create(WealthyActor, 100)\n",
    "        self.nature.add_agents(actors, positions='random')\n",
    "\n",
    "    def step(self):\n",
    "        self.all_agents.wealth_transfer()\n",
    "\n",
    "    def update(self):\n",
    "        self.record('Gini Coefficient', gini(self.all_agents.wealth))\n",
    "\n",
    "    def end(self):\n",
    "        self.all_agents.record('wealth')"
   ]
  },
  {
   "cell_type": "code",
   "execution_count": 9,
   "id": "30b92142",
   "metadata": {},
   "outputs": [
    {
     "ename": "TypeError",
     "evalue": "invalid indexer array, does not have integer dtype: array(None, dtype=object)",
     "output_type": "error",
     "traceback": [
      "\u001b[0;31m---------------------------------------------------------------------------\u001b[0m",
      "\u001b[0;31mTypeError\u001b[0m                                 Traceback (most recent call last)",
      "Cell \u001b[0;32mIn[9], line 10\u001b[0m\n\u001b[1;32m      1\u001b[0m parameters \u001b[39m=\u001b[39m {\n\u001b[1;32m      2\u001b[0m     \u001b[39m'\u001b[39m\u001b[39mwealth demo\u001b[39m\u001b[39m'\u001b[39m: {\n\u001b[1;32m      3\u001b[0m         \u001b[39m'\u001b[39m\u001b[39magents\u001b[39m\u001b[39m'\u001b[39m: \u001b[39m100\u001b[39m,\n\u001b[0;32m   (...)\u001b[0m\n\u001b[1;32m      6\u001b[0m     }\n\u001b[1;32m      7\u001b[0m }\n\u001b[1;32m      9\u001b[0m model \u001b[39m=\u001b[39m WealthModel(name\u001b[39m=\u001b[39m\u001b[39m'\u001b[39m\u001b[39mwealth demo\u001b[39m\u001b[39m'\u001b[39m, base\u001b[39m=\u001b[39m\u001b[39m'\u001b[39m\u001b[39mtests\u001b[39m\u001b[39m'\u001b[39m, parameters\u001b[39m=\u001b[39mparameters)\n\u001b[0;32m---> 10\u001b[0m model\u001b[39m.\u001b[39;49msetup()\n",
      "Cell \u001b[0;32mIn[7], line 39\u001b[0m, in \u001b[0;36mWealthModel.setup\u001b[0;34m(self)\u001b[0m\n\u001b[1;32m     38\u001b[0m \u001b[39mdef\u001b[39;00m \u001b[39msetup\u001b[39m(\u001b[39mself\u001b[39m):\n\u001b[0;32m---> 39\u001b[0m     actors \u001b[39m=\u001b[39m \u001b[39mself\u001b[39;49m\u001b[39m.\u001b[39;49magents\u001b[39m.\u001b[39;49mcreate(WealthyActor, \u001b[39m100\u001b[39;49m)\n\u001b[1;32m     40\u001b[0m     \u001b[39mself\u001b[39m\u001b[39m.\u001b[39mnature\u001b[39m.\u001b[39madd_agents(actors, positions\u001b[39m=\u001b[39m\u001b[39m'\u001b[39m\u001b[39mrandom\u001b[39m\u001b[39m'\u001b[39m)\n",
      "File \u001b[0;32m~/Documents/Pycharm/ABSESpy/abses/container.py:84\u001b[0m, in \u001b[0;36mAgentsContainer.create\u001b[0;34m(self, breed_cls, n)\u001b[0m\n\u001b[1;32m     81\u001b[0m \u001b[39mdef\u001b[39;00m \u001b[39mcreate\u001b[39m(\n\u001b[1;32m     82\u001b[0m     \u001b[39mself\u001b[39m, breed_cls: Type[Actor], n: \u001b[39mint\u001b[39m \u001b[39m=\u001b[39m \u001b[39m1\u001b[39m\n\u001b[1;32m     83\u001b[0m ) \u001b[39m-\u001b[39m\u001b[39m>\u001b[39m Union[Actor, ActorsList]:\n\u001b[0;32m---> 84\u001b[0m     agents \u001b[39m=\u001b[39m ActorsList(\u001b[39mself\u001b[39;49m\u001b[39m.\u001b[39;49m_model, objs\u001b[39m=\u001b[39;49mn, \u001b[39mcls\u001b[39;49m\u001b[39m=\u001b[39;49mbreed_cls)\n\u001b[1;32m     85\u001b[0m     \u001b[39mself\u001b[39m\u001b[39m.\u001b[39madd(agents, register\u001b[39m=\u001b[39m\u001b[39mTrue\u001b[39;00m)\n\u001b[1;32m     86\u001b[0m     \u001b[39mif\u001b[39;00m n \u001b[39m==\u001b[39m \u001b[39m1\u001b[39m:\n",
      "File \u001b[0;32m~/opt/anaconda3/envs/ABSES_311/lib/python3.11/site-packages/agentpy/sequences.py:259\u001b[0m, in \u001b[0;36mAgentList.__init__\u001b[0;34m(self, model, objs, cls, *args, **kwargs)\u001b[0m\n\u001b[1;32m    257\u001b[0m \u001b[39mif\u001b[39;00m \u001b[39misinstance\u001b[39m(objs, \u001b[39mint\u001b[39m):\n\u001b[1;32m    258\u001b[0m     objs \u001b[39m=\u001b[39m \u001b[39mself\u001b[39m\u001b[39m.\u001b[39m_obj_gen(model, objs, \u001b[39mcls\u001b[39m, \u001b[39m*\u001b[39margs, \u001b[39m*\u001b[39m\u001b[39m*\u001b[39mkwargs)\n\u001b[0;32m--> 259\u001b[0m \u001b[39msuper\u001b[39;49m()\u001b[39m.\u001b[39;49m\u001b[39m__init__\u001b[39;49m(objs)\n\u001b[1;32m    260\u001b[0m \u001b[39msuper\u001b[39m()\u001b[39m.\u001b[39m\u001b[39m__setattr__\u001b[39m(\u001b[39m'\u001b[39m\u001b[39mmodel\u001b[39m\u001b[39m'\u001b[39m, model)\n\u001b[1;32m    261\u001b[0m \u001b[39msuper\u001b[39m()\u001b[39m.\u001b[39m\u001b[39m__setattr__\u001b[39m(\u001b[39m'\u001b[39m\u001b[39mndim\u001b[39m\u001b[39m'\u001b[39m, \u001b[39m1\u001b[39m)\n",
      "File \u001b[0;32m~/opt/anaconda3/envs/ABSES_311/lib/python3.11/site-packages/agentpy/sequences.py:48\u001b[0m, in \u001b[0;36mAgentSequence._obj_gen\u001b[0;34m(model, n, cls, *args, **kwargs)\u001b[0m\n\u001b[1;32m     44\u001b[0m \u001b[39mfor\u001b[39;00m i \u001b[39min\u001b[39;00m \u001b[39mrange\u001b[39m(n):\n\u001b[1;32m     45\u001b[0m     \u001b[39m# AttrIter values get broadcasted among agents\u001b[39;00m\n\u001b[1;32m     46\u001b[0m     i_kwargs \u001b[39m=\u001b[39m {k: arg[i] \u001b[39mif\u001b[39;00m \u001b[39misinstance\u001b[39m(arg, AttrIter) \u001b[39melse\u001b[39;00m arg\n\u001b[1;32m     47\u001b[0m                 \u001b[39mfor\u001b[39;00m k, arg \u001b[39min\u001b[39;00m kwargs\u001b[39m.\u001b[39mitems()}\n\u001b[0;32m---> 48\u001b[0m     \u001b[39myield\u001b[39;00m \u001b[39mcls\u001b[39;49m(model, \u001b[39m*\u001b[39;49m\u001b[39m*\u001b[39;49mi_kwargs)\n",
      "File \u001b[0;32m~/Documents/Pycharm/ABSESpy/abses/actor.py:86\u001b[0m, in \u001b[0;36mActor.__init__\u001b[0;34m(self, model, observer, name, **kwargs)\u001b[0m\n\u001b[1;32m     82\u001b[0m \u001b[39mself\u001b[39m\u001b[39m.\u001b[39m_rules: List[\n\u001b[1;32m     83\u001b[0m     Tuple[\u001b[39mstr\u001b[39m, Selection, Callable, Tuple[Any], Dict[\u001b[39mstr\u001b[39m, Any]]\n\u001b[1;32m     84\u001b[0m ] \u001b[39m=\u001b[39m []\n\u001b[1;32m     85\u001b[0m \u001b[39mself\u001b[39m\u001b[39m.\u001b[39mmediator: MainMediator \u001b[39m=\u001b[39m \u001b[39mself\u001b[39m\u001b[39m.\u001b[39mmodel\u001b[39m.\u001b[39mmediator\n\u001b[0;32m---> 86\u001b[0m \u001b[39mself\u001b[39;49m\u001b[39m.\u001b[39;49msetup(\u001b[39m*\u001b[39;49m\u001b[39m*\u001b[39;49mkwargs)\n",
      "Cell \u001b[0;32mIn[7], line 9\u001b[0m, in \u001b[0;36mWealthyActor.setup\u001b[0;34m(self)\u001b[0m\n\u001b[1;32m      7\u001b[0m \u001b[39mdef\u001b[39;00m \u001b[39msetup\u001b[39m(\u001b[39mself\u001b[39m):\n\u001b[1;32m      8\u001b[0m     \u001b[39mself\u001b[39m\u001b[39m.\u001b[39mwealth: \u001b[39mint\u001b[39m \u001b[39m=\u001b[39m \u001b[39m1\u001b[39m\n\u001b[0;32m----> 9\u001b[0m     \u001b[39mself\u001b[39;49m\u001b[39m.\u001b[39;49mrule(when\u001b[39m=\u001b[39;49m\u001b[39m'\u001b[39;49m\u001b[39mfit_in == False\u001b[39;49m\u001b[39m'\u001b[39;49m, then\u001b[39m=\u001b[39;49m\u001b[39m'\u001b[39;49m\u001b[39mmove\u001b[39;49m\u001b[39m'\u001b[39;49m)\n",
      "File \u001b[0;32m~/Documents/Pycharm/ABSESpy/abses/actor.py:164\u001b[0m, in \u001b[0;36mActor.rule\u001b[0;34m(self, when, then, name, *args, **kwargs)\u001b[0m\n\u001b[1;32m    162\u001b[0m     name \u001b[39m=\u001b[39m \u001b[39mf\u001b[39m\u001b[39m\"\u001b[39m\u001b[39mrule (\u001b[39m\u001b[39m{\u001b[39;00m\u001b[39mlen\u001b[39m(\u001b[39mself\u001b[39m\u001b[39m.\u001b[39m_rules)\u001b[39m \u001b[39m\u001b[39m+\u001b[39m\u001b[39m \u001b[39m\u001b[39m1\u001b[39m\u001b[39m}\u001b[39;00m\u001b[39m)\u001b[39m\u001b[39m\"\u001b[39m\n\u001b[1;32m    163\u001b[0m \u001b[39mself\u001b[39m\u001b[39m.\u001b[39m_rules\u001b[39m.\u001b[39mappend([name, when, then, args, kwargs])\n\u001b[0;32m--> 164\u001b[0m \u001b[39mself\u001b[39;49m\u001b[39m.\u001b[39;49m_check_rules()\n",
      "File \u001b[0;32m~/Documents/Pycharm/ABSESpy/abses/actor.py:120\u001b[0m, in \u001b[0;36mActor._check_rules\u001b[0;34m(self)\u001b[0m\n\u001b[1;32m    118\u001b[0m results \u001b[39m=\u001b[39m {}\n\u001b[1;32m    119\u001b[0m \u001b[39mfor\u001b[39;00m name, selection, trigger, args, kwargs \u001b[39min\u001b[39;00m \u001b[39mself\u001b[39m\u001b[39m.\u001b[39m_rules:\n\u001b[0;32m--> 120\u001b[0m     \u001b[39mif\u001b[39;00m \u001b[39mself\u001b[39;49m\u001b[39m.\u001b[39;49mselecting(selection) \u001b[39mis\u001b[39;00m \u001b[39mTrue\u001b[39;00m:\n\u001b[1;32m    121\u001b[0m         result \u001b[39m=\u001b[39m \u001b[39mself\u001b[39m\u001b[39m.\u001b[39m\u001b[39m__getattr__\u001b[39m(trigger)(\u001b[39m*\u001b[39margs, \u001b[39m*\u001b[39m\u001b[39m*\u001b[39mkwargs)\n\u001b[1;32m    122\u001b[0m         \u001b[39mself\u001b[39m\u001b[39m.\u001b[39mlogger\u001b[39m.\u001b[39mdebug(\u001b[39mf\u001b[39m\u001b[39m\"\u001b[39m\u001b[39mRule \u001b[39m\u001b[39m'\u001b[39m\u001b[39m{\u001b[39;00mname\u001b[39m}\u001b[39;00m\u001b[39m'\u001b[39m\u001b[39m applied on \u001b[39m\u001b[39m'\u001b[39m\u001b[39m{\u001b[39;00m\u001b[39mself\u001b[39m\u001b[39m}\u001b[39;00m\u001b[39m'\u001b[39m\u001b[39m.\u001b[39m\u001b[39m\"\u001b[39m)\n",
      "File \u001b[0;32m~/Documents/Pycharm/ABSESpy/abses/actor.py:149\u001b[0m, in \u001b[0;36mActor.selecting\u001b[0;34m(self, selection)\u001b[0m\n\u001b[1;32m    147\u001b[0m results \u001b[39m=\u001b[39m []\n\u001b[1;32m    148\u001b[0m \u001b[39mfor\u001b[39;00m k, v \u001b[39min\u001b[39;00m selection\u001b[39m.\u001b[39mitems():\n\u001b[0;32m--> 149\u001b[0m     attr \u001b[39m=\u001b[39m \u001b[39mgetattr\u001b[39;49m(\u001b[39mself\u001b[39;49m, k, \u001b[39mNone\u001b[39;49;00m)\n\u001b[1;32m    150\u001b[0m     \u001b[39mif\u001b[39;00m attr \u001b[39mis\u001b[39;00m \u001b[39mNone\u001b[39;00m:\n\u001b[1;32m    151\u001b[0m         results\u001b[39m.\u001b[39mappend(\u001b[39mFalse\u001b[39;00m)\n",
      "File \u001b[0;32m~/Documents/Pycharm/ABSESpy/abses/actor.py:57\u001b[0m, in \u001b[0;36mperception.<locals>.wrapper\u001b[0;34m(self, *args, **kwargs)\u001b[0m\n\u001b[1;32m     55\u001b[0m \u001b[39m@property\u001b[39m\n\u001b[1;32m     56\u001b[0m \u001b[39mdef\u001b[39;00m \u001b[39mwrapper\u001b[39m(\u001b[39mself\u001b[39m, \u001b[39m*\u001b[39margs, \u001b[39m*\u001b[39m\u001b[39m*\u001b[39mkwargs):\n\u001b[0;32m---> 57\u001b[0m     \u001b[39mreturn\u001b[39;00m func(\u001b[39mself\u001b[39;49m, \u001b[39m*\u001b[39;49margs, \u001b[39m*\u001b[39;49m\u001b[39m*\u001b[39;49mkwargs)\n",
      "Cell \u001b[0;32mIn[7], line 19\u001b[0m, in \u001b[0;36mWealthyActor.fit_in\u001b[0;34m(self)\u001b[0m\n\u001b[1;32m     17\u001b[0m \u001b[39m@perception\u001b[39m\n\u001b[1;32m     18\u001b[0m \u001b[39mdef\u001b[39;00m \u001b[39mfit_in\u001b[39m(\u001b[39mself\u001b[39m) \u001b[39m-\u001b[39m\u001b[39m>\u001b[39m \u001b[39mbool\u001b[39m:\n\u001b[0;32m---> 19\u001b[0m     others_wealth \u001b[39m=\u001b[39m \u001b[39mself\u001b[39;49m\u001b[39m.\u001b[39;49mpotential_partners\u001b[39m.\u001b[39mwealth\n\u001b[1;32m     20\u001b[0m     lower \u001b[39m=\u001b[39m \u001b[39mself\u001b[39m\u001b[39m.\u001b[39mwealth \u001b[39m<\u001b[39m others_wealth\u001b[39m.\u001b[39mmean() \u001b[39m-\u001b[39m others_wealth\u001b[39m.\u001b[39mstd()\n\u001b[1;32m     21\u001b[0m     higher \u001b[39m=\u001b[39m \u001b[39mself\u001b[39m\u001b[39m.\u001b[39mwealth \u001b[39m>\u001b[39m others_wealth\u001b[39m.\u001b[39mmean() \u001b[39m+\u001b[39m others_wealth\u001b[39m.\u001b[39mstd()\n",
      "File \u001b[0;32m~/Documents/Pycharm/ABSESpy/abses/actor.py:65\u001b[0m, in \u001b[0;36mlink_to.<locals>.wrapper\u001b[0;34m(self, *args, **kwargs)\u001b[0m\n\u001b[1;32m     63\u001b[0m \u001b[39m@property\u001b[39m\n\u001b[1;32m     64\u001b[0m \u001b[39mdef\u001b[39;00m \u001b[39mwrapper\u001b[39m(\u001b[39mself\u001b[39m, \u001b[39m*\u001b[39margs, \u001b[39m*\u001b[39m\u001b[39m*\u001b[39mkwargs):\n\u001b[0;32m---> 65\u001b[0m     \u001b[39mreturn\u001b[39;00m func(\u001b[39mself\u001b[39;49m, \u001b[39m*\u001b[39;49margs, \u001b[39m*\u001b[39;49m\u001b[39m*\u001b[39;49mkwargs)\n",
      "Cell \u001b[0;32mIn[7], line 15\u001b[0m, in \u001b[0;36mWealthyActor.potential_partners\u001b[0;34m(self)\u001b[0m\n\u001b[1;32m     13\u001b[0m \u001b[39m@link_to\u001b[39m\n\u001b[1;32m     14\u001b[0m \u001b[39mdef\u001b[39;00m \u001b[39mpotential_partners\u001b[39m(\u001b[39mself\u001b[39m):\n\u001b[0;32m---> 15\u001b[0m     \u001b[39mreturn\u001b[39;00m \u001b[39mself\u001b[39;49m\u001b[39m.\u001b[39;49mneighbors()\n",
      "File \u001b[0;32m~/Documents/Pycharm/ABSESpy/abses/actor.py:172\u001b[0m, in \u001b[0;36mActor.neighbors\u001b[0;34m(self, distance, selection, exclude)\u001b[0m\n\u001b[1;32m    169\u001b[0m \u001b[39mdef\u001b[39;00m \u001b[39mneighbors\u001b[39m(\u001b[39mself\u001b[39m, distance: \u001b[39mint\u001b[39m \u001b[39m=\u001b[39m \u001b[39m1\u001b[39m, selection: Selection \u001b[39m=\u001b[39m \u001b[39mNone\u001b[39;00m, exclude: \u001b[39mbool\u001b[39m \u001b[39m=\u001b[39m \u001b[39mTrue\u001b[39;00m):\n\u001b[1;32m    170\u001b[0m     \u001b[39m# The area around within a certain distance.\u001b[39;00m\n\u001b[1;32m    171\u001b[0m     header \u001b[39m=\u001b[39m {\u001b[39m'\u001b[39m\u001b[39mpos\u001b[39m\u001b[39m'\u001b[39m: \u001b[39mself\u001b[39m\u001b[39m.\u001b[39mpos, \u001b[39m'\u001b[39m\u001b[39mdistance\u001b[39m\u001b[39m'\u001b[39m: distance, \u001b[39m'\u001b[39m\u001b[39mselection\u001b[39m\u001b[39m'\u001b[39m: selection}\n\u001b[0;32m--> 172\u001b[0m     agents \u001b[39m=\u001b[39m \u001b[39mself\u001b[39;49m\u001b[39m.\u001b[39;49mrequest(request\u001b[39m=\u001b[39;49m\u001b[39m'\u001b[39;49m\u001b[39mneighbors\u001b[39;49m\u001b[39m'\u001b[39;49m, header\u001b[39m=\u001b[39;49mheader, receiver\u001b[39m=\u001b[39;49m\u001b[39m'\u001b[39;49m\u001b[39mnature\u001b[39;49m\u001b[39m'\u001b[39;49m)\n\u001b[1;32m    173\u001b[0m     \u001b[39mif\u001b[39;00m exclude \u001b[39mis\u001b[39;00m \u001b[39mTrue\u001b[39;00m:\n\u001b[1;32m    174\u001b[0m         agents\u001b[39m.\u001b[39mremove(\u001b[39mself\u001b[39m)\n",
      "File \u001b[0;32m~/Documents/Pycharm/ABSESpy/abses/actor.py:130\u001b[0m, in \u001b[0;36mActor.request\u001b[0;34m(self, request, header, receiver)\u001b[0m\n\u001b[1;32m    128\u001b[0m     response \u001b[39m=\u001b[39m \u001b[39mself\u001b[39m\u001b[39m.\u001b[39mmediator\u001b[39m.\u001b[39mtransfer_request(\u001b[39mself\u001b[39m, request)\n\u001b[1;32m    129\u001b[0m \u001b[39melif\u001b[39;00m receiver \u001b[39min\u001b[39;00m [\u001b[39m'\u001b[39m\u001b[39mnature\u001b[39m\u001b[39m'\u001b[39m, \u001b[39m'\u001b[39m\u001b[39mhuman\u001b[39m\u001b[39m'\u001b[39m]:\n\u001b[0;32m--> 130\u001b[0m     results \u001b[39m=\u001b[39m \u001b[39mself\u001b[39;49m\u001b[39m.\u001b[39;49mmediator\u001b[39m.\u001b[39;49mtrigger_functions(users\u001b[39m=\u001b[39;49mreceiver, func_name\u001b[39m=\u001b[39;49mrequest, \u001b[39m*\u001b[39;49m\u001b[39m*\u001b[39;49mheader)\n\u001b[1;32m    131\u001b[0m     response \u001b[39m=\u001b[39m results\u001b[39m.\u001b[39m\u001b[39m__getattribute__\u001b[39m(receiver)\n\u001b[1;32m    132\u001b[0m \u001b[39melse\u001b[39;00m:\n",
      "File \u001b[0;32m~/Documents/Pycharm/ABSESpy/abses/main.py:299\u001b[0m, in \u001b[0;36mMainMediator.trigger_functions\u001b[0;34m(self, users, func_name, *args, **kwargs)\u001b[0m\n\u001b[1;32m    297\u001b[0m     obj \u001b[39m=\u001b[39m \u001b[39mself\u001b[39m\u001b[39m.\u001b[39musers\u001b[39m.\u001b[39m\u001b[39m__getattribute__\u001b[39m(user)\n\u001b[1;32m    298\u001b[0m     func \u001b[39m=\u001b[39m obj\u001b[39m.\u001b[39m\u001b[39m__getattribute__\u001b[39m(func_name)\n\u001b[0;32m--> 299\u001b[0m     results[user] \u001b[39m=\u001b[39m func(\u001b[39m*\u001b[39;49margs, \u001b[39m*\u001b[39;49m\u001b[39m*\u001b[39;49mkwargs)\n\u001b[1;32m    300\u001b[0m \u001b[39mreturn\u001b[39;00m Users(\u001b[39m*\u001b[39m\u001b[39m*\u001b[39mresults)\n",
      "File \u001b[0;32m~/Documents/Pycharm/ABSESpy/abses/nature.py:391\u001b[0m, in \u001b[0;36mBaseNature.neighbors\u001b[0;34m(self, pos, distance, approach, selection)\u001b[0m\n\u001b[1;32m    378\u001b[0m \u001b[39m\u001b[39m\u001b[39m\"\"\"\u001b[39;00m\n\u001b[1;32m    379\u001b[0m \u001b[39mFind all agents nearby with a given position and distance.\u001b[39;00m\n\u001b[1;32m    380\u001b[0m \n\u001b[0;32m   (...)\u001b[0m\n\u001b[1;32m    388\u001b[0m \u001b[39m    ActorsList: all qualified agents.\u001b[39;00m\n\u001b[1;32m    389\u001b[0m \u001b[39m\"\"\"\u001b[39;00m\n\u001b[1;32m    390\u001b[0m position \u001b[39m=\u001b[39m \u001b[39mself\u001b[39m\u001b[39m.\u001b[39mgeo\u001b[39m.\u001b[39mzeros()\n\u001b[0;32m--> 391\u001b[0m position[pos] \u001b[39m=\u001b[39m \u001b[39mTrue\u001b[39;00m\n\u001b[1;32m    392\u001b[0m buffer \u001b[39m=\u001b[39m get_buffer(array\u001b[39m=\u001b[39mposition, buffer\u001b[39m=\u001b[39mdistance, neighbors\u001b[39m=\u001b[39mapproach)\n\u001b[1;32m    393\u001b[0m \u001b[39mreturn\u001b[39;00m \u001b[39mself\u001b[39m\u001b[39m.\u001b[39mlookup_agents(buffer, selection\u001b[39m=\u001b[39mselection)\n",
      "File \u001b[0;32m~/opt/anaconda3/envs/ABSES_311/lib/python3.11/site-packages/xarray/core/dataarray.py:828\u001b[0m, in \u001b[0;36mDataArray.__setitem__\u001b[0;34m(self, key, value)\u001b[0m\n\u001b[1;32m    823\u001b[0m     \u001b[39mself\u001b[39m\u001b[39m.\u001b[39mcoords[key] \u001b[39m=\u001b[39m value\n\u001b[1;32m    824\u001b[0m \u001b[39melse\u001b[39;00m:\n\u001b[1;32m    825\u001b[0m     \u001b[39m# Coordinates in key, value and self[key] should be consistent.\u001b[39;00m\n\u001b[1;32m    826\u001b[0m     \u001b[39m# TODO Coordinate consistency in key is checked here, but it\u001b[39;00m\n\u001b[1;32m    827\u001b[0m     \u001b[39m# causes unnecessary indexing. It should be optimized.\u001b[39;00m\n\u001b[0;32m--> 828\u001b[0m     obj \u001b[39m=\u001b[39m \u001b[39mself\u001b[39;49m[key]\n\u001b[1;32m    829\u001b[0m     \u001b[39mif\u001b[39;00m \u001b[39misinstance\u001b[39m(value, DataArray):\n\u001b[1;32m    830\u001b[0m         assert_coordinate_consistent(value, obj\u001b[39m.\u001b[39mcoords\u001b[39m.\u001b[39mvariables)\n",
      "File \u001b[0;32m~/opt/anaconda3/envs/ABSES_311/lib/python3.11/site-packages/xarray/core/dataarray.py:819\u001b[0m, in \u001b[0;36mDataArray.__getitem__\u001b[0;34m(self, key)\u001b[0m\n\u001b[1;32m    816\u001b[0m     \u001b[39mreturn\u001b[39;00m \u001b[39mself\u001b[39m\u001b[39m.\u001b[39m_getitem_coord(key)\n\u001b[1;32m    817\u001b[0m \u001b[39melse\u001b[39;00m:\n\u001b[1;32m    818\u001b[0m     \u001b[39m# xarray-style array indexing\u001b[39;00m\n\u001b[0;32m--> 819\u001b[0m     \u001b[39mreturn\u001b[39;00m \u001b[39mself\u001b[39;49m\u001b[39m.\u001b[39;49misel(indexers\u001b[39m=\u001b[39;49m\u001b[39mself\u001b[39;49m\u001b[39m.\u001b[39;49m_item_key_to_dict(key))\n",
      "File \u001b[0;32m~/opt/anaconda3/envs/ABSES_311/lib/python3.11/site-packages/xarray/core/dataarray.py:1390\u001b[0m, in \u001b[0;36mDataArray.isel\u001b[0;34m(self, indexers, drop, missing_dims, **indexers_kwargs)\u001b[0m\n\u001b[1;32m   1387\u001b[0m indexers \u001b[39m=\u001b[39m either_dict_or_kwargs(indexers, indexers_kwargs, \u001b[39m\"\u001b[39m\u001b[39misel\u001b[39m\u001b[39m\"\u001b[39m)\n\u001b[1;32m   1389\u001b[0m \u001b[39mif\u001b[39;00m \u001b[39many\u001b[39m(is_fancy_indexer(idx) \u001b[39mfor\u001b[39;00m idx \u001b[39min\u001b[39;00m indexers\u001b[39m.\u001b[39mvalues()):\n\u001b[0;32m-> 1390\u001b[0m     ds \u001b[39m=\u001b[39m \u001b[39mself\u001b[39;49m\u001b[39m.\u001b[39;49m_to_temp_dataset()\u001b[39m.\u001b[39;49m_isel_fancy(\n\u001b[1;32m   1391\u001b[0m         indexers, drop\u001b[39m=\u001b[39;49mdrop, missing_dims\u001b[39m=\u001b[39;49mmissing_dims\n\u001b[1;32m   1392\u001b[0m     )\n\u001b[1;32m   1393\u001b[0m     \u001b[39mreturn\u001b[39;00m \u001b[39mself\u001b[39m\u001b[39m.\u001b[39m_from_temp_dataset(ds)\n\u001b[1;32m   1395\u001b[0m \u001b[39m# Much faster algorithm for when all indexers are ints, slices, one-dimensional\u001b[39;00m\n\u001b[1;32m   1396\u001b[0m \u001b[39m# lists, or zero or one-dimensional np.ndarray's\u001b[39;00m\n",
      "File \u001b[0;32m~/opt/anaconda3/envs/ABSES_311/lib/python3.11/site-packages/xarray/core/dataset.py:2475\u001b[0m, in \u001b[0;36mDataset._isel_fancy\u001b[0;34m(self, indexers, drop, missing_dims)\u001b[0m\n\u001b[1;32m   2471\u001b[0m var_indexers \u001b[39m=\u001b[39m {\n\u001b[1;32m   2472\u001b[0m     k: v \u001b[39mfor\u001b[39;00m k, v \u001b[39min\u001b[39;00m valid_indexers\u001b[39m.\u001b[39mitems() \u001b[39mif\u001b[39;00m k \u001b[39min\u001b[39;00m var\u001b[39m.\u001b[39mdims\n\u001b[1;32m   2473\u001b[0m }\n\u001b[1;32m   2474\u001b[0m \u001b[39mif\u001b[39;00m var_indexers:\n\u001b[0;32m-> 2475\u001b[0m     new_var \u001b[39m=\u001b[39m var\u001b[39m.\u001b[39;49misel(indexers\u001b[39m=\u001b[39;49mvar_indexers)\n\u001b[1;32m   2476\u001b[0m     \u001b[39m# drop scalar coordinates\u001b[39;00m\n\u001b[1;32m   2477\u001b[0m     \u001b[39m# https://github.com/pydata/xarray/issues/6554\u001b[39;00m\n\u001b[1;32m   2478\u001b[0m     \u001b[39mif\u001b[39;00m name \u001b[39min\u001b[39;00m \u001b[39mself\u001b[39m\u001b[39m.\u001b[39mcoords \u001b[39mand\u001b[39;00m drop \u001b[39mand\u001b[39;00m new_var\u001b[39m.\u001b[39mndim \u001b[39m==\u001b[39m \u001b[39m0\u001b[39m:\n",
      "File \u001b[0;32m~/opt/anaconda3/envs/ABSES_311/lib/python3.11/site-packages/xarray/core/variable.py:1322\u001b[0m, in \u001b[0;36mVariable.isel\u001b[0;34m(self, indexers, missing_dims, **indexers_kwargs)\u001b[0m\n\u001b[1;32m   1319\u001b[0m indexers \u001b[39m=\u001b[39m drop_dims_from_indexers(indexers, \u001b[39mself\u001b[39m\u001b[39m.\u001b[39mdims, missing_dims)\n\u001b[1;32m   1321\u001b[0m key \u001b[39m=\u001b[39m \u001b[39mtuple\u001b[39m(indexers\u001b[39m.\u001b[39mget(dim, \u001b[39mslice\u001b[39m(\u001b[39mNone\u001b[39;00m)) \u001b[39mfor\u001b[39;00m dim \u001b[39min\u001b[39;00m \u001b[39mself\u001b[39m\u001b[39m.\u001b[39mdims)\n\u001b[0;32m-> 1322\u001b[0m \u001b[39mreturn\u001b[39;00m \u001b[39mself\u001b[39;49m[key]\n",
      "File \u001b[0;32m~/opt/anaconda3/envs/ABSES_311/lib/python3.11/site-packages/xarray/core/variable.py:869\u001b[0m, in \u001b[0;36mVariable.__getitem__\u001b[0;34m(self, key)\u001b[0m\n\u001b[1;32m    856\u001b[0m \u001b[39mdef\u001b[39;00m \u001b[39m__getitem__\u001b[39m(\u001b[39mself\u001b[39m: T_Variable, key) \u001b[39m-\u001b[39m\u001b[39m>\u001b[39m T_Variable:\n\u001b[1;32m    857\u001b[0m \u001b[39m    \u001b[39m\u001b[39m\"\"\"Return a new Variable object whose contents are consistent with\u001b[39;00m\n\u001b[1;32m    858\u001b[0m \u001b[39m    getting the provided key from the underlying data.\u001b[39;00m\n\u001b[1;32m    859\u001b[0m \n\u001b[0;32m   (...)\u001b[0m\n\u001b[1;32m    867\u001b[0m \u001b[39m    array `x.values` directly.\u001b[39;00m\n\u001b[1;32m    868\u001b[0m \u001b[39m    \"\"\"\u001b[39;00m\n\u001b[0;32m--> 869\u001b[0m     dims, indexer, new_order \u001b[39m=\u001b[39m \u001b[39mself\u001b[39;49m\u001b[39m.\u001b[39;49m_broadcast_indexes(key)\n\u001b[1;32m    870\u001b[0m     data \u001b[39m=\u001b[39m as_indexable(\u001b[39mself\u001b[39m\u001b[39m.\u001b[39m_data)[indexer]\n\u001b[1;32m    871\u001b[0m     \u001b[39mif\u001b[39;00m new_order:\n",
      "File \u001b[0;32m~/opt/anaconda3/envs/ABSES_311/lib/python3.11/site-packages/xarray/core/variable.py:717\u001b[0m, in \u001b[0;36mVariable._broadcast_indexes\u001b[0;34m(self, key)\u001b[0m\n\u001b[1;32m    713\u001b[0m \u001b[39m# Detect it can be mapped as an outer indexer\u001b[39;00m\n\u001b[1;32m    714\u001b[0m \u001b[39m# If all key is unlabeled, or\u001b[39;00m\n\u001b[1;32m    715\u001b[0m \u001b[39m# key can be mapped as an OuterIndexer.\u001b[39;00m\n\u001b[1;32m    716\u001b[0m \u001b[39mif\u001b[39;00m \u001b[39mall\u001b[39m(\u001b[39mnot\u001b[39;00m \u001b[39misinstance\u001b[39m(k, Variable) \u001b[39mfor\u001b[39;00m k \u001b[39min\u001b[39;00m key):\n\u001b[0;32m--> 717\u001b[0m     \u001b[39mreturn\u001b[39;00m \u001b[39mself\u001b[39;49m\u001b[39m.\u001b[39;49m_broadcast_indexes_outer(key)\n\u001b[1;32m    719\u001b[0m \u001b[39m# If all key is 1-dimensional and there are no duplicate labels,\u001b[39;00m\n\u001b[1;32m    720\u001b[0m \u001b[39m# key can be mapped as an OuterIndexer.\u001b[39;00m\n\u001b[1;32m    721\u001b[0m dims \u001b[39m=\u001b[39m []\n",
      "File \u001b[0;32m~/opt/anaconda3/envs/ABSES_311/lib/python3.11/site-packages/xarray/core/variable.py:791\u001b[0m, in \u001b[0;36mVariable._broadcast_indexes_outer\u001b[0;34m(self, key)\u001b[0m\n\u001b[1;32m    788\u001b[0m             (k,) \u001b[39m=\u001b[39m np\u001b[39m.\u001b[39mnonzero(k)\n\u001b[1;32m    789\u001b[0m     new_key\u001b[39m.\u001b[39mappend(k)\n\u001b[0;32m--> 791\u001b[0m \u001b[39mreturn\u001b[39;00m dims, OuterIndexer(\u001b[39mtuple\u001b[39;49m(new_key)), \u001b[39mNone\u001b[39;00m\n",
      "File \u001b[0;32m~/opt/anaconda3/envs/ABSES_311/lib/python3.11/site-packages/xarray/core/indexing.py:373\u001b[0m, in \u001b[0;36mOuterIndexer.__init__\u001b[0;34m(self, key)\u001b[0m\n\u001b[1;32m    371\u001b[0m \u001b[39melif\u001b[39;00m \u001b[39misinstance\u001b[39m(k, np\u001b[39m.\u001b[39mndarray):\n\u001b[1;32m    372\u001b[0m     \u001b[39mif\u001b[39;00m \u001b[39mnot\u001b[39;00m np\u001b[39m.\u001b[39missubdtype(k\u001b[39m.\u001b[39mdtype, np\u001b[39m.\u001b[39minteger):\n\u001b[0;32m--> 373\u001b[0m         \u001b[39mraise\u001b[39;00m \u001b[39mTypeError\u001b[39;00m(\n\u001b[1;32m    374\u001b[0m             \u001b[39mf\u001b[39m\u001b[39m\"\u001b[39m\u001b[39minvalid indexer array, does not have integer dtype: \u001b[39m\u001b[39m{\u001b[39;00mk\u001b[39m!r}\u001b[39;00m\u001b[39m\"\u001b[39m\n\u001b[1;32m    375\u001b[0m         )\n\u001b[1;32m    376\u001b[0m     \u001b[39mif\u001b[39;00m k\u001b[39m.\u001b[39mndim \u001b[39m!=\u001b[39m \u001b[39m1\u001b[39m:\n\u001b[1;32m    377\u001b[0m         \u001b[39mraise\u001b[39;00m \u001b[39mTypeError\u001b[39;00m(\n\u001b[1;32m    378\u001b[0m             \u001b[39mf\u001b[39m\u001b[39m\"\u001b[39m\u001b[39minvalid indexer array for \u001b[39m\u001b[39m{\u001b[39;00m\u001b[39mtype\u001b[39m(\u001b[39mself\u001b[39m)\u001b[39m.\u001b[39m\u001b[39m__name__\u001b[39m\u001b[39m}\u001b[39;00m\u001b[39m; must have \u001b[39m\u001b[39m\"\u001b[39m\n\u001b[1;32m    379\u001b[0m             \u001b[39mf\u001b[39m\u001b[39m\"\u001b[39m\u001b[39mexactly 1 dimension: \u001b[39m\u001b[39m{\u001b[39;00mk\u001b[39m!r}\u001b[39;00m\u001b[39m\"\u001b[39m\n\u001b[1;32m    380\u001b[0m         )\n",
      "\u001b[0;31mTypeError\u001b[0m: invalid indexer array, does not have integer dtype: array(None, dtype=object)"
     ]
    }
   ],
   "source": [
    "parameters = {\n",
    "    'wealth demo': {\n",
    "        'agents': 100,\n",
    "        'steps': 100,\n",
    "        'seed': 42,\n",
    "    }\n",
    "}\n",
    "\n",
    "model = WealthModel(name='wealth demo', base='tests', parameters=parameters)\n",
    "model.setup()"
   ]
  },
  {
   "cell_type": "markdown",
   "id": "a0eb28d5",
   "metadata": {},
   "source": [
    "### Cognition"
   ]
  }
 ],
 "metadata": {
  "citation-manager": {
   "items": {}
  },
  "kernelspec": {
   "display_name": "Python 3 (ipykernel)",
   "language": "python",
   "name": "python3"
  },
  "language_info": {
   "codemirror_mode": {
    "name": "ipython",
    "version": 3
   },
   "file_extension": ".py",
   "mimetype": "text/x-python",
   "name": "python",
   "nbconvert_exporter": "python",
   "pygments_lexer": "ipython3",
   "version": "3.11.0"
  },
  "vscode": {
   "interpreter": {
    "hash": "34e7ff707ff286a3b130ff498e19cfe7511773b98306dec22b686ceb645d0b65"
   }
  }
 },
 "nbformat": 4,
 "nbformat_minor": 5
}
