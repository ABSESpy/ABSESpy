{
 "cells": [
  {
   "attachments": {},
   "cell_type": "markdown",
   "metadata": {},
   "source": [
    "# Actors' operation"
   ]
  },
  {
   "cell_type": "code",
   "execution_count": 1,
   "metadata": {},
   "outputs": [],
   "source": [
    "%load_ext autoreload\n",
    "%autoreload 2\n",
    "\n",
    "import os\n",
    "os.chdir(\"../..\")"
   ]
  },
  {
   "attachments": {},
   "cell_type": "markdown",
   "metadata": {},
   "source": [
    "## Manipulate an individual `Actor`"
   ]
  },
  {
   "cell_type": "code",
   "execution_count": 2,
   "metadata": {},
   "outputs": [
    {
     "data": {
      "text/plain": [
       "'Actor'"
      ]
     },
     "execution_count": 2,
     "metadata": {},
     "output_type": "execute_result"
    }
   ],
   "source": [
    "\n",
    "from tests.create_tested_instances import simple_main_model\n",
    "from abses.actor import Actor\n",
    "\n",
    "# create a testing model\n",
    "model = simple_main_model('actor_example')\n",
    "\n",
    "# actor creation should be bounded with a model.\n",
    "actor = Actor(model)\n",
    "\n",
    "# actor has a class-property, -its breed, class's name.\n",
    "actor.breed  # same as `actor.__class__.__name__`"
   ]
  },
  {
   "cell_type": "code",
   "execution_count": 3,
   "metadata": {},
   "outputs": [
    {
     "data": {
      "text/plain": [
       "False"
      ]
     },
     "execution_count": 3,
     "metadata": {},
     "output_type": "execute_result"
    }
   ],
   "source": [
    "# In an initial condition, this actor is not on the earth...\n",
    "actor.on_earth"
   ]
  },
  {
   "cell_type": "code",
   "execution_count": 4,
   "metadata": {},
   "outputs": [
    {
     "data": {
      "text/plain": [
       "(4, 4)"
      ]
     },
     "execution_count": 4,
     "metadata": {},
     "output_type": "execute_result"
    },
    {
     "data": {
      "text/plain": [
       "True"
      ]
     },
     "execution_count": 4,
     "metadata": {},
     "output_type": "execute_result"
    }
   ],
   "source": [
    "# however, we can let it settle down on a specific position of the earth.\n",
    "pos = (4, 4)\n",
    "settled = actor.settle_down(position=pos)\n",
    "\n",
    "actor.pos  # position of the actor now: (4, 4)\n",
    "actor.on_earth  # True"
   ]
  },
  {
   "attachments": {},
   "cell_type": "markdown",
   "metadata": {},
   "source": [
    "*Note that `Actor`s created in this way is not accessible from the model, unless we add it into the model.*"
   ]
  },
  {
   "cell_type": "code",
   "execution_count": 5,
   "metadata": {},
   "outputs": [
    {
     "data": {
      "text/plain": [
       "False"
      ]
     },
     "execution_count": 5,
     "metadata": {},
     "output_type": "execute_result"
    },
    {
     "data": {
      "text/plain": [
       "True"
      ]
     },
     "execution_count": 5,
     "metadata": {},
     "output_type": "execute_result"
    }
   ],
   "source": [
    "actor in model.agents  # False\n",
    "\n",
    "# `register` must be assigned with True, because it's a new breed for this model.\n",
    "model.agents.add(actor, register=True)\n",
    "\n",
    "actor in model.agents  # True"
   ]
  },
  {
   "attachments": {},
   "cell_type": "markdown",
   "metadata": {},
   "source": [
    "Actor is an `BaseObj` of the model, so it inherits [all of its properties](#TODO).\n"
   ]
  },
  {
   "cell_type": "code",
   "execution_count": 6,
   "metadata": {},
   "outputs": [
    {
     "data": {
      "text/plain": [
       "'actor'"
      ]
     },
     "execution_count": 6,
     "metadata": {},
     "output_type": "execute_result"
    },
    {
     "data": {
      "text/plain": [
       "'Actor'"
      ]
     },
     "execution_count": 6,
     "metadata": {},
     "output_type": "execute_result"
    },
    {
     "data": {
      "text/plain": [
       "'actor2'"
      ]
     },
     "execution_count": 6,
     "metadata": {},
     "output_type": "execute_result"
    }
   ],
   "source": [
    "# default, it's name is as same as its breed in lower case\n",
    "actor.name  # 'Actor'\n",
    "\n",
    "# if assigned name when creating, they will be different.\n",
    "actor2 = Actor(model, name='actor2')\n",
    "actor2.breed\n",
    "actor2.name"
   ]
  },
  {
   "attachments": {},
   "cell_type": "markdown",
   "metadata": {},
   "source": [
    "## Manipulate a group of `Actors`\n",
    "`ABSESpy` provides two different container of actors:\n",
    "- `AgentsContainer`: A unique `dictionary`-like class where all agents of the model are saving.\n",
    "- `ActorsList`: A `list`-like class where referring some actors temporally."
   ]
  },
  {
   "attachments": {},
   "cell_type": "markdown",
   "metadata": {},
   "source": [
    "### AgentsContainer\n",
    "\n"
   ]
  },
  {
   "attachments": {},
   "cell_type": "markdown",
   "metadata": {},
   "source": [
    "When the model is created, there is a unique `AgentsContainer` obj bounding. It saves agents by their breeds."
   ]
  },
  {
   "cell_type": "code",
   "execution_count": 7,
   "metadata": {},
   "outputs": [
    {
     "data": {
      "text/plain": [
       "abses.container.AgentsContainer"
      ]
     },
     "execution_count": 7,
     "metadata": {},
     "output_type": "execute_result"
    },
    {
     "data": {
      "text/plain": [
       "<AgentsContainer: (1)Actor>"
      ]
     },
     "execution_count": 7,
     "metadata": {},
     "output_type": "execute_result"
    },
    {
     "data": {
      "text/plain": [
       "('Actor',)"
      ]
     },
     "execution_count": 7,
     "metadata": {},
     "output_type": "execute_result"
    }
   ],
   "source": [
    "type(model.agents)\n",
    "model.agents  # only one actor is added now.\n",
    "\n",
    "model.agents.breeds  # breeds"
   ]
  },
  {
   "attachments": {},
   "cell_type": "markdown",
   "metadata": {},
   "source": [
    "Container makes creating actors much easier:"
   ]
  },
  {
   "cell_type": "code",
   "execution_count": 8,
   "metadata": {},
   "outputs": [
    {
     "data": {
      "text/plain": [
       "<AgentsContainer: (2)Actor; (1)Seller; (5)User>"
      ]
     },
     "execution_count": 8,
     "metadata": {},
     "output_type": "execute_result"
    }
   ],
   "source": [
    "# define a new breed of actor\n",
    "class Seller(Actor):\n",
    "    pass\n",
    "\n",
    "\n",
    "class User(Actor):\n",
    "    pass\n",
    "\n",
    "\n",
    "another_actor = model.agents.create(Actor)\n",
    "seller = model.agents.create(Seller)  # default creating one actor.\n",
    "users = model.agents.create(User, 5) # creating 5 actors\n",
    "\n",
    "model.agents\n"
   ]
  },
  {
   "attachments": {},
   "cell_type": "markdown",
   "metadata": {},
   "source": [
    "While `AgentsContainer` mainly provides a way to store, most of manipulations for actors are implemented in another data type: `ActorsList`. `AgentsContainer` also has many ways to convert existing agents to this data type:"
   ]
  },
  {
   "cell_type": "code",
   "execution_count": 9,
   "metadata": {},
   "outputs": [
    {
     "data": {
      "text/plain": [
       "<ActorsList: (2)Actor; (1)Seller; (5)User>"
      ]
     },
     "execution_count": 9,
     "metadata": {},
     "output_type": "execute_result"
    }
   ],
   "source": [
    "# generate all existing agents to an `ActorsList`.\n",
    "model.agents.to_list()"
   ]
  },
  {
   "cell_type": "code",
   "execution_count": 10,
   "metadata": {},
   "outputs": [
    {
     "data": {
      "text/plain": [
       "<ActorsList: (1)Seller>"
      ]
     },
     "execution_count": 10,
     "metadata": {},
     "output_type": "execute_result"
    },
    {
     "data": {
      "text/plain": [
       "<ActorsList: (1)Seller; (5)User>"
      ]
     },
     "execution_count": 10,
     "metadata": {},
     "output_type": "execute_result"
    }
   ],
   "source": [
    "# select specific breeds.\n",
    "model.agents.to_list(breeds='Seller')\n",
    "model.agents.to_list(breeds=['Seller', 'User'])"
   ]
  },
  {
   "cell_type": "code",
   "execution_count": 11,
   "metadata": {},
   "outputs": [
    {
     "data": {
      "text/plain": [
       "<ActorsList: (5)User>"
      ]
     },
     "execution_count": 11,
     "metadata": {},
     "output_type": "execute_result"
    }
   ],
   "source": [
    "# also accessible through attributes.\n",
    "model.agents.User"
   ]
  },
  {
   "attachments": {},
   "cell_type": "markdown",
   "metadata": {},
   "source": [
    "### `ActorsList`\n",
    "\n",
    "`ActorsList` is a collection of `Actors`, facilitate to manipulate them at a batch."
   ]
  },
  {
   "cell_type": "code",
   "execution_count": 12,
   "metadata": {},
   "outputs": [
    {
     "data": {
      "text/plain": [
       "<ActorsList: (2)Actor; (1)Seller; (2)User>"
      ]
     },
     "execution_count": 12,
     "metadata": {},
     "output_type": "execute_result"
    },
    {
     "data": {
      "text/plain": [
       "True"
      ]
     },
     "execution_count": 12,
     "metadata": {},
     "output_type": "execute_result"
    }
   ],
   "source": [
    "lst = model.agents.to_list()\n",
    "actor = lst[0]  # indexing -> an `Actor`\n",
    "five_actors = lst[:5]  # slice -> another `ActorsList` object\n",
    "\n",
    "five_actors  # (2)Actor; (1)Seller; (2)User\n",
    "# five_actors contains this actor\n",
    "actor in five_actors"
   ]
  },
  {
   "attachments": {},
   "cell_type": "markdown",
   "metadata": {},
   "source": [
    "Convert the list to a dictionary: `{breed: ActorsList}`"
   ]
  },
  {
   "cell_type": "code",
   "execution_count": 13,
   "metadata": {},
   "outputs": [
    {
     "data": {
      "text/plain": [
       "{'Actor': <ActorsList: (2)Actor>,\n",
       " 'Seller': <ActorsList: (1)Seller>,\n",
       " 'User': <ActorsList: (2)User>}"
      ]
     },
     "execution_count": 13,
     "metadata": {},
     "output_type": "execute_result"
    }
   ],
   "source": [
    "# sort up mixed actors.\n",
    "five_actors.to_dict()"
   ]
  },
  {
   "attachments": {},
   "cell_type": "markdown",
   "metadata": {},
   "source": [
    "Select by conditions."
   ]
  },
  {
   "cell_type": "code",
   "execution_count": 14,
   "metadata": {},
   "outputs": [
    {
     "data": {
      "text/plain": [
       "<ActorsList: (2)User>"
      ]
     },
     "execution_count": 14,
     "metadata": {},
     "output_type": "execute_result"
    },
    {
     "data": {
      "text/plain": [
       "<ActorsList: (1)Actor; (1)User>"
      ]
     },
     "execution_count": 14,
     "metadata": {},
     "output_type": "execute_result"
    }
   ],
   "source": [
    "five_actors.select(selection='User')  # same as .to_dict()['User']\n",
    "\n",
    "# select the first and the fourth actors\n",
    "five_actors.select(selection=[True, False, False, True, False])"
   ]
  },
  {
   "attachments": {},
   "cell_type": "markdown",
   "metadata": {},
   "source": [
    "Actors' attributes are accessible as `np.ndarray`."
   ]
  },
  {
   "cell_type": "code",
   "execution_count": 15,
   "metadata": {},
   "outputs": [
    {
     "data": {
      "text/plain": [
       "array([5, 3, 6, 9, 8])"
      ]
     },
     "execution_count": 15,
     "metadata": {},
     "output_type": "execute_result"
    },
    {
     "data": {
      "text/plain": [
       "array([5, 3, 6, 9, 8])"
      ]
     },
     "execution_count": 15,
     "metadata": {},
     "output_type": "execute_result"
    }
   ],
   "source": [
    "# get each Actor(object)'s id.\n",
    "five_actors.array('id')\n",
    "\n",
    "# alternative way to get this attribute.\n",
    "five_actors.id"
   ]
  },
  {
   "attachments": {},
   "cell_type": "markdown",
   "metadata": {},
   "source": [
    "You can access all actors in this list with `id >= 7` by:"
   ]
  },
  {
   "cell_type": "code",
   "execution_count": 16,
   "metadata": {},
   "outputs": [
    {
     "data": {
      "text/plain": [
       "array([9, 8])"
      ]
     },
     "execution_count": 16,
     "metadata": {},
     "output_type": "execute_result"
    }
   ],
   "source": [
    "better_guys = five_actors.better(metric='id', than=7)\n",
    "better_guys.id"
   ]
  },
  {
   "cell_type": "markdown",
   "metadata": {},
   "source": [
    "Split the list in the second, third places: `[1, 2, | 3, | 4, 5]`"
   ]
  },
  {
   "cell_type": "code",
   "execution_count": 17,
   "metadata": {},
   "outputs": [
    {
     "data": {
      "text/plain": [
       "[array([Actor (Obj 5), Actor (Obj 3)], dtype=object),\n",
       " array([Seller (Obj 6)], dtype=object),\n",
       " array([User (Obj 9), User (Obj 8)], dtype=object)]"
      ]
     },
     "execution_count": 17,
     "metadata": {},
     "output_type": "execute_result"
    }
   ],
   "source": [
    "five_actors.split([2, 3])"
   ]
  }
 ],
 "metadata": {
  "kernelspec": {
   "display_name": "ABSES_311",
   "language": "python",
   "name": "python3"
  },
  "language_info": {
   "codemirror_mode": {
    "name": "ipython",
    "version": 3
   },
   "file_extension": ".py",
   "mimetype": "text/x-python",
   "name": "python",
   "nbconvert_exporter": "python",
   "pygments_lexer": "ipython3",
   "version": "3.11.0"
  },
  "orig_nbformat": 4,
  "vscode": {
   "interpreter": {
    "hash": "34e7ff707ff286a3b130ff498e19cfe7511773b98306dec22b686ceb645d0b65"
   }
  }
 },
 "nbformat": 4,
 "nbformat_minor": 2
}
