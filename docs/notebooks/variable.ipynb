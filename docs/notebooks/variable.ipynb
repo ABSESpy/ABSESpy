{
 "cells": [
  {
   "cell_type": "markdown",
   "id": "0749973f-3a77-487b-a564-d28feec36d40",
   "metadata": {},
   "source": [
    "# Handling Variable"
   ]
  },
  {
   "cell_type": "markdown",
   "id": "b55d6034-b5a8-4600-9e0f-beefaa7b7958",
   "metadata": {},
   "source": [
    "This notebook shows how to hanlde the `Variable` class.\n",
    "\n",
    "1. `Variable` automatically save the history changes in the past [`MAXLEN` (defaults 5)] simulation steps.\n",
    "2. `Variable` can be using in calculation or as actors' actions evaluation criteria with its current value / memorable values.\n",
    "3. `Variable` can be linked to dataset files so that updated during time steps going on.\n",
    "4. Keep units if necessary, automatically transfer to in calculations to avoid potential unit errors (using [pint](#) packaeg.)"
   ]
  },
  {
   "cell_type": "code",
   "execution_count": 1,
   "id": "a05fe581-7f54-4364-bdde-d0477687a683",
   "metadata": {
    "execution": {
     "iopub.execute_input": "2023-01-13T12:24:29.511931Z",
     "iopub.status.busy": "2023-01-13T12:24:29.511429Z",
     "iopub.status.idle": "2023-01-13T12:24:29.631284Z",
     "shell.execute_reply": "2023-01-13T12:24:29.630471Z",
     "shell.execute_reply.started": "2023-01-13T12:24:29.511902Z"
    },
    "tags": []
   },
   "outputs": [
    {
     "data": {
      "text/plain": [
       "Period('2020', 'A-DEC')"
      ]
     },
     "execution_count": 1,
     "metadata": {},
     "output_type": "execute_result"
    }
   ],
   "source": [
    "import pandas as pd\n",
    "\n",
    "pd.Period(2021, freq='Y') - 1"
   ]
  },
  {
   "cell_type": "code",
   "execution_count": 4,
   "id": "e63baa42-4619-4c57-93bd-63d61d85c11c",
   "metadata": {
    "execution": {
     "iopub.execute_input": "2023-01-13T14:42:20.694161Z",
     "iopub.status.busy": "2023-01-13T14:42:20.693901Z",
     "iopub.status.idle": "2023-01-13T14:42:20.698459Z",
     "shell.execute_reply": "2023-01-13T14:42:20.697895Z",
     "shell.execute_reply.started": "2023-01-13T14:42:20.694141Z"
    },
    "tags": []
   },
   "outputs": [
    {
     "name": "stdout",
     "output_type": "stream",
     "text": [
      "<property object at 0x118a7c8b0>\n"
     ]
    }
   ],
   "source": [
    "class A:\n",
    "    @classmethod\n",
    "    def add_func(cls, name):\n",
    "\n",
    "        def function():\n",
    "            cls.value = name\n",
    "\n",
    "        setter = property(name).setter(function)\n",
    "        print(setter)\n",
    "        setattr(self.__class__, name, setter)\n",
    "\n",
    "a = A()\n",
    "a.add_func('test')"
   ]
  },
  {
   "cell_type": "code",
   "execution_count": 3,
   "id": "023189d2-e3d0-4359-905f-f1f4d9504944",
   "metadata": {
    "execution": {
     "iopub.execute_input": "2023-01-13T14:41:45.324013Z",
     "iopub.status.busy": "2023-01-13T14:41:45.323743Z",
     "iopub.status.idle": "2023-01-13T14:41:45.488902Z",
     "shell.execute_reply": "2023-01-13T14:41:45.487957Z",
     "shell.execute_reply.started": "2023-01-13T14:41:45.323993Z"
    },
    "tags": []
   },
   "outputs": [
    {
     "ename": "TypeError",
     "evalue": "'str' object is not callable",
     "output_type": "error",
     "traceback": [
      "\u001b[0;31m---------------------------------------------------------------------------\u001b[0m",
      "\u001b[0;31mTypeError\u001b[0m                                 Traceback (most recent call last)",
      "Cell \u001b[0;32mIn[3], line 1\u001b[0m\n\u001b[0;32m----> 1\u001b[0m \u001b[43ma\u001b[49m\u001b[38;5;241;43m.\u001b[39;49m\u001b[43mtest\u001b[49m\n",
      "\u001b[0;31mTypeError\u001b[0m: 'str' object is not callable"
     ]
    }
   ],
   "source": [
    "a."
   ]
  }
 ],
 "metadata": {
  "citation-manager": {
   "items": {}
  },
  "kernelspec": {
   "display_name": "Python 3 (ipykernel)",
   "language": "python",
   "name": "python3"
  },
  "language_info": {
   "codemirror_mode": {
    "name": "ipython",
    "version": 3
   },
   "file_extension": ".py",
   "mimetype": "text/x-python",
   "name": "python",
   "nbconvert_exporter": "python",
   "pygments_lexer": "ipython3",
   "version": "3.11.0"
  },
  "vscode": {
   "interpreter": {
    "hash": "34e7ff707ff286a3b130ff498e19cfe7511773b98306dec22b686ceb645d0b65"
   }
  }
 },
 "nbformat": 4,
 "nbformat_minor": 5
}
