{
 "cells": [
  {
   "cell_type": "markdown",
   "id": "0749973f-3a77-487b-a564-d28feec36d40",
   "metadata": {},
   "source": [
    "# Handling Variable"
   ]
  },
  {
   "cell_type": "markdown",
   "id": "b55d6034-b5a8-4600-9e0f-beefaa7b7958",
   "metadata": {},
   "source": [
    "This notebook shows how to hanlde the `Variable` class.\n",
    "\n",
    "1. `Variable` automatically save the history changes in the past [`MAXLEN` (defaults 5)] simulation steps.\n",
    "2. `Variable` can be using in calculation or as actors' actions evaluation criteria with its current value / memorable values.\n",
    "3. `Variable` can be linked to dataset files so that updated during time steps going on.\n",
    "4. Keep units if necessary, automatically transfer to in calculations to avoid potential unit errors (using [pint](#) packaeg.)"
   ]
  },
  {
   "cell_type": "code",
   "execution_count": 8,
   "id": "a05fe581-7f54-4364-bdde-d0477687a683",
   "metadata": {
    "execution": {
     "iopub.execute_input": "2023-01-15T11:37:24.058251Z",
     "iopub.status.busy": "2023-01-15T11:37:24.057972Z",
     "iopub.status.idle": "2023-01-15T11:37:24.062893Z",
     "shell.execute_reply": "2023-01-15T11:37:24.062288Z",
     "shell.execute_reply.started": "2023-01-15T11:37:24.058229Z"
    },
    "tags": []
   },
   "outputs": [
    {
     "data": {
      "text/plain": [
       "Period('2021', 'A-DEC')"
      ]
     },
     "execution_count": 8,
     "metadata": {},
     "output_type": "execute_result"
    }
   ],
   "source": [
    "import pandas as pd\n",
    "\n",
    "a = pd.Period(2021, freq='Y')\n",
    "a"
   ]
  },
  {
   "cell_type": "code",
   "execution_count": 9,
   "id": "e63baa42-4619-4c57-93bd-63d61d85c11c",
   "metadata": {
    "execution": {
     "iopub.execute_input": "2023-01-15T11:37:24.256056Z",
     "iopub.status.busy": "2023-01-15T11:37:24.255804Z",
     "iopub.status.idle": "2023-01-15T11:37:24.259726Z",
     "shell.execute_reply": "2023-01-15T11:37:24.259089Z",
     "shell.execute_reply.started": "2023-01-15T11:37:24.256038Z"
    },
    "tags": []
   },
   "outputs": [
    {
     "data": {
      "text/plain": [
       "Period('2022', 'A-DEC')"
      ]
     },
     "execution_count": 9,
     "metadata": {},
     "output_type": "execute_result"
    }
   ],
   "source": [
    "a += 1\n",
    "a"
   ]
  },
  {
   "cell_type": "code",
   "execution_count": 10,
   "id": "023189d2-e3d0-4359-905f-f1f4d9504944",
   "metadata": {
    "execution": {
     "iopub.execute_input": "2023-01-15T11:37:24.414970Z",
     "iopub.status.busy": "2023-01-15T11:37:24.414491Z",
     "iopub.status.idle": "2023-01-15T11:37:24.418868Z",
     "shell.execute_reply": "2023-01-15T11:37:24.418229Z",
     "shell.execute_reply.started": "2023-01-15T11:37:24.414948Z"
    },
    "tags": []
   },
   "outputs": [
    {
     "data": {
      "text/plain": [
       "52"
      ]
     },
     "execution_count": 10,
     "metadata": {},
     "output_type": "execute_result"
    }
   ],
   "source": [
    "a.ordinal"
   ]
  },
  {
   "cell_type": "code",
   "execution_count": 21,
   "id": "e63e5638-5d04-4ac3-abf2-ea4944d74f4a",
   "metadata": {
    "execution": {
     "iopub.execute_input": "2023-01-15T11:40:22.762668Z",
     "iopub.status.busy": "2023-01-15T11:40:22.762389Z",
     "iopub.status.idle": "2023-01-15T11:40:22.770093Z",
     "shell.execute_reply": "2023-01-15T11:40:22.769426Z",
     "shell.execute_reply.started": "2023-01-15T11:40:22.762635Z"
    },
    "tags": []
   },
   "outputs": [
    {
     "data": {
      "text/plain": [
       "Timestamp('2022-01-31 00:00:00')"
      ]
     },
     "execution_count": 21,
     "metadata": {},
     "output_type": "execute_result"
    },
    {
     "data": {
      "text/plain": [
       "Timestamp('2022-12-31 23:59:59.999999999')"
      ]
     },
     "execution_count": 21,
     "metadata": {},
     "output_type": "execute_result"
    },
    {
     "data": {
      "text/plain": [
       "Period('2022-12', 'M')"
      ]
     },
     "execution_count": 21,
     "metadata": {},
     "output_type": "execute_result"
    }
   ],
   "source": [
    "a.to_timestamp('M', 'start')\n",
    "a.to_timestamp('M', 'end')\n"
   ]
  },
  {
   "cell_type": "code",
   "execution_count": 25,
   "id": "3338bb1f-4805-41eb-ae22-ee6344d1d338",
   "metadata": {
    "execution": {
     "iopub.execute_input": "2023-01-15T11:40:59.550995Z",
     "iopub.status.busy": "2023-01-15T11:40:59.550742Z",
     "iopub.status.idle": "2023-01-15T11:40:59.555269Z",
     "shell.execute_reply": "2023-01-15T11:40:59.554725Z",
     "shell.execute_reply.started": "2023-01-15T11:40:59.550977Z"
    },
    "tags": []
   },
   "outputs": [
    {
     "data": {
      "text/plain": [
       "Period('2022-01', 'M')"
      ]
     },
     "execution_count": 25,
     "metadata": {},
     "output_type": "execute_result"
    }
   ],
   "source": [
    "a.asfreq('M', 'start')"
   ]
  }
 ],
 "metadata": {
  "citation-manager": {
   "items": {}
  },
  "kernelspec": {
   "display_name": "Python 3 (ipykernel)",
   "language": "python",
   "name": "python3"
  },
  "language_info": {
   "codemirror_mode": {
    "name": "ipython",
    "version": 3
   },
   "file_extension": ".py",
   "mimetype": "text/x-python",
   "name": "python",
   "nbconvert_exporter": "python",
   "pygments_lexer": "ipython3",
   "version": "3.11.0 | packaged by conda-forge | (main, Oct 25 2022, 06:24:51) [Clang 14.0.4 ]"
  },
  "vscode": {
   "interpreter": {
    "hash": "34e7ff707ff286a3b130ff498e19cfe7511773b98306dec22b686ceb645d0b65"
   }
  }
 },
 "nbformat": 4,
 "nbformat_minor": 5
}
