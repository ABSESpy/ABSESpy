{
 "cells": [
  {
   "cell_type": "markdown",
   "id": "2171a091-4829-4943-9178-aa5c721283ce",
   "metadata": {},
   "source": [
    "# Apply Cognition, Contagion and behavioural Response (CCR framework) with `ABSESpy`"
   ]
  },
  {
   "cell_type": "markdown",
   "id": "37470041-d38d-4c3e-a23c-5419344045d4",
   "metadata": {},
   "source": [
    "\n",
    "**Abstract:**\n",
    "This framework consisted by three parts:\n",
    "- **Cognition** represents the human processing of information around the ecological system.\n",
    "- **Contagion** represents spreading information, beliefs and behaviour through social networks.\n",
    "- **Response** is the resultant behaviour or action.\n",
    "\n",
    "**WorkFlow:**\n",
    "\n",
    "To apply this cognition-contagion-response (CCR) human behaviour modelling framework, `ABSESpy`'s users can:\n",
    "\n",
    "1. define cognition functions for actors (agents); \n",
    "2. generate a network in human modules;\n",
    "3. in a human model, define [action arena](#TODO) functions of actors' interactions or responses. "
   ]
  },
  {
   "cell_type": "code",
   "execution_count": 1,
   "id": "3fd1942b-3574-4f81-b37a-578ba66692ce",
   "metadata": {
    "execution": {
     "iopub.execute_input": "2023-01-18T14:17:26.651319Z",
     "iopub.status.busy": "2023-01-18T14:17:26.650274Z",
     "iopub.status.idle": "2023-01-18T14:17:27.897727Z",
     "shell.execute_reply": "2023-01-18T14:17:27.896947Z",
     "shell.execute_reply.started": "2023-01-18T14:17:26.651292Z"
    },
    "tags": []
   },
   "outputs": [],
   "source": [
    "%load_ext autoreload\n",
    "%autoreload 2\n",
    "import pandas as pd\n",
    "import numpy as np\n",
    "import seaborn as sns\n",
    "from matplotlib import pyplot as plt\n",
    "\n",
    "import sys\n",
    "import os\n",
    "\n",
    "os.chdir(\"../..\")\n",
    "%matplotlib inline\n",
    "%config InlineBackend.figure_format = 'retina'\n",
    "plt.rcParams['axes.facecolor'] = 'white'\n"
   ]
  },
  {
   "cell_type": "code",
   "execution_count": 4,
   "id": "fe505867",
   "metadata": {},
   "outputs": [
    {
     "data": {
      "text/plain": [
       "{1, 2}"
      ]
     },
     "execution_count": 4,
     "metadata": {},
     "output_type": "execute_result"
    }
   ],
   "source": [
    "a = set([3, 4])\n",
    "b = set([1, 2, 3])\n",
    "\n",
    "b - a"
   ]
  },
  {
   "cell_type": "code",
   "execution_count": 2,
   "id": "7bf49d6d-675b-4d66-b807-310181ac569a",
   "metadata": {
    "execution": {
     "iopub.execute_input": "2023-01-18T14:17:27.900208Z",
     "iopub.status.busy": "2023-01-18T14:17:27.899829Z",
     "iopub.status.idle": "2023-01-18T14:17:28.550825Z",
     "shell.execute_reply": "2023-01-18T14:17:28.550251Z",
     "shell.execute_reply.started": "2023-01-18T14:17:27.900187Z"
    },
    "tags": []
   },
   "outputs": [],
   "source": [
    "from tests.create_tested_instances import simple_main_model\n",
    "from abses.sequences import ActorsList\n",
    "from abses.actor import Actor\n",
    "\n",
    "import numpy as np\n",
    "class Farmer(Actor):\n",
    "    pass\n",
    "\n",
    "\n",
    "class Admin(Actor):\n",
    "    pass\n",
    "\n",
    "\n",
    "\n",
    "model = simple_main_model(simple_main_model)\n",
    "a_farmer = Farmer(model)\n",
    "others = ActorsList(model, 5, Farmer)\n",
    "\n",
    "# np.array([0.0, 0.1, 0.2, 0.3, 0.4])\n",
    "for i, farmer in enumerate(others):\n",
    "    farmer.metric = i / 10\n",
    "    farmer.test = i\n",
    "a_farmer.metric = 0.1\n",
    "\n",
    "better = others.better(\"metric\", than=a_farmer)\n",
    "differences = others.diff('metric', a_farmer)"
   ]
  },
  {
   "cell_type": "code",
   "execution_count": 11,
   "id": "3ce1fe64-b872-4276-8cb6-c78814538140",
   "metadata": {
    "execution": {
     "iopub.execute_input": "2023-01-18T14:21:25.696047Z",
     "iopub.status.busy": "2023-01-18T14:21:25.695828Z",
     "iopub.status.idle": "2023-01-18T14:21:25.799163Z",
     "shell.execute_reply": "2023-01-18T14:21:25.798529Z",
     "shell.execute_reply.started": "2023-01-18T14:21:25.696023Z"
    },
    "tags": []
   },
   "outputs": [
    {
     "data": {
      "text/plain": [
       "[]"
      ]
     },
     "execution_count": 11,
     "metadata": {},
     "output_type": "execute_result"
    }
   ],
   "source": [
    "selection = (differences > 0)\n",
    "selected = [a for a, s in zip(others, list(selection)) if s is True]\n",
    "selected"
   ]
  },
  {
   "cell_type": "code",
   "execution_count": 9,
   "id": "d2e6e744-1f4d-42d8-bcbc-b0f7cc2ee292",
   "metadata": {
    "execution": {
     "iopub.execute_input": "2023-01-18T14:20:02.485237Z",
     "iopub.status.busy": "2023-01-18T14:20:02.485017Z",
     "iopub.status.idle": "2023-01-18T14:20:02.650078Z",
     "shell.execute_reply": "2023-01-18T14:20:02.649315Z",
     "shell.execute_reply.started": "2023-01-18T14:20:02.485214Z"
    },
    "tags": []
   },
   "outputs": [
    {
     "ename": "NameError",
     "evalue": "name 's' is not defined",
     "output_type": "error",
     "traceback": [
      "\u001b[0;31m---------------------------------------------------------------------------\u001b[0m",
      "\u001b[0;31mNameError\u001b[0m                                 Traceback (most recent call last)",
      "Cell \u001b[0;32mIn[9], line 1\u001b[0m\n\u001b[0;32m----> 1\u001b[0m \u001b[38;5;28mtype\u001b[39m(\u001b[43ms\u001b[49m)\n",
      "\u001b[0;31mNameError\u001b[0m: name 's' is not defined"
     ]
    }
   ],
   "source": [
    "type(s)"
   ]
  },
  {
   "cell_type": "code",
   "execution_count": 6,
   "id": "5bb8a503-fda1-4fcd-ab6e-cbedc51dbc37",
   "metadata": {
    "execution": {
     "iopub.execute_input": "2023-01-18T11:02:59.873885Z",
     "iopub.status.busy": "2023-01-18T11:02:59.873659Z",
     "iopub.status.idle": "2023-01-18T11:02:59.938384Z",
     "shell.execute_reply": "2023-01-18T11:02:59.937926Z",
     "shell.execute_reply.started": "2023-01-18T11:02:59.873863Z"
    },
    "tags": []
   },
   "outputs": [
    {
     "data": {
      "text/plain": [
       "<abses.boundary.Boundaries at 0x16c563690>"
      ]
     },
     "execution_count": 6,
     "metadata": {},
     "output_type": "execute_result"
    }
   ],
   "source": [
    "model.nature.generate_boundary(model.nature.params['world'])"
   ]
  },
  {
   "cell_type": "code",
   "execution_count": 3,
   "id": "2fd34d0b-6a6f-425c-a172-3c575ac752a2",
   "metadata": {
    "execution": {
     "iopub.execute_input": "2023-01-18T09:19:44.526233Z",
     "iopub.status.busy": "2023-01-18T09:19:44.526036Z",
     "iopub.status.idle": "2023-01-18T09:19:44.586309Z",
     "shell.execute_reply": "2023-01-18T09:19:44.585500Z",
     "shell.execute_reply.started": "2023-01-18T09:19:44.526212Z"
    },
    "tags": []
   },
   "outputs": [
    {
     "data": {
      "text/plain": [
       "{'t': [0], 'a': [1], 'b': [0.5]}"
      ]
     },
     "execution_count": 3,
     "metadata": {},
     "output_type": "execute_result"
    }
   ],
   "source": [
    "module.log"
   ]
  },
  {
   "cell_type": "code",
   "execution_count": 4,
   "id": "3d5c894f-4760-4d5e-829f-5387c75c3941",
   "metadata": {
    "execution": {
     "iopub.execute_input": "2023-01-18T09:35:41.112400Z",
     "iopub.status.busy": "2023-01-18T09:35:41.112207Z",
     "iopub.status.idle": "2023-01-18T09:35:41.475529Z",
     "shell.execute_reply": "2023-01-18T09:35:41.474898Z",
     "shell.execute_reply.started": "2023-01-18T09:35:41.112382Z"
    },
    "tags": []
   },
   "outputs": [
    {
     "data": {
      "text/plain": [
       "{'e', 'g', 'i', 'n', 's', 't'}"
      ]
     },
     "execution_count": 4,
     "metadata": {},
     "output_type": "execute_result"
    }
   ],
   "source": [
    "set('testing')"
   ]
  },
  {
   "cell_type": "code",
   "execution_count": 5,
   "id": "d9937ec2-f33d-4024-b695-289f78a33dbf",
   "metadata": {
    "execution": {
     "iopub.execute_input": "2023-01-18T08:36:21.416666Z",
     "iopub.status.busy": "2023-01-18T08:36:21.416553Z",
     "iopub.status.idle": "2023-01-18T08:36:21.474489Z",
     "shell.execute_reply": "2023-01-18T08:36:21.474015Z",
     "shell.execute_reply.started": "2023-01-18T08:36:21.416651Z"
    },
    "tags": []
   },
   "outputs": [
    {
     "data": {
      "text/plain": [
       "[Period('2001', 'A-DEC'), Period('2002', 'A-DEC'), Period('2003', 'A-DEC')]"
      ]
     },
     "execution_count": 5,
     "metadata": {},
     "output_type": "execute_result"
    }
   ],
   "source": [
    "module.time.time"
   ]
  },
  {
   "cell_type": "code",
   "execution_count": 6,
   "id": "e134b47c-a410-44fc-b51c-7040fdef8190",
   "metadata": {
    "execution": {
     "iopub.execute_input": "2023-01-18T08:36:21.475252Z",
     "iopub.status.busy": "2023-01-18T08:36:21.475136Z",
     "iopub.status.idle": "2023-01-18T08:36:21.531851Z",
     "shell.execute_reply": "2023-01-18T08:36:21.531154Z",
     "shell.execute_reply.started": "2023-01-18T08:36:21.475236Z"
    },
    "tags": []
   },
   "outputs": [
    {
     "data": {
      "text/plain": [
       "[Period('2001', 'A-DEC'), Period('2002', 'A-DEC'), Period('2003', 'A-DEC')]"
      ]
     },
     "execution_count": 6,
     "metadata": {},
     "output_type": "execute_result"
    }
   ],
   "source": [
    "module.time._time"
   ]
  },
  {
   "cell_type": "code",
   "execution_count": 15,
   "id": "90b916bd-7ac6-4533-8c27-5c5f1a289e7c",
   "metadata": {
    "execution": {
     "iopub.execute_input": "2023-01-18T08:40:42.573682Z",
     "iopub.status.busy": "2023-01-18T08:40:42.573468Z",
     "iopub.status.idle": "2023-01-18T08:40:42.634564Z",
     "shell.execute_reply": "2023-01-18T08:40:42.634049Z",
     "shell.execute_reply.started": "2023-01-18T08:40:42.573663Z"
    },
    "tags": []
   },
   "outputs": [
    {
     "data": {
      "text/plain": [
       "PeriodIndex(['2000', '2001', '2002', '2003'], dtype='period[A-DEC]')"
      ]
     },
     "execution_count": 15,
     "metadata": {},
     "output_type": "execute_result"
    }
   ],
   "source": [
    "pd.period_range(start=2000, end=2003, freq='Y')"
   ]
  },
  {
   "cell_type": "code",
   "execution_count": 16,
   "id": "531831ea-efea-4b4f-91fe-d2631fb5357e",
   "metadata": {
    "execution": {
     "iopub.execute_input": "2023-01-18T08:40:46.841284Z",
     "iopub.status.busy": "2023-01-18T08:40:46.841044Z",
     "iopub.status.idle": "2023-01-18T08:40:46.907942Z",
     "shell.execute_reply": "2023-01-18T08:40:46.907275Z",
     "shell.execute_reply.started": "2023-01-18T08:40:46.841259Z"
    },
    "tags": []
   },
   "outputs": [
    {
     "data": {
      "text/plain": [
       "array([ True,  True,  True])"
      ]
     },
     "execution_count": 16,
     "metadata": {},
     "output_type": "execute_result"
    }
   ],
   "source": [
    "module.output.index == pd.period_range(start=2001, end=2003, freq='Y')"
   ]
  }
 ],
 "metadata": {
  "citation-manager": {
   "items": {}
  },
  "kernelspec": {
   "display_name": "Python 3 (ipykernel)",
   "language": "python",
   "name": "python3"
  },
  "language_info": {
   "codemirror_mode": {
    "name": "ipython",
    "version": 3
   },
   "file_extension": ".py",
   "mimetype": "text/x-python",
   "name": "python",
   "nbconvert_exporter": "python",
   "pygments_lexer": "ipython3",
   "version": "3.11.0"
  },
  "vscode": {
   "interpreter": {
    "hash": "34e7ff707ff286a3b130ff498e19cfe7511773b98306dec22b686ceb645d0b65"
   }
  }
 },
 "nbformat": 4,
 "nbformat_minor": 5
}
