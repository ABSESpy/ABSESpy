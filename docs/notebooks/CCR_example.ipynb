{
 "cells": [
  {
   "cell_type": "markdown",
   "id": "2171a091-4829-4943-9178-aa5c721283ce",
   "metadata": {},
   "source": [
    "# Apply Cognition, Contagion and behavioural Response (CCR framework) with `ABSESpy`"
   ]
  },
  {
   "cell_type": "markdown",
   "id": "37470041-d38d-4c3e-a23c-5419344045d4",
   "metadata": {},
   "source": [
    "\n",
    "**Abstract:**\n",
    "This framework consisted by three parts:\n",
    "- **Cognition** represents the human processing of information around the ecological system.\n",
    "- **Contagion** represents spreading information, beliefs and behaviour through social networks.\n",
    "- **Response** is the resultant behaviour or action.\n",
    "\n",
    "**WorkFlow:**\n",
    "\n",
    "To apply this cognition-contagion-response (CCR) human behaviour modelling framework, `ABSESpy`'s users can:\n",
    "\n",
    "1. define cognition functions for actors (agents); \n",
    "2. generate a network in human modules;\n",
    "3. in a human model, define [action arena](#TODO) functions of actors' interactions or responses. "
   ]
  },
  {
   "cell_type": "markdown",
   "id": "047cc0f1-4a5c-44e0-bef1-bb878c44f9af",
   "metadata": {},
   "source": []
  },
  {
   "cell_type": "code",
   "execution_count": 1,
   "id": "3fd1942b-3574-4f81-b37a-578ba66692ce",
   "metadata": {
    "execution": {
     "iopub.execute_input": "2023-01-18T09:19:40.738089Z",
     "iopub.status.busy": "2023-01-18T09:19:40.737518Z",
     "iopub.status.idle": "2023-01-18T09:19:41.881628Z",
     "shell.execute_reply": "2023-01-18T09:19:41.880989Z",
     "shell.execute_reply.started": "2023-01-18T09:19:40.738057Z"
    },
    "tags": []
   },
   "outputs": [],
   "source": [
    "%load_ext autoreload\n",
    "%autoreload 2\n",
    "import pandas as pd\n",
    "import numpy as np\n",
    "import seaborn as sns\n",
    "from matplotlib import pyplot as plt\n",
    "\n",
    "import sys\n",
    "import os\n",
    "\n",
    "os.chdir(\"../..\")\n",
    "%matplotlib inline\n",
    "%config InlineBackend.figure_format = 'retina'\n",
    "plt.rcParams['axes.facecolor'] = 'white'\n"
   ]
  },
  {
   "cell_type": "code",
   "execution_count": 2,
   "id": "7bf49d6d-675b-4d66-b807-310181ac569a",
   "metadata": {
    "execution": {
     "iopub.execute_input": "2023-01-18T09:19:41.888436Z",
     "iopub.status.busy": "2023-01-18T09:19:41.887897Z",
     "iopub.status.idle": "2023-01-18T09:19:42.541840Z",
     "shell.execute_reply": "2023-01-18T09:19:42.541263Z",
     "shell.execute_reply.started": "2023-01-18T09:19:41.888416Z"
    },
    "tags": []
   },
   "outputs": [
    {
     "data": {
      "text/plain": [
       "2003"
      ]
     },
     "execution_count": 2,
     "metadata": {},
     "output_type": "execute_result"
    }
   ],
   "source": [
    "from tests.create_tested_instances import simple_main_model\n",
    "from abses.modules import Module\n",
    "\n",
    "TO_RECORD = [\"a\", \"b\"]\n",
    "TO_REPORT = [\"b\", \"c\"]\n",
    "\n",
    "model = simple_main_model(simple_main_model)\n",
    "module = Module(model=model, name=\"tested_module\")\n",
    "\n",
    "module.a = 1\n",
    "module.b = 0.5\n",
    "module.c = 'testing'\n",
    "\n",
    "module.params = {\n",
    "    'open': True,\n",
    "    'record': TO_RECORD,\n",
    "    'report': TO_REPORT,\n",
    "}\n",
    "module._after_parsing()\n",
    "model.time_go(steps=3)"
   ]
  },
  {
   "cell_type": "code",
   "execution_count": 3,
   "id": "2fd34d0b-6a6f-425c-a172-3c575ac752a2",
   "metadata": {
    "execution": {
     "iopub.execute_input": "2023-01-18T09:19:44.526233Z",
     "iopub.status.busy": "2023-01-18T09:19:44.526036Z",
     "iopub.status.idle": "2023-01-18T09:19:44.586309Z",
     "shell.execute_reply": "2023-01-18T09:19:44.585500Z",
     "shell.execute_reply.started": "2023-01-18T09:19:44.526212Z"
    },
    "tags": []
   },
   "outputs": [
    {
     "data": {
      "text/plain": [
       "{'t': [0], 'a': [1], 'b': [0.5]}"
      ]
     },
     "execution_count": 3,
     "metadata": {},
     "output_type": "execute_result"
    }
   ],
   "source": [
    "module.log"
   ]
  },
  {
   "cell_type": "code",
   "execution_count": 4,
   "id": "3d5c894f-4760-4d5e-829f-5387c75c3941",
   "metadata": {
    "execution": {
     "iopub.execute_input": "2023-01-18T09:35:41.112400Z",
     "iopub.status.busy": "2023-01-18T09:35:41.112207Z",
     "iopub.status.idle": "2023-01-18T09:35:41.475529Z",
     "shell.execute_reply": "2023-01-18T09:35:41.474898Z",
     "shell.execute_reply.started": "2023-01-18T09:35:41.112382Z"
    },
    "tags": []
   },
   "outputs": [
    {
     "data": {
      "text/plain": [
       "{'e', 'g', 'i', 'n', 's', 't'}"
      ]
     },
     "execution_count": 4,
     "metadata": {},
     "output_type": "execute_result"
    }
   ],
   "source": [
    "set('testing')"
   ]
  },
  {
   "cell_type": "code",
   "execution_count": 5,
   "id": "d9937ec2-f33d-4024-b695-289f78a33dbf",
   "metadata": {
    "execution": {
     "iopub.execute_input": "2023-01-18T08:36:21.416666Z",
     "iopub.status.busy": "2023-01-18T08:36:21.416553Z",
     "iopub.status.idle": "2023-01-18T08:36:21.474489Z",
     "shell.execute_reply": "2023-01-18T08:36:21.474015Z",
     "shell.execute_reply.started": "2023-01-18T08:36:21.416651Z"
    },
    "tags": []
   },
   "outputs": [
    {
     "data": {
      "text/plain": [
       "[Period('2001', 'A-DEC'), Period('2002', 'A-DEC'), Period('2003', 'A-DEC')]"
      ]
     },
     "execution_count": 5,
     "metadata": {},
     "output_type": "execute_result"
    }
   ],
   "source": [
    "module.time.time"
   ]
  },
  {
   "cell_type": "code",
   "execution_count": 6,
   "id": "e134b47c-a410-44fc-b51c-7040fdef8190",
   "metadata": {
    "execution": {
     "iopub.execute_input": "2023-01-18T08:36:21.475252Z",
     "iopub.status.busy": "2023-01-18T08:36:21.475136Z",
     "iopub.status.idle": "2023-01-18T08:36:21.531851Z",
     "shell.execute_reply": "2023-01-18T08:36:21.531154Z",
     "shell.execute_reply.started": "2023-01-18T08:36:21.475236Z"
    },
    "tags": []
   },
   "outputs": [
    {
     "data": {
      "text/plain": [
       "[Period('2001', 'A-DEC'), Period('2002', 'A-DEC'), Period('2003', 'A-DEC')]"
      ]
     },
     "execution_count": 6,
     "metadata": {},
     "output_type": "execute_result"
    }
   ],
   "source": [
    "module.time._time"
   ]
  },
  {
   "cell_type": "code",
   "execution_count": 15,
   "id": "90b916bd-7ac6-4533-8c27-5c5f1a289e7c",
   "metadata": {
    "execution": {
     "iopub.execute_input": "2023-01-18T08:40:42.573682Z",
     "iopub.status.busy": "2023-01-18T08:40:42.573468Z",
     "iopub.status.idle": "2023-01-18T08:40:42.634564Z",
     "shell.execute_reply": "2023-01-18T08:40:42.634049Z",
     "shell.execute_reply.started": "2023-01-18T08:40:42.573663Z"
    },
    "tags": []
   },
   "outputs": [
    {
     "data": {
      "text/plain": [
       "PeriodIndex(['2000', '2001', '2002', '2003'], dtype='period[A-DEC]')"
      ]
     },
     "execution_count": 15,
     "metadata": {},
     "output_type": "execute_result"
    }
   ],
   "source": [
    "pd.period_range(start=2000, end=2003, freq='Y')"
   ]
  },
  {
   "cell_type": "code",
   "execution_count": 16,
   "id": "531831ea-efea-4b4f-91fe-d2631fb5357e",
   "metadata": {
    "execution": {
     "iopub.execute_input": "2023-01-18T08:40:46.841284Z",
     "iopub.status.busy": "2023-01-18T08:40:46.841044Z",
     "iopub.status.idle": "2023-01-18T08:40:46.907942Z",
     "shell.execute_reply": "2023-01-18T08:40:46.907275Z",
     "shell.execute_reply.started": "2023-01-18T08:40:46.841259Z"
    },
    "tags": []
   },
   "outputs": [
    {
     "data": {
      "text/plain": [
       "array([ True,  True,  True])"
      ]
     },
     "execution_count": 16,
     "metadata": {},
     "output_type": "execute_result"
    }
   ],
   "source": [
    "module.output.index == pd.period_range(start=2001, end=2003, freq='Y')"
   ]
  }
 ],
 "metadata": {
  "citation-manager": {
   "items": {}
  },
  "kernelspec": {
   "display_name": "Python [conda env:ABSES_311] *",
   "language": "python",
   "name": "conda-env-ABSES_311-py"
  },
  "language_info": {
   "codemirror_mode": {
    "name": "ipython",
    "version": 3
   },
   "file_extension": ".py",
   "mimetype": "text/x-python",
   "name": "python",
   "nbconvert_exporter": "python",
   "pygments_lexer": "ipython3",
   "version": "3.11.0"
  }
 },
 "nbformat": 4,
 "nbformat_minor": 5
}
