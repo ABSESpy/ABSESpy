{
 "cells": [
  {
   "cell_type": "markdown",
   "id": "2171a091-4829-4943-9178-aa5c721283ce",
   "metadata": {},
   "source": [
    "# Apply Cognition, Contagion and behavioural Response (CCR framework) with `ABSESpy`"
   ]
  },
  {
   "cell_type": "markdown",
   "id": "37470041-d38d-4c3e-a23c-5419344045d4",
   "metadata": {},
   "source": [
    "\n",
    "**Abstract:**\n",
    "This framework consisted by three parts:\n",
    "- **Cognition** represents the human processing of information around the ecological system.\n",
    "- **Contagion** represents spreading information, beliefs and behaviour through social networks.\n",
    "- **Response** is the resultant behaviour or action.\n",
    "\n",
    "**WorkFlow:**\n",
    "\n",
    "To apply this cognition-contagion-response (CCR) human behaviour modelling framework, `ABSESpy`'s users can:\n",
    "\n",
    "1. define cognition functions for actors (agents); \n",
    "2. generate a network in human modules;\n",
    "3. in a human model, define [action arena](#TODO) functions of actors' interactions or responses. "
   ]
  },
  {
   "cell_type": "markdown",
   "id": "047cc0f1-4a5c-44e0-bef1-bb878c44f9af",
   "metadata": {},
   "source": []
  },
  {
   "cell_type": "code",
   "execution_count": null,
   "id": "3fd1942b-3574-4f81-b37a-578ba66692ce",
   "metadata": {},
   "outputs": [],
   "source": []
  }
 ],
 "metadata": {
  "citation-manager": {
   "items": {}
  },
  "kernelspec": {
   "display_name": "Python [conda env:ABSES_311] *",
   "language": "python",
   "name": "conda-env-ABSES_311-py"
  },
  "language_info": {
   "codemirror_mode": {
    "name": "ipython",
    "version": 3
   },
   "file_extension": ".py",
   "mimetype": "text/x-python",
   "name": "python",
   "nbconvert_exporter": "python",
   "pygments_lexer": "ipython3",
   "version": "3.11.0"
  }
 },
 "nbformat": 4,
 "nbformat_minor": 5
}
