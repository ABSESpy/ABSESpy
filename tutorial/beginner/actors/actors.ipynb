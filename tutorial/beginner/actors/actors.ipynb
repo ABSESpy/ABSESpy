{
 "cells": [
  {
   "attachments": {},
   "cell_type": "markdown",
   "metadata": {},
   "source": [
    "# Actors' operation"
   ]
  },
  {
   "cell_type": "markdown",
   "metadata": {},
   "source": [
    "<div class=\"admonition note\">\n",
    "    <p class=\"admonition-title\">In progress</p>\n",
    "    <p>This document is a work in progress if you see any errors, or exclusions or have any problems, please <a href=\"https://github.com/SongshGeoLab/ABSESpy/issues\">get in touch with us</a>.</p>\n",
    "</div>"
   ]
  },
  {
   "attachments": {},
   "cell_type": "markdown",
   "metadata": {},
   "source": [
    "## Manipulate an individual `Actor`"
   ]
  },
  {
   "cell_type": "code",
   "execution_count": 1,
   "metadata": {},
   "outputs": [
    {
     "name": "stderr",
     "output_type": "stream",
     "text": [
      "[12:53:02][WARNING][nature] the nature's CRS has been changed to epsg:4326.\n"
     ]
    },
    {
     "data": {
      "text/plain": [
       "'Actor'"
      ]
     },
     "execution_count": 1,
     "metadata": {},
     "output_type": "execute_result"
    }
   ],
   "source": [
    "from abses import Actor, MainModel\n",
    "\n",
    "# create a testing model\n",
    "model = MainModel(name=\"actor_example\", base=\"tests\")\n",
    "layer = model.nature.create_module(how=\"from_resolution\", shape=(3, 3))\n",
    "\n",
    "# actor creation should be bounded with a model.\n",
    "actor = model.agents.new(Actor, singleton=True)\n",
    "\n",
    "# actor has a class-property, -its breed, class's name.\n",
    "actor.breed  # same as `actor.__class__.__name__`"
   ]
  },
  {
   "cell_type": "code",
   "execution_count": 2,
   "metadata": {},
   "outputs": [
    {
     "data": {
      "text/plain": [
       "False"
      ]
     },
     "execution_count": 2,
     "metadata": {},
     "output_type": "execute_result"
    }
   ],
   "source": [
    "# In an initial condition, this actor is not on the earth...\n",
    "actor.on_earth"
   ]
  },
  {
   "attachments": {},
   "cell_type": "markdown",
   "metadata": {},
   "source": [
    "## Manipulate a group of `Actors`\n",
    "`ABSESpy` provides two different container of actors:\n",
    "- `AgentsContainer`: A unique `dictionary`-like class where all agents of the model are saving.\n",
    "- `ActorsList`: A `list`-like class where referring some actors temporally."
   ]
  },
  {
   "attachments": {},
   "cell_type": "markdown",
   "metadata": {},
   "source": [
    "### AgentsContainer\n",
    "\n"
   ]
  },
  {
   "attachments": {},
   "cell_type": "markdown",
   "metadata": {},
   "source": [
    "When the model is created, there is a unique `AgentsContainer` obj bounding. It saves agents by their breeds. In the tutorial above, only one actor is added now."
   ]
  },
  {
   "cell_type": "code",
   "execution_count": 3,
   "metadata": {},
   "outputs": [
    {
     "data": {
      "text/plain": [
       "'<abses.container._ModelAgentsContainer object at 0x3213c2cd0>'"
      ]
     },
     "execution_count": 3,
     "metadata": {},
     "output_type": "execute_result"
    }
   ],
   "source": [
    "repr(model.agents)"
   ]
  },
  {
   "attachments": {},
   "cell_type": "markdown",
   "metadata": {},
   "source": [
    "Container makes creating actors much easier:"
   ]
  },
  {
   "cell_type": "code",
   "execution_count": 4,
   "metadata": {},
   "outputs": [
    {
     "data": {
      "text/plain": [
       "<abses.container._ModelAgentsContainer at 0x3213c2cd0>"
      ]
     },
     "execution_count": 4,
     "metadata": {},
     "output_type": "execute_result"
    }
   ],
   "source": [
    "# define a new breed of actor\n",
    "class Seller(Actor):\n",
    "    name = \"seller\"\n",
    "\n",
    "\n",
    "class User(Actor):\n",
    "    name = \"user\"\n",
    "\n",
    "\n",
    "# You'd better to assign the `singleton=True` when only creating one actor.\n",
    "# Otherwise you would get a list of actors (length = 1).\n",
    "another_actor = model.agents.new(Actor, singleton=True)\n",
    "seller = model.agents.new(Seller)  # default creating one actor.\n",
    "users = model.agents.new(User, 5)  # creating 5 actors\n",
    "\n",
    "model.agents"
   ]
  },
  {
   "attachments": {},
   "cell_type": "markdown",
   "metadata": {},
   "source": [
    "While `AgentsContainer` mainly provides a way to store, most of manipulations for actors are implemented in another data type: `ActorsList`. `AgentsContainer` also has many ways to convert existing agents to this data type:"
   ]
  },
  {
   "cell_type": "code",
   "execution_count": 5,
   "metadata": {},
   "outputs": [
    {
     "data": {
      "text/plain": [
       "<ActorsList: (1)Seller>"
      ]
     },
     "execution_count": 5,
     "metadata": {},
     "output_type": "execute_result"
    }
   ],
   "source": [
    "# select specific breeds.\n",
    "model.agents.select(agent_type=\"Seller\")"
   ]
  },
  {
   "cell_type": "code",
   "execution_count": 6,
   "metadata": {},
   "outputs": [
    {
     "data": {
      "text/plain": [
       "<ActorsList: (2)Actor; (1)Seller; (5)User>"
      ]
     },
     "execution_count": 6,
     "metadata": {},
     "output_type": "execute_result"
    }
   ],
   "source": [
    "model.agents.select(agent_type=[\"Seller\", \"User\"])"
   ]
  },
  {
   "attachments": {},
   "cell_type": "markdown",
   "metadata": {},
   "source": [
    "### `ActorsList`\n",
    "\n",
    "`ActorsList` is a collection of `Actors`, facilitate to manipulate them at a batch."
   ]
  },
  {
   "cell_type": "code",
   "execution_count": 7,
   "metadata": {},
   "outputs": [
    {
     "data": {
      "text/plain": [
       "True"
      ]
     },
     "execution_count": 7,
     "metadata": {},
     "output_type": "execute_result"
    }
   ],
   "source": [
    "lst = model.agents.select()\n",
    "actor = lst[0]  # indexing -> an `Actor`\n",
    "five_actors = lst[:5]  # slice -> another `ActorsList` object\n",
    "\n",
    "five_actors  # (2)Actor; (1)Seller; (2)User\n",
    "# five_actors contains this actor\n",
    "actor in five_actors"
   ]
  },
  {
   "attachments": {},
   "cell_type": "markdown",
   "metadata": {},
   "source": [
    "Convert the list to a dictionary: `{breed: ActorsList}`"
   ]
  },
  {
   "cell_type": "code",
   "execution_count": 8,
   "metadata": {},
   "outputs": [
    {
     "data": {
      "text/plain": [
       "{'Actor': <ActorsList: (2)Actor>,\n",
       " 'Seller': <ActorsList: (1)Seller>,\n",
       " 'User': <ActorsList: (2)User>}"
      ]
     },
     "execution_count": 8,
     "metadata": {},
     "output_type": "execute_result"
    }
   ],
   "source": [
    "# sort up mixed actors.\n",
    "five_actors.to_dict()"
   ]
  },
  {
   "attachments": {},
   "cell_type": "markdown",
   "metadata": {},
   "source": [
    "Select by conditions."
   ]
  },
  {
   "cell_type": "code",
   "execution_count": 9,
   "metadata": {},
   "outputs": [
    {
     "data": {
      "text/plain": [
       "<ActorsList: (1)Actor; (1)User>"
      ]
     },
     "execution_count": 9,
     "metadata": {},
     "output_type": "execute_result"
    }
   ],
   "source": [
    "five_actors.select(selection=\"User\")  # same as .to_dict()['User']\n",
    "\n",
    "# select the first and the fourth actors\n",
    "five_actors.select(selection=[True, False, False, True, False])"
   ]
  },
  {
   "attachments": {},
   "cell_type": "markdown",
   "metadata": {},
   "source": [
    "Actors' attributes are accessible as `np.ndarray`."
   ]
  },
  {
   "cell_type": "code",
   "execution_count": 10,
   "metadata": {},
   "outputs": [
    {
     "data": {
      "text/plain": [
       "array([1, 2, 3, 4, 5])"
      ]
     },
     "execution_count": 10,
     "metadata": {},
     "output_type": "execute_result"
    }
   ],
   "source": [
    "# get each Actor(object)'s unique id.\n",
    "five_actors.array(\"unique_id\")"
   ]
  },
  {
   "attachments": {},
   "cell_type": "markdown",
   "metadata": {},
   "source": [
    "You can access all actors in this list with `id >= 7` by:"
   ]
  },
  {
   "cell_type": "code",
   "execution_count": 11,
   "metadata": {},
   "outputs": [
    {
     "data": {
      "text/plain": [
       "<ActorsList: (2)User>"
      ]
     },
     "execution_count": 11,
     "metadata": {},
     "output_type": "execute_result"
    }
   ],
   "source": [
    "five_actors.update(attr=\"test\", values=[1, 2, 3, 4, 5])\n",
    "better_guys = five_actors.better(metric=\"test\", than=3)\n",
    "better_guys"
   ]
  },
  {
   "cell_type": "markdown",
   "metadata": {},
   "source": [
    "Split the list in the second, third places: `[1, 2, | 3, | 4, 5]`"
   ]
  },
  {
   "cell_type": "code",
   "execution_count": 12,
   "metadata": {},
   "outputs": [
    {
     "data": {
      "text/plain": [
       "[<ActorsList: (2)Actor>, <ActorsList: (1)Seller>, <ActorsList: (2)User>]"
      ]
     },
     "execution_count": 12,
     "metadata": {},
     "output_type": "execute_result"
    }
   ],
   "source": [
    "five_actors.split([2, 3])"
   ]
  }
 ],
 "metadata": {
  "kernelspec": {
   "display_name": ".venv",
   "language": "python",
   "name": "python3"
  },
  "language_info": {
   "codemirror_mode": {
    "name": "ipython",
    "version": 3
   },
   "file_extension": ".py",
   "mimetype": "text/x-python",
   "name": "python",
   "nbconvert_exporter": "python",
   "pygments_lexer": "ipython3",
   "version": "3.11.2"
  }
 },
 "nbformat": 4,
 "nbformat_minor": 2
}
