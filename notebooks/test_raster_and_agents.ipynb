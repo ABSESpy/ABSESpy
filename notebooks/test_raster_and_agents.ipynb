{
 "cells": [
  {
   "cell_type": "markdown",
   "id": "f1e4a589-08ca-42c0-8909-81c31510b83b",
   "metadata": {},
   "source": [
    "# 测试1: 将每个主体放在栅格图层上"
   ]
  },
  {
   "cell_type": "markdown",
   "id": "cba991bb-47a1-46ab-a2a7-0624392bb037",
   "metadata": {},
   "source": []
  },
  {
   "cell_type": "code",
   "execution_count": null,
   "id": "66ae64ff-41ba-45b7-b534-d8d9ba84f879",
   "metadata": {},
   "outputs": [],
   "source": [
    "import typing\n",
    "from abses import MainModel"
   ]
  },
  {
   "cell_type": "code",
   "execution_count": null,
   "id": "c58e75dc-797f-45cb-aff8-79020f553cd1",
   "metadata": {},
   "outputs": [],
   "source": [
    "class Nature:\n",
    "    def __init__(self, model):\n",
    "        self.model = model\n",
    "\n",
    "    def show_model(self):\n",
    "        return self.model"
   ]
  },
  {
   "cell_type": "code",
   "execution_count": null,
   "id": "b033baef-c18b-4056-95fc-fc2360968c25",
   "metadata": {},
   "outputs": [],
   "source": [
    "model = MainModel(nature_class=Nature)"
   ]
  },
  {
   "cell_type": "code",
   "execution_count": null,
   "id": "ff64f545-3211-4e12-84ba-8a219c7299b2",
   "metadata": {},
   "outputs": [],
   "source": [
    "model.nature.show_model"
   ]
  },
  {
   "cell_type": "code",
   "execution_count": null,
   "id": "52440543-638b-4baa-b78d-0f02573a2a0f",
   "metadata": {},
   "outputs": [],
   "source": [
    "from typing import Type, TypeVar, Generic\n",
    "from abses.bases import Notice\n",
    "from abses.states import States\n",
    "from mesa import Model\n",
    "\n",
    "T = TypeVar(\"T\")\n",
    "\n",
    "\n",
    "class MyModel(Generic[T], Notice, Model, States):\n",
    "    def __init__(self, cls: Type[T]):\n",
    "        Model.__init__(self)\n",
    "        Notice.__init__(self)\n",
    "        States.__init__(self)\n",
    "        self._cls_instance = cls(self)\n",
    "\n",
    "    @property\n",
    "    def class_(self) -> T:\n",
    "        \"\"\"Returns an instance of the class specified by cls.\"\"\"\n",
    "        return self._cls_instance\n",
    "\n",
    "\n",
    "class CustomClass:\n",
    "    def __init__(self, model):\n",
    "        self.model = model\n",
    "\n",
    "    def custom_method(self):\n",
    "        return \"CustomClass method\"\n",
    "\n",
    "\n",
    "# Usage:\n",
    "\n",
    "model = MyModel(CustomClass)\n",
    "print(model.class_.custom_method())  # Outputs: \"CustomClass method\""
   ]
  },
  {
   "cell_type": "code",
   "execution_count": null,
   "id": "e5061b97-7504-404c-928a-cb8e74f3b5fd",
   "metadata": {},
   "outputs": [],
   "source": [
    "model.class_."
   ]
  }
 ],
 "metadata": {
  "kernelspec": {
   "display_name": "Python 3 (ipykernel)",
   "language": "python",
   "name": "python3"
  },
  "language_info": {
   "codemirror_mode": {
    "name": "ipython",
    "version": 3
   },
   "file_extension": ".py",
   "mimetype": "text/x-python",
   "name": "python",
   "nbconvert_exporter": "python",
   "pygments_lexer": "ipython3",
   "version": "3.11.2"
  }
 },
 "nbformat": 4,
 "nbformat_minor": 5
}
